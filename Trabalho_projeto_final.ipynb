{
 "cells": [
  {
   "cell_type": "markdown",
   "metadata": {},
   "source": [
    "## <center>Trabalho de Aprendizado de Máquina- Previsão da resistência à compressão do concreto</center>\n",
    "\n",
    "#### _<center>Ilum - Escola de Ciência. Campinas, SP. 2024</center>_\n",
    "\n",
    "------------"
   ]
  },
  {
   "cell_type": "markdown",
   "metadata": {},
   "source": [
    "----------------------\n",
    "\n",
    "## <center> Obtenção dos dados Dataframe </center>"
   ]
  },
  {
   "cell_type": "markdown",
   "metadata": {},
   "source": [
    "Primeiramente, importa-se bibliotecas necessárias básicas para leitura do dataset"
   ]
  },
  {
   "cell_type": "code",
   "execution_count": 3,
   "metadata": {},
   "outputs": [
    {
     "name": "stderr",
     "output_type": "stream",
     "text": [
      "C:\\Users\\emanuel24039\\AppData\\Roaming\\Python\\Python311\\site-packages\\pandas\\core\\arrays\\masked.py:60: UserWarning: Pandas requires version '1.3.6' or newer of 'bottleneck' (version '1.3.5' currently installed).\n",
      "  from pandas.core import (\n"
     ]
    }
   ],
   "source": [
    "import os\n",
    "import pandas as pd\n",
    "import numpy as np"
   ]
  },
  {
   "cell_type": "markdown",
   "metadata": {},
   "source": [
    "Vamos primeiramente ler a pasta que o python está lendo"
   ]
  },
  {
   "cell_type": "code",
   "execution_count": 4,
   "metadata": {},
   "outputs": [
    {
     "data": {
      "text/plain": [
       "b'c:\\\\Users\\\\emanuel24039\\\\OneDrive - ILUM ESCOLA DE CI\\xc3\\x8aNCIA\\\\Documentos\\\\Estudos - vscode\\\\jupyter\\\\Aprendizado de M\\xc3\\xa1quina\\\\Trabalho'"
      ]
     },
     "execution_count": 4,
     "metadata": {},
     "output_type": "execute_result"
    }
   ],
   "source": [
    "os.getcwdb()"
   ]
  },
  {
   "cell_type": "markdown",
   "metadata": {},
   "source": [
    "Para ler o arquivo é necessário baixar xlrd, retire o \"#\" para instalar ao rodar a célula abaixo:"
   ]
  },
  {
   "cell_type": "code",
   "execution_count": 5,
   "metadata": {},
   "outputs": [],
   "source": [
    "#pip install xlrd"
   ]
  },
  {
   "cell_type": "markdown",
   "metadata": {},
   "source": [
    "Agora, é lido o dataframe do arquivo excel"
   ]
  },
  {
   "cell_type": "code",
   "execution_count": 6,
   "metadata": {},
   "outputs": [
    {
     "data": {
      "text/html": [
       "<div>\n",
       "<style scoped>\n",
       "    .dataframe tbody tr th:only-of-type {\n",
       "        vertical-align: middle;\n",
       "    }\n",
       "\n",
       "    .dataframe tbody tr th {\n",
       "        vertical-align: top;\n",
       "    }\n",
       "\n",
       "    .dataframe thead th {\n",
       "        text-align: right;\n",
       "    }\n",
       "</style>\n",
       "<table border=\"1\" class=\"dataframe\">\n",
       "  <thead>\n",
       "    <tr style=\"text-align: right;\">\n",
       "      <th></th>\n",
       "      <th>Cement (component 1)(kg in a m^3 mixture)</th>\n",
       "      <th>Blast Furnace Slag (component 2)(kg in a m^3 mixture)</th>\n",
       "      <th>Fly Ash (component 3)(kg in a m^3 mixture)</th>\n",
       "      <th>Water  (component 4)(kg in a m^3 mixture)</th>\n",
       "      <th>Superplasticizer (component 5)(kg in a m^3 mixture)</th>\n",
       "      <th>Coarse Aggregate  (component 6)(kg in a m^3 mixture)</th>\n",
       "      <th>Fine Aggregate (component 7)(kg in a m^3 mixture)</th>\n",
       "      <th>Age (day)</th>\n",
       "      <th>Concrete compressive strength(MPa, megapascals)</th>\n",
       "    </tr>\n",
       "  </thead>\n",
       "  <tbody>\n",
       "    <tr>\n",
       "      <th>0</th>\n",
       "      <td>540.0</td>\n",
       "      <td>0.0</td>\n",
       "      <td>0.0</td>\n",
       "      <td>162.0</td>\n",
       "      <td>2.5</td>\n",
       "      <td>1040.0</td>\n",
       "      <td>676.0</td>\n",
       "      <td>28</td>\n",
       "      <td>79.986111</td>\n",
       "    </tr>\n",
       "    <tr>\n",
       "      <th>1</th>\n",
       "      <td>540.0</td>\n",
       "      <td>0.0</td>\n",
       "      <td>0.0</td>\n",
       "      <td>162.0</td>\n",
       "      <td>2.5</td>\n",
       "      <td>1055.0</td>\n",
       "      <td>676.0</td>\n",
       "      <td>28</td>\n",
       "      <td>61.887366</td>\n",
       "    </tr>\n",
       "    <tr>\n",
       "      <th>2</th>\n",
       "      <td>332.5</td>\n",
       "      <td>142.5</td>\n",
       "      <td>0.0</td>\n",
       "      <td>228.0</td>\n",
       "      <td>0.0</td>\n",
       "      <td>932.0</td>\n",
       "      <td>594.0</td>\n",
       "      <td>270</td>\n",
       "      <td>40.269535</td>\n",
       "    </tr>\n",
       "    <tr>\n",
       "      <th>3</th>\n",
       "      <td>332.5</td>\n",
       "      <td>142.5</td>\n",
       "      <td>0.0</td>\n",
       "      <td>228.0</td>\n",
       "      <td>0.0</td>\n",
       "      <td>932.0</td>\n",
       "      <td>594.0</td>\n",
       "      <td>365</td>\n",
       "      <td>41.052780</td>\n",
       "    </tr>\n",
       "    <tr>\n",
       "      <th>4</th>\n",
       "      <td>198.6</td>\n",
       "      <td>132.4</td>\n",
       "      <td>0.0</td>\n",
       "      <td>192.0</td>\n",
       "      <td>0.0</td>\n",
       "      <td>978.4</td>\n",
       "      <td>825.5</td>\n",
       "      <td>360</td>\n",
       "      <td>44.296075</td>\n",
       "    </tr>\n",
       "    <tr>\n",
       "      <th>...</th>\n",
       "      <td>...</td>\n",
       "      <td>...</td>\n",
       "      <td>...</td>\n",
       "      <td>...</td>\n",
       "      <td>...</td>\n",
       "      <td>...</td>\n",
       "      <td>...</td>\n",
       "      <td>...</td>\n",
       "      <td>...</td>\n",
       "    </tr>\n",
       "    <tr>\n",
       "      <th>1025</th>\n",
       "      <td>276.4</td>\n",
       "      <td>116.0</td>\n",
       "      <td>90.3</td>\n",
       "      <td>179.6</td>\n",
       "      <td>8.9</td>\n",
       "      <td>870.1</td>\n",
       "      <td>768.3</td>\n",
       "      <td>28</td>\n",
       "      <td>44.284354</td>\n",
       "    </tr>\n",
       "    <tr>\n",
       "      <th>1026</th>\n",
       "      <td>322.2</td>\n",
       "      <td>0.0</td>\n",
       "      <td>115.6</td>\n",
       "      <td>196.0</td>\n",
       "      <td>10.4</td>\n",
       "      <td>817.9</td>\n",
       "      <td>813.4</td>\n",
       "      <td>28</td>\n",
       "      <td>31.178794</td>\n",
       "    </tr>\n",
       "    <tr>\n",
       "      <th>1027</th>\n",
       "      <td>148.5</td>\n",
       "      <td>139.4</td>\n",
       "      <td>108.6</td>\n",
       "      <td>192.7</td>\n",
       "      <td>6.1</td>\n",
       "      <td>892.4</td>\n",
       "      <td>780.0</td>\n",
       "      <td>28</td>\n",
       "      <td>23.696601</td>\n",
       "    </tr>\n",
       "    <tr>\n",
       "      <th>1028</th>\n",
       "      <td>159.1</td>\n",
       "      <td>186.7</td>\n",
       "      <td>0.0</td>\n",
       "      <td>175.6</td>\n",
       "      <td>11.3</td>\n",
       "      <td>989.6</td>\n",
       "      <td>788.9</td>\n",
       "      <td>28</td>\n",
       "      <td>32.768036</td>\n",
       "    </tr>\n",
       "    <tr>\n",
       "      <th>1029</th>\n",
       "      <td>260.9</td>\n",
       "      <td>100.5</td>\n",
       "      <td>78.3</td>\n",
       "      <td>200.6</td>\n",
       "      <td>8.6</td>\n",
       "      <td>864.5</td>\n",
       "      <td>761.5</td>\n",
       "      <td>28</td>\n",
       "      <td>32.401235</td>\n",
       "    </tr>\n",
       "  </tbody>\n",
       "</table>\n",
       "<p>1030 rows × 9 columns</p>\n",
       "</div>"
      ],
      "text/plain": [
       "      Cement (component 1)(kg in a m^3 mixture)  \\\n",
       "0                                         540.0   \n",
       "1                                         540.0   \n",
       "2                                         332.5   \n",
       "3                                         332.5   \n",
       "4                                         198.6   \n",
       "...                                         ...   \n",
       "1025                                      276.4   \n",
       "1026                                      322.2   \n",
       "1027                                      148.5   \n",
       "1028                                      159.1   \n",
       "1029                                      260.9   \n",
       "\n",
       "      Blast Furnace Slag (component 2)(kg in a m^3 mixture)  \\\n",
       "0                                                   0.0       \n",
       "1                                                   0.0       \n",
       "2                                                 142.5       \n",
       "3                                                 142.5       \n",
       "4                                                 132.4       \n",
       "...                                                 ...       \n",
       "1025                                              116.0       \n",
       "1026                                                0.0       \n",
       "1027                                              139.4       \n",
       "1028                                              186.7       \n",
       "1029                                              100.5       \n",
       "\n",
       "      Fly Ash (component 3)(kg in a m^3 mixture)  \\\n",
       "0                                            0.0   \n",
       "1                                            0.0   \n",
       "2                                            0.0   \n",
       "3                                            0.0   \n",
       "4                                            0.0   \n",
       "...                                          ...   \n",
       "1025                                        90.3   \n",
       "1026                                       115.6   \n",
       "1027                                       108.6   \n",
       "1028                                         0.0   \n",
       "1029                                        78.3   \n",
       "\n",
       "      Water  (component 4)(kg in a m^3 mixture)  \\\n",
       "0                                         162.0   \n",
       "1                                         162.0   \n",
       "2                                         228.0   \n",
       "3                                         228.0   \n",
       "4                                         192.0   \n",
       "...                                         ...   \n",
       "1025                                      179.6   \n",
       "1026                                      196.0   \n",
       "1027                                      192.7   \n",
       "1028                                      175.6   \n",
       "1029                                      200.6   \n",
       "\n",
       "      Superplasticizer (component 5)(kg in a m^3 mixture)  \\\n",
       "0                                                   2.5     \n",
       "1                                                   2.5     \n",
       "2                                                   0.0     \n",
       "3                                                   0.0     \n",
       "4                                                   0.0     \n",
       "...                                                 ...     \n",
       "1025                                                8.9     \n",
       "1026                                               10.4     \n",
       "1027                                                6.1     \n",
       "1028                                               11.3     \n",
       "1029                                                8.6     \n",
       "\n",
       "      Coarse Aggregate  (component 6)(kg in a m^3 mixture)  \\\n",
       "0                                                1040.0      \n",
       "1                                                1055.0      \n",
       "2                                                 932.0      \n",
       "3                                                 932.0      \n",
       "4                                                 978.4      \n",
       "...                                                 ...      \n",
       "1025                                              870.1      \n",
       "1026                                              817.9      \n",
       "1027                                              892.4      \n",
       "1028                                              989.6      \n",
       "1029                                              864.5      \n",
       "\n",
       "      Fine Aggregate (component 7)(kg in a m^3 mixture)  Age (day)  \\\n",
       "0                                                 676.0         28   \n",
       "1                                                 676.0         28   \n",
       "2                                                 594.0        270   \n",
       "3                                                 594.0        365   \n",
       "4                                                 825.5        360   \n",
       "...                                                 ...        ...   \n",
       "1025                                              768.3         28   \n",
       "1026                                              813.4         28   \n",
       "1027                                              780.0         28   \n",
       "1028                                              788.9         28   \n",
       "1029                                              761.5         28   \n",
       "\n",
       "      Concrete compressive strength(MPa, megapascals)   \n",
       "0                                            79.986111  \n",
       "1                                            61.887366  \n",
       "2                                            40.269535  \n",
       "3                                            41.052780  \n",
       "4                                            44.296075  \n",
       "...                                                ...  \n",
       "1025                                         44.284354  \n",
       "1026                                         31.178794  \n",
       "1027                                         23.696601  \n",
       "1028                                         32.768036  \n",
       "1029                                         32.401235  \n",
       "\n",
       "[1030 rows x 9 columns]"
      ]
     },
     "execution_count": 6,
     "metadata": {},
     "output_type": "execute_result"
    }
   ],
   "source": [
    "df = pd.read_excel(\"Dataframe/Concrete_Data.xls\")\n",
    "df = df.dropna() # Retira=se linhas que possuem dados NaN\n",
    "df"
   ]
  },
  {
   "cell_type": "markdown",
   "metadata": {},
   "source": [
    "Descobre-se os nomes das colunas:"
   ]
  },
  {
   "cell_type": "code",
   "execution_count": 7,
   "metadata": {},
   "outputs": [
    {
     "name": "stdout",
     "output_type": "stream",
     "text": [
      "Index(['Cement (component 1)(kg in a m^3 mixture)',\n",
      "       'Blast Furnace Slag (component 2)(kg in a m^3 mixture)',\n",
      "       'Fly Ash (component 3)(kg in a m^3 mixture)',\n",
      "       'Water  (component 4)(kg in a m^3 mixture)',\n",
      "       'Superplasticizer (component 5)(kg in a m^3 mixture)',\n",
      "       'Coarse Aggregate  (component 6)(kg in a m^3 mixture)',\n",
      "       'Fine Aggregate (component 7)(kg in a m^3 mixture)', 'Age (day)',\n",
      "       'Concrete compressive strength(MPa, megapascals) '],\n",
      "      dtype='object')\n"
     ]
    }
   ],
   "source": [
    "print(df.columns)"
   ]
  },
  {
   "cell_type": "markdown",
   "metadata": {},
   "source": [
    "Será importante posteriormente no código, sabermos quais colunas são atributos e quais são target, assim, é separado em listas os nomes deles, o objetivo dessse trabalho é prever a resistência à compressão do concreto, o dataframe se refere a isso como \"Concrete compressive strength(MPa, megapascals)\", estre é o target do projeto. Todas as demais colunas são atributos."
   ]
  },
  {
   "cell_type": "code",
   "execution_count": 8,
   "metadata": {},
   "outputs": [],
   "source": [
    "ATRIBUTOS = ['Cement (component 1)(kg in a m^3 mixture)', \n",
    "             'Blast Furnace Slag (component 2)(kg in a m^3 mixture)',\n",
    "             'Fly Ash (component 3)(kg in a m^3 mixture)',\n",
    "             'Water  (component 4)(kg in a m^3 mixture)',\n",
    "             'Superplasticizer (component 5)(kg in a m^3 mixture)',\n",
    "             'Coarse Aggregate  (component 6)(kg in a m^3 mixture)',\n",
    "             'Fine Aggregate (component 7)(kg in a m^3 mixture)',\n",
    "             'Age (day)']\n",
    "\n",
    "TARGET = ['Concrete compressive strength(MPa, megapascals) ']"
   ]
  },
  {
   "cell_type": "markdown",
   "metadata": {},
   "source": [
    "Vamos agora separar os dados em dados de treino e teste, isso será importante ao longo de todo o código."
   ]
  },
  {
   "cell_type": "code",
   "execution_count": 9,
   "metadata": {},
   "outputs": [],
   "source": [
    "#Importar biblioteca para fazer a separação dos dados\n",
    "from sklearn.model_selection import train_test_split\n",
    "\n",
    "# 90% dos dados serão de treino e 10% de teste\n",
    "TAMANHO_TESTE = 0.1\n",
    "\n",
    "SEMENTE_ALEATORIA = 777\n",
    "\n",
    "indices = df.index\n",
    "indices_treino, indices_teste = train_test_split(\n",
    "    indices, test_size=TAMANHO_TESTE, random_state=SEMENTE_ALEATORIA\n",
    ")\n",
    "\n",
    "df_treino = df.loc[indices_treino]\n",
    "df_teste = df.loc[indices_teste]\n",
    "\n",
    "X_treino = df_treino.reindex(ATRIBUTOS, axis=1).values\n",
    "Y_treino = df_treino.reindex(TARGET, axis=1).values.ravel()\n",
    "\n",
    "X_teste = df_teste.reindex(ATRIBUTOS, axis=1).values\n",
    "Y_teste = df_teste.reindex(TARGET, axis=1).values.ravel()\n"
   ]
  },
  {
   "cell_type": "markdown",
   "metadata": {},
   "source": [
    "----------------------\n",
    "\n",
    "## <center> Introdução ao dados do Dataframe</center>\n",
    "\n",
    "Antes de utilizar e apresentar os modelos preditivos de aprendizado de máquina sobre o dataframe, é necessário entender o que cada coluna significa, isto é, o que de fato é a resistência à compressão do concreto, o target deste trabalho, e os seus demais atributos.\n",
    "\n",
    "##### O que é o Concreto?\n",
    " \n",
    "Segundo a ASTM (American Society for Testing and Materials), o concreto é um material compósito que consiste de um meio aglomerante no qual estão aglutinadas partículas de diferentes naturezas. [1]\n",
    "Além de quando está no estado fresco pode ser moldado a criatividade humana, podendo adquirir as mais diversas formas. E após passar pelo estado de endurecimento, adquire resistências similares a de rochas.\n",
    "\n",
    "##### Aglomerantes:\n",
    "\n",
    "Os aglomerantes no concreto são materiais capazes de ligar diferentes tipos de elementos ou agregados quando misturados com água, formando uma pasta homogênea que irá se petrificar dando origem a um corpo sólido.\n",
    "Ao longo da história humana diferentes tipos de concretos já foram feitos a partir de uma variada gama de aglomerantes, o mais antigo e simples é a cal. Mas aquele que possibilitou que o concreto fosse usado em larga escala, sendo economicamente viável, e tendo características como alta resistência a compressão e resistente a água foi o cimento Portland, uma invenção relativamente recente do século XIX [2]. No dataset o aglomerante cimento é a coluna 'Ciment (component 1)(kg in a m^3 mixture)'.\n",
    "\n",
    "##### Agregados:\n",
    "Os agregados do concreto são os materiais responsáveis pelo preenchimento dele, ocupando de 60% a 80% de sua constituição. Além de ser através deles que o concreto tem sua resistência a compressão.\n",
    "Eles podem ser classificados conforme sua natureza:\n",
    "- Naturais: utilizados conforme são encontrados na natureza.\n",
    "- Artificiais: suas formas são alteradas pelo homem.\n",
    "E classificados quanto a suas dimensões:\n",
    "    1. Agregados graúdos: maior que 4,75 mm. Exemplo: Brita. No dataset é a coluna: 'Coarse Aggregate  (component 6)(kg in a m^3 mixture)' que é a quantidade de agregado graúdo ou grosso em kilograma por metro cúbico.\n",
    "    2. Agregados miúdos: menor que 4,75 mm. Exemplo: Areia. No dataset é a coluna: 'Fine Aggregate (component 7)(kg in a m^3 mixture)' que é a quantidade de agregado fino ou míudo em kilograma por metro cúbico. [3]\n",
    "\n",
    "##### Cinzas Volantes (Fly Ash)\n",
    "Cinzas volantes são partículas finas resultantes da queima de carvão em usinas termoelétricas. No concreto, elas funcionam como um aditivo pozolânico, que reage com a água e o hidróxido de cálcio gerado pela hidratação do cimento, formando compostos adicionais que aumentam a resistência e a durabilidade do concreto. As cinzas volantes também melhoram a trabalhabilidade e reduzem a permeabilidade do concreto. No dataset, as cinzas volantes estão representadas na coluna 'Fly Ash (component 4)(kg in a m^3 mixture)'. [4]\n",
    "\n",
    "##### Escória de Alto-Forno (Blast Furnace Slag)\n",
    "A escória de alto-forno é um subproduto da produção de ferro em altos-fornos e, ao ser moída finamente, torna-se uma adição mineral para o concreto. Quando misturada com o cimento Portland, a escória reage com a água e contribui para a formação de produtos hidratados que aumentam a resistência à compressão e reduzem a permeabilidade do concreto. No dataset, a escória de alto-forno é representada na coluna 'Blast Furnace Slag (component 2)(kg in a m^3 mixture)'.[4]\n",
    "\n",
    "##### Água (Water)\n",
    "A água é um dos componentes mais importantes na produção de concreto, pois desencadeia a hidratação do cimento, iniciando o processo de endurecimento. A quantidade de água afeta diretamente a consistência, trabalhabilidade e resistência do concreto. A água utilizada no concreto é representada no dataframe pela coluna 'Water (component 5)(kg in a m^3 mixture)' representa a quantidade de água em quilogramas por metro cúbico de mistura.[4]\n",
    "\n",
    "##### Idade do Concreto (Age)\n",
    "A resistência do concreto aumenta com o tempo devido ao processo de hidratação do cimento, que continua por longos períodos após o concreto ter endurecido. A \"idade\" refere-se ao tempo em dias que o concreto foi curado antes de testar sua resistência à compressão. Quanto maior o tempo de cura, em geral, maior é a resistência à compressão. No dataset, a idade é representada pela coluna 'Age (day)', indicando a idade do concreto em dias.[4]\n",
    "\n",
    "##### Resistência à Compressão do Concreto (Compressive Strength)\n",
    "A resistência à compressão é uma das propriedades mais importantes do concreto e é o principal parâmetro para avaliar sua qualidade e durabilidade. Ela mede a capacidade do concreto de suportar cargas aplicadas sem quebrar e é expressa em unidades de força por área, como MPa (megapascais). A resistência à compressão depende de vários fatores, como a proporção dos materiais, a qualidade dos agregados, a quantidade de água e o tempo de cura. Uma maior resistência indica que o concreto pode suportar maiores cargas, o que é essencial para garantir a segurança e a estabilidade de construções. No dataset, a coluna 'Concrete compressive strength(MPa, megapascals)' representa o valor da resistência à compressão do concreto, que é o alvo (target) previsto pelos modelos de aprendizado de máquina neste projeto. [4]\n",
    "\n",
    "Dessa forma, é possível entender que o concreto possui diversas variáveis que alteram sua resistência à compressão, característica mais desejada e pesquisada sobre ele, assim será realizado diversos modelos e estudos para prever esse target.\n"
   ]
  },
  {
   "cell_type": "markdown",
   "metadata": {},
   "source": [
    "----------------------\n",
    "\n",
    "## <center> Matriz de Correlação </center>"
   ]
  },
  {
   "cell_type": "markdown",
   "metadata": {},
   "source": [
    "A **matriz de correlação** é uma tabela que mostra a relação entre duas ou mais variáveis. Os valores de correlação variam de **-1** a **+1**:\n",
    "- **+1** indica uma correlação positiva perfeita (quando uma variável aumenta, a outra também aumenta de forma proporcional).\n",
    "- **-1** indica uma correlação negativa perfeita (quando uma variável aumenta, a outra diminui proporcionalmente).\n",
    "- **0** indica que não há correlação entre as variáveis.\n",
    "\n",
    "Valores próximos de **+1** ou **-1** indicam uma correlação forte, enquanto valores próximos de **0** indicam uma correlação fraca ou inexistente.\n",
    "\n",
    "Vamos utiliza-lá para visualizar como os atributos se correlacionam com o target e com os próprios atributos. Para isso, vamos criar uma matriz de correlação através da biblioteca pandas, que permitirá a visualização das correlações em forma de tabela. Para melhor visualização do gráfico, iremos renomear as colunas do dataframe, reduzindo o tamanho dos seus nomes."
   ]
  },
  {
   "cell_type": "code",
   "execution_count": 10,
   "metadata": {},
   "outputs": [],
   "source": [
    "df_correlação = df.rename(columns={'Cement (component 1)(kg in a m^3 mixture)': 'Cimento', 'Blast Furnace Slag (component 2)(kg in a m^3 mixture)': \"Escória de alto forno\", 'Fly Ash (component 3)(kg in a m^3 mixture)' : 'Cinzas volantes', 'Water  (component 4)(kg in a m^3 mixture)' : 'Água', 'Superplasticizer (component 5)(kg in a m^3 mixture)': 'Superplastificante', 'Coarse Aggregate  (component 6)(kg in a m^3 mixture)' : 'Agregado grosso', 'Fine Aggregate (component 7)(kg in a m^3 mixture)': 'Agregado fino', 'Concrete compressive strength(MPa, megapascals) ': 'Compressão do concreto', 'Age (day)': 'idade (dias)' })\n",
    "\n"
   ]
  },
  {
   "cell_type": "code",
   "execution_count": 11,
   "metadata": {},
   "outputs": [
    {
     "data": {
      "text/html": [
       "<div>\n",
       "<style scoped>\n",
       "    .dataframe tbody tr th:only-of-type {\n",
       "        vertical-align: middle;\n",
       "    }\n",
       "\n",
       "    .dataframe tbody tr th {\n",
       "        vertical-align: top;\n",
       "    }\n",
       "\n",
       "    .dataframe thead th {\n",
       "        text-align: right;\n",
       "    }\n",
       "</style>\n",
       "<table border=\"1\" class=\"dataframe\">\n",
       "  <thead>\n",
       "    <tr style=\"text-align: right;\">\n",
       "      <th></th>\n",
       "      <th>Cimento</th>\n",
       "      <th>Escória de alto forno</th>\n",
       "      <th>Cinzas volantes</th>\n",
       "      <th>Água</th>\n",
       "      <th>Superplastificante</th>\n",
       "      <th>Agregado grosso</th>\n",
       "      <th>Agregado fino</th>\n",
       "      <th>Compressão do concreto</th>\n",
       "      <th>idade (dias)</th>\n",
       "    </tr>\n",
       "  </thead>\n",
       "  <tbody>\n",
       "    <tr>\n",
       "      <th>Cimento</th>\n",
       "      <td>1.000000</td>\n",
       "      <td>-0.275193</td>\n",
       "      <td>-0.397475</td>\n",
       "      <td>-0.081544</td>\n",
       "      <td>0.092771</td>\n",
       "      <td>-0.109356</td>\n",
       "      <td>-0.222720</td>\n",
       "      <td>0.497833</td>\n",
       "      <td>0.081947</td>\n",
       "    </tr>\n",
       "    <tr>\n",
       "      <th>Escória de alto forno</th>\n",
       "      <td>-0.275193</td>\n",
       "      <td>1.000000</td>\n",
       "      <td>-0.323569</td>\n",
       "      <td>0.107286</td>\n",
       "      <td>0.043376</td>\n",
       "      <td>-0.283998</td>\n",
       "      <td>-0.281593</td>\n",
       "      <td>0.134824</td>\n",
       "      <td>-0.044246</td>\n",
       "    </tr>\n",
       "    <tr>\n",
       "      <th>Cinzas volantes</th>\n",
       "      <td>-0.397475</td>\n",
       "      <td>-0.323569</td>\n",
       "      <td>1.000000</td>\n",
       "      <td>-0.257044</td>\n",
       "      <td>0.377340</td>\n",
       "      <td>-0.009977</td>\n",
       "      <td>0.079076</td>\n",
       "      <td>-0.105753</td>\n",
       "      <td>-0.154370</td>\n",
       "    </tr>\n",
       "    <tr>\n",
       "      <th>Água</th>\n",
       "      <td>-0.081544</td>\n",
       "      <td>0.107286</td>\n",
       "      <td>-0.257044</td>\n",
       "      <td>1.000000</td>\n",
       "      <td>-0.657464</td>\n",
       "      <td>-0.182312</td>\n",
       "      <td>-0.450635</td>\n",
       "      <td>-0.289613</td>\n",
       "      <td>0.277604</td>\n",
       "    </tr>\n",
       "    <tr>\n",
       "      <th>Superplastificante</th>\n",
       "      <td>0.092771</td>\n",
       "      <td>0.043376</td>\n",
       "      <td>0.377340</td>\n",
       "      <td>-0.657464</td>\n",
       "      <td>1.000000</td>\n",
       "      <td>-0.266303</td>\n",
       "      <td>0.222501</td>\n",
       "      <td>0.366102</td>\n",
       "      <td>-0.192717</td>\n",
       "    </tr>\n",
       "    <tr>\n",
       "      <th>Agregado grosso</th>\n",
       "      <td>-0.109356</td>\n",
       "      <td>-0.283998</td>\n",
       "      <td>-0.009977</td>\n",
       "      <td>-0.182312</td>\n",
       "      <td>-0.266303</td>\n",
       "      <td>1.000000</td>\n",
       "      <td>-0.178506</td>\n",
       "      <td>-0.164928</td>\n",
       "      <td>-0.003016</td>\n",
       "    </tr>\n",
       "    <tr>\n",
       "      <th>Agregado fino</th>\n",
       "      <td>-0.222720</td>\n",
       "      <td>-0.281593</td>\n",
       "      <td>0.079076</td>\n",
       "      <td>-0.450635</td>\n",
       "      <td>0.222501</td>\n",
       "      <td>-0.178506</td>\n",
       "      <td>1.000000</td>\n",
       "      <td>-0.167249</td>\n",
       "      <td>-0.156094</td>\n",
       "    </tr>\n",
       "    <tr>\n",
       "      <th>Compressão do concreto</th>\n",
       "      <td>0.497833</td>\n",
       "      <td>0.134824</td>\n",
       "      <td>-0.105753</td>\n",
       "      <td>-0.289613</td>\n",
       "      <td>0.366102</td>\n",
       "      <td>-0.164928</td>\n",
       "      <td>-0.167249</td>\n",
       "      <td>1.000000</td>\n",
       "      <td>0.328877</td>\n",
       "    </tr>\n",
       "    <tr>\n",
       "      <th>idade (dias)</th>\n",
       "      <td>0.081947</td>\n",
       "      <td>-0.044246</td>\n",
       "      <td>-0.154370</td>\n",
       "      <td>0.277604</td>\n",
       "      <td>-0.192717</td>\n",
       "      <td>-0.003016</td>\n",
       "      <td>-0.156094</td>\n",
       "      <td>0.328877</td>\n",
       "      <td>1.000000</td>\n",
       "    </tr>\n",
       "  </tbody>\n",
       "</table>\n",
       "</div>"
      ],
      "text/plain": [
       "                         Cimento  Escória de alto forno  Cinzas volantes  \\\n",
       "Cimento                 1.000000              -0.275193        -0.397475   \n",
       "Escória de alto forno  -0.275193               1.000000        -0.323569   \n",
       "Cinzas volantes        -0.397475              -0.323569         1.000000   \n",
       "Água                   -0.081544               0.107286        -0.257044   \n",
       "Superplastificante      0.092771               0.043376         0.377340   \n",
       "Agregado grosso        -0.109356              -0.283998        -0.009977   \n",
       "Agregado fino          -0.222720              -0.281593         0.079076   \n",
       "Compressão do concreto  0.497833               0.134824        -0.105753   \n",
       "idade (dias)            0.081947              -0.044246        -0.154370   \n",
       "\n",
       "                            Água  Superplastificante  Agregado grosso  \\\n",
       "Cimento                -0.081544            0.092771        -0.109356   \n",
       "Escória de alto forno   0.107286            0.043376        -0.283998   \n",
       "Cinzas volantes        -0.257044            0.377340        -0.009977   \n",
       "Água                    1.000000           -0.657464        -0.182312   \n",
       "Superplastificante     -0.657464            1.000000        -0.266303   \n",
       "Agregado grosso        -0.182312           -0.266303         1.000000   \n",
       "Agregado fino          -0.450635            0.222501        -0.178506   \n",
       "Compressão do concreto -0.289613            0.366102        -0.164928   \n",
       "idade (dias)            0.277604           -0.192717        -0.003016   \n",
       "\n",
       "                        Agregado fino  Compressão do concreto  idade (dias)  \n",
       "Cimento                     -0.222720                0.497833      0.081947  \n",
       "Escória de alto forno       -0.281593                0.134824     -0.044246  \n",
       "Cinzas volantes              0.079076               -0.105753     -0.154370  \n",
       "Água                        -0.450635               -0.289613      0.277604  \n",
       "Superplastificante           0.222501                0.366102     -0.192717  \n",
       "Agregado grosso             -0.178506               -0.164928     -0.003016  \n",
       "Agregado fino                1.000000               -0.167249     -0.156094  \n",
       "Compressão do concreto      -0.167249                1.000000      0.328877  \n",
       "idade (dias)                -0.156094                0.328877      1.000000  "
      ]
     },
     "execution_count": 11,
     "metadata": {},
     "output_type": "execute_result"
    }
   ],
   "source": [
    "Dados_Correlacao = df_correlação.reindex(['Cimento', 'Escória de alto forno', 'Cinzas volantes', 'Água', 'Superplastificante', 'Agregado grosso', 'Agregado fino', 'Compressão do concreto', 'idade (dias)'], axis=1)\n",
    "\n",
    "matriz_cov = Dados_Correlacao.corr()\n",
    "\n",
    "matriz_cov"
   ]
  },
  {
   "cell_type": "markdown",
   "metadata": {},
   "source": [
    "Com ajuda do `seaborn`, podemos criar um gráfico que varia sua intensidade a depender da correlação:"
   ]
  },
  {
   "cell_type": "code",
   "execution_count": 12,
   "metadata": {},
   "outputs": [
    {
     "data": {
      "image/png": "[encoded data removed]",
      "text/plain": [
       "<Figure size 640x480 with 2 Axes>"
      ]
     },
     "metadata": {},
     "output_type": "display_data"
    }
   ],
   "source": [
    "import seaborn as sns\n",
    "import numpy as np\n",
    "\n",
    "sns.set_theme(style=\"white\")\n",
    "\n",
    "m_corr = Dados_Correlacao.corr()\n",
    "mascara = np.triu(np.ones_like(m_corr, dtype=bool))\n",
    "mapa_de_cor = sns.diverging_palette(240, 20, as_cmap=True)\n",
    "\n",
    "sns.heatmap(\n",
    "    m_corr,\n",
    "    mask=mascara,\n",
    "    cmap=mapa_de_cor,\n",
    "    center=0,\n",
    "    square=True,\n",
    "    linewidths=0.5,\n",
    ");"
   ]
  },
  {
   "cell_type": "markdown",
   "metadata": {},
   "source": [
    "#### Interpretação das Correlações Mais Impactantes\n",
    "\n",
    "Na matriz de correlação entre os componentes do concreto e a resistência do concreto, as correlações mais significativas são:\n",
    "\n",
    "1. **Cimento e resistência do concreto (target)**\n",
    "   - **Correlação: 0.4979** (moderada e positiva)\n",
    "   - O aumento na quantidade de **cimento** está associado a um aumento na resistência do concreto\n",
    "\n",
    "2. **Água e resistência do concreto**\n",
    "   - **Correlação: -0.287** (moderada e negativa)\n",
    "   - Mais **água** no concreto tende a diminuir a resistência, mostrando uma correlação negativa moderada.\n",
    "\n",
    "3. **Superplastificante e resistência do concreto**\n",
    "   - **Correlação: 0.3661** (moderada e positiva)\n",
    "   - O aumento no uso de **superplastificante** está associado à um aumento da resistência do concreto.\n",
    "\n",
    "4. **Cinzas Volantes e resistência do concreto**\n",
    "   - **Correlação: -0.1057** (fraca e negativa)\n",
    "   - Um aumento nas **cinzas volantes** tende a reduzir a resistência do concreto, embora a correlação seja fraca.\n",
    "\n",
    "5. **Escória de Alto-Forno e resistência do concreto**\n",
    "   - **Correlação: 0.1348** (fraca e positiva)\n",
    "   - A **escória de alto-forno** tem uma correlação baixa com a resistência do concreto.\n",
    "\n",
    "\n"
   ]
  },
  {
   "cell_type": "markdown",
   "metadata": {},
   "source": [
    "#### Conclusão sobre matriz de correlação\n",
    "\n",
    "- A **Água** tem correlação negativa significante com a resistência do concreto, ou seja, à medida que a quantidade de água aumenta, a resistência tende a diminuir.\n",
    "- O **cimento** e **superplastificante** têm correlações **positivas** com a resistência, sugerindo um aumento significante na resistência a medida que os valores desses atributos aumentam.\n",
    "- **Cinzas volantes** tem correlações negativa fraca com a resistência, indicando que sua presença pode reduzir a resistência, mas de forma moderada.\n",
    "- **escória de alto-forno** tem correlações positiva fraca com a resistência, indicando que sua presença pode aumentar a resistência, mas de forma moderada.\n",
    "\n",
    "\n",
    "Essas correlações são essenciais para entender como cada componente do concreto afeta sua resistência, e ajudam na seleção de variáveis para modelos preditivos."
   ]
  },
  {
   "cell_type": "markdown",
   "metadata": {},
   "source": [
    "---------\n",
    "\n",
    "### <center> Normalizar Dados </center>\n",
    "\n",
    "#### Normalizador Padrão:\n",
    "\n",
    "\n"
   ]
  },
  {
   "cell_type": "code",
   "execution_count": 13,
   "metadata": {},
   "outputs": [],
   "source": [
    "from sklearn.preprocessing import StandardScaler\n",
    "\n",
    "# Normalizador de X\n",
    "normalizador_padrao_X = StandardScaler()\n",
    "\n",
    "normalizador_padrao_X.fit(X_treino)\n",
    "\n",
    "X_treino_normalizado_padrao = normalizador_padrao_X.transform(X_treino)\n",
    "\n",
    "X_teste_normalizado_padrao = normalizador_padrao_X.transform(X_teste)\n",
    "\n",
    "# Nomalização de Y\n",
    "\n",
    "normalizador_padrao_Y = StandardScaler()\n",
    "\n",
    "# Remodelando Y_treino para o formato correto (matriz de uma coluna)\n",
    "normalizador_padrao_Y.fit(Y_treino.reshape(-1, 1))\n",
    "\n",
    "Y_treino_normalizado_padrao = normalizador_padrao_Y.transform(Y_treino.reshape(-1, 1)).ravel()\n",
    "\n",
    "# Transformando Y_teste com o mesmo scaler\n",
    "Y_teste_normalizado_padrao = normalizador_padrao_Y.transform(Y_teste.reshape(-1, 1)).ravel()\n"
   ]
  },
  {
   "cell_type": "markdown",
   "metadata": {},
   "source": [
    "-------------\n",
    "\n",
    "#### Avaliando o desempenho dos Modelos Preditivos\n",
    " \n",
    "Para avaliar a performance do modelo em relação à média do target, calculamos o RMSE percentual. A fórmula utilizada é:\n",
    " \n",
    "$$\n",
    "\\text{RMSE percentual} = \\left( \\frac{\\text{RMSE}}{\\text{Média do Target}} \\right) \\times 100\n",
    "$$\n",
    " \n",
    "\n",
    "- **Média do target** = 35,81 MPa\n",
    " \n"
   ]
  },
  {
   "cell_type": "markdown",
   "metadata": {},
   "source": [
    "--------------------\n",
    "\n",
    "### <center> Modelo Baseline </center>"
   ]
  },
  {
   "cell_type": "markdown",
   "metadata": {},
   "source": [
    "Primeiramente, será feito um baseline ou também chamado de modelo dummy, para podermos comparar os outros modelos a este, se os próximos modelos forem piores que este, é porquê os outros modelos não são tão bons.\n",
    "\n",
    "Este modelo é mais simples que modelo linear, segue abaixo sua fórmula:\n",
    "\n",
    "$$\n",
    "y = \\beta_0 + \\epsilon.\n",
    "$$\n",
    "\n",
    "É possível afirmar que $y$ na equação acima é o valor esperado de $y$. Além a biblioteca scikit-learn possue uma função própria par calcular esse modelo."
   ]
  },
  {
   "cell_type": "code",
   "execution_count": 14,
   "metadata": {},
   "outputs": [
    {
     "name": "stdout",
     "output_type": "stream",
     "text": [
      "[35.45374409 35.45374409 35.45374409 35.45374409 35.45374409 35.45374409\n",
      " 35.45374409 35.45374409 35.45374409 35.45374409 35.45374409 35.45374409\n",
      " 35.45374409 35.45374409 35.45374409 35.45374409 35.45374409 35.45374409\n",
      " 35.45374409 35.45374409 35.45374409 35.45374409 35.45374409 35.45374409\n",
      " 35.45374409 35.45374409 35.45374409 35.45374409 35.45374409 35.45374409\n",
      " 35.45374409 35.45374409 35.45374409 35.45374409 35.45374409 35.45374409\n",
      " 35.45374409 35.45374409 35.45374409 35.45374409 35.45374409 35.45374409\n",
      " 35.45374409 35.45374409 35.45374409 35.45374409 35.45374409 35.45374409\n",
      " 35.45374409 35.45374409 35.45374409 35.45374409 35.45374409 35.45374409\n",
      " 35.45374409 35.45374409 35.45374409 35.45374409 35.45374409 35.45374409\n",
      " 35.45374409 35.45374409 35.45374409 35.45374409 35.45374409 35.45374409\n",
      " 35.45374409 35.45374409 35.45374409 35.45374409 35.45374409 35.45374409\n",
      " 35.45374409 35.45374409 35.45374409 35.45374409 35.45374409 35.45374409\n",
      " 35.45374409 35.45374409 35.45374409 35.45374409 35.45374409 35.45374409\n",
      " 35.45374409 35.45374409 35.45374409 35.45374409 35.45374409 35.45374409\n",
      " 35.45374409 35.45374409 35.45374409 35.45374409 35.45374409 35.45374409\n",
      " 35.45374409 35.45374409 35.45374409 35.45374409 35.45374409 35.45374409\n",
      " 35.45374409]\n"
     ]
    }
   ],
   "source": [
    "from sklearn.dummy import DummyRegressor\n",
    "\n",
    "modelo_baseline = DummyRegressor()\n",
    "\n",
    "modelo_baseline.fit(X_treino, Y_treino)\n",
    "\n",
    "y_previsto_baseline = modelo_baseline.predict(X_teste)\n",
    "\n",
    "print(y_previsto_baseline)"
   ]
  },
  {
   "cell_type": "markdown",
   "metadata": {},
   "source": [
    "Vamos computar o RMSE desse modelo:"
   ]
  },
  {
   "cell_type": "code",
   "execution_count": 15,
   "metadata": {},
   "outputs": [
    {
     "name": "stdout",
     "output_type": "stream",
     "text": [
      "18.078368524210187\n"
     ]
    }
   ],
   "source": [
    "from sklearn.metrics import mean_squared_error\n",
    "\n",
    "y_verdadeiro = Y_teste\n",
    "\n",
    "RMSE_baseline = mean_squared_error(y_verdadeiro, y_previsto_baseline, squared=False)\n",
    "print(RMSE_baseline)"
   ]
  },
  {
   "cell_type": "markdown",
   "metadata": {},
   "source": [
    "Desempenho em relação a média do target:"
   ]
  },
  {
   "cell_type": "code",
   "execution_count": 37,
   "metadata": {},
   "outputs": [
    {
     "name": "stdout",
     "output_type": "stream",
     "text": [
      "50.48413438762967\n"
     ]
    }
   ],
   "source": [
    "MEDIA_TARGET = 35.81\n",
    "RMSE_PERCENTUAL_BASELINE = (RMSE_baseline / MEDIA_TARGET) * 100\n",
    "print(RMSE_PERCENTUAL_BASELINE)"
   ]
  },
  {
   "cell_type": "markdown",
   "metadata": {},
   "source": [
    "Obteve-se um RMSE alto obviamente, pois foi utilizado um modelo muito simples para esse problema, dessa forma, vamos testar outro modelos preditivos, para verificar, qual é o melhor possível, isto é, com menor RMSE. Além disso, o RMSE percentual resultou em 50,48% "
   ]
  },
  {
   "cell_type": "markdown",
   "metadata": {},
   "source": [
    "--------------\n",
    "\n",
    "## <center> Modelo Linear Múltiplo </center>\n",
    "\n",
    "A regressão linear múltipla é um modelo estatístico que avalia a relação entre uma variável dependente contínua e várias variáveis independentes (ou preditores). Esses preditores podem ser contínuos ou categóricos. O modelo é denominado \"linear\" porque inclui termos aditivos, onde cada preditor é multiplicado por um coeficiente estimado, e geralmente inclui um termo constante (intercepto). [6]\n",
    "No presente trabalho, estamos trabalhando com 8 atributos, dessa forma não é possível utilizar um modelo linear simples, mas usaremos um modelo linear múltiplo, no qual é possível utilizar essa quantidade de atributos. A fórmula desse modelo é a seguinte:\n",
    "\n",
    "$$\n",
    "y = \\beta_0 + \\beta_1 x_1 + \\beta_2 x_2 + \\cdots + \\beta_n x_n + \\epsilon.\n",
    "$$\n",
    "\n",
    "Faremos primeiro a criação e teste de um modelo sem normalizar os dados:\n",
    "\n",
    "### Sem normalização dos dados:"
   ]
  },
  {
   "cell_type": "code",
   "execution_count": 35,
   "metadata": {},
   "outputs": [
    {
     "name": "stdout",
     "output_type": "stream",
     "text": [
      "[39.91961469 26.07760483 28.38423105 51.58688335 21.6175739  47.77903133\n",
      " 49.35674159 58.24280461 25.93704192 31.74666237 49.92893338 30.46748268\n",
      " 21.53815274 59.48918975 23.83017019 24.1196251  25.79883851 71.04636506\n",
      " 60.41074878 19.97398948 31.81064914 40.57355811 20.60952629 35.02391578\n",
      " 26.20284777 55.92038355 53.12102426 51.45146812 57.24212089 28.81184299\n",
      " 72.80893495 44.03555514 27.69414097 37.75935166 32.23648657 38.37175484\n",
      " 41.52579753 43.11717125 53.12102426 33.23498669 25.56164638 57.27381152\n",
      " 25.04208787 35.99381966 47.32410199 34.23010292 56.29709886 30.26754537\n",
      " 70.05973901 40.00555009 24.22166165 17.16112013 18.64240964 52.73099114\n",
      " 51.43523828 27.37735544 23.36232685 14.60231228 37.28597879 21.78649867\n",
      " 52.92849121 25.30007281 25.38360861 36.36319192 19.36776642 48.31147285\n",
      " 61.55012768 32.70815719 47.98254059 23.32304086 20.12251733 23.47387669\n",
      " 50.9792253  39.03604152 31.57688318 33.34270781 20.7523343  18.12151299\n",
      " 37.85961845 28.32200376 37.67842428 33.27815583 49.92893338 34.10193484\n",
      " 50.40861832 44.20205336 38.3588692  34.88125065 28.16487416 26.19941898\n",
      " 32.51605404 49.49706999 28.55015167 31.46489169 39.33321656 23.47252718\n",
      " 23.13724771 24.07135779 42.92904917 36.59257819 56.18009375 60.43421177\n",
      " 42.45706753]\n"
     ]
    }
   ],
   "source": [
    "from sklearn.linear_model import LinearRegression\n",
    "\n",
    "modelo_linear_multiplo = LinearRegression()\n",
    "\n",
    "modelo_linear_multiplo.fit(X_treino, Y_treino)\n",
    "\n",
    "y_previsto_linear_multiplo = modelo_linear_multiplo.predict(X_teste)\n",
    "\n",
    "print(y_previsto_linear_multiplo)\n"
   ]
  },
  {
   "cell_type": "code",
   "execution_count": 36,
   "metadata": {},
   "outputs": [
    {
     "name": "stdout",
     "output_type": "stream",
     "text": [
      "11.22409700924259\n"
     ]
    }
   ],
   "source": [
    "RMSE_linear_multiplo = mean_squared_error(y_verdadeiro, y_previsto_linear_multiplo, squared=False)\n",
    "print(RMSE_linear_multiplo)"
   ]
  },
  {
   "cell_type": "markdown",
   "metadata": {},
   "source": [
    "Vamos calcular o coeficiente de determinação ou também chamado de $R^2$ para verificar o quão boa é a proporção da variação da variável dependente (target) que é explicada/predita pela variável independente (atributos). E para isso, deve-se saber se o modelo possui ou não intercepto igual a 0, pois se tiver intercepto é possível utilizar a biblioteca scikit-learn para calcular de forma direta essa métrica, se possuir um intercepto igual a zero, será necessário criar uma função que calcula especificamente para este caso. \n",
    "\n",
    "Se o intercepto for igual a 0:\n",
    "\n",
    "$$\n",
    "R^2 = 1 - \\frac{\\sum_i (y_i - \\hat{y}_i)^2}{\\sum_i y_i^2}.\n",
    "$$\n",
    "\n",
    "Se o intercepto for diferente de 0, caso onde não é necessário criar uma função, pois o scikit-learn já possui função pronta:\n",
    "\n",
    "$$\n",
    "R^2 = 1 - \\frac{\\sum_i (y_i - \\hat{y}_i)^2}{\\sum_i (y_i - E[y])^2},\n",
    "$$\n",
    "\n",
    "Além disso, o valor máximo de $R^2$ é 1 e quanto maior for o $R^2$, melhor seu modelo se ajusta aos dados.\n"
   ]
  },
  {
   "cell_type": "code",
   "execution_count": 18,
   "metadata": {},
   "outputs": [
    {
     "name": "stdout",
     "output_type": "stream",
     "text": [
      "O intercepto é -4.71749058793489\n",
      "O intercepto é diferente de 0: True\n"
     ]
    }
   ],
   "source": [
    "print('O intercepto é {}'.format(modelo_linear_multiplo.intercept_))\n",
    "print('O intercepto é diferente de 0: {}'.format(modelo_linear_multiplo.intercept_ != 0))"
   ]
  },
  {
   "cell_type": "markdown",
   "metadata": {},
   "source": [
    "Dessa forma, podemos calcular o coeficiente de determinação da seguinte forma:"
   ]
  },
  {
   "cell_type": "code",
   "execution_count": 19,
   "metadata": {},
   "outputs": [
    {
     "name": "stdout",
     "output_type": "stream",
     "text": [
      "O coeficiente de determinação do modelo foi de 0.5982399464195951 unidades de y.\n"
     ]
    }
   ],
   "source": [
    "from sklearn.metrics import r2_score\n",
    "\n",
    "R2_MODELO_LINEAR_MULTIPLO = r2_score(Y_teste, y_previsto_linear_multiplo)\n",
    "print(\"O coeficiente de determinação do modelo foi de {} unidades de y.\".format(R2_MODELO_LINEAR_MULTIPLO))\n"
   ]
  },
  {
   "cell_type": "markdown",
   "metadata": {},
   "source": [
    "### Com normalizador padrão dos dados dos atributos:"
   ]
  },
  {
   "cell_type": "markdown",
   "metadata": {},
   "source": [
    "Com o modelo linear múltiplo foi possível alcançar um RMSE menor que o baseline, mas ainda muito alto. Mas e se fizermos com os dados normalizados pelo normalizador padrão?"
   ]
  },
  {
   "cell_type": "code",
   "execution_count": 20,
   "metadata": {},
   "outputs": [
    {
     "name": "stdout",
     "output_type": "stream",
     "text": [
      "[39.91961469 26.07760483 28.38423105 51.58688335 21.6175739  47.77903133\n",
      " 49.35674159 58.24280461 25.93704192 31.74666237 49.92893338 30.46748268\n",
      " 21.53815274 59.48918975 23.83017019 24.1196251  25.79883851 71.04636506\n",
      " 60.41074878 19.97398948 31.81064914 40.57355811 20.60952629 35.02391578\n",
      " 26.20284777 55.92038355 53.12102426 51.45146812 57.24212089 28.81184299\n",
      " 72.80893495 44.03555514 27.69414097 37.75935166 32.23648657 38.37175484\n",
      " 41.52579753 43.11717125 53.12102426 33.23498669 25.56164638 57.27381152\n",
      " 25.04208787 35.99381966 47.32410199 34.23010292 56.29709886 30.26754537\n",
      " 70.05973901 40.00555009 24.22166165 17.16112013 18.64240964 52.73099114\n",
      " 51.43523828 27.37735544 23.36232685 14.60231228 37.28597879 21.78649867\n",
      " 52.92849121 25.30007281 25.38360861 36.36319192 19.36776642 48.31147285\n",
      " 61.55012768 32.70815719 47.98254059 23.32304086 20.12251733 23.47387669\n",
      " 50.9792253  39.03604152 31.57688318 33.34270781 20.7523343  18.12151299\n",
      " 37.85961845 28.32200376 37.67842428 33.27815583 49.92893338 34.10193484\n",
      " 50.40861832 44.20205336 38.3588692  34.88125065 28.16487416 26.19941898\n",
      " 32.51605404 49.49706999 28.55015167 31.46489169 39.33321656 23.47252718\n",
      " 23.13724771 24.07135779 42.92904917 36.59257819 56.18009375 60.43421177\n",
      " 42.45706753]\n"
     ]
    }
   ],
   "source": [
    "modelo_linear_multiplo_normalizado = LinearRegression()\n",
    "\n",
    "modelo_linear_multiplo_normalizado.fit(X_treino_normalizado_padrao, Y_treino)\n",
    "\n",
    "y_previsto_linear_multiplo_normalizado = modelo_linear_multiplo_normalizado.predict(X_teste_normalizado_padrao)\n",
    "\n",
    "print(y_previsto_linear_multiplo_normalizado)"
   ]
  },
  {
   "cell_type": "code",
   "execution_count": 21,
   "metadata": {},
   "outputs": [
    {
     "name": "stdout",
     "output_type": "stream",
     "text": [
      "O RMSE do modelo foi de 11.224097009242593 unidades de y.\n"
     ]
    }
   ],
   "source": [
    "RMSE_linear_multiplo_normalizado = mean_squared_error(y_verdadeiro, y_previsto_linear_multiplo_normalizado, squared=False)\n",
    "print(f\"O RMSE do modelo foi de {RMSE_linear_multiplo_normalizado} unidades de y.\")"
   ]
  },
  {
   "cell_type": "code",
   "execution_count": 22,
   "metadata": {},
   "outputs": [
    {
     "name": "stdout",
     "output_type": "stream",
     "text": [
      "O coeficiente de determinação do modelo foi de 0.5982399464195949 unidades de y.\n"
     ]
    }
   ],
   "source": [
    "R2_MODELO_LINEAR_MULTIPLO_NORMALIZADO = r2_score(y_verdadeiro, y_previsto_linear_multiplo_normalizado)\n",
    "print(\"O coeficiente de determinação do modelo foi de {} unidades de y.\".format(R2_MODELO_LINEAR_MULTIPLO_NORMALIZADO))"
   ]
  },
  {
   "cell_type": "markdown",
   "metadata": {},
   "source": [
    "### Usar Pipeline para aplicar normalização MaxAbsScaler (Pelo Máximo Absoluto)"
   ]
  },
  {
   "cell_type": "code",
   "execution_count": 23,
   "metadata": {},
   "outputs": [
    {
     "name": "stdout",
     "output_type": "stream",
     "text": [
      "O RMSE do modelo foi de 11.224097009242591 unidades de y.\n",
      "O modelo tem intercepto? True\n",
      "Valor do intercepto: -4.717490587934293\n",
      "O valor de R² do modelo é: 0.598239946419595\n"
     ]
    }
   ],
   "source": [
    "from sklearn.pipeline import make_pipeline\n",
    "from sklearn.preprocessing import MaxAbsScaler\n",
    "from sklearn.linear_model import LinearRegression\n",
    "\n",
    "modelo_linear_regression_pipeline_MaxAbsScaler = make_pipeline(\n",
    "    MaxAbsScaler(),\n",
    "    LinearRegression(),\n",
    ")\n",
    "\n",
    "modelo_linear_regression_pipeline_MaxAbsScaler.fit(X_treino, Y_treino)\n",
    "\n",
    "y_previsto_linear_regression_pipeline_MaxAbsScaler = modelo_linear_regression_pipeline_MaxAbsScaler.predict(X_teste)\n",
    "\n",
    "RMSE_pipeline_linear_regression_MaxAbsScaler = mean_squared_error(y_verdadeiro, y_previsto_linear_regression_pipeline_MaxAbsScaler) ** (1/2)\n",
    "\n",
    "print(f\"O RMSE do modelo foi de {RMSE_pipeline_linear_regression_MaxAbsScaler} unidades de y.\")\n",
    "\n",
    "\n",
    "modelo_linear_MaxAbsScaler = modelo_linear_regression_pipeline_MaxAbsScaler.named_steps['linearregression']\n",
    "\n",
    "print(f\"O modelo tem intercepto? {modelo_linear_MaxAbsScaler.fit_intercept}\")\n",
    "print(f\"Valor do intercepto: {modelo_linear_MaxAbsScaler.intercept_}\")\n",
    "\n",
    "if modelo_linear_MaxAbsScaler.intercept_ != 0:\n",
    "    R2_MODELO_LINEAR_MULTIPLO_MaxAbsScaler = r2_score(Y_teste, y_previsto_linear_regression_pipeline_MaxAbsScaler)\n",
    "    print(f\"O valor de R² do modelo é: {R2_MODELO_LINEAR_MULTIPLO_MaxAbsScaler}\")"
   ]
  },
  {
   "cell_type": "markdown",
   "metadata": {},
   "source": [
    "### Usar Pipeline para aplicar normalização MinMaxScaler (Pelo Mínimo e Máximo)"
   ]
  },
  {
   "cell_type": "code",
   "execution_count": 24,
   "metadata": {},
   "outputs": [
    {
     "name": "stdout",
     "output_type": "stream",
     "text": [
      "O RMSE do modelo foi de 11.22409700924259 unidades de y.\n",
      "O modelo tem intercepto? True\n",
      "Valor do intercepto: 3.098907596103132\n",
      "O valor de R² do modelo é: 0.5982399464195951\n"
     ]
    }
   ],
   "source": [
    "from sklearn.pipeline import make_pipeline\n",
    "from sklearn.preprocessing import MinMaxScaler\n",
    "from sklearn.linear_model import LinearRegression\n",
    "\n",
    "modelo_linear_regression_pipeline_MinMaxScaler = make_pipeline(\n",
    "    MinMaxScaler(),\n",
    "    LinearRegression(),\n",
    ")\n",
    "\n",
    "modelo_linear_regression_pipeline_MinMaxScaler.fit(X_treino, Y_treino)\n",
    "\n",
    "y_previsto_linear_regression_pipeline_MinMaxScaler = modelo_linear_regression_pipeline_MinMaxScaler.predict(X_teste)\n",
    "\n",
    "RMSE_pipeline_linear_regression_MinMaxScaler = mean_squared_error(y_verdadeiro, y_previsto_linear_regression_pipeline_MinMaxScaler) ** (1/2)\n",
    "\n",
    "print(f\"O RMSE do modelo foi de {RMSE_pipeline_linear_regression_MinMaxScaler} unidades de y.\")\n",
    "\n",
    "modelo_linear_MinMaxScaler = modelo_linear_regression_pipeline_MinMaxScaler.named_steps['linearregression']\n",
    "\n",
    "print(f\"O modelo tem intercepto? {modelo_linear_MinMaxScaler.fit_intercept}\")\n",
    "print(f\"Valor do intercepto: {modelo_linear_MinMaxScaler.intercept_}\")\n",
    "\n",
    "if modelo_linear_MinMaxScaler.intercept_ != 0:\n",
    "    R2_MODELO_LINEAR_MULTIPLO_MinMaxScaler = r2_score(Y_teste, y_previsto_linear_regression_pipeline_MinMaxScaler)\n",
    "    print(f\"O valor de R² do modelo é: {R2_MODELO_LINEAR_MULTIPLO_MinMaxScaler}\")"
   ]
  },
  {
   "cell_type": "markdown",
   "metadata": {},
   "source": [
    "##### Conclusão: \n",
    "\n",
    "As normalizações não fizeram muita diferença para este modelo regressão linear múltipla, mas no entanto este modelo foi bem melhor do modelo anterior, o baseline, que alcançou um RMSE de aproximadamente 18, enquanto o modelo linear múltiplo foi de 11, ou seja, foi possível alcançar uma melhora significativa no modelo."
   ]
  },
  {
   "cell_type": "markdown",
   "metadata": {},
   "source": [
    "---------------\n",
    "\n",
    "## <center> K-vizinhos mais próximos </center>\n"
   ]
  },
  {
   "attachments": {
    "image.png": {
     "image/png": "[encoded data removed]"
    }
   },
   "cell_type": "markdown",
   "metadata": {},
   "source": [
    "Primeiramente, segundo  [5], a técnica K-nearest neighbors (KNN) é um algoritmo de aprendizado supervisionado amplamente utilizado para tarefas de classificação. Nesse método, a classificação de uma nova amostra é definida com base nas classes das amostras mais próximas, conhecidas como vizinhos. O principal parâmetro do KNN é o valor de k, que indica o número de vizinhos a serem considerados na decisão. Por exemplo, se k=3, a classe da nova amostra será determinada pela classe mais frequente entre os três vizinhos mais próximos. A seguir, apresenta-se uma ilustração desse processo conforme descrito por Pedroso (2009) [5]\n",
    "\n",
    "![image.png](attachment:image.png)"
   ]
  },
  {
   "cell_type": "markdown",
   "metadata": {},
   "source": [
    "Primeiramente, foi feito o modelo K-NN sem normalizar os dados, para verificar a pior hipótese de resultado."
   ]
  },
  {
   "cell_type": "markdown",
   "metadata": {},
   "source": [
    "#### Sem normalização dos dados:"
   ]
  },
  {
   "cell_type": "code",
   "execution_count": 31,
   "metadata": {},
   "outputs": [
    {
     "name": "stdout",
     "output_type": "stream",
     "text": [
      "[55.61887979 20.05455859 28.81756872 43.10866609 25.53819104 32.37319645\n",
      " 47.67266889 41.34718624 15.73614057 20.29587519 33.16051238 28.10534001\n",
      " 17.26654747 62.96524657 23.77543073 18.74156646 20.52110401 45.88692605\n",
      " 79.29663476 18.10632924 36.52154372 62.80965482 13.23081461 39.38516737\n",
      " 12.85826775 55.69816953 33.16051238 37.58517536 45.73294308 29.69573132\n",
      " 64.16493481 35.66429523 39.39275161 35.5234123  29.82144578 24.33528525\n",
      " 52.24619303 45.3013311  33.16051238 37.51806637 16.34908474 59.56383164\n",
      " 39.18751759 33.25342748 39.16913156 28.33378639 56.59678659 25.60024388\n",
      " 46.40931904 52.77777902 22.29535559 18.2692754  34.32349423 56.29801365\n",
      " 37.79017956 47.58464579 34.53148616 13.12256688 40.84892492 22.04484597\n",
      " 41.56620979 20.73920825 28.84537759 19.16950123 20.18326077 52.93796728\n",
      " 54.03193587 42.66707313 39.31185309 24.16843205 22.74282551 20.20854156\n",
      " 32.24219601 59.89363099 33.88314889 35.59764588 20.2361206  21.91545431\n",
      " 30.91357576 30.86002646 35.52157369 40.40099535 33.16051238 30.6653644\n",
      " 54.99007768 50.69027552 47.61291431 39.38516737 20.15430278 12.85826775\n",
      " 39.96662547 47.73767663 33.77742924 38.82761111 28.29149853 13.617151\n",
      " 14.31742879 12.19912869 51.58199781 33.08312691 50.93159212 45.73294308\n",
      " 53.606759  ]\n"
     ]
    }
   ],
   "source": [
    "from sklearn.neighbors import KNeighborsRegressor\n",
    "\n",
    "# Criar uma instância do modelo\n",
    "NUM_VIZINHOS = 3\n",
    "modelo_knn = KNeighborsRegressor(n_neighbors=NUM_VIZINHOS)\n",
    "\n",
    "# Ajustar o modelo aos dados\n",
    "modelo_knn.fit(X_treino, Y_treino)\n",
    "\n",
    "y_previsto_knn = modelo_knn.predict(X_teste)\n",
    "print(y_previsto_knn)"
   ]
  },
  {
   "cell_type": "code",
   "execution_count": 32,
   "metadata": {},
   "outputs": [
    {
     "name": "stdout",
     "output_type": "stream",
     "text": [
      "O RMSE do modelo knn foi de 11.04203601818492 unidades de y.\n"
     ]
    }
   ],
   "source": [
    "RMSE_knn = mean_squared_error(y_verdadeiro, y_previsto_knn, squared=False)\n",
    "\n",
    "print(f\"O RMSE do modelo knn foi de {RMSE_knn} unidades de y.\")"
   ]
  },
  {
   "cell_type": "markdown",
   "metadata": {},
   "source": [
    "### Com normalização padrão dos dados dos atributos:\n",
    "\n",
    "Vamos testar com os dados normalizados pela normalização padrão."
   ]
  },
  {
   "cell_type": "code",
   "execution_count": 33,
   "metadata": {},
   "outputs": [
    {
     "name": "stdout",
     "output_type": "stream",
     "text": [
      "[55.61887979 24.32471328 28.81756872 43.10866609 30.95977065 36.08257733\n",
      " 47.67266889 46.11560226 24.26495869 25.60024388 32.66802953 28.10534001\n",
      " 24.81630967 62.96524657 23.54790365 31.55363931 20.52110401 46.11537243\n",
      " 79.29663476 12.57052643 37.86832017 62.80965482 13.23081461 39.38516737\n",
      " 15.46954319 55.69816953 32.66802953 64.72570863 45.73294308 29.69573132\n",
      " 64.16493481 38.99515378 35.66429523 37.64515977 36.26276039 24.33528525\n",
      " 53.48954808 47.12775303 32.66802953 33.77076431 16.34908474 59.56383164\n",
      " 30.64261169 31.9572126  42.45103732 24.02754912 56.59678659 25.60024388\n",
      " 50.78565303 48.30330961 26.69191421 18.2692754  33.67492714 56.29801365\n",
      " 37.79017956 47.61774064 26.28512337 15.41599388 39.4561834  22.04484597\n",
      " 41.56620979 34.74982023 28.84537759 19.16950123 20.18326077 58.85596961\n",
      " 54.03193587 41.21687528 45.59274963 24.16843205 25.35433077 20.20854156\n",
      " 32.24219601 56.45636331 33.88314889 35.72864632 20.21543632 15.02483117\n",
      " 30.91357576 30.86002646 37.19677055 40.40099535 32.66802953 34.25017995\n",
      " 54.99007768 50.35473053 47.61291431 39.38516737 20.69508179 15.46954319\n",
      " 37.97174157 47.73767663 33.77742924 38.82761111 28.14900683 13.617151\n",
      " 14.31742879 15.23443187 53.54470616 33.73583085 50.93159212 45.73294308\n",
      " 53.606759  ]\n"
     ]
    }
   ],
   "source": [
    "modelo_knn_normalizado = KNeighborsRegressor(n_neighbors=NUM_VIZINHOS)\n",
    "\n",
    "# Ajustar o modelo aos dados\n",
    "modelo_knn_normalizado.fit(X_treino_normalizado_padrao, Y_treino)\n",
    "\n",
    "y_previsto_knn_normalizado = modelo_knn_normalizado.predict(X_teste_normalizado_padrao)\n",
    "print(y_previsto_knn_normalizado)"
   ]
  },
  {
   "cell_type": "code",
   "execution_count": 34,
   "metadata": {},
   "outputs": [
    {
     "name": "stdout",
     "output_type": "stream",
     "text": [
      "O RMSE do modelo knn com dados normalizado pela normalização padrão foi de 10.409808260245157 unidades de y.\n"
     ]
    }
   ],
   "source": [
    "RMSE_knn_normalizado = mean_squared_error(y_verdadeiro, y_previsto_knn_normalizado, squared=False)\n",
    "\n",
    "print(f\"O RMSE do modelo knn com dados normalizado pela normalização padrão foi de {RMSE_knn_normalizado} unidades de y.\")"
   ]
  },
  {
   "cell_type": "markdown",
   "metadata": {},
   "source": [
    "### Usar Pipeline para aplicar normalização MaxAbsScaler (Pelo Máximo Absoluto)"
   ]
  },
  {
   "cell_type": "code",
   "execution_count": 29,
   "metadata": {},
   "outputs": [
    {
     "name": "stdout",
     "output_type": "stream",
     "text": [
      "O RMSE do modelo foi de 10.067052010903774 unidades de y.\n"
     ]
    }
   ],
   "source": [
    "from sklearn.pipeline import make_pipeline\n",
    "from sklearn.preprocessing import MaxAbsScaler\n",
    "from sklearn.neighbors import KNeighborsRegressor\n",
    "\n",
    "modelo_knn_pipeline_MaxAbsScaler = make_pipeline(\n",
    "    MaxAbsScaler(),\n",
    "    KNeighborsRegressor(n_neighbors=NUM_VIZINHOS),\n",
    ")\n",
    "\n",
    "modelo_knn_pipeline_MaxAbsScaler.fit(X_treino, Y_treino)\n",
    "\n",
    "y_previsto_knn_pipeline_MaxAbsScaler = modelo_knn_pipeline_MaxAbsScaler.predict(X_teste)\n",
    "\n",
    "RMSE_pipeline_knn_MaxAbsScaler = mean_squared_error(y_verdadeiro, y_previsto_knn_pipeline_MaxAbsScaler) ** (1/2)\n",
    "\n",
    "print(f\"O RMSE do modelo foi de {RMSE_pipeline_knn_MaxAbsScaler} unidades de y.\")"
   ]
  },
  {
   "cell_type": "markdown",
   "metadata": {},
   "source": [
    "### Usar Pipeline para aplicar normalização MinMaxScaler (Pelo Mínimo e Máximo)"
   ]
  },
  {
   "cell_type": "code",
   "execution_count": 30,
   "metadata": {},
   "outputs": [
    {
     "name": "stdout",
     "output_type": "stream",
     "text": [
      "O RMSE do modelo foi de 10.981967636066956 unidades de y.\n"
     ]
    }
   ],
   "source": [
    "from sklearn.pipeline import make_pipeline\n",
    "from sklearn.preprocessing import MinMaxScaler\n",
    "from sklearn.neighbors import KNeighborsRegressor\n",
    "\n",
    "modelo_knn_pipeline_MinMaxScaler = make_pipeline(\n",
    "    MinMaxScaler(),\n",
    "    KNeighborsRegressor(n_neighbors=NUM_VIZINHOS),\n",
    ")\n",
    "\n",
    "modelo_knn_pipeline_MinMaxScaler.fit(X_treino, Y_treino)\n",
    "\n",
    "y_previsto_knn_pipeline_MinMaxScaler = modelo_knn_pipeline_MinMaxScaler.predict(X_teste)\n",
    "\n",
    "RMSE_pipeline_knn_MinMaxScaler = mean_squared_error(y_verdadeiro, y_previsto_knn_pipeline_MinMaxScaler) ** (1/2)\n",
    "\n",
    "print(f\"O RMSE do modelo foi de {RMSE_pipeline_knn_MinMaxScaler } unidades de y.\")"
   ]
  },
  {
   "cell_type": "markdown",
   "metadata": {},
   "source": [
    "#### Conclusão:\n",
    "\n",
    "Os resultado do RMSE quando foi normalizado e quando não foi normalizado, diferem entre si, o que demostra que há uma diferença para este modelo se realiza ou não a normalização, mas não é diferença substancial. Portanto, é importante sempre realizar a normalização para verificar o quando isso modifica os resultados, e se é benéfico para o caso trabalhado. Além disso, o modelo k-NN foi melhor que o baseline, mas não encontrou tanta diferença em performance do modelo linear múltiplo. Mas o k-NN usando o normalizador pelo máximo absoluto foi o melhor modelo testado até agora."
   ]
  },
  {
   "cell_type": "markdown",
   "metadata": {},
   "source": [
    "--------------\n",
    "\n",
    "## <center> Árvore de Decisão com Otimização de Hiperparâmetros </center>"
   ]
  },
  {
   "cell_type": "markdown",
   "metadata": {},
   "source": [
    "Primeiramente, importamos o módulo \"DecisionTreeRegressor\" para realizar uma regressão com árvore de decisão"
   ]
  },
  {
   "cell_type": "code",
   "execution_count": 105,
   "metadata": {},
   "outputs": [],
   "source": [
    "from sklearn.tree import DecisionTreeRegressor"
   ]
  },
  {
   "cell_type": "markdown",
   "metadata": {},
   "source": [
    "Posteriormente, criamos uma instância utilizando um dicionário com os parâmetros"
   ]
  },
  {
   "cell_type": "code",
   "execution_count": 106,
   "metadata": {},
   "outputs": [],
   "source": [
    "def cria_instancia_modelo_arvore_de_decisao(trial):\n",
    "    \"\"\"Cria uma instância do modelo.\n",
    "\n",
    "    Args:\n",
    "      trial: objeto tipo Trial do Optuna.\n",
    "\n",
    "    Returns:\n",
    "      Uma instância do DecisionTreeRegressor.\n",
    "    \"\"\"\n",
    "    parametros_arvore_de_decisao = {\n",
    "        \"criterion\": trial.suggest_categorical(\n",
    "            \"criterio\", [\"squared_error\", \"friedman_mse\", \"absolute_error\", \"poisson\"]\n",
    "        ),\n",
    "        \"splitter\": trial.suggest_categorical(\n",
    "            \"splitter\", [\"best\", \"random\"]\n",
    "        ),\n",
    "        # Profundidade entre 2 e 32 é razoável; limitar previne overfitting.\n",
    "        \"max_depth\": trial.suggest_int(\"profundidade_max\", 2, 32),\n",
    "        \n",
    "        # min_samples_split define o mínimo de exemplos para dividir um nó.\n",
    "        \"min_samples_split\": trial.suggest_int(\n",
    "            \"min_exemplos_split\", 2, 20\n",
    "        ),\n",
    "        \n",
    "        # min_samples_leaf define o mínimo de exemplos em uma folha.\n",
    "        \"min_samples_leaf\": trial.suggest_int(\n",
    "            \"min_exemplos_folha\", 1, 20\n",
    "        ),\n",
    "        \n",
    "        # max_features pode ser um valor numérico ou uma razão ('sqrt', 'log2').\n",
    "        \"max_features\": trial.suggest_categorical(\n",
    "            \"num_max_atributos\", [\"sqrt\", \"log2\", None]\n",
    "        ),\n",
    "        \n",
    "        # Fixa a aleatoriedade para reprodutibilidade.\n",
    "        \"random_state\": SEMENTE_ALEATORIA,\n",
    "    }\n",
    "\n",
    "    modelo_arvore_de_decisao = DecisionTreeRegressor(**parametros_arvore_de_decisao)\n",
    "\n",
    "    return modelo_arvore_de_decisao\n"
   ]
  },
  {
   "cell_type": "markdown",
   "metadata": {},
   "source": [
    "Definição da função objetivo"
   ]
  },
  {
   "cell_type": "code",
   "execution_count": 107,
   "metadata": {},
   "outputs": [],
   "source": [
    "from sklearn.model_selection import cross_val_score\n",
    "\n",
    "def funcao_objetivo_arvore_de_decisao(trial, X_treino, Y_treino, num_folds):\n",
    "    \"\"\"Função objetivo do optuna\n",
    "\n",
    "    Referencia:\n",
    "      https://medium.com/@walter_sperat/ using-optuna-with-sklearn-the-right-way-part-1-6b4ad0ab2451\n",
    "\n",
    "    \"\"\"\n",
    "    modelo_arvore_de_decisao = cria_instancia_modelo_arvore_de_decisao(trial)\n",
    "\n",
    "    metricas_arvore_de_decisao = cross_val_score(\n",
    "        modelo_arvore_de_decisao,\n",
    "        X_treino,\n",
    "        Y_treino,\n",
    "        scoring=\"neg_root_mean_squared_error\",\n",
    "        cv=num_folds,\n",
    "    )\n",
    "\n",
    "    # releia sobre scores no sklearn para relembrar porque tem um negativo abaixo\n",
    "    return -metricas_arvore_de_decisao.mean()"
   ]
  },
  {
   "cell_type": "markdown",
   "metadata": {},
   "source": [
    "Criação de um estudo para a otimização de hiperparâmetros"
   ]
  },
  {
   "cell_type": "code",
   "execution_count": 108,
   "metadata": {},
   "outputs": [
    {
     "name": "stderr",
     "output_type": "stream",
     "text": [
      "[I 2024-11-10 23:16:11,198] A new study created in RDB with name: arvore_aleatoria_Concrete_compressive_strength_4\n"
     ]
    }
   ],
   "source": [
    "from optuna import create_study\n",
    "\n",
    "NOME_DO_ESTUDO_ARVORE_DE_DECISAO = \"arvore_aleatoria_Concrete_compressive_strength_4\"\n",
    "\n",
    "objeto_de_estudo_arvore_de_decisao = create_study(\n",
    "    direction=\"minimize\",\n",
    "    study_name=NOME_DO_ESTUDO_ARVORE_DE_DECISAO,\n",
    "    storage=f\"sqlite:///{NOME_DO_ESTUDO_ARVORE_DE_DECISAO}.db\",\n",
    "    load_if_exists=True,\n",
    ")"
   ]
  },
  {
   "cell_type": "markdown",
   "metadata": {},
   "source": [
    "Quantidade de folds e definição da função parcial"
   ]
  },
  {
   "cell_type": "code",
   "execution_count": 109,
   "metadata": {},
   "outputs": [],
   "source": [
    "NUM_FOLDS_ARVORE_DE_DECISAO = 10\n",
    "\n",
    "def funcao_objetivo_parcial_arvore_de_decisao(trial):\n",
    "    return funcao_objetivo_arvore_de_decisao(trial, X_treino, Y_treino, NUM_FOLDS_ARVORE_DE_DECISAO)"
   ]
  },
  {
   "cell_type": "markdown",
   "metadata": {},
   "source": [
    "Número de tentativas e execução da otimização de parâmetros"
   ]
  },
  {
   "cell_type": "code",
   "execution_count": 110,
   "metadata": {},
   "outputs": [
    {
     "name": "stderr",
     "output_type": "stream",
     "text": [
      "[I 2024-11-10 23:16:11,579] Trial 0 finished with value: 13.021350013663982 and parameters: {'criterio': 'friedman_mse', 'splitter': 'random', 'profundidade_max': 15, 'min_exemplos_split': 9, 'min_exemplos_folha': 17, 'num_max_atributos': 'log2'}. Best is trial 0 with value: 13.021350013663982.\n",
      "[I 2024-11-10 23:16:12,182] Trial 1 finished with value: 7.659912348644641 and parameters: {'criterio': 'absolute_error', 'splitter': 'random', 'profundidade_max': 21, 'min_exemplos_split': 16, 'min_exemplos_folha': 1, 'num_max_atributos': None}. Best is trial 1 with value: 7.659912348644641.\n",
      "[I 2024-11-10 23:16:12,528] Trial 2 finished with value: 8.361417730898115 and parameters: {'criterio': 'squared_error', 'splitter': 'random', 'profundidade_max': 7, 'min_exemplos_split': 3, 'min_exemplos_folha': 5, 'num_max_atributos': None}. Best is trial 1 with value: 7.659912348644641.\n",
      "[I 2024-11-10 23:16:12,867] Trial 3 finished with value: 13.021350013663982 and parameters: {'criterio': 'squared_error', 'splitter': 'random', 'profundidade_max': 28, 'min_exemplos_split': 19, 'min_exemplos_folha': 17, 'num_max_atributos': 'log2'}. Best is trial 1 with value: 7.659912348644641.\n",
      "[I 2024-11-10 23:16:13,205] Trial 4 finished with value: 8.802846407308053 and parameters: {'criterio': 'squared_error', 'splitter': 'random', 'profundidade_max': 31, 'min_exemplos_split': 10, 'min_exemplos_folha': 12, 'num_max_atributos': None}. Best is trial 1 with value: 7.659912348644641.\n",
      "[I 2024-11-10 23:16:13,543] Trial 5 finished with value: 14.11040395973797 and parameters: {'criterio': 'poisson', 'splitter': 'random', 'profundidade_max': 2, 'min_exemplos_split': 16, 'min_exemplos_folha': 19, 'num_max_atributos': None}. Best is trial 1 with value: 7.659912348644641.\n",
      "[I 2024-11-10 23:16:13,881] Trial 6 finished with value: 8.400486799702112 and parameters: {'criterio': 'poisson', 'splitter': 'random', 'profundidade_max': 12, 'min_exemplos_split': 2, 'min_exemplos_folha': 9, 'num_max_atributos': None}. Best is trial 1 with value: 7.659912348644641.\n"
     ]
    },
    {
     "name": "stderr",
     "output_type": "stream",
     "text": [
      "[I 2024-11-10 23:16:14,347] Trial 7 finished with value: 10.407013355395987 and parameters: {'criterio': 'absolute_error', 'splitter': 'random', 'profundidade_max': 19, 'min_exemplos_split': 5, 'min_exemplos_folha': 1, 'num_max_atributos': 'sqrt'}. Best is trial 1 with value: 7.659912348644641.\n",
      "[I 2024-11-10 23:16:14,879] Trial 8 finished with value: 9.440739052418238 and parameters: {'criterio': 'squared_error', 'splitter': 'best', 'profundidade_max': 21, 'min_exemplos_split': 20, 'min_exemplos_folha': 9, 'num_max_atributos': 'log2'}. Best is trial 1 with value: 7.659912348644641.\n",
      "[I 2024-11-10 23:16:15,216] Trial 9 finished with value: 7.7482950357832845 and parameters: {'criterio': 'squared_error', 'splitter': 'best', 'profundidade_max': 32, 'min_exemplos_split': 3, 'min_exemplos_folha': 16, 'num_max_atributos': None}. Best is trial 1 with value: 7.659912348644641.\n",
      "[I 2024-11-10 23:16:15,662] Trial 10 finished with value: 9.242199394762508 and parameters: {'criterio': 'absolute_error', 'splitter': 'best', 'profundidade_max': 24, 'min_exemplos_split': 14, 'min_exemplos_folha': 1, 'num_max_atributos': 'sqrt'}. Best is trial 1 with value: 7.659912348644641.\n",
      "[I 2024-11-10 23:16:16,351] Trial 11 finished with value: 7.393885880485287 and parameters: {'criterio': 'absolute_error', 'splitter': 'best', 'profundidade_max': 32, 'min_exemplos_split': 7, 'min_exemplos_folha': 13, 'num_max_atributos': None}. Best is trial 11 with value: 7.393885880485287.\n",
      "[I 2024-11-10 23:16:17,103] Trial 12 finished with value: 7.393885880485287 and parameters: {'criterio': 'absolute_error', 'splitter': 'best', 'profundidade_max': 25, 'min_exemplos_split': 13, 'min_exemplos_folha': 13, 'num_max_atributos': None}. Best is trial 11 with value: 7.393885880485287.\n",
      "[I 2024-11-10 23:16:17,858] Trial 13 finished with value: 7.393885880485287 and parameters: {'criterio': 'absolute_error', 'splitter': 'best', 'profundidade_max': 26, 'min_exemplos_split': 7, 'min_exemplos_folha': 13, 'num_max_atributos': None}. Best is trial 11 with value: 7.393885880485287.\n",
      "[I 2024-11-10 23:16:18,625] Trial 14 finished with value: 7.43980233187631 and parameters: {'criterio': 'absolute_error', 'splitter': 'best', 'profundidade_max': 28, 'min_exemplos_split': 12, 'min_exemplos_folha': 14, 'num_max_atributos': None}. Best is trial 11 with value: 7.393885880485287.\n",
      "[I 2024-11-10 23:16:18,994] Trial 15 finished with value: 9.082705900971302 and parameters: {'criterio': 'friedman_mse', 'splitter': 'best', 'profundidade_max': 24, 'min_exemplos_split': 7, 'min_exemplos_folha': 10, 'num_max_atributos': 'sqrt'}. Best is trial 11 with value: 7.393885880485287.\n",
      "[I 2024-11-10 23:16:19,840] Trial 16 finished with value: 7.3035411685756655 and parameters: {'criterio': 'absolute_error', 'splitter': 'best', 'profundidade_max': 31, 'min_exemplos_split': 12, 'min_exemplos_folha': 6, 'num_max_atributos': None}. Best is trial 16 with value: 7.3035411685756655.\n",
      "[I 2024-11-10 23:16:20,620] Trial 17 finished with value: 7.3035411685756655 and parameters: {'criterio': 'absolute_error', 'splitter': 'best', 'profundidade_max': 32, 'min_exemplos_split': 8, 'min_exemplos_folha': 6, 'num_max_atributos': None}. Best is trial 16 with value: 7.3035411685756655.\n",
      "[I 2024-11-10 23:16:21,136] Trial 18 finished with value: 9.168248517890847 and parameters: {'criterio': 'absolute_error', 'splitter': 'best', 'profundidade_max': 14, 'min_exemplos_split': 10, 'min_exemplos_folha': 6, 'num_max_atributos': 'sqrt'}. Best is trial 16 with value: 7.3035411685756655.\n",
      "[I 2024-11-10 23:16:21,507] Trial 19 finished with value: 8.459530383767142 and parameters: {'criterio': 'poisson', 'splitter': 'best', 'profundidade_max': 29, 'min_exemplos_split': 15, 'min_exemplos_folha': 5, 'num_max_atributos': 'log2'}. Best is trial 16 with value: 7.3035411685756655.\n",
      "[I 2024-11-10 23:16:21,894] Trial 20 finished with value: 7.461240009625934 and parameters: {'criterio': 'friedman_mse', 'splitter': 'best', 'profundidade_max': 21, 'min_exemplos_split': 11, 'min_exemplos_folha': 7, 'num_max_atributos': None}. Best is trial 16 with value: 7.3035411685756655.\n",
      "[I 2024-11-10 23:16:22,731] Trial 21 finished with value: 7.221307758104787 and parameters: {'criterio': 'absolute_error', 'splitter': 'best', 'profundidade_max': 32, 'min_exemplos_split': 7, 'min_exemplos_folha': 4, 'num_max_atributos': None}. Best is trial 21 with value: 7.221307758104787.\n",
      "[I 2024-11-10 23:16:23,559] Trial 22 finished with value: 6.859330804709421 and parameters: {'criterio': 'absolute_error', 'splitter': 'best', 'profundidade_max': 30, 'min_exemplos_split': 8, 'min_exemplos_folha': 3, 'num_max_atributos': None}. Best is trial 22 with value: 6.859330804709421.\n",
      "[I 2024-11-10 23:16:24,341] Trial 23 finished with value: 6.857084719145197 and parameters: {'criterio': 'absolute_error', 'splitter': 'best', 'profundidade_max': 29, 'min_exemplos_split': 5, 'min_exemplos_folha': 3, 'num_max_atributos': None}. Best is trial 23 with value: 6.857084719145197.\n",
      "[I 2024-11-10 23:16:25,241] Trial 24 finished with value: 6.857084719145197 and parameters: {'criterio': 'absolute_error', 'splitter': 'best', 'profundidade_max': 28, 'min_exemplos_split': 5, 'min_exemplos_folha': 3, 'num_max_atributos': None}. Best is trial 23 with value: 6.857084719145197.\n",
      "[I 2024-11-10 23:16:26,138] Trial 25 finished with value: 6.857084719145197 and parameters: {'criterio': 'absolute_error', 'splitter': 'best', 'profundidade_max': 27, 'min_exemplos_split': 5, 'min_exemplos_folha': 3, 'num_max_atributos': None}. Best is trial 23 with value: 6.857084719145197.\n",
      "[I 2024-11-10 23:16:27,072] Trial 26 finished with value: 6.857084719145197 and parameters: {'criterio': 'absolute_error', 'splitter': 'best', 'profundidade_max': 27, 'min_exemplos_split': 5, 'min_exemplos_folha': 3, 'num_max_atributos': None}. Best is trial 23 with value: 6.857084719145197.\n",
      "[I 2024-11-10 23:16:27,655] Trial 27 finished with value: 8.990190045165848 and parameters: {'criterio': 'absolute_error', 'splitter': 'best', 'profundidade_max': 22, 'min_exemplos_split': 5, 'min_exemplos_folha': 3, 'num_max_atributos': 'log2'}. Best is trial 23 with value: 6.857084719145197.\n",
      "[I 2024-11-10 23:16:28,071] Trial 28 finished with value: 8.793140044366826 and parameters: {'criterio': 'friedman_mse', 'splitter': 'best', 'profundidade_max': 18, 'min_exemplos_split': 5, 'min_exemplos_folha': 8, 'num_max_atributos': 'sqrt'}. Best is trial 23 with value: 6.857084719145197.\n",
      "[I 2024-11-10 23:16:28,573] Trial 29 finished with value: 6.592033997723895 and parameters: {'criterio': 'poisson', 'splitter': 'best', 'profundidade_max': 16, 'min_exemplos_split': 3, 'min_exemplos_folha': 3, 'num_max_atributos': None}. Best is trial 29 with value: 6.592033997723895.\n",
      "[I 2024-11-10 23:16:29,005] Trial 30 finished with value: 7.7273650780137 and parameters: {'criterio': 'poisson', 'splitter': 'best', 'profundidade_max': 16, 'min_exemplos_split': 3, 'min_exemplos_folha': 2, 'num_max_atributos': 'log2'}. Best is trial 29 with value: 6.592033997723895.\n",
      "[I 2024-11-10 23:16:29,437] Trial 31 finished with value: 6.709522649027579 and parameters: {'criterio': 'poisson', 'splitter': 'best', 'profundidade_max': 11, 'min_exemplos_split': 4, 'min_exemplos_folha': 4, 'num_max_atributos': None}. Best is trial 29 with value: 6.592033997723895.\n",
      "[I 2024-11-10 23:16:29,789] Trial 32 finished with value: 6.709522649027579 and parameters: {'criterio': 'poisson', 'splitter': 'best', 'profundidade_max': 11, 'min_exemplos_split': 2, 'min_exemplos_folha': 4, 'num_max_atributos': None}. Best is trial 29 with value: 6.592033997723895.\n",
      "[I 2024-11-10 23:16:30,197] Trial 33 finished with value: 6.9852132384960814 and parameters: {'criterio': 'poisson', 'splitter': 'best', 'profundidade_max': 11, 'min_exemplos_split': 2, 'min_exemplos_folha': 5, 'num_max_atributos': None}. Best is trial 29 with value: 6.592033997723895.\n",
      "[I 2024-11-10 23:16:30,593] Trial 34 finished with value: 7.134203065740276 and parameters: {'criterio': 'poisson', 'splitter': 'best', 'profundidade_max': 8, 'min_exemplos_split': 3, 'min_exemplos_folha': 4, 'num_max_atributos': None}. Best is trial 29 with value: 6.592033997723895.\n",
      "[I 2024-11-10 23:16:30,988] Trial 35 finished with value: 7.92795334666139 and parameters: {'criterio': 'poisson', 'splitter': 'random', 'profundidade_max': 8, 'min_exemplos_split': 4, 'min_exemplos_folha': 1, 'num_max_atributos': None}. Best is trial 29 with value: 6.592033997723895.\n",
      "[I 2024-11-10 23:16:31,402] Trial 36 finished with value: 7.276797056684265 and parameters: {'criterio': 'poisson', 'splitter': 'best', 'profundidade_max': 14, 'min_exemplos_split': 2, 'min_exemplos_folha': 7, 'num_max_atributos': None}. Best is trial 29 with value: 6.592033997723895.\n",
      "[I 2024-11-10 23:16:31,766] Trial 37 finished with value: 9.20224342131407 and parameters: {'criterio': 'poisson', 'splitter': 'random', 'profundidade_max': 5, 'min_exemplos_split': 4, 'min_exemplos_folha': 4, 'num_max_atributos': None}. Best is trial 29 with value: 6.592033997723895.\n",
      "[I 2024-11-10 23:16:32,232] Trial 38 finished with value: 8.011508990366853 and parameters: {'criterio': 'poisson', 'splitter': 'best', 'profundidade_max': 11, 'min_exemplos_split': 4, 'min_exemplos_folha': 20, 'num_max_atributos': None}. Best is trial 29 with value: 6.592033997723895.\n",
      "[I 2024-11-10 23:16:32,659] Trial 39 finished with value: 9.899640651122098 and parameters: {'criterio': 'poisson', 'splitter': 'random', 'profundidade_max': 13, 'min_exemplos_split': 18, 'min_exemplos_folha': 2, 'num_max_atributos': 'log2'}. Best is trial 29 with value: 6.592033997723895.\n",
      "[I 2024-11-10 23:16:33,040] Trial 40 finished with value: 7.409708635473249 and parameters: {'criterio': 'poisson', 'splitter': 'best', 'profundidade_max': 10, 'min_exemplos_split': 6, 'min_exemplos_folha': 8, 'num_max_atributos': None}. Best is trial 29 with value: 6.592033997723895.\n",
      "[I 2024-11-10 23:16:33,490] Trial 41 finished with value: 6.590515429020273 and parameters: {'criterio': 'poisson', 'splitter': 'best', 'profundidade_max': 16, 'min_exemplos_split': 2, 'min_exemplos_folha': 2, 'num_max_atributos': None}. Best is trial 41 with value: 6.590515429020273.\n",
      "[I 2024-11-10 23:16:33,933] Trial 42 finished with value: 6.587036223328044 and parameters: {'criterio': 'poisson', 'splitter': 'best', 'profundidade_max': 17, 'min_exemplos_split': 2, 'min_exemplos_folha': 2, 'num_max_atributos': None}. Best is trial 42 with value: 6.587036223328044.\n",
      "[I 2024-11-10 23:16:34,354] Trial 43 finished with value: 6.587036223328044 and parameters: {'criterio': 'poisson', 'splitter': 'best', 'profundidade_max': 17, 'min_exemplos_split': 2, 'min_exemplos_folha': 2, 'num_max_atributos': None}. Best is trial 42 with value: 6.587036223328044.\n",
      "[I 2024-11-10 23:16:34,807] Trial 44 finished with value: 6.587036223328044 and parameters: {'criterio': 'poisson', 'splitter': 'best', 'profundidade_max': 17, 'min_exemplos_split': 3, 'min_exemplos_folha': 2, 'num_max_atributos': None}. Best is trial 42 with value: 6.587036223328044.\n",
      "[I 2024-11-10 23:16:35,217] Trial 45 finished with value: 6.649204641300523 and parameters: {'criterio': 'poisson', 'splitter': 'random', 'profundidade_max': 17, 'min_exemplos_split': 2, 'min_exemplos_folha': 1, 'num_max_atributos': None}. Best is trial 42 with value: 6.587036223328044.\n",
      "[I 2024-11-10 23:16:35,622] Trial 46 finished with value: 7.612423622894667 and parameters: {'criterio': 'poisson', 'splitter': 'best', 'profundidade_max': 19, 'min_exemplos_split': 3, 'min_exemplos_folha': 2, 'num_max_atributos': 'sqrt'}. Best is trial 42 with value: 6.587036223328044.\n",
      "[I 2024-11-10 23:16:36,002] Trial 47 finished with value: 6.216089289310161 and parameters: {'criterio': 'squared_error', 'splitter': 'best', 'profundidade_max': 16, 'min_exemplos_split': 3, 'min_exemplos_folha': 1, 'num_max_atributos': None}. Best is trial 47 with value: 6.216089289310161.\n",
      "[I 2024-11-10 23:16:36,440] Trial 48 finished with value: 6.138796504128072 and parameters: {'criterio': 'squared_error', 'splitter': 'best', 'profundidade_max': 20, 'min_exemplos_split': 2, 'min_exemplos_folha': 1, 'num_max_atributos': None}. Best is trial 48 with value: 6.138796504128072.\n",
      "[I 2024-11-10 23:16:36,872] Trial 49 finished with value: 6.397042524844702 and parameters: {'criterio': 'squared_error', 'splitter': 'best', 'profundidade_max': 20, 'min_exemplos_split': 6, 'min_exemplos_folha': 1, 'num_max_atributos': None}. Best is trial 48 with value: 6.138796504128072.\n",
      "[I 2024-11-10 23:16:37,241] Trial 50 finished with value: 7.0786032453357155 and parameters: {'criterio': 'squared_error', 'splitter': 'random', 'profundidade_max': 20, 'min_exemplos_split': 6, 'min_exemplos_folha': 1, 'num_max_atributos': None}. Best is trial 48 with value: 6.138796504128072.\n",
      "[I 2024-11-10 23:16:37,685] Trial 51 finished with value: 6.310342012511708 and parameters: {'criterio': 'squared_error', 'splitter': 'best', 'profundidade_max': 18, 'min_exemplos_split': 3, 'min_exemplos_folha': 1, 'num_max_atributos': None}. Best is trial 48 with value: 6.138796504128072.\n",
      "[I 2024-11-10 23:16:38,107] Trial 52 finished with value: 6.294370312164754 and parameters: {'criterio': 'squared_error', 'splitter': 'best', 'profundidade_max': 23, 'min_exemplos_split': 4, 'min_exemplos_folha': 1, 'num_max_atributos': None}. Best is trial 48 with value: 6.138796504128072.\n",
      "[I 2024-11-10 23:16:38,532] Trial 53 finished with value: 6.397042524844702 and parameters: {'criterio': 'squared_error', 'splitter': 'best', 'profundidade_max': 23, 'min_exemplos_split': 6, 'min_exemplos_folha': 1, 'num_max_atributos': None}. Best is trial 48 with value: 6.138796504128072.\n",
      "[I 2024-11-10 23:16:38,943] Trial 54 finished with value: 6.397042524844702 and parameters: {'criterio': 'squared_error', 'splitter': 'best', 'profundidade_max': 23, 'min_exemplos_split': 6, 'min_exemplos_folha': 1, 'num_max_atributos': None}. Best is trial 48 with value: 6.138796504128072.\n",
      "[I 2024-11-10 23:16:39,337] Trial 55 finished with value: 8.392970598511113 and parameters: {'criterio': 'squared_error', 'splitter': 'best', 'profundidade_max': 20, 'min_exemplos_split': 9, 'min_exemplos_folha': 1, 'num_max_atributos': 'sqrt'}. Best is trial 48 with value: 6.138796504128072.\n",
      "[I 2024-11-10 23:16:39,744] Trial 56 finished with value: 7.726587152316265 and parameters: {'criterio': 'squared_error', 'splitter': 'best', 'profundidade_max': 22, 'min_exemplos_split': 4, 'min_exemplos_folha': 17, 'num_max_atributos': None}. Best is trial 48 with value: 6.138796504128072.\n",
      "[I 2024-11-10 23:16:40,163] Trial 57 finished with value: 7.375863014868865 and parameters: {'criterio': 'squared_error', 'splitter': 'best', 'profundidade_max': 24, 'min_exemplos_split': 6, 'min_exemplos_folha': 1, 'num_max_atributos': 'log2'}. Best is trial 48 with value: 6.138796504128072.\n",
      "[I 2024-11-10 23:16:40,570] Trial 58 finished with value: 6.410772899212631 and parameters: {'criterio': 'squared_error', 'splitter': 'best', 'profundidade_max': 19, 'min_exemplos_split': 9, 'min_exemplos_folha': 1, 'num_max_atributos': None}. Best is trial 48 with value: 6.138796504128072.\n",
      "[I 2024-11-10 23:16:40,991] Trial 59 finished with value: 7.742326563931624 and parameters: {'criterio': 'squared_error', 'splitter': 'best', 'profundidade_max': 25, 'min_exemplos_split': 4, 'min_exemplos_folha': 15, 'num_max_atributos': None}. Best is trial 48 with value: 6.138796504128072.\n",
      "[I 2024-11-10 23:16:41,397] Trial 60 finished with value: 7.074083273908684 and parameters: {'criterio': 'squared_error', 'splitter': 'best', 'profundidade_max': 22, 'min_exemplos_split': 7, 'min_exemplos_folha': 5, 'num_max_atributos': None}. Best is trial 48 with value: 6.138796504128072.\n",
      "[I 2024-11-10 23:16:41,893] Trial 61 finished with value: 6.391647278988266 and parameters: {'criterio': 'squared_error', 'splitter': 'best', 'profundidade_max': 23, 'min_exemplos_split': 8, 'min_exemplos_folha': 1, 'num_max_atributos': None}. Best is trial 48 with value: 6.138796504128072.\n",
      "[I 2024-11-10 23:16:42,349] Trial 62 finished with value: 6.450004378852313 and parameters: {'criterio': 'squared_error', 'splitter': 'best', 'profundidade_max': 21, 'min_exemplos_split': 8, 'min_exemplos_folha': 2, 'num_max_atributos': None}. Best is trial 48 with value: 6.138796504128072.\n",
      "[I 2024-11-10 23:16:42,770] Trial 63 finished with value: 7.604074276371546 and parameters: {'criterio': 'squared_error', 'splitter': 'best', 'profundidade_max': 23, 'min_exemplos_split': 6, 'min_exemplos_folha': 11, 'num_max_atributos': None}. Best is trial 48 with value: 6.138796504128072.\n",
      "[I 2024-11-10 23:16:43,202] Trial 64 finished with value: 6.566530906148442 and parameters: {'criterio': 'squared_error', 'splitter': 'best', 'profundidade_max': 20, 'min_exemplos_split': 10, 'min_exemplos_folha': 1, 'num_max_atributos': None}. Best is trial 48 with value: 6.138796504128072.\n",
      "[I 2024-11-10 23:16:43,589] Trial 65 finished with value: 6.567916746359484 and parameters: {'criterio': 'squared_error', 'splitter': 'best', 'profundidade_max': 25, 'min_exemplos_split': 8, 'min_exemplos_folha': 3, 'num_max_atributos': None}. Best is trial 48 with value: 6.138796504128072.\n",
      "[I 2024-11-10 23:16:43,995] Trial 66 finished with value: 7.661342082264971 and parameters: {'criterio': 'squared_error', 'splitter': 'best', 'profundidade_max': 18, 'min_exemplos_split': 3, 'min_exemplos_folha': 2, 'num_max_atributos': 'sqrt'}. Best is trial 48 with value: 6.138796504128072.\n",
      "[I 2024-11-10 23:16:44,437] Trial 67 finished with value: 6.294370312164754 and parameters: {'criterio': 'squared_error', 'splitter': 'best', 'profundidade_max': 23, 'min_exemplos_split': 4, 'min_exemplos_folha': 1, 'num_max_atributos': None}. Best is trial 48 with value: 6.138796504128072.\n",
      "[I 2024-11-10 23:16:44,822] Trial 68 finished with value: 6.600331381722785 and parameters: {'criterio': 'squared_error', 'splitter': 'best', 'profundidade_max': 15, 'min_exemplos_split': 4, 'min_exemplos_folha': 3, 'num_max_atributos': None}. Best is trial 48 with value: 6.138796504128072.\n",
      "[I 2024-11-10 23:16:45,220] Trial 69 finished with value: 7.954386955529898 and parameters: {'criterio': 'squared_error', 'splitter': 'best', 'profundidade_max': 26, 'min_exemplos_split': 5, 'min_exemplos_folha': 4, 'num_max_atributos': 'log2'}. Best is trial 48 with value: 6.138796504128072.\n",
      "[I 2024-11-10 23:16:45,640] Trial 70 finished with value: 6.421234742927696 and parameters: {'criterio': 'squared_error', 'splitter': 'best', 'profundidade_max': 21, 'min_exemplos_split': 3, 'min_exemplos_folha': 2, 'num_max_atributos': None}. Best is trial 48 with value: 6.138796504128072.\n",
      "[I 2024-11-10 23:16:46,042] Trial 71 finished with value: 6.420194093907702 and parameters: {'criterio': 'squared_error', 'splitter': 'best', 'profundidade_max': 23, 'min_exemplos_split': 5, 'min_exemplos_folha': 1, 'num_max_atributos': None}. Best is trial 48 with value: 6.138796504128072.\n",
      "[I 2024-11-10 23:16:46,469] Trial 72 finished with value: 6.418826746734792 and parameters: {'criterio': 'squared_error', 'splitter': 'best', 'profundidade_max': 19, 'min_exemplos_split': 7, 'min_exemplos_folha': 1, 'num_max_atributos': None}. Best is trial 48 with value: 6.138796504128072.\n",
      "[I 2024-11-10 23:16:46,865] Trial 73 finished with value: 7.85050917888992 and parameters: {'criterio': 'friedman_mse', 'splitter': 'best', 'profundidade_max': 22, 'min_exemplos_split': 4, 'min_exemplos_folha': 18, 'num_max_atributos': None}. Best is trial 48 with value: 6.138796504128072.\n",
      "[I 2024-11-10 23:16:47,305] Trial 74 finished with value: 6.515171963372471 and parameters: {'criterio': 'squared_error', 'splitter': 'best', 'profundidade_max': 20, 'min_exemplos_split': 6, 'min_exemplos_folha': 2, 'num_max_atributos': None}. Best is trial 48 with value: 6.138796504128072.\n",
      "[I 2024-11-10 23:16:47,701] Trial 75 finished with value: 6.600494379963526 and parameters: {'criterio': 'squared_error', 'splitter': 'best', 'profundidade_max': 24, 'min_exemplos_split': 3, 'min_exemplos_folha': 3, 'num_max_atributos': None}. Best is trial 48 with value: 6.138796504128072.\n",
      "[I 2024-11-10 23:16:48,056] Trial 76 finished with value: 6.973711400243053 and parameters: {'criterio': 'squared_error', 'splitter': 'random', 'profundidade_max': 18, 'min_exemplos_split': 5, 'min_exemplos_folha': 1, 'num_max_atributos': None}. Best is trial 48 with value: 6.138796504128072.\n",
      "[I 2024-11-10 23:16:48,459] Trial 77 finished with value: 7.074083273908684 and parameters: {'criterio': 'squared_error', 'splitter': 'best', 'profundidade_max': 26, 'min_exemplos_split': 7, 'min_exemplos_folha': 5, 'num_max_atributos': None}. Best is trial 48 with value: 6.138796504128072.\n",
      "[I 2024-11-10 23:16:48,834] Trial 78 finished with value: 6.421234742927696 and parameters: {'criterio': 'squared_error', 'splitter': 'best', 'profundidade_max': 24, 'min_exemplos_split': 4, 'min_exemplos_folha': 2, 'num_max_atributos': None}. Best is trial 48 with value: 6.138796504128072.\n",
      "[I 2024-11-10 23:16:49,245] Trial 79 finished with value: 6.2810715780172135 and parameters: {'criterio': 'squared_error', 'splitter': 'best', 'profundidade_max': 23, 'min_exemplos_split': 3, 'min_exemplos_folha': 1, 'num_max_atributos': None}. Best is trial 48 with value: 6.138796504128072.\n",
      "[I 2024-11-10 23:16:49,679] Trial 80 finished with value: 8.157568390362945 and parameters: {'criterio': 'friedman_mse', 'splitter': 'best', 'profundidade_max': 15, 'min_exemplos_split': 11, 'min_exemplos_folha': 3, 'num_max_atributos': 'sqrt'}. Best is trial 48 with value: 6.138796504128072.\n",
      "[I 2024-11-10 23:16:50,166] Trial 81 finished with value: 6.217651040378903 and parameters: {'criterio': 'squared_error', 'splitter': 'best', 'profundidade_max': 23, 'min_exemplos_split': 2, 'min_exemplos_folha': 1, 'num_max_atributos': None}. Best is trial 48 with value: 6.138796504128072.\n",
      "[I 2024-11-10 23:16:50,607] Trial 82 finished with value: 6.143634180880595 and parameters: {'criterio': 'squared_error', 'splitter': 'best', 'profundidade_max': 22, 'min_exemplos_split': 2, 'min_exemplos_folha': 1, 'num_max_atributos': None}. Best is trial 48 with value: 6.138796504128072.\n",
      "[I 2024-11-10 23:16:51,026] Trial 83 finished with value: 6.421234742927696 and parameters: {'criterio': 'squared_error', 'splitter': 'best', 'profundidade_max': 22, 'min_exemplos_split': 2, 'min_exemplos_folha': 2, 'num_max_atributos': None}. Best is trial 48 with value: 6.138796504128072.\n",
      "[I 2024-11-10 23:16:51,505] Trial 84 finished with value: 6.421234742927696 and parameters: {'criterio': 'squared_error', 'splitter': 'best', 'profundidade_max': 21, 'min_exemplos_split': 3, 'min_exemplos_folha': 2, 'num_max_atributos': None}. Best is trial 48 with value: 6.138796504128072.\n",
      "[I 2024-11-10 23:16:51,922] Trial 85 finished with value: 6.217651040378903 and parameters: {'criterio': 'squared_error', 'splitter': 'best', 'profundidade_max': 27, 'min_exemplos_split': 2, 'min_exemplos_folha': 1, 'num_max_atributos': None}. Best is trial 48 with value: 6.138796504128072.\n",
      "[I 2024-11-10 23:16:52,285] Trial 86 finished with value: 6.600494379963526 and parameters: {'criterio': 'squared_error', 'splitter': 'best', 'profundidade_max': 27, 'min_exemplos_split': 2, 'min_exemplos_folha': 3, 'num_max_atributos': None}. Best is trial 48 with value: 6.138796504128072.\n",
      "[I 2024-11-10 23:16:52,664] Trial 87 finished with value: 6.912839942752899 and parameters: {'criterio': 'squared_error', 'splitter': 'best', 'profundidade_max': 29, 'min_exemplos_split': 2, 'min_exemplos_folha': 1, 'num_max_atributos': 'log2'}. Best is trial 48 with value: 6.138796504128072.\n",
      "[I 2024-11-10 23:16:53,054] Trial 88 finished with value: 6.968209920651907 and parameters: {'criterio': 'squared_error', 'splitter': 'random', 'profundidade_max': 18, 'min_exemplos_split': 3, 'min_exemplos_folha': 3, 'num_max_atributos': None}. Best is trial 48 with value: 6.138796504128072.\n",
      "[I 2024-11-10 23:16:53,448] Trial 89 finished with value: 6.421234742927696 and parameters: {'criterio': 'squared_error', 'splitter': 'best', 'profundidade_max': 25, 'min_exemplos_split': 2, 'min_exemplos_folha': 2, 'num_max_atributos': None}. Best is trial 48 with value: 6.138796504128072.\n",
      "[I 2024-11-10 23:16:53,967] Trial 90 finished with value: 6.753381251185948 and parameters: {'criterio': 'squared_error', 'splitter': 'best', 'profundidade_max': 21, 'min_exemplos_split': 3, 'min_exemplos_folha': 4, 'num_max_atributos': None}. Best is trial 48 with value: 6.138796504128072.\n",
      "[I 2024-11-10 23:16:54,398] Trial 91 finished with value: 6.217651040378903 and parameters: {'criterio': 'squared_error', 'splitter': 'best', 'profundidade_max': 23, 'min_exemplos_split': 2, 'min_exemplos_folha': 1, 'num_max_atributos': None}. Best is trial 48 with value: 6.138796504128072.\n",
      "[I 2024-11-10 23:16:54,855] Trial 92 finished with value: 6.217651040378903 and parameters: {'criterio': 'squared_error', 'splitter': 'best', 'profundidade_max': 24, 'min_exemplos_split': 2, 'min_exemplos_folha': 1, 'num_max_atributos': None}. Best is trial 48 with value: 6.138796504128072.\n",
      "[I 2024-11-10 23:16:55,338] Trial 93 finished with value: 6.217651040378903 and parameters: {'criterio': 'squared_error', 'splitter': 'best', 'profundidade_max': 27, 'min_exemplos_split': 2, 'min_exemplos_folha': 1, 'num_max_atributos': None}. Best is trial 48 with value: 6.138796504128072.\n",
      "[I 2024-11-10 23:16:55,782] Trial 94 finished with value: 6.421234742927696 and parameters: {'criterio': 'squared_error', 'splitter': 'best', 'profundidade_max': 25, 'min_exemplos_split': 2, 'min_exemplos_folha': 2, 'num_max_atributos': None}. Best is trial 48 with value: 6.138796504128072.\n",
      "[I 2024-11-10 23:16:56,205] Trial 95 finished with value: 6.20068137125905 and parameters: {'criterio': 'friedman_mse', 'splitter': 'best', 'profundidade_max': 30, 'min_exemplos_split': 2, 'min_exemplos_folha': 1, 'num_max_atributos': None}. Best is trial 48 with value: 6.138796504128072.\n",
      "[I 2024-11-10 23:16:56,604] Trial 96 finished with value: 6.41778845942345 and parameters: {'criterio': 'friedman_mse', 'splitter': 'best', 'profundidade_max': 31, 'min_exemplos_split': 2, 'min_exemplos_folha': 2, 'num_max_atributos': None}. Best is trial 48 with value: 6.138796504128072.\n",
      "[I 2024-11-10 23:16:57,016] Trial 97 finished with value: 6.41778845942345 and parameters: {'criterio': 'friedman_mse', 'splitter': 'best', 'profundidade_max': 30, 'min_exemplos_split': 2, 'min_exemplos_folha': 2, 'num_max_atributos': None}. Best is trial 48 with value: 6.138796504128072.\n",
      "[I 2024-11-10 23:16:57,419] Trial 98 finished with value: 6.2810715780172135 and parameters: {'criterio': 'squared_error', 'splitter': 'best', 'profundidade_max': 28, 'min_exemplos_split': 3, 'min_exemplos_folha': 1, 'num_max_atributos': None}. Best is trial 48 with value: 6.138796504128072.\n",
      "[I 2024-11-10 23:16:57,829] Trial 99 finished with value: 6.595245199623565 and parameters: {'criterio': 'friedman_mse', 'splitter': 'best', 'profundidade_max': 30, 'min_exemplos_split': 2, 'min_exemplos_folha': 3, 'num_max_atributos': None}. Best is trial 48 with value: 6.138796504128072.\n"
     ]
    }
   ],
   "source": [
    "NUM_TENTATIVAS_ARVORE_DE_DECISAO = 100\n",
    "\n",
    "objeto_de_estudo_arvore_de_decisao.optimize(funcao_objetivo_parcial_arvore_de_decisao, n_trials=NUM_TENTATIVAS_ARVORE_DE_DECISAO)"
   ]
  },
  {
   "cell_type": "markdown",
   "metadata": {},
   "source": [
    "Visualização por meio de um DataFrame"
   ]
  },
  {
   "cell_type": "code",
   "execution_count": 111,
   "metadata": {},
   "outputs": [
    {
     "data": {
      "text/html": [
       "<div>\n",
       "<style scoped>\n",
       "    .dataframe tbody tr th:only-of-type {\n",
       "        vertical-align: middle;\n",
       "    }\n",
       "\n",
       "    .dataframe tbody tr th {\n",
       "        vertical-align: top;\n",
       "    }\n",
       "\n",
       "    .dataframe thead th {\n",
       "        text-align: right;\n",
       "    }\n",
       "</style>\n",
       "<table border=\"1\" class=\"dataframe\">\n",
       "  <thead>\n",
       "    <tr style=\"text-align: right;\">\n",
       "      <th></th>\n",
       "      <th>number</th>\n",
       "      <th>value</th>\n",
       "      <th>datetime_start</th>\n",
       "      <th>datetime_complete</th>\n",
       "      <th>duration</th>\n",
       "      <th>params_criterio</th>\n",
       "      <th>params_min_exemplos_folha</th>\n",
       "      <th>params_min_exemplos_split</th>\n",
       "      <th>params_num_max_atributos</th>\n",
       "      <th>params_profundidade_max</th>\n",
       "      <th>params_splitter</th>\n",
       "      <th>state</th>\n",
       "    </tr>\n",
       "  </thead>\n",
       "  <tbody>\n",
       "    <tr>\n",
       "      <th>0</th>\n",
       "      <td>0</td>\n",
       "      <td>13.021350</td>\n",
       "      <td>2024-11-10 23:16:11.256274</td>\n",
       "      <td>2024-11-10 23:16:11.515102</td>\n",
       "      <td>0 days 00:00:00.258828</td>\n",
       "      <td>friedman_mse</td>\n",
       "      <td>17</td>\n",
       "      <td>9</td>\n",
       "      <td>log2</td>\n",
       "      <td>15</td>\n",
       "      <td>random</td>\n",
       "      <td>COMPLETE</td>\n",
       "    </tr>\n",
       "    <tr>\n",
       "      <th>1</th>\n",
       "      <td>1</td>\n",
       "      <td>7.659912</td>\n",
       "      <td>2024-11-10 23:16:11.603481</td>\n",
       "      <td>2024-11-10 23:16:12.118298</td>\n",
       "      <td>0 days 00:00:00.514817</td>\n",
       "      <td>absolute_error</td>\n",
       "      <td>1</td>\n",
       "      <td>16</td>\n",
       "      <td>None</td>\n",
       "      <td>21</td>\n",
       "      <td>random</td>\n",
       "      <td>COMPLETE</td>\n",
       "    </tr>\n",
       "    <tr>\n",
       "      <th>2</th>\n",
       "      <td>2</td>\n",
       "      <td>8.361418</td>\n",
       "      <td>2024-11-10 23:16:12.198314</td>\n",
       "      <td>2024-11-10 23:16:12.464455</td>\n",
       "      <td>0 days 00:00:00.266141</td>\n",
       "      <td>squared_error</td>\n",
       "      <td>5</td>\n",
       "      <td>3</td>\n",
       "      <td>None</td>\n",
       "      <td>7</td>\n",
       "      <td>random</td>\n",
       "      <td>COMPLETE</td>\n",
       "    </tr>\n",
       "    <tr>\n",
       "      <th>3</th>\n",
       "      <td>3</td>\n",
       "      <td>13.021350</td>\n",
       "      <td>2024-11-10 23:16:12.544968</td>\n",
       "      <td>2024-11-10 23:16:12.803311</td>\n",
       "      <td>0 days 00:00:00.258343</td>\n",
       "      <td>squared_error</td>\n",
       "      <td>17</td>\n",
       "      <td>19</td>\n",
       "      <td>log2</td>\n",
       "      <td>28</td>\n",
       "      <td>random</td>\n",
       "      <td>COMPLETE</td>\n",
       "    </tr>\n",
       "    <tr>\n",
       "      <th>4</th>\n",
       "      <td>4</td>\n",
       "      <td>8.802846</td>\n",
       "      <td>2024-11-10 23:16:12.883708</td>\n",
       "      <td>2024-11-10 23:16:13.141001</td>\n",
       "      <td>0 days 00:00:00.257293</td>\n",
       "      <td>squared_error</td>\n",
       "      <td>12</td>\n",
       "      <td>10</td>\n",
       "      <td>None</td>\n",
       "      <td>31</td>\n",
       "      <td>random</td>\n",
       "      <td>COMPLETE</td>\n",
       "    </tr>\n",
       "    <tr>\n",
       "      <th>...</th>\n",
       "      <td>...</td>\n",
       "      <td>...</td>\n",
       "      <td>...</td>\n",
       "      <td>...</td>\n",
       "      <td>...</td>\n",
       "      <td>...</td>\n",
       "      <td>...</td>\n",
       "      <td>...</td>\n",
       "      <td>...</td>\n",
       "      <td>...</td>\n",
       "      <td>...</td>\n",
       "      <td>...</td>\n",
       "    </tr>\n",
       "    <tr>\n",
       "      <th>95</th>\n",
       "      <td>95</td>\n",
       "      <td>6.200681</td>\n",
       "      <td>2024-11-10 23:16:55.798502</td>\n",
       "      <td>2024-11-10 23:16:56.117485</td>\n",
       "      <td>0 days 00:00:00.318983</td>\n",
       "      <td>friedman_mse</td>\n",
       "      <td>1</td>\n",
       "      <td>2</td>\n",
       "      <td>None</td>\n",
       "      <td>30</td>\n",
       "      <td>best</td>\n",
       "      <td>COMPLETE</td>\n",
       "    </tr>\n",
       "    <tr>\n",
       "      <th>96</th>\n",
       "      <td>96</td>\n",
       "      <td>6.417788</td>\n",
       "      <td>2024-11-10 23:16:56.221806</td>\n",
       "      <td>2024-11-10 23:16:56.540937</td>\n",
       "      <td>0 days 00:00:00.319131</td>\n",
       "      <td>friedman_mse</td>\n",
       "      <td>2</td>\n",
       "      <td>2</td>\n",
       "      <td>None</td>\n",
       "      <td>31</td>\n",
       "      <td>best</td>\n",
       "      <td>COMPLETE</td>\n",
       "    </tr>\n",
       "    <tr>\n",
       "      <th>97</th>\n",
       "      <td>97</td>\n",
       "      <td>6.417788</td>\n",
       "      <td>2024-11-10 23:16:56.621730</td>\n",
       "      <td>2024-11-10 23:16:56.953266</td>\n",
       "      <td>0 days 00:00:00.331536</td>\n",
       "      <td>friedman_mse</td>\n",
       "      <td>2</td>\n",
       "      <td>2</td>\n",
       "      <td>None</td>\n",
       "      <td>30</td>\n",
       "      <td>best</td>\n",
       "      <td>COMPLETE</td>\n",
       "    </tr>\n",
       "    <tr>\n",
       "      <th>98</th>\n",
       "      <td>98</td>\n",
       "      <td>6.281072</td>\n",
       "      <td>2024-11-10 23:16:57.033425</td>\n",
       "      <td>2024-11-10 23:16:57.353664</td>\n",
       "      <td>0 days 00:00:00.320239</td>\n",
       "      <td>squared_error</td>\n",
       "      <td>1</td>\n",
       "      <td>3</td>\n",
       "      <td>None</td>\n",
       "      <td>28</td>\n",
       "      <td>best</td>\n",
       "      <td>COMPLETE</td>\n",
       "    </tr>\n",
       "    <tr>\n",
       "      <th>99</th>\n",
       "      <td>99</td>\n",
       "      <td>6.595245</td>\n",
       "      <td>2024-11-10 23:16:57.438377</td>\n",
       "      <td>2024-11-10 23:16:57.757725</td>\n",
       "      <td>0 days 00:00:00.319348</td>\n",
       "      <td>friedman_mse</td>\n",
       "      <td>3</td>\n",
       "      <td>2</td>\n",
       "      <td>None</td>\n",
       "      <td>30</td>\n",
       "      <td>best</td>\n",
       "      <td>COMPLETE</td>\n",
       "    </tr>\n",
       "  </tbody>\n",
       "</table>\n",
       "<p>100 rows × 12 columns</p>\n",
       "</div>"
      ],
      "text/plain": [
       "    number      value             datetime_start          datetime_complete  \\\n",
       "0        0  13.021350 2024-11-10 23:16:11.256274 2024-11-10 23:16:11.515102   \n",
       "1        1   7.659912 2024-11-10 23:16:11.603481 2024-11-10 23:16:12.118298   \n",
       "2        2   8.361418 2024-11-10 23:16:12.198314 2024-11-10 23:16:12.464455   \n",
       "3        3  13.021350 2024-11-10 23:16:12.544968 2024-11-10 23:16:12.803311   \n",
       "4        4   8.802846 2024-11-10 23:16:12.883708 2024-11-10 23:16:13.141001   \n",
       "..     ...        ...                        ...                        ...   \n",
       "95      95   6.200681 2024-11-10 23:16:55.798502 2024-11-10 23:16:56.117485   \n",
       "96      96   6.417788 2024-11-10 23:16:56.221806 2024-11-10 23:16:56.540937   \n",
       "97      97   6.417788 2024-11-10 23:16:56.621730 2024-11-10 23:16:56.953266   \n",
       "98      98   6.281072 2024-11-10 23:16:57.033425 2024-11-10 23:16:57.353664   \n",
       "99      99   6.595245 2024-11-10 23:16:57.438377 2024-11-10 23:16:57.757725   \n",
       "\n",
       "                 duration params_criterio  params_min_exemplos_folha  \\\n",
       "0  0 days 00:00:00.258828    friedman_mse                         17   \n",
       "1  0 days 00:00:00.514817  absolute_error                          1   \n",
       "2  0 days 00:00:00.266141   squared_error                          5   \n",
       "3  0 days 00:00:00.258343   squared_error                         17   \n",
       "4  0 days 00:00:00.257293   squared_error                         12   \n",
       "..                    ...             ...                        ...   \n",
       "95 0 days 00:00:00.318983    friedman_mse                          1   \n",
       "96 0 days 00:00:00.319131    friedman_mse                          2   \n",
       "97 0 days 00:00:00.331536    friedman_mse                          2   \n",
       "98 0 days 00:00:00.320239   squared_error                          1   \n",
       "99 0 days 00:00:00.319348    friedman_mse                          3   \n",
       "\n",
       "    params_min_exemplos_split params_num_max_atributos  \\\n",
       "0                           9                     log2   \n",
       "1                          16                     None   \n",
       "2                           3                     None   \n",
       "3                          19                     log2   \n",
       "4                          10                     None   \n",
       "..                        ...                      ...   \n",
       "95                          2                     None   \n",
       "96                          2                     None   \n",
       "97                          2                     None   \n",
       "98                          3                     None   \n",
       "99                          2                     None   \n",
       "\n",
       "    params_profundidade_max params_splitter     state  \n",
       "0                        15          random  COMPLETE  \n",
       "1                        21          random  COMPLETE  \n",
       "2                         7          random  COMPLETE  \n",
       "3                        28          random  COMPLETE  \n",
       "4                        31          random  COMPLETE  \n",
       "..                      ...             ...       ...  \n",
       "95                       30            best  COMPLETE  \n",
       "96                       31            best  COMPLETE  \n",
       "97                       30            best  COMPLETE  \n",
       "98                       28            best  COMPLETE  \n",
       "99                       30            best  COMPLETE  \n",
       "\n",
       "[100 rows x 12 columns]"
      ]
     },
     "execution_count": 111,
     "metadata": {},
     "output_type": "execute_result"
    }
   ],
   "source": [
    "df_arvore_de_decisao = objeto_de_estudo_arvore_de_decisao.trials_dataframe()\n",
    "\n",
    "df_arvore_de_decisao"
   ]
  },
  {
   "cell_type": "code",
   "execution_count": 112,
   "metadata": {},
   "outputs": [
    {
     "name": "stdout",
     "output_type": "stream",
     "text": [
      "Número do melhor trial: 48\n",
      "Parâmetros do melhor trial: {'criterio': 'squared_error', 'splitter': 'best', 'profundidade_max': 20, 'min_exemplos_split': 2, 'min_exemplos_folha': 1, 'num_max_atributos': None}\n"
     ]
    }
   ],
   "source": [
    "melhor_trial_arvore_de_decisao = objeto_de_estudo_arvore_de_decisao.best_trial\n",
    "\n",
    "print(f\"Número do melhor trial: {melhor_trial_arvore_de_decisao.number}\")\n",
    "print(f\"Parâmetros do melhor trial: {melhor_trial_arvore_de_decisao.params}\")"
   ]
  },
  {
   "cell_type": "markdown",
   "metadata": {},
   "source": [
    "Cálculo de RMSE:"
   ]
  },
  {
   "cell_type": "code",
   "execution_count": 113,
   "metadata": {},
   "outputs": [
    {
     "name": "stdout",
     "output_type": "stream",
     "text": [
      "O RMSE do modelo foi 6.534817561136181\n"
     ]
    }
   ],
   "source": [
    "from sklearn.metrics import mean_squared_error\n",
    "\n",
    "modelo = cria_instancia_modelo_arvore_de_decisao(melhor_trial_arvore_de_decisao)\n",
    "modelo.fit(X_treino, Y_treino)\n",
    "\n",
    "y_verdadeiro = Y_teste\n",
    "y_previsao = modelo.predict(X_teste)\n",
    "\n",
    "RMSE = mean_squared_error(y_verdadeiro, y_previsao) ** (1/2)\n",
    "\n",
    "from sklearn.metrics import mean_squared_error\n",
    "\n",
    "print(f'O RMSE do modelo foi {RMSE}')"
   ]
  },
  {
   "cell_type": "markdown",
   "metadata": {},
   "source": [
    "\n",
    "\n",
    "**Definição:**\n",
    "\n",
    "A Floresta Aleatória (Random Forest) é um algoritmo de aprendizado de máquina muito usado para resolver problemas de previsão e classificação. Ele funciona criando várias árvores de decisão que, juntas, formam uma \"floresta\". Cada árvore de decisão é um modelo simples que toma decisões dividindo os dados em diferentes grupos, com base nas características dos dados. A Floresta Aleatória, ao invés de confiar em uma única árvore, cria várias delas e combina os resultados de todas para fazer a previsão final. No caso de regressão (como o seu modelo de previsão da resistência do concreto), o resultado final é a média das previsões feitas por todas as árvores.\n",
    "\n",
    "Uma das principais vantagens da Floresta Aleatória é que ela ajuda a evitar o problema do overfitting (ajuste excessivo aos dados de treinamento). Como cada árvore é treinada com uma amostra diferente dos dados e com um subconjunto aleatório das características, o modelo fica menos propenso a se ajustar demais aos dados específicos e mais capaz de generalizar bem para novos dados. Além disso, a Floresta Aleatória pode lidar com dados complexos e de alta dimensionalidade, o que a torna muito eficaz em várias situações, como no seu caso, em que se tenta prever a resistência do concreto com várias variáveis de entrada.\n",
    "\n",
    "**Utilização nesse projeto:**\n",
    "\n",
    "Neste projeto, a Floresta Aleatória foi aplicada para prever a resistência à compressão do concreto com base em uma série de variáveis de entrada, como os componentes do concreto (cimento, escória de alto-forno, cinzas volantes, água, superplastificante, agregado graúdo e agregado miúdo) e a idade do concreto. O objetivo é construir um modelo preditivo que seja capaz de estimar a resistência do concreto (em megapascais, MPa) a partir dessas variáveis.\n",
    "\n",
    "Para isso, foi utilizado o RandomForestRegressor, que é a versão da Floresta Aleatória voltada para problemas de regressão. Este modelo foi configurado e treinado usando os dados disponíveis. Os principais hiperparâmetros do modelo, como o número de árvores (n_estimators), a profundidade das árvores, o número mínimo de amostras para dividir um nó e o número mínimo de amostras por folha, foram otimizados utilizando Optuna, uma ferramenta de otimização de hiperparâmetros.\n",
    "\n",
    "A escolha do algoritmo foi motivada pela sua capacidade de lidar com grandes volumes de dados e sua robustez, o que é crucial quando trabalhamos com dados de componentes do concreto, onde as relações podem ser não-lineares e complexas. Ao usar a Floresta Aleatória, buscamos não apenas melhorar a precisão da previsão da resistência do concreto, mas também garantir que o modelo fosse capaz de generalizar bem para novos dados, evitando o overfitting e garantindo previsões consistentes.\n",
    "\n"
   ]
  },
  {
   "cell_type": "markdown",
   "metadata": {},
   "source": [
    "**Uso do Optuna para otimizar hiperparâmetros:**\n",
    "\n",
    "Nesse código definimos duas funções principais para otimizar um modelo de RandomForestRegressor utilizando a biblioteca Optuna. A primeira função, chamada cria_instancia_modelo, tem o objetivo de criar uma instância do modelo RandomForestRegressor com hiperparâmetros ajustados dinamicamente. Ela recebe um objeto trial do Optuna e, com ele, sugere valores para diversos parâmetros do modelo, como o número de árvores `(n_estimators)`, o critério de divisão das árvores `(criterion)`, o número mínimo de amostras para dividir um nó `(min_samples_split)`, o número mínimo de amostras para um nó folha `(min_samples_leaf)`, a proporção máxima de atributos a serem usados em cada divisão `(max_features)`, entre outros. Esses valores são sugeridos automat]icamente pelo Optuna dentro de intervalos definidos, permitindo a busca pelo conjunto ideal de parâmetros. Ao final, a função retorna uma instância do modelo configurado com os parâmetros definidos.\n",
    "\n",
    "A segunda função, chamada funcao_objetivo, é utilizada no processo de otimização do Optuna. Esta função tem como principal tarefa avaliar a performance do modelo criado com os hiperparâmetros sugeridos pelo Optuna. Ela utiliza o método de validação cruzada `(cross-validation)` para calcular a métrica de desempenho do modelo em diferentes subconjuntos dos dados. A métrica utilizada é o Root Mean Squared Error `(RMSE)`, que é retornada de forma negativa, já que o sklearn busca maximizar o valor da métrica e, neste caso, desejamos minimizá-la. O Optuna vai iterativamente testar diferentes combinações de parâmetros e tentar encontrar a configuração que minimize esse erro médio, permitindo assim otimizar o modelo para melhor performance."
   ]
  },
  {
   "cell_type": "markdown",
   "metadata": {},
   "source": [
    "----------------------\n",
    "\n",
    "## <center> Floresta Aleatória com Otimização de Hiperparâmetros </center>"
   ]
  },
  {
   "cell_type": "code",
   "execution_count": 114,
   "metadata": {},
   "outputs": [],
   "source": [
    "from sklearn.ensemble import RandomForestRegressor\n",
    "\n",
    "def cria_instancia_modelo(trial):\n",
    "    \"\"\"Cria uma instância do modelo.\n",
    "\n",
    "    Args:\n",
    "      trial: objeto tipo Trial do optuna.\n",
    "\n",
    "    Returns:\n",
    "      Uma instância do modelo desejado.\n",
    "\n",
    "    \"\"\"\n",
    "    parametros = {\n",
    "        \"n_estimators\": trial.suggest_int(\"num_arvores\", 10, 100),\n",
    "        \"criterion\": trial.suggest_categorical(\n",
    "            \"critério\", [\"squared_error\", \"friedman_mse\", \"poisson\"]\n",
    "        ),\n",
    "        \"min_samples_split\": trial.suggest_int(\n",
    "            \"min_exemplos_split\", 2, 20, log=True\n",
    "        ),\n",
    "        \"min_samples_leaf\": trial.suggest_int(\n",
    "            \"min_exemplos_folha\", 1, 20, log=True\n",
    "        ),\n",
    "        \"max_features\": trial.suggest_float(\"num_max_atributos\", 0, 1),\n",
    "        \"n_jobs\": -1,\n",
    "        \"bootstrap\": True,\n",
    "        \"random_state\": SEMENTE_ALEATORIA,\n",
    "    }\n",
    "\n",
    "    model = RandomForestRegressor(**parametros)\n",
    "\n",
    "    return model\n",
    "\n",
    "\n",
    "from sklearn.model_selection import cross_val_score\n",
    "\n",
    "def funcao_objetivo(trial, X, y, num_folds):\n",
    "    \"\"\"Função objetivo do optuna\n",
    "\n",
    "    Referencia:\n",
    "      https://medium.com/@walter_sperat/ using-optuna-with-sklearn-the-right-way-part-1-6b4ad0ab2451\n",
    "\n",
    "    \"\"\"\n",
    "    modelo = cria_instancia_modelo(trial)\n",
    "\n",
    "    metricas = cross_val_score(\n",
    "        modelo,\n",
    "        X,\n",
    "        y,\n",
    "        scoring=\"neg_root_mean_squared_error\",\n",
    "        cv=num_folds,\n",
    "    )\n",
    "\n",
    "    return -metricas.mean()"
   ]
  },
  {
   "cell_type": "markdown",
   "metadata": {},
   "source": [
    "**Criação do arquivo de estudo**\n",
    "\n",
    "Usando a biblioteca Optuna, criamos um arquivo de estudo que armazenará todas as tentativas de otimização realizadas durante o processo de busca pelos melhores hiperparâmetros. Esse arquivo permitirá que o Optuna registre e acesse as tentativas anteriores, otimizando a busca."
   ]
  },
  {
   "cell_type": "code",
   "execution_count": 115,
   "metadata": {},
   "outputs": [
    {
     "name": "stderr",
     "output_type": "stream",
     "text": [
      "[I 2024-11-10 23:16:58,109] Using an existing study with name 'arvore_aleatoria_concreto' instead of creating a new one.\n"
     ]
    }
   ],
   "source": [
    "from optuna import create_study\n",
    "\n",
    "NOME_DO_ESTUDO = \"arvore_aleatoria_concreto\"\n",
    "\n",
    "objeto_de_estudo = create_study(\n",
    "    direction=\"minimize\",\n",
    "    study_name=NOME_DO_ESTUDO,\n",
    "    storage=f\"sqlite:///{NOME_DO_ESTUDO}.db\",\n",
    "    load_if_exists=True,\n",
    ")"
   ]
  },
  {
   "cell_type": "markdown",
   "metadata": {},
   "source": [
    "Com isso, criamos uma instância de estudo com o nome especificado e configuramos o Optuna para armazenar as tentativas de otimização em um banco de dados. O parâmetro `direction=\"minimize\"` indica que queremos minimizar a função objetivo, ou seja, reduzir o erro do modelo."
   ]
  },
  {
   "cell_type": "markdown",
   "metadata": {},
   "source": [
    "**Função do optuna**\n",
    "\n",
    "O Optuna requer uma função objetivo que recebe um único parâmetro `(trial)` para sugerir os valores dos hiperparâmetros. Com a função objetivo previamente definida, podemos configurar o número de tentativas que o Optuna deve realizar na busca pelos melhores hiperparâmetros."
   ]
  },
  {
   "cell_type": "code",
   "execution_count": 116,
   "metadata": {},
   "outputs": [],
   "source": [
    "NUM_FOLDS = 10\n",
    "\n",
    "def funcao_objetivo_parcial(trial):\n",
    "    return funcao_objetivo(trial, X_treino, Y_treino, NUM_FOLDS)"
   ]
  },
  {
   "cell_type": "markdown",
   "metadata": {},
   "source": [
    "Aqui, a função optimize é chamada para iniciar o processo de otimização. O parâmetro `n_trials` define quantas tentativas o Optuna deve fazer. Cada \"tentativa\" envolve a escolha de um conjunto de hiperparâmetros, a avaliação do desempenho do modelo com esses parâmetros e o registro dos resultados."
   ]
  },
  {
   "cell_type": "code",
   "execution_count": 117,
   "metadata": {},
   "outputs": [
    {
     "name": "stderr",
     "output_type": "stream",
     "text": [
      "[I 2024-11-10 23:17:20,803] Trial 300 finished with value: 4.727910412083668 and parameters: {'num_arvores': 57, 'critério': 'friedman_mse', 'min_exemplos_split': 2, 'min_exemplos_folha': 1, 'num_max_atributos': 0.8188213549809219}. Best is trial 221 with value: 4.713040996200096.\n",
      "[I 2024-11-10 23:17:22,270] Trial 301 finished with value: 4.7560789930799405 and parameters: {'num_arvores': 54, 'critério': 'friedman_mse', 'min_exemplos_split': 2, 'min_exemplos_folha': 1, 'num_max_atributos': 0.739172245730904}. Best is trial 221 with value: 4.713040996200096.\n",
      "[I 2024-11-10 23:17:24,095] Trial 302 finished with value: 5.095575379745634 and parameters: {'num_arvores': 60, 'critério': 'friedman_mse', 'min_exemplos_split': 8, 'min_exemplos_folha': 1, 'num_max_atributos': 0.7700909465381355}. Best is trial 221 with value: 4.713040996200096.\n",
      "[I 2024-11-10 23:17:25,668] Trial 303 finished with value: 4.719010076350645 and parameters: {'num_arvores': 58, 'critério': 'friedman_mse', 'min_exemplos_split': 2, 'min_exemplos_folha': 1, 'num_max_atributos': 0.8340630572996371}. Best is trial 221 with value: 4.713040996200096.\n",
      "[I 2024-11-10 23:17:27,742] Trial 304 finished with value: 4.803517556516101 and parameters: {'num_arvores': 63, 'critério': 'squared_error', 'min_exemplos_split': 2, 'min_exemplos_folha': 1, 'num_max_atributos': 0.8788667623374892}. Best is trial 221 with value: 4.713040996200096.\n",
      "[I 2024-11-10 23:17:29,397] Trial 305 finished with value: 4.714350575825482 and parameters: {'num_arvores': 60, 'critério': 'friedman_mse', 'min_exemplos_split': 2, 'min_exemplos_folha': 1, 'num_max_atributos': 0.7994828413297863}. Best is trial 221 with value: 4.713040996200096.\n",
      "[I 2024-11-10 23:17:30,807] Trial 306 finished with value: 7.210605534708937 and parameters: {'num_arvores': 55, 'critério': 'friedman_mse', 'min_exemplos_split': 9, 'min_exemplos_folha': 1, 'num_max_atributos': 0.22999098166689147}. Best is trial 221 with value: 4.713040996200096.\n",
      "[I 2024-11-10 23:17:32,412] Trial 307 finished with value: 5.303674319414483 and parameters: {'num_arvores': 58, 'critério': 'friedman_mse', 'min_exemplos_split': 11, 'min_exemplos_folha': 1, 'num_max_atributos': 0.9227128303412943}. Best is trial 221 with value: 4.713040996200096.\n",
      "[I 2024-11-10 23:17:34,336] Trial 308 finished with value: 4.7242890696041595 and parameters: {'num_arvores': 62, 'critério': 'friedman_mse', 'min_exemplos_split': 2, 'min_exemplos_folha': 1, 'num_max_atributos': 0.8131183599566466}. Best is trial 221 with value: 4.713040996200096.\n",
      "[I 2024-11-10 23:17:36,124] Trial 309 finished with value: 4.714350575825482 and parameters: {'num_arvores': 60, 'critério': 'friedman_mse', 'min_exemplos_split': 2, 'min_exemplos_folha': 1, 'num_max_atributos': 0.8540997334864883}. Best is trial 221 with value: 4.713040996200096.\n",
      "[I 2024-11-10 23:17:37,655] Trial 310 finished with value: 4.727910412083668 and parameters: {'num_arvores': 57, 'critério': 'friedman_mse', 'min_exemplos_split': 2, 'min_exemplos_folha': 1, 'num_max_atributos': 0.7739911593971951}. Best is trial 221 with value: 4.713040996200096.\n",
      "[I 2024-11-10 23:17:39,540] Trial 311 finished with value: 4.7242890696041595 and parameters: {'num_arvores': 62, 'critério': 'friedman_mse', 'min_exemplos_split': 2, 'min_exemplos_folha': 1, 'num_max_atributos': 0.8356952392399803}. Best is trial 221 with value: 4.713040996200096.\n",
      "[I 2024-11-10 23:17:41,127] Trial 312 finished with value: 4.734368277856178 and parameters: {'num_arvores': 52, 'critério': 'friedman_mse', 'min_exemplos_split': 2, 'min_exemplos_folha': 1, 'num_max_atributos': 0.7920112873762414}. Best is trial 221 with value: 4.713040996200096.\n",
      "[I 2024-11-10 23:17:42,722] Trial 313 finished with value: 6.3692798279059435 and parameters: {'num_arvores': 56, 'critério': 'friedman_mse', 'min_exemplos_split': 2, 'min_exemplos_folha': 10, 'num_max_atributos': 0.7550154648830721}. Best is trial 221 with value: 4.713040996200096.\n",
      "[I 2024-11-10 23:17:44,589] Trial 314 finished with value: 5.005583933687009 and parameters: {'num_arvores': 59, 'critério': 'friedman_mse', 'min_exemplos_split': 2, 'min_exemplos_folha': 2, 'num_max_atributos': 0.811109901265789}. Best is trial 221 with value: 4.713040996200096.\n",
      "[I 2024-11-10 23:17:46,479] Trial 315 finished with value: 4.719010076350646 and parameters: {'num_arvores': 58, 'critério': 'friedman_mse', 'min_exemplos_split': 2, 'min_exemplos_folha': 1, 'num_max_atributos': 0.8337999575826687}. Best is trial 221 with value: 4.713040996200096.\n",
      "[I 2024-11-10 23:17:48,979] Trial 316 finished with value: 4.737663286599512 and parameters: {'num_arvores': 60, 'critério': 'friedman_mse', 'min_exemplos_split': 2, 'min_exemplos_folha': 1, 'num_max_atributos': 0.7076474491775147}. Best is trial 221 with value: 4.713040996200096.\n",
      "[I 2024-11-10 23:17:51,830] Trial 317 finished with value: 4.809273423755643 and parameters: {'num_arvores': 55, 'critério': 'friedman_mse', 'min_exemplos_split': 2, 'min_exemplos_folha': 1, 'num_max_atributos': 0.8897054655749309}. Best is trial 221 with value: 4.713040996200096.\n",
      "[I 2024-11-10 23:17:55,467] Trial 318 finished with value: 4.737656686975157 and parameters: {'num_arvores': 62, 'critério': 'friedman_mse', 'min_exemplos_split': 2, 'min_exemplos_folha': 1, 'num_max_atributos': 0.5460595191757588}. Best is trial 221 with value: 4.713040996200096.\n",
      "[I 2024-11-10 23:17:58,308] Trial 319 finished with value: 5.837968451995544 and parameters: {'num_arvores': 58, 'critério': 'friedman_mse', 'min_exemplos_split': 4, 'min_exemplos_folha': 6, 'num_max_atributos': 0.8636382433467953}. Best is trial 221 with value: 4.713040996200096.\n",
      "[I 2024-11-10 23:18:01,345] Trial 320 finished with value: 4.714350575825482 and parameters: {'num_arvores': 60, 'critério': 'friedman_mse', 'min_exemplos_split': 2, 'min_exemplos_folha': 1, 'num_max_atributos': 0.7815967245413207}. Best is trial 221 with value: 4.713040996200096.\n",
      "[I 2024-11-10 23:18:04,223] Trial 321 finished with value: 4.728625471873075 and parameters: {'num_arvores': 56, 'critério': 'friedman_mse', 'min_exemplos_split': 2, 'min_exemplos_folha': 1, 'num_max_atributos': 0.8078405481260582}. Best is trial 221 with value: 4.713040996200096.\n",
      "[I 2024-11-10 23:18:07,549] Trial 322 finished with value: 4.800497403038959 and parameters: {'num_arvores': 63, 'critério': 'poisson', 'min_exemplos_split': 2, 'min_exemplos_folha': 1, 'num_max_atributos': 0.8274045793813893}. Best is trial 221 with value: 4.713040996200096.\n",
      "[I 2024-11-10 23:18:09,661] Trial 323 finished with value: 4.719010076350645 and parameters: {'num_arvores': 58, 'critério': 'friedman_mse', 'min_exemplos_split': 2, 'min_exemplos_folha': 1, 'num_max_atributos': 0.8501478489033317}. Best is trial 221 with value: 4.713040996200096.\n",
      "[I 2024-11-10 23:18:11,737] Trial 324 finished with value: 4.714350575825482 and parameters: {'num_arvores': 60, 'critério': 'friedman_mse', 'min_exemplos_split': 2, 'min_exemplos_folha': 1, 'num_max_atributos': 0.7637057782990742}. Best is trial 221 with value: 4.713040996200096.\n",
      "[I 2024-11-10 23:18:13,928] Trial 325 finished with value: 4.735361882253708 and parameters: {'num_arvores': 53, 'critério': 'friedman_mse', 'min_exemplos_split': 2, 'min_exemplos_folha': 1, 'num_max_atributos': 0.7940765886631527}. Best is trial 221 with value: 4.713040996200096.\n",
      "[I 2024-11-10 23:18:16,243] Trial 326 finished with value: 4.847477101238452 and parameters: {'num_arvores': 57, 'critério': 'squared_error', 'min_exemplos_split': 2, 'min_exemplos_folha': 1, 'num_max_atributos': 0.820170545684829}. Best is trial 221 with value: 4.713040996200096.\n",
      "[I 2024-11-10 23:18:19,115] Trial 327 finished with value: 4.7242890696041595 and parameters: {'num_arvores': 62, 'critério': 'friedman_mse', 'min_exemplos_split': 2, 'min_exemplos_folha': 1, 'num_max_atributos': 0.7826675899119842}. Best is trial 221 with value: 4.713040996200096.\n",
      "[I 2024-11-10 23:18:21,039] Trial 328 finished with value: 5.6570202125053095 and parameters: {'num_arvores': 59, 'critério': 'friedman_mse', 'min_exemplos_split': 16, 'min_exemplos_folha': 1, 'num_max_atributos': 0.7402063049695508}. Best is trial 221 with value: 4.713040996200096.\n",
      "[I 2024-11-10 23:18:23,109] Trial 329 finished with value: 4.728175535783594 and parameters: {'num_arvores': 55, 'critério': 'friedman_mse', 'min_exemplos_split': 2, 'min_exemplos_folha': 1, 'num_max_atributos': 0.810598207008005}. Best is trial 221 with value: 4.713040996200096.\n",
      "[I 2024-11-10 23:18:25,277] Trial 330 finished with value: 5.4264642151514995 and parameters: {'num_arvores': 61, 'critério': 'friedman_mse', 'min_exemplos_split': 2, 'min_exemplos_folha': 4, 'num_max_atributos': 0.8494649472869904}. Best is trial 221 with value: 4.713040996200096.\n",
      "[I 2024-11-10 23:18:27,529] Trial 331 finished with value: 4.72639313446551 and parameters: {'num_arvores': 64, 'critério': 'friedman_mse', 'min_exemplos_split': 2, 'min_exemplos_folha': 1, 'num_max_atributos': 0.7986008520738432}. Best is trial 221 with value: 4.713040996200096.\n",
      "[I 2024-11-10 23:18:29,521] Trial 332 finished with value: 5.056308542773052 and parameters: {'num_arvores': 57, 'critério': 'friedman_mse', 'min_exemplos_split': 2, 'min_exemplos_folha': 2, 'num_max_atributos': 0.9044925003101907}. Best is trial 221 with value: 4.713040996200096.\n",
      "[I 2024-11-10 23:18:31,442] Trial 333 finished with value: 5.789492658420155 and parameters: {'num_arvores': 59, 'critério': 'friedman_mse', 'min_exemplos_split': 14, 'min_exemplos_folha': 1, 'num_max_atributos': 0.4306025508781136}. Best is trial 221 with value: 4.713040996200096.\n",
      "[I 2024-11-10 23:18:33,139] Trial 334 finished with value: 5.392756464520278 and parameters: {'num_arvores': 61, 'critério': 'friedman_mse', 'min_exemplos_split': 13, 'min_exemplos_folha': 1, 'num_max_atributos': 0.8311274870587044}. Best is trial 221 with value: 4.713040996200096.\n",
      "[I 2024-11-10 23:18:34,856] Trial 335 finished with value: 4.719010076350645 and parameters: {'num_arvores': 58, 'critério': 'friedman_mse', 'min_exemplos_split': 2, 'min_exemplos_folha': 1, 'num_max_atributos': 0.8726269391568123}. Best is trial 221 with value: 4.713040996200096.\n",
      "[I 2024-11-10 23:18:36,772] Trial 336 finished with value: 4.737177729658996 and parameters: {'num_arvores': 54, 'critério': 'friedman_mse', 'min_exemplos_split': 2, 'min_exemplos_folha': 1, 'num_max_atributos': 0.7593580282629939}. Best is trial 221 with value: 4.713040996200096.\n",
      "[I 2024-11-10 23:18:41,273] Trial 337 finished with value: 5.675179301315383 and parameters: {'num_arvores': 89, 'critério': 'friedman_mse', 'min_exemplos_split': 2, 'min_exemplos_folha': 5, 'num_max_atributos': 0.7820563560545846}. Best is trial 221 with value: 4.713040996200096.\n",
      "[I 2024-11-10 23:18:44,426] Trial 338 finished with value: 6.935257658640987 and parameters: {'num_arvores': 60, 'critério': 'friedman_mse', 'min_exemplos_split': 5, 'min_exemplos_folha': 15, 'num_max_atributos': 0.8189019741013095}. Best is trial 221 with value: 4.713040996200096.\n",
      "[I 2024-11-10 23:18:47,870] Trial 339 finished with value: 4.728625471873074 and parameters: {'num_arvores': 56, 'critério': 'friedman_mse', 'min_exemplos_split': 2, 'min_exemplos_folha': 1, 'num_max_atributos': 0.8387897253215644}. Best is trial 221 with value: 4.713040996200096.\n",
      "[I 2024-11-10 23:18:51,643] Trial 340 finished with value: 4.723711888484177 and parameters: {'num_arvores': 63, 'critério': 'friedman_mse', 'min_exemplos_split': 2, 'min_exemplos_folha': 1, 'num_max_atributos': 0.7980822848259255}. Best is trial 221 with value: 4.713040996200096.\n",
      "[I 2024-11-10 23:18:54,971] Trial 341 finished with value: 4.958248117699883 and parameters: {'num_arvores': 59, 'critério': 'friedman_mse', 'min_exemplos_split': 6, 'min_exemplos_folha': 1, 'num_max_atributos': 0.854674381686669}. Best is trial 221 with value: 4.713040996200096.\n",
      "[I 2024-11-10 23:18:57,807] Trial 342 finished with value: 4.8289371013866385 and parameters: {'num_arvores': 50, 'critério': 'poisson', 'min_exemplos_split': 2, 'min_exemplos_folha': 1, 'num_max_atributos': 0.7748350182855791}. Best is trial 221 with value: 4.713040996200096.\n",
      "[I 2024-11-10 23:19:01,187] Trial 343 finished with value: 4.727910412083668 and parameters: {'num_arvores': 57, 'critério': 'friedman_mse', 'min_exemplos_split': 2, 'min_exemplos_folha': 1, 'num_max_atributos': 0.8053810524003985}. Best is trial 221 with value: 4.713040996200096.\n",
      "[I 2024-11-10 23:19:04,798] Trial 344 finished with value: 5.0073490249469454 and parameters: {'num_arvores': 62, 'critério': 'friedman_mse', 'min_exemplos_split': 7, 'min_exemplos_folha': 1, 'num_max_atributos': 0.8831085180577558}. Best is trial 221 with value: 4.713040996200096.\n",
      "[I 2024-11-10 23:19:08,952] Trial 345 finished with value: 4.724191549625931 and parameters: {'num_arvores': 65, 'critério': 'friedman_mse', 'min_exemplos_split': 2, 'min_exemplos_folha': 1, 'num_max_atributos': 0.8288449608193269}. Best is trial 221 with value: 4.713040996200096.\n",
      "[I 2024-11-10 23:19:12,936] Trial 346 finished with value: 4.714350575825482 and parameters: {'num_arvores': 60, 'critério': 'friedman_mse', 'min_exemplos_split': 2, 'min_exemplos_folha': 1, 'num_max_atributos': 0.7522002109663984}. Best is trial 221 with value: 4.713040996200096.\n",
      "[I 2024-11-10 23:19:16,502] Trial 347 finished with value: 4.719010076350647 and parameters: {'num_arvores': 58, 'critério': 'friedman_mse', 'min_exemplos_split': 2, 'min_exemplos_folha': 1, 'num_max_atributos': 0.7871258040499769}. Best is trial 221 with value: 4.713040996200096.\n",
      "[I 2024-11-10 23:19:19,994] Trial 348 finished with value: 4.843540477634785 and parameters: {'num_arvores': 55, 'critério': 'squared_error', 'min_exemplos_split': 2, 'min_exemplos_folha': 1, 'num_max_atributos': 0.8652068733995989}. Best is trial 221 with value: 4.713040996200096.\n",
      "[I 2024-11-10 23:19:23,516] Trial 349 finished with value: 4.713595602775285 and parameters: {'num_arvores': 61, 'critério': 'friedman_mse', 'min_exemplos_split': 2, 'min_exemplos_folha': 1, 'num_max_atributos': 0.8155035532356063}. Best is trial 221 with value: 4.713040996200096.\n",
      "[I 2024-11-10 23:19:27,003] Trial 350 finished with value: 4.748650929302715 and parameters: {'num_arvores': 57, 'critério': 'friedman_mse', 'min_exemplos_split': 2, 'min_exemplos_folha': 1, 'num_max_atributos': 0.722754044124068}. Best is trial 221 with value: 4.713040996200096.\n",
      "[I 2024-11-10 23:19:30,640] Trial 351 finished with value: 4.713040996200097 and parameters: {'num_arvores': 59, 'critério': 'friedman_mse', 'min_exemplos_split': 2, 'min_exemplos_folha': 1, 'num_max_atributos': 0.8433423418089632}. Best is trial 221 with value: 4.713040996200096.\n",
      "[I 2024-11-10 23:19:34,228] Trial 352 finished with value: 4.7242890696041595 and parameters: {'num_arvores': 62, 'critério': 'friedman_mse', 'min_exemplos_split': 2, 'min_exemplos_folha': 1, 'num_max_atributos': 0.7654699747675897}. Best is trial 221 with value: 4.713040996200096.\n",
      "[I 2024-11-10 23:19:37,730] Trial 353 finished with value: 4.714350575825482 and parameters: {'num_arvores': 60, 'critério': 'friedman_mse', 'min_exemplos_split': 2, 'min_exemplos_folha': 1, 'num_max_atributos': 0.8020425879243522}. Best is trial 221 with value: 4.713040996200096.\n",
      "[I 2024-11-10 23:19:41,231] Trial 354 finished with value: 4.728625471873075 and parameters: {'num_arvores': 56, 'critério': 'friedman_mse', 'min_exemplos_split': 2, 'min_exemplos_folha': 1, 'num_max_atributos': 0.830261679520446}. Best is trial 221 with value: 4.713040996200096.\n",
      "[I 2024-11-10 23:19:44,912] Trial 355 finished with value: 4.719010076350646 and parameters: {'num_arvores': 58, 'critério': 'friedman_mse', 'min_exemplos_split': 2, 'min_exemplos_folha': 1, 'num_max_atributos': 0.7785616976404226}. Best is trial 221 with value: 4.713040996200096.\n",
      "[I 2024-11-10 23:19:48,253] Trial 356 finished with value: 4.737177729658997 and parameters: {'num_arvores': 54, 'critério': 'friedman_mse', 'min_exemplos_split': 2, 'min_exemplos_folha': 1, 'num_max_atributos': 0.8157495036464918}. Best is trial 221 with value: 4.713040996200096.\n",
      "[I 2024-11-10 23:19:51,831] Trial 357 finished with value: 4.726393134465509 and parameters: {'num_arvores': 64, 'critério': 'friedman_mse', 'min_exemplos_split': 2, 'min_exemplos_folha': 1, 'num_max_atributos': 0.8669147297983959}. Best is trial 221 with value: 4.713040996200096.\n",
      "[I 2024-11-10 23:19:55,228] Trial 358 finished with value: 6.451277759374515 and parameters: {'num_arvores': 61, 'critério': 'friedman_mse', 'min_exemplos_split': 2, 'min_exemplos_folha': 11, 'num_max_atributos': 0.7969407997841558}. Best is trial 221 with value: 4.713040996200096.\n",
      "[I 2024-11-10 23:19:58,487] Trial 359 finished with value: 4.7925506570790635 and parameters: {'num_arvores': 59, 'critério': 'friedman_mse', 'min_exemplos_split': 2, 'min_exemplos_folha': 1, 'num_max_atributos': 0.9554949709258637}. Best is trial 221 with value: 4.713040996200096.\n",
      "[I 2024-11-10 23:20:01,575] Trial 360 finished with value: 4.728625471873075 and parameters: {'num_arvores': 56, 'critério': 'friedman_mse', 'min_exemplos_split': 2, 'min_exemplos_folha': 1, 'num_max_atributos': 0.8441793529990491}. Best is trial 221 with value: 4.713040996200096.\n",
      "[I 2024-11-10 23:20:05,317] Trial 361 finished with value: 4.732809208307289 and parameters: {'num_arvores': 63, 'critério': 'friedman_mse', 'min_exemplos_split': 2, 'min_exemplos_folha': 1, 'num_max_atributos': 0.7428825781095679}. Best is trial 221 with value: 4.713040996200096.\n",
      "[I 2024-11-10 23:20:07,467] Trial 362 finished with value: 4.714350575825482 and parameters: {'num_arvores': 60, 'critério': 'friedman_mse', 'min_exemplos_split': 2, 'min_exemplos_folha': 1, 'num_max_atributos': 0.8242718275846704}. Best is trial 221 with value: 4.713040996200096.\n",
      "[I 2024-11-10 23:20:09,101] Trial 363 finished with value: 5.0805809293189 and parameters: {'num_arvores': 58, 'critério': 'friedman_mse', 'min_exemplos_split': 2, 'min_exemplos_folha': 1, 'num_max_atributos': 0.34600420075435645}. Best is trial 221 with value: 4.713040996200096.\n",
      "[I 2024-11-10 23:20:10,708] Trial 364 finished with value: 5.825077699493884 and parameters: {'num_arvores': 57, 'critério': 'poisson', 'min_exemplos_split': 2, 'min_exemplos_folha': 1, 'num_max_atributos': 0.0073270138967405085}. Best is trial 221 with value: 4.713040996200096.\n",
      "[I 2024-11-10 23:20:12,624] Trial 365 finished with value: 4.7242890696041595 and parameters: {'num_arvores': 62, 'critério': 'friedman_mse', 'min_exemplos_split': 2, 'min_exemplos_folha': 1, 'num_max_atributos': 0.7873552390494024}. Best is trial 221 with value: 4.713040996200096.\n",
      "[I 2024-11-10 23:20:14,126] Trial 366 finished with value: 6.7608050179375025 and parameters: {'num_arvores': 53, 'critério': 'friedman_mse', 'min_exemplos_split': 2, 'min_exemplos_folha': 14, 'num_max_atributos': 0.898840654214149}. Best is trial 221 with value: 4.713040996200096.\n",
      "[I 2024-11-10 23:20:15,919] Trial 367 finished with value: 4.714350575825482 and parameters: {'num_arvores': 60, 'critério': 'friedman_mse', 'min_exemplos_split': 2, 'min_exemplos_folha': 1, 'num_max_atributos': 0.7663700313434599}. Best is trial 221 with value: 4.713040996200096.\n",
      "[I 2024-11-10 23:20:17,601] Trial 368 finished with value: 5.191264407016694 and parameters: {'num_arvores': 58, 'critério': 'friedman_mse', 'min_exemplos_split': 10, 'min_exemplos_folha': 1, 'num_max_atributos': 0.8479944052602298}. Best is trial 221 with value: 4.713040996200096.\n",
      "[I 2024-11-10 23:20:19,517] Trial 369 finished with value: 4.806673557081458 and parameters: {'num_arvores': 66, 'critério': 'friedman_mse', 'min_exemplos_split': 3, 'min_exemplos_folha': 1, 'num_max_atributos': 0.8098288282582334}. Best is trial 221 with value: 4.713040996200096.\n",
      "[I 2024-11-10 23:20:21,247] Trial 370 finished with value: 4.713595602775285 and parameters: {'num_arvores': 61, 'critério': 'friedman_mse', 'min_exemplos_split': 2, 'min_exemplos_folha': 1, 'num_max_atributos': 0.7947460481408835}. Best is trial 221 with value: 4.713040996200096.\n",
      "[I 2024-11-10 23:20:22,904] Trial 371 finished with value: 4.728625471873075 and parameters: {'num_arvores': 56, 'critério': 'friedman_mse', 'min_exemplos_split': 2, 'min_exemplos_folha': 1, 'num_max_atributos': 0.8237208022902365}. Best is trial 221 with value: 4.713040996200096.\n",
      "[I 2024-11-10 23:20:24,526] Trial 372 finished with value: 4.834341988612541 and parameters: {'num_arvores': 59, 'critério': 'squared_error', 'min_exemplos_split': 2, 'min_exemplos_folha': 1, 'num_max_atributos': 0.871614923146164}. Best is trial 221 with value: 4.713040996200096.\n",
      "[I 2024-11-10 23:20:26,239] Trial 373 finished with value: 4.7371441920048 and parameters: {'num_arvores': 63, 'critério': 'friedman_mse', 'min_exemplos_split': 2, 'min_exemplos_folha': 1, 'num_max_atributos': 0.5742329023961937}. Best is trial 221 with value: 4.713040996200096.\n",
      "[I 2024-11-10 23:20:27,906] Trial 374 finished with value: 5.294233909257682 and parameters: {'num_arvores': 55, 'critério': 'friedman_mse', 'min_exemplos_split': 2, 'min_exemplos_folha': 3, 'num_max_atributos': 0.7750243832812955}. Best is trial 221 with value: 4.713040996200096.\n",
      "[I 2024-11-10 23:20:29,574] Trial 375 finished with value: 4.8245489268641935 and parameters: {'num_arvores': 58, 'critério': 'friedman_mse', 'min_exemplos_split': 2, 'min_exemplos_folha': 1, 'num_max_atributos': 0.4964992390829257}. Best is trial 221 with value: 4.713040996200096.\n",
      "[I 2024-11-10 23:20:31,157] Trial 376 finished with value: 6.062988619665985 and parameters: {'num_arvores': 60, 'critério': 'friedman_mse', 'min_exemplos_split': 2, 'min_exemplos_folha': 8, 'num_max_atributos': 0.8425432421565542}. Best is trial 221 with value: 4.713040996200096.\n",
      "[I 2024-11-10 23:20:32,881] Trial 377 finished with value: 4.727910412083669 and parameters: {'num_arvores': 57, 'critério': 'friedman_mse', 'min_exemplos_split': 2, 'min_exemplos_folha': 1, 'num_max_atributos': 0.8063964602477022}. Best is trial 221 with value: 4.713040996200096.\n",
      "[I 2024-11-10 23:20:34,784] Trial 378 finished with value: 4.736919758299379 and parameters: {'num_arvores': 61, 'critério': 'friedman_mse', 'min_exemplos_split': 2, 'min_exemplos_folha': 1, 'num_max_atributos': 0.7429055019022669}. Best is trial 221 with value: 4.713040996200096.\n",
      "[I 2024-11-10 23:20:36,505] Trial 379 finished with value: 6.232060681469663 and parameters: {'num_arvores': 59, 'critério': 'friedman_mse', 'min_exemplos_split': 2, 'min_exemplos_folha': 9, 'num_max_atributos': 0.8251102441784643}. Best is trial 221 with value: 4.713040996200096.\n",
      "[I 2024-11-10 23:20:38,071] Trial 380 finished with value: 4.737177729658996 and parameters: {'num_arvores': 54, 'critério': 'friedman_mse', 'min_exemplos_split': 2, 'min_exemplos_folha': 1, 'num_max_atributos': 0.7857237705192409}. Best is trial 221 with value: 4.713040996200096.\n",
      "[I 2024-11-10 23:20:40,001] Trial 381 finished with value: 4.726393134465509 and parameters: {'num_arvores': 64, 'critério': 'friedman_mse', 'min_exemplos_split': 2, 'min_exemplos_folha': 1, 'num_max_atributos': 0.8583673935049558}. Best is trial 221 with value: 4.713040996200096.\n",
      "[I 2024-11-10 23:20:41,768] Trial 382 finished with value: 4.7242890696041595 and parameters: {'num_arvores': 62, 'critério': 'friedman_mse', 'min_exemplos_split': 2, 'min_exemplos_folha': 1, 'num_max_atributos': 0.804773625962753}. Best is trial 221 with value: 4.713040996200096.\n",
      "[I 2024-11-10 23:20:43,416] Trial 383 finished with value: 4.728625471873075 and parameters: {'num_arvores': 56, 'critério': 'friedman_mse', 'min_exemplos_split': 2, 'min_exemplos_folha': 1, 'num_max_atributos': 0.762283377510537}. Best is trial 221 with value: 4.713040996200096.\n",
      "[I 2024-11-10 23:20:45,137] Trial 384 finished with value: 4.713040996200097 and parameters: {'num_arvores': 59, 'critério': 'friedman_mse', 'min_exemplos_split': 2, 'min_exemplos_folha': 1, 'num_max_atributos': 0.8389263964282334}. Best is trial 221 with value: 4.713040996200096.\n",
      "[I 2024-11-10 23:20:46,634] Trial 385 finished with value: 5.108687695531099 and parameters: {'num_arvores': 57, 'critério': 'poisson', 'min_exemplos_split': 7, 'min_exemplos_folha': 1, 'num_max_atributos': 0.8807838829865073}. Best is trial 221 with value: 4.713040996200096.\n",
      "[I 2024-11-10 23:20:48,269] Trial 386 finished with value: 4.713595602775285 and parameters: {'num_arvores': 61, 'critério': 'friedman_mse', 'min_exemplos_split': 2, 'min_exemplos_folha': 1, 'num_max_atributos': 0.8184604396072802}. Best is trial 221 with value: 4.713040996200096.\n",
      "[I 2024-11-10 23:20:49,961] Trial 387 finished with value: 4.713040996200097 and parameters: {'num_arvores': 59, 'critério': 'friedman_mse', 'min_exemplos_split': 2, 'min_exemplos_folha': 1, 'num_max_atributos': 0.7883636107595139}. Best is trial 221 with value: 4.713040996200096.\n",
      "[I 2024-11-10 23:20:51,572] Trial 388 finished with value: 4.727910412083668 and parameters: {'num_arvores': 57, 'critério': 'friedman_mse', 'min_exemplos_split': 2, 'min_exemplos_folha': 1, 'num_max_atributos': 0.7695621292468116}. Best is trial 221 with value: 4.713040996200096.\n",
      "[I 2024-11-10 23:20:53,301] Trial 389 finished with value: 4.7242890696041595 and parameters: {'num_arvores': 62, 'critério': 'friedman_mse', 'min_exemplos_split': 2, 'min_exemplos_folha': 1, 'num_max_atributos': 0.8562827540141583}. Best is trial 221 with value: 4.713040996200096.\n",
      "[I 2024-11-10 23:20:54,930] Trial 390 finished with value: 4.790968399422918 and parameters: {'num_arvores': 60, 'critério': 'friedman_mse', 'min_exemplos_split': 2, 'min_exemplos_folha': 1, 'num_max_atributos': 0.9190594158077019}. Best is trial 221 with value: 4.713040996200096.\n",
      "[I 2024-11-10 23:20:56,484] Trial 391 finished with value: 4.734368277856178 and parameters: {'num_arvores': 52, 'critério': 'friedman_mse', 'min_exemplos_split': 2, 'min_exemplos_folha': 1, 'num_max_atributos': 0.8076767995865984}. Best is trial 221 with value: 4.713040996200096.\n",
      "[I 2024-11-10 23:20:58,050] Trial 392 finished with value: 4.728175535783595 and parameters: {'num_arvores': 55, 'critério': 'friedman_mse', 'min_exemplos_split': 2, 'min_exemplos_folha': 1, 'num_max_atributos': 0.8315606092009957}. Best is trial 221 with value: 4.713040996200096.\n",
      "[I 2024-11-10 23:20:59,449] Trial 393 finished with value: 4.772731182802107 and parameters: {'num_arvores': 38, 'critério': 'friedman_mse', 'min_exemplos_split': 2, 'min_exemplos_folha': 1, 'num_max_atributos': 0.7941025471352153}. Best is trial 221 with value: 4.713040996200096.\n",
      "[I 2024-11-10 23:21:01,163] Trial 394 finished with value: 4.719010076350645 and parameters: {'num_arvores': 58, 'critério': 'friedman_mse', 'min_exemplos_split': 2, 'min_exemplos_folha': 1, 'num_max_atributos': 0.8334944574334726}. Best is trial 221 with value: 4.713040996200096.\n",
      "[I 2024-11-10 23:21:03,099] Trial 395 finished with value: 4.735852859197598 and parameters: {'num_arvores': 65, 'critério': 'friedman_mse', 'min_exemplos_split': 2, 'min_exemplos_folha': 1, 'num_max_atributos': 0.7485392686088265}. Best is trial 221 with value: 4.713040996200096.\n",
      "[I 2024-11-10 23:21:04,868] Trial 396 finished with value: 7.204489998752015 and parameters: {'num_arvores': 60, 'critério': 'squared_error', 'min_exemplos_split': 6, 'min_exemplos_folha': 18, 'num_max_atributos': 0.8877369903033715}. Best is trial 221 with value: 4.713040996200096.\n",
      "[I 2024-11-10 23:21:07,649] Trial 397 finished with value: 4.740590628488352 and parameters: {'num_arvores': 100, 'critério': 'friedman_mse', 'min_exemplos_split': 2, 'min_exemplos_folha': 1, 'num_max_atributos': 0.8102473576782018}. Best is trial 221 with value: 4.713040996200096.\n",
      "[I 2024-11-10 23:21:09,542] Trial 398 finished with value: 4.732809208307289 and parameters: {'num_arvores': 63, 'critério': 'friedman_mse', 'min_exemplos_split': 2, 'min_exemplos_folha': 1, 'num_max_atributos': 0.698962634890815}. Best is trial 221 with value: 4.713040996200096.\n",
      "[I 2024-11-10 23:21:12,100] Trial 399 finished with value: 4.792927108549037 and parameters: {'num_arvores': 58, 'critério': 'friedman_mse', 'min_exemplos_split': 3, 'min_exemplos_folha': 1, 'num_max_atributos': 0.7773048562107628}. Best is trial 221 with value: 4.713040996200096.\n"
     ]
    }
   ],
   "source": [
    "NUM_TENTATIVAS = 100\n",
    "\n",
    "objeto_de_estudo.optimize(funcao_objetivo_parcial, n_trials=NUM_TENTATIVAS)"
   ]
  },
  {
   "cell_type": "markdown",
   "metadata": {},
   "source": [
    "Podemos obter o número da melhor tentativa e seus parâmetros por meio do método `best_trial`:"
   ]
  },
  {
   "cell_type": "code",
   "execution_count": 139,
   "metadata": {},
   "outputs": [
    {
     "name": "stdout",
     "output_type": "stream",
     "text": [
      "Número do melhor trial: 221\n",
      "Parâmetros do melhor trial: {'num_arvores': 59, 'critério': 'friedman_mse', 'min_exemplos_split': 2, 'min_exemplos_folha': 1, 'num_max_atributos': 0.7707169626202555}\n"
     ]
    }
   ],
   "source": [
    "melhor_trial = objeto_de_estudo.best_trial\n",
    "\n",
    "print(f\"Número do melhor trial: {melhor_trial.number}\")\n",
    "print(f\"Parâmetros do melhor trial: {melhor_trial.params}\")"
   ]
  },
  {
   "cell_type": "markdown",
   "metadata": {},
   "source": [
    "**Utilizando o modelo**\n",
    "\n",
    "Com os melhores parâmetros encontrados, podemos instanciar o modelo e treinar com os dados de treinamento. Após o treinamento, fazemos a previsão para os dados de teste e calculamos o Root Mean Squared Error (RMSE) para avaliar o desempenho do modelo."
   ]
  },
  {
   "cell_type": "code",
   "execution_count": 140,
   "metadata": {},
   "outputs": [
    {
     "name": "stdout",
     "output_type": "stream",
     "text": [
      "5.120595747986371\n"
     ]
    }
   ],
   "source": [
    "from sklearn.metrics import mean_squared_error\n",
    "\n",
    "modelo = cria_instancia_modelo(melhor_trial)\n",
    "modelo.fit(X_treino, Y_treino)\n",
    "\n",
    "y_verdadeiro = Y_teste\n",
    "y_previsao = modelo.predict(X_teste)\n",
    "\n",
    "RMSE = mean_squared_error(y_verdadeiro, y_previsao) ** (1/2)\n",
    "\n",
    "print(RMSE)"
   ]
  },
  {
   "cell_type": "markdown",
   "metadata": {},
   "source": [
    "----------------------\n",
    "\n",
    "## <center> Seleção de Atributos </center>\n",
    "\n",
    "Nessa etapa vamos verificar se o modelo está ou não identificando padrões espúrios, resultando em sobreajustes do modelo aos targets. Dessa forma, vamos implementar alguns métodos para selecionar atributos e verificar se ao utilizar desse método, melhora ou não as métricas. \n",
    "\n",
    "## <center>Seleção de atributos pelo limiar da Variância</center>"
   ]
  },
  {
   "cell_type": "code",
   "execution_count": 120,
   "metadata": {},
   "outputs": [
    {
     "name": "stdout",
     "output_type": "stream",
     "text": [
      "[10926.71766983  7439.7770265   4027.55266729   442.43165179\n",
      "    34.82503014  6008.9636168   6346.15255733  4036.77617769]\n"
     ]
    }
   ],
   "source": [
    "print(np.var(X_treino, axis=0))"
   ]
  },
  {
   "cell_type": "code",
   "execution_count": 121,
   "metadata": {},
   "outputs": [
    {
     "name": "stdout",
     "output_type": "stream",
     "text": [
      "[10770.74958349  7408.6911961   4518.19441951   570.45844238\n",
      "    41.39457577  5752.27639506  6964.8053737   3533.49929305]\n"
     ]
    }
   ],
   "source": [
    "print(np.var(X_teste, axis=0))"
   ]
  },
  {
   "cell_type": "markdown",
   "metadata": {},
   "source": [
    "Todas as oitos colunas dos atributos possuem variância diferente de zero. Então aplicar VarianceThreshold espera-se que isso não interefirá em nada."
   ]
  },
  {
   "cell_type": "code",
   "execution_count": 122,
   "metadata": {},
   "outputs": [
    {
     "name": "stdout",
     "output_type": "stream",
     "text": [
      "[[ 233.81    0.     94.58 ...  947.04  852.16  100.  ]\n",
      " [ 310.      0.      0.   ... 1012.    830.      3.  ]\n",
      " [ 122.6   183.9     0.   ...  958.2   800.1     7.  ]\n",
      " ...\n",
      " [ 184.     86.    190.   ...  923.    623.     28.  ]\n",
      " [ 525.      0.      0.   ... 1125.    613.      3.  ]\n",
      " [ 425.    106.3     0.   ...  852.1   887.1     7.  ]]\n",
      "-=--=--=--=--=--=--=--=--=--=--=--=--=--=--=--=--=--=--=--=-\n",
      "[[ 233.81    0.     94.58 ...  947.04  852.16  100.  ]\n",
      " [ 310.      0.      0.   ... 1012.    830.      3.  ]\n",
      " [ 122.6   183.9     0.   ...  958.2   800.1     7.  ]\n",
      " ...\n",
      " [ 184.     86.    190.   ...  923.    623.     28.  ]\n",
      " [ 525.      0.      0.   ... 1125.    613.      3.  ]\n",
      " [ 425.    106.3     0.   ...  852.1   887.1     7.  ]]\n"
     ]
    }
   ],
   "source": [
    "from sklearn.feature_selection import VarianceThreshold\n",
    "\n",
    "seletor_limiar_variancia = VarianceThreshold()\n",
    "\n",
    "seletor_limiar_variancia.fit(X_treino)\n",
    "\n",
    "X_treino_limiar_variancia = seletor_limiar_variancia.transform(X_treino)\n",
    "\n",
    "print(X_treino_limiar_variancia)\n",
    "print('-=-'*20)\n",
    "print(X_treino)"
   ]
  },
  {
   "cell_type": "markdown",
   "metadata": {},
   "source": [
    "Dessa forma, a seleção de atributo pelo limiar da variância pouco nos ajudou, pois os dados que possuimos possuem alta variância, e não é possível selecionar os dados com esse método."
   ]
  },
  {
   "cell_type": "markdown",
   "metadata": {},
   "source": [
    "## <center>Seleção de atributos por remoção recursiva de atributos (RFE)</center>\n"
   ]
  },
  {
   "cell_type": "markdown",
   "metadata": {},
   "source": [
    "####  1. Modelo Linear Múltiplo usando RFE:"
   ]
  },
  {
   "cell_type": "markdown",
   "metadata": {},
   "source": [
    "Usando o método RFE de seleção de atributos para o modelo de regressão linear múltipla foi visivelmente não muito útil para aprimorar o modelo, visto que o RMSE se manteve quase o mesmo, e nunca foi inferior ao RMSE do modelo linear múltiplo usando todas as colunas de target, isto é, as 8 colunas."
   ]
  },
  {
   "cell_type": "code",
   "execution_count": 123,
   "metadata": {},
   "outputs": [
    {
     "name": "stdout",
     "output_type": "stream",
     "text": [
      "Número de atributos selecionados: 1\n",
      "Colunas selecionadas: [False False False False  True False False False]\n",
      "Ordenação (rank) dos atributos: [4 5 6 2 1 7 8 3]\n",
      "O RMSE do modelo com 1 atributos foi de 16.581191582119107 unidades de y.\n",
      "-=--=--=--=--=--=--=--=--=--=--=--=--=--=--=--=--=--=--=--=-\n",
      "Número de atributos selecionados: 2\n",
      "Colunas selecionadas: [False False False  True  True False False False]\n",
      "Ordenação (rank) dos atributos: [3 4 5 1 1 6 7 2]\n",
      "O RMSE do modelo com 2 atributos foi de 16.452734046312564 unidades de y.\n",
      "-=--=--=--=--=--=--=--=--=--=--=--=--=--=--=--=--=--=--=--=-\n",
      "Número de atributos selecionados: 3\n",
      "Colunas selecionadas: [False False False  True  True False False  True]\n",
      "Ordenação (rank) dos atributos: [2 3 4 1 1 5 6 1]\n",
      "O RMSE do modelo com 3 atributos foi de 14.916202004427037 unidades de y.\n",
      "-=--=--=--=--=--=--=--=--=--=--=--=--=--=--=--=--=--=--=--=-\n",
      "Número de atributos selecionados: 4\n",
      "Colunas selecionadas: [ True False False  True  True False False  True]\n",
      "Ordenação (rank) dos atributos: [1 2 3 1 1 4 5 1]\n",
      "O RMSE do modelo com 4 atributos foi de 13.760339234330369 unidades de y.\n",
      "-=--=--=--=--=--=--=--=--=--=--=--=--=--=--=--=--=--=--=--=-\n",
      "Número de atributos selecionados: 5\n",
      "Colunas selecionadas: [ True  True False  True  True False False  True]\n",
      "Ordenação (rank) dos atributos: [1 1 2 1 1 3 4 1]\n",
      "O RMSE do modelo com 5 atributos foi de 11.96514370553767 unidades de y.\n",
      "-=--=--=--=--=--=--=--=--=--=--=--=--=--=--=--=--=--=--=--=-\n",
      "Número de atributos selecionados: 6\n",
      "Colunas selecionadas: [ True  True  True  True  True False False  True]\n",
      "Ordenação (rank) dos atributos: [1 1 1 1 1 2 3 1]\n",
      "O RMSE do modelo com 6 atributos foi de 11.280027303266808 unidades de y.\n",
      "-=--=--=--=--=--=--=--=--=--=--=--=--=--=--=--=--=--=--=--=-\n",
      "Número de atributos selecionados: 7\n",
      "Colunas selecionadas: [ True  True  True  True  True  True False  True]\n",
      "Ordenação (rank) dos atributos: [1 1 1 1 1 1 2 1]\n",
      "O RMSE do modelo com 7 atributos foi de 11.31265227637275 unidades de y.\n",
      "-=--=--=--=--=--=--=--=--=--=--=--=--=--=--=--=--=--=--=--=-\n",
      "Número de atributos selecionados: 8\n",
      "Colunas selecionadas: [ True  True  True  True  True  True  True  True]\n",
      "Ordenação (rank) dos atributos: [1 1 1 1 1 1 1 1]\n",
      "O RMSE do modelo com 8 atributos foi de 11.224097009242593 unidades de y.\n",
      "-=--=--=--=--=--=--=--=--=--=--=--=--=--=--=--=--=--=--=--=-\n"
     ]
    }
   ],
   "source": [
    "from sklearn.feature_selection import RFE\n",
    "modelo_linear = LinearRegression()\n",
    "\n",
    "for NUM_ATRIBUTOS_DESEJADOS in range(1, 9):\n",
    "    seletor_remocao_recursiva_de_atributos = RFE(modelo_linear, n_features_to_select=NUM_ATRIBUTOS_DESEJADOS)\n",
    "    seletor_remocao_recursiva_de_atributos.fit(X_treino, Y_treino)\n",
    "\n",
    "    X_treino_remocao_recusiva_de_atributos = seletor_remocao_recursiva_de_atributos.transform(X_treino)\n",
    "    X_teste_remocao_recusiva_de_atributos = seletor_remocao_recursiva_de_atributos.transform(X_teste)\n",
    "\n",
    "    \n",
    "    modelo_linear_regression_pipeline_StandardScaler_RFE = make_pipeline(\n",
    "        StandardScaler(),\n",
    "        LinearRegression()\n",
    "    )\n",
    "    modelo_linear_regression_pipeline_StandardScaler_RFE.fit(X_treino_remocao_recusiva_de_atributos, Y_treino)\n",
    "\n",
    "    \n",
    "    y_previsto_linear_regression_pipeline_StandardScaler_RFE = modelo_linear_regression_pipeline_StandardScaler_RFE.predict(X_teste_remocao_recusiva_de_atributos)\n",
    "\n",
    "    \n",
    "    RMSE_pipeline_linear_regression_StandardScaler_RFE = mean_squared_error(Y_teste, y_previsto_linear_regression_pipeline_StandardScaler_RFE) ** 0.5\n",
    "\n",
    "    # Imprimindo os resultados para o número atual de atributos selecionados\n",
    "    print(f\"Número de atributos selecionados: {NUM_ATRIBUTOS_DESEJADOS}\")\n",
    "    print(f\"Colunas selecionadas: {seletor_remocao_recursiva_de_atributos.support_}\")\n",
    "    print(f\"Ordenação (rank) dos atributos: {seletor_remocao_recursiva_de_atributos.ranking_}\")\n",
    "    print(f\"O RMSE do modelo com {NUM_ATRIBUTOS_DESEJADOS} atributos foi de {RMSE_pipeline_linear_regression_StandardScaler_RFE} unidades de y.\")\n",
    "    print(\"-=-\"*20)"
   ]
  },
  {
   "cell_type": "markdown",
   "metadata": {},
   "source": [
    "####  2. Árvores de Decisão usando RFE:"
   ]
  },
  {
   "cell_type": "markdown",
   "metadata": {},
   "source": [
    "A seleção RFE também pode ser aplicado à árvore de decisão, de forma que as variáveis mais relevantes para realizar previsões são selecionadas, enquanto as menos relevantes não são incluídas no processo. Isso reduz a complexidade e pode aumentar a performance."
   ]
  },
  {
   "cell_type": "code",
   "execution_count": 124,
   "metadata": {},
   "outputs": [
    {
     "name": "stdout",
     "output_type": "stream",
     "text": [
      "Número de atributos selecionados: 5\n",
      "Colunas selecionadas: [ True  True False  True False  True False  True]\n",
      "Ordenação (rank) dos atributos [1 1 4 1 3 1 2 1]\n"
     ]
    }
   ],
   "source": [
    "from sklearn.feature_selection import RFE\n",
    "from sklearn.tree import DecisionTreeRegressor\n",
    "\n",
    "NUM_ATRIBUTOS_DESEJADOS = 5\n",
    "\n",
    "modelo = DecisionTreeRegressor()\n",
    "\n",
    "seletor = RFE(modelo, n_features_to_select=NUM_ATRIBUTOS_DESEJADOS)\n",
    "seletor.fit(X_treino, Y_treino)\n",
    "\n",
    "X_treino_modificado = seletor.transform(X_treino)\n",
    "X_teste_modificado = seletor.transform(X_teste)\n",
    "\n",
    "print(f\"Número de atributos selecionados: {seletor.n_features_}\")\n",
    "print(f\"Colunas selecionadas: {seletor.support_}\")\n",
    "print(f\"Ordenação (rank) dos atributos {seletor.ranking_}\")"
   ]
  },
  {
   "cell_type": "markdown",
   "metadata": {},
   "source": [
    "---------\n",
    "\n",
    "### <center> PCA </center>"
   ]
  },
  {
   "cell_type": "markdown",
   "metadata": {},
   "source": [
    "### Árvore de decisão"
   ]
  },
  {
   "cell_type": "code",
   "execution_count": 125,
   "metadata": {},
   "outputs": [
    {
     "name": "stdout",
     "output_type": "stream",
     "text": [
      "Variância explicada:\n",
      "   PC1: 0.32845878900483977\n",
      "   PC2: 0.24755517030958873\n",
      "   PC3: 0.1830414572924112\n",
      "   PC4: 0.10588172022428824\n",
      "   PC5: 0.10343086997153154\n",
      "   PC6: 0.029506601448607027\n",
      "   PC7: 0.001838563020912142\n",
      "   PC8: 0.00028682872782146037\n"
     ]
    }
   ],
   "source": [
    "from sklearn.decomposition import PCA\n",
    "pca = PCA()\n",
    "pca.fit(X_treino)\n",
    "\n",
    "variancia_explicada = pca.explained_variance_ratio_\n",
    "\n",
    "print(\"Variância explicada:\")\n",
    "for i, var_expl in enumerate(variancia_explicada):\n",
    "    print(f\"   PC{i+1}:\", var_expl)"
   ]
  },
  {
   "cell_type": "markdown",
   "metadata": {},
   "source": [
    "### Referências:\n",
    "\n",
    "[1] PEDROSO, Fábio Luís. Concreto: as origens e a evolução do material construtivo mais usado pelo homem. Concreto e construções, v. 53, p. 14-19, 2009. Disponível em: <http://ibracon.org.br/publicacoes/revistas_ibracon/rev_construcao/pdf/revista_concreto_53.pdf>. Acesso em: 8 out. de 2024.\n",
    "\n",
    "[2] CASTRO, V. G. Cimento Portland. In: Compósitos madeira-cimento: um produto sustentável para o Futuro [online]. Mossoró: EdUFERSA, 2021, pp. 13-21. ISBN: 978-65-87108-26-1. Disponível em: <https://doi.org/10.7476/9786587108612.0002>. Acesso em: 8 de out. de 2024.\n",
    "\n",
    "[3] BASTOS, Paulo Sérgio. Fundamentos do Concreto Armado: Agregados. Bauru, 2019. Disponível em: <https://wwwp.feb.unesp.br/pbastos/concreto1/Fundamentos%20CA.pdf>. Acesso em: 5 de maio de 2023\n",
    "\n",
    "[4] IBRACON. Revista IBRACON de Estruturas e Materiais, v. 53, p. 1-18, 2019. Disponível em: http://ibracon.org.br/publicacoes/revistas_ibracon/rev_construcao/pdf/revista_concreto_53.pdf. Acesso em: 10 nov. 2024.\n",
    "\n",
    "[5] Raschka, Sebastian. Model Evaluation, Model Selection, and Algorithm Selection in Machine Learning. University of Wisconsin–Madison, Department of Statistics, novembro de 2018. Disponível em: https://arxiv.org/pdf/1811.12808. Acesso em: 11 nov. 2024.\n",
    "\n",
    "[6] IBM. Multiple Linear Regression. Disponível em: https://www.ibm.com/docs/pt-br/cognos-analytics/11.2.0?topic=tests-multiple-linear-regression. Acesso em: 10 nov. 2024."
   ]
  }
 ],
 "metadata": {
  "kernelspec": {
   "display_name": "base",
   "language": "python",
   "name": "python3"
  },
  "language_info": {
   "codemirror_mode": {
    "name": "ipython",
    "version": 3
   },
   "file_extension": ".py",
   "mimetype": "text/x-python",
   "name": "python",
   "nbconvert_exporter": "python",
   "pygments_lexer": "ipython3",
   "version": "3.11.5"
  }
 },
 "nbformat": 4,
 "nbformat_minor": 2
}
