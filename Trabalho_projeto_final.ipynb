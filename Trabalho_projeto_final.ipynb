{
 "cells": [
  {
   "cell_type": "markdown",
   "metadata": {},
   "source": [
    "## <center>Trabalho de Machine Learning - Previsão da resistência à compressão do concreto</center>\n",
    "\n",
    "#### _<center>Ilum - Escola de Ciência. Campinas, SP. 2024</center>_\n",
    "\n",
    "------------"
   ]
  },
  {
   "cell_type": "code",
   "execution_count": 81,
   "metadata": {},
   "outputs": [],
   "source": [
    "import os\n",
    "import pandas as pd\n",
    "import numpy as np"
   ]
  },
  {
   "cell_type": "markdown",
   "metadata": {},
   "source": [
    "Vamos primeiramente importar os dados do dataset"
   ]
  },
  {
   "cell_type": "code",
   "execution_count": 82,
   "metadata": {},
   "outputs": [
    {
     "data": {
      "text/plain": [
       "b'C:\\\\Users\\\\emanuel24039\\\\Downloads'"
      ]
     },
     "execution_count": 82,
     "metadata": {},
     "output_type": "execute_result"
    }
   ],
   "source": [
    "os.getcwdb()"
   ]
  },
  {
   "cell_type": "code",
   "execution_count": 83,
   "metadata": {},
   "outputs": [],
   "source": [
    "os.chdir('C:/Users/emanuel24039/Downloads')"
   ]
  },
  {
   "cell_type": "markdown",
   "metadata": {},
   "source": [
    "para ler o arquivo é necessário baixar xlrd"
   ]
  },
  {
   "cell_type": "code",
   "execution_count": 84,
   "metadata": {},
   "outputs": [],
   "source": [
    "#pip install xlrd"
   ]
  },
  {
   "cell_type": "code",
   "execution_count": 85,
   "metadata": {},
   "outputs": [
    {
     "data": {
      "text/html": [
       "<div>\n",
       "<style scoped>\n",
       "    .dataframe tbody tr th:only-of-type {\n",
       "        vertical-align: middle;\n",
       "    }\n",
       "\n",
       "    .dataframe tbody tr th {\n",
       "        vertical-align: top;\n",
       "    }\n",
       "\n",
       "    .dataframe thead th {\n",
       "        text-align: right;\n",
       "    }\n",
       "</style>\n",
       "<table border=\"1\" class=\"dataframe\">\n",
       "  <thead>\n",
       "    <tr style=\"text-align: right;\">\n",
       "      <th></th>\n",
       "      <th>Cement (component 1)(kg in a m^3 mixture)</th>\n",
       "      <th>Blast Furnace Slag (component 2)(kg in a m^3 mixture)</th>\n",
       "      <th>Fly Ash (component 3)(kg in a m^3 mixture)</th>\n",
       "      <th>Water  (component 4)(kg in a m^3 mixture)</th>\n",
       "      <th>Superplasticizer (component 5)(kg in a m^3 mixture)</th>\n",
       "      <th>Coarse Aggregate  (component 6)(kg in a m^3 mixture)</th>\n",
       "      <th>Fine Aggregate (component 7)(kg in a m^3 mixture)</th>\n",
       "      <th>Age (day)</th>\n",
       "      <th>Concrete compressive strength(MPa, megapascals)</th>\n",
       "    </tr>\n",
       "  </thead>\n",
       "  <tbody>\n",
       "    <tr>\n",
       "      <th>0</th>\n",
       "      <td>540.0</td>\n",
       "      <td>0.0</td>\n",
       "      <td>0.0</td>\n",
       "      <td>162.0</td>\n",
       "      <td>2.5</td>\n",
       "      <td>1040.0</td>\n",
       "      <td>676.0</td>\n",
       "      <td>28</td>\n",
       "      <td>79.986111</td>\n",
       "    </tr>\n",
       "    <tr>\n",
       "      <th>1</th>\n",
       "      <td>540.0</td>\n",
       "      <td>0.0</td>\n",
       "      <td>0.0</td>\n",
       "      <td>162.0</td>\n",
       "      <td>2.5</td>\n",
       "      <td>1055.0</td>\n",
       "      <td>676.0</td>\n",
       "      <td>28</td>\n",
       "      <td>61.887366</td>\n",
       "    </tr>\n",
       "    <tr>\n",
       "      <th>2</th>\n",
       "      <td>332.5</td>\n",
       "      <td>142.5</td>\n",
       "      <td>0.0</td>\n",
       "      <td>228.0</td>\n",
       "      <td>0.0</td>\n",
       "      <td>932.0</td>\n",
       "      <td>594.0</td>\n",
       "      <td>270</td>\n",
       "      <td>40.269535</td>\n",
       "    </tr>\n",
       "    <tr>\n",
       "      <th>3</th>\n",
       "      <td>332.5</td>\n",
       "      <td>142.5</td>\n",
       "      <td>0.0</td>\n",
       "      <td>228.0</td>\n",
       "      <td>0.0</td>\n",
       "      <td>932.0</td>\n",
       "      <td>594.0</td>\n",
       "      <td>365</td>\n",
       "      <td>41.052780</td>\n",
       "    </tr>\n",
       "    <tr>\n",
       "      <th>4</th>\n",
       "      <td>198.6</td>\n",
       "      <td>132.4</td>\n",
       "      <td>0.0</td>\n",
       "      <td>192.0</td>\n",
       "      <td>0.0</td>\n",
       "      <td>978.4</td>\n",
       "      <td>825.5</td>\n",
       "      <td>360</td>\n",
       "      <td>44.296075</td>\n",
       "    </tr>\n",
       "    <tr>\n",
       "      <th>...</th>\n",
       "      <td>...</td>\n",
       "      <td>...</td>\n",
       "      <td>...</td>\n",
       "      <td>...</td>\n",
       "      <td>...</td>\n",
       "      <td>...</td>\n",
       "      <td>...</td>\n",
       "      <td>...</td>\n",
       "      <td>...</td>\n",
       "    </tr>\n",
       "    <tr>\n",
       "      <th>1025</th>\n",
       "      <td>276.4</td>\n",
       "      <td>116.0</td>\n",
       "      <td>90.3</td>\n",
       "      <td>179.6</td>\n",
       "      <td>8.9</td>\n",
       "      <td>870.1</td>\n",
       "      <td>768.3</td>\n",
       "      <td>28</td>\n",
       "      <td>44.284354</td>\n",
       "    </tr>\n",
       "    <tr>\n",
       "      <th>1026</th>\n",
       "      <td>322.2</td>\n",
       "      <td>0.0</td>\n",
       "      <td>115.6</td>\n",
       "      <td>196.0</td>\n",
       "      <td>10.4</td>\n",
       "      <td>817.9</td>\n",
       "      <td>813.4</td>\n",
       "      <td>28</td>\n",
       "      <td>31.178794</td>\n",
       "    </tr>\n",
       "    <tr>\n",
       "      <th>1027</th>\n",
       "      <td>148.5</td>\n",
       "      <td>139.4</td>\n",
       "      <td>108.6</td>\n",
       "      <td>192.7</td>\n",
       "      <td>6.1</td>\n",
       "      <td>892.4</td>\n",
       "      <td>780.0</td>\n",
       "      <td>28</td>\n",
       "      <td>23.696601</td>\n",
       "    </tr>\n",
       "    <tr>\n",
       "      <th>1028</th>\n",
       "      <td>159.1</td>\n",
       "      <td>186.7</td>\n",
       "      <td>0.0</td>\n",
       "      <td>175.6</td>\n",
       "      <td>11.3</td>\n",
       "      <td>989.6</td>\n",
       "      <td>788.9</td>\n",
       "      <td>28</td>\n",
       "      <td>32.768036</td>\n",
       "    </tr>\n",
       "    <tr>\n",
       "      <th>1029</th>\n",
       "      <td>260.9</td>\n",
       "      <td>100.5</td>\n",
       "      <td>78.3</td>\n",
       "      <td>200.6</td>\n",
       "      <td>8.6</td>\n",
       "      <td>864.5</td>\n",
       "      <td>761.5</td>\n",
       "      <td>28</td>\n",
       "      <td>32.401235</td>\n",
       "    </tr>\n",
       "  </tbody>\n",
       "</table>\n",
       "<p>1030 rows × 9 columns</p>\n",
       "</div>"
      ],
      "text/plain": [
       "      Cement (component 1)(kg in a m^3 mixture)  \\\n",
       "0                                         540.0   \n",
       "1                                         540.0   \n",
       "2                                         332.5   \n",
       "3                                         332.5   \n",
       "4                                         198.6   \n",
       "...                                         ...   \n",
       "1025                                      276.4   \n",
       "1026                                      322.2   \n",
       "1027                                      148.5   \n",
       "1028                                      159.1   \n",
       "1029                                      260.9   \n",
       "\n",
       "      Blast Furnace Slag (component 2)(kg in a m^3 mixture)  \\\n",
       "0                                                   0.0       \n",
       "1                                                   0.0       \n",
       "2                                                 142.5       \n",
       "3                                                 142.5       \n",
       "4                                                 132.4       \n",
       "...                                                 ...       \n",
       "1025                                              116.0       \n",
       "1026                                                0.0       \n",
       "1027                                              139.4       \n",
       "1028                                              186.7       \n",
       "1029                                              100.5       \n",
       "\n",
       "      Fly Ash (component 3)(kg in a m^3 mixture)  \\\n",
       "0                                            0.0   \n",
       "1                                            0.0   \n",
       "2                                            0.0   \n",
       "3                                            0.0   \n",
       "4                                            0.0   \n",
       "...                                          ...   \n",
       "1025                                        90.3   \n",
       "1026                                       115.6   \n",
       "1027                                       108.6   \n",
       "1028                                         0.0   \n",
       "1029                                        78.3   \n",
       "\n",
       "      Water  (component 4)(kg in a m^3 mixture)  \\\n",
       "0                                         162.0   \n",
       "1                                         162.0   \n",
       "2                                         228.0   \n",
       "3                                         228.0   \n",
       "4                                         192.0   \n",
       "...                                         ...   \n",
       "1025                                      179.6   \n",
       "1026                                      196.0   \n",
       "1027                                      192.7   \n",
       "1028                                      175.6   \n",
       "1029                                      200.6   \n",
       "\n",
       "      Superplasticizer (component 5)(kg in a m^3 mixture)  \\\n",
       "0                                                   2.5     \n",
       "1                                                   2.5     \n",
       "2                                                   0.0     \n",
       "3                                                   0.0     \n",
       "4                                                   0.0     \n",
       "...                                                 ...     \n",
       "1025                                                8.9     \n",
       "1026                                               10.4     \n",
       "1027                                                6.1     \n",
       "1028                                               11.3     \n",
       "1029                                                8.6     \n",
       "\n",
       "      Coarse Aggregate  (component 6)(kg in a m^3 mixture)  \\\n",
       "0                                                1040.0      \n",
       "1                                                1055.0      \n",
       "2                                                 932.0      \n",
       "3                                                 932.0      \n",
       "4                                                 978.4      \n",
       "...                                                 ...      \n",
       "1025                                              870.1      \n",
       "1026                                              817.9      \n",
       "1027                                              892.4      \n",
       "1028                                              989.6      \n",
       "1029                                              864.5      \n",
       "\n",
       "      Fine Aggregate (component 7)(kg in a m^3 mixture)  Age (day)  \\\n",
       "0                                                 676.0         28   \n",
       "1                                                 676.0         28   \n",
       "2                                                 594.0        270   \n",
       "3                                                 594.0        365   \n",
       "4                                                 825.5        360   \n",
       "...                                                 ...        ...   \n",
       "1025                                              768.3         28   \n",
       "1026                                              813.4         28   \n",
       "1027                                              780.0         28   \n",
       "1028                                              788.9         28   \n",
       "1029                                              761.5         28   \n",
       "\n",
       "      Concrete compressive strength(MPa, megapascals)   \n",
       "0                                            79.986111  \n",
       "1                                            61.887366  \n",
       "2                                            40.269535  \n",
       "3                                            41.052780  \n",
       "4                                            44.296075  \n",
       "...                                                ...  \n",
       "1025                                         44.284354  \n",
       "1026                                         31.178794  \n",
       "1027                                         23.696601  \n",
       "1028                                         32.768036  \n",
       "1029                                         32.401235  \n",
       "\n",
       "[1030 rows x 9 columns]"
      ]
     },
     "execution_count": 85,
     "metadata": {},
     "output_type": "execute_result"
    }
   ],
   "source": [
    "df = pd.read_excel(\"C:/Users/emanuel24039/Downloads/Concrete_Data.xls\")\n",
    "df = df.dropna() # Retira=se linhas que possuem dados NaN\n",
    "df"
   ]
  },
  {
   "cell_type": "markdown",
   "metadata": {},
   "source": [
    "Descobre-se os nomes das colunas:"
   ]
  },
  {
   "cell_type": "code",
   "execution_count": 86,
   "metadata": {},
   "outputs": [
    {
     "name": "stdout",
     "output_type": "stream",
     "text": [
      "Index(['Cement (component 1)(kg in a m^3 mixture)',\n",
      "       'Blast Furnace Slag (component 2)(kg in a m^3 mixture)',\n",
      "       'Fly Ash (component 3)(kg in a m^3 mixture)',\n",
      "       'Water  (component 4)(kg in a m^3 mixture)',\n",
      "       'Superplasticizer (component 5)(kg in a m^3 mixture)',\n",
      "       'Coarse Aggregate  (component 6)(kg in a m^3 mixture)',\n",
      "       'Fine Aggregate (component 7)(kg in a m^3 mixture)', 'Age (day)',\n",
      "       'Concrete compressive strength(MPa, megapascals) '],\n",
      "      dtype='object')\n"
     ]
    }
   ],
   "source": [
    "print(df.columns)"
   ]
  },
  {
   "cell_type": "markdown",
   "metadata": {},
   "source": [
    "Será importante posteriormente no código, sabermos quais colunas são atributos e quais são target, assim, é separado em listas os nomes deles:"
   ]
  },
  {
   "cell_type": "code",
   "execution_count": 87,
   "metadata": {},
   "outputs": [],
   "source": [
    "ATRIBUTOS = ['Cement (component 1)(kg in a m^3 mixture)', \n",
    "             'Blast Furnace Slag (component 2)(kg in a m^3 mixture)',\n",
    "             'Fly Ash (component 3)(kg in a m^3 mixture)',\n",
    "             'Water  (component 4)(kg in a m^3 mixture)',\n",
    "             'Superplasticizer (component 5)(kg in a m^3 mixture)',\n",
    "             'Coarse Aggregate  (component 6)(kg in a m^3 mixture)',\n",
    "             'Fine Aggregate (component 7)(kg in a m^3 mixture)',\n",
    "             'Age (day)']\n",
    "\n",
    "TARGET = ['Concrete compressive strength(MPa, megapascals) ']"
   ]
  },
  {
   "cell_type": "markdown",
   "metadata": {},
   "source": [
    "Vamos agora separar os dados em dados de treino e teste, isso será importante ao longo de todo o código."
   ]
  },
  {
   "cell_type": "code",
   "execution_count": 88,
   "metadata": {},
   "outputs": [],
   "source": [
    "#Importar biblioteca para fazer a separação dos dados\n",
    "from sklearn.model_selection import train_test_split\n",
    "\n",
    "# 90% dos dados serão de treino e 10% de teste\n",
    "TAMANHO_TESTE = 0.1\n",
    "\n",
    "SEMENTE_ALEATORIA = 777\n",
    "\n",
    "indices = df.index\n",
    "indices_treino, indices_teste = train_test_split(\n",
    "    indices, test_size=TAMANHO_TESTE, random_state=SEMENTE_ALEATORIA\n",
    ")\n",
    "\n",
    "df_treino = df.loc[indices_treino]\n",
    "df_teste = df.loc[indices_teste]\n",
    "\n",
    "X_treino = df_treino.reindex(ATRIBUTOS, axis=1).values\n",
    "Y_treino = df_treino.reindex(TARGET, axis=1).values.ravel()\n",
    "\n",
    "X_teste = df_teste.reindex(ATRIBUTOS, axis=1).values\n",
    "Y_teste = df_teste.reindex(TARGET, axis=1).values.ravel()\n"
   ]
  },
  {
   "cell_type": "markdown",
   "metadata": {},
   "source": [
    "---------\n",
    "\n",
    "### <center> Normalizar Dados </center>\n",
    "\n",
    "#### Normalizador Padrão:"
   ]
  },
  {
   "cell_type": "markdown",
   "metadata": {},
   "source": [
    "É vísivel abaixo que os dados do target possuem uma certa variação, então vamos normaliza-los também para fazer os modelos de regressão."
   ]
  },
  {
   "cell_type": "code",
   "execution_count": 1,
   "metadata": {},
   "outputs": [
    {
     "ename": "NameError",
     "evalue": "name 'Y_treino' is not defined",
     "output_type": "error",
     "traceback": [
      "\u001b[1;31m---------------------------------------------------------------------------\u001b[0m",
      "\u001b[1;31mNameError\u001b[0m                                 Traceback (most recent call last)",
      "\u001b[1;32mc:\\Users\\emanuel24039\\OneDrive - ILUM ESCOLA DE CIÊNCIA\\Documentos\\Estudos - vscode\\jupyter\\Aprendizado de Máquina\\Trabalho\\Trabalho_projeto_final.ipynb Célula 17\u001b[0m line \u001b[0;36m1\n\u001b[1;32m----> <a href='vscode-notebook-cell:/c%3A/Users/emanuel24039/OneDrive%20-%20ILUM%20ESCOLA%20DE%20CI%C3%8ANCIA/Documentos/Estudos%20-%20vscode/jupyter/Aprendizado%20de%20M%C3%A1quina/Trabalho/Trabalho_projeto_final.ipynb#X22sZmlsZQ%3D%3D?line=0'>1</a>\u001b[0m \u001b[39mprint\u001b[39m(\u001b[39mmin\u001b[39m(Y_treino))\n\u001b[0;32m      <a href='vscode-notebook-cell:/c%3A/Users/emanuel24039/OneDrive%20-%20ILUM%20ESCOLA%20DE%20CI%C3%8ANCIA/Documentos/Estudos%20-%20vscode/jupyter/Aprendizado%20de%20M%C3%A1quina/Trabalho/Trabalho_projeto_final.ipynb#X22sZmlsZQ%3D%3D?line=1'>2</a>\u001b[0m \u001b[39mprint\u001b[39m(\u001b[39mmax\u001b[39m(Y_treino))\n",
      "\u001b[1;31mNameError\u001b[0m: name 'Y_treino' is not defined"
     ]
    }
   ],
   "source": [
    "print(min(Y_treino))\n",
    "print(max(Y_treino))\n",
    "\n",
    "#t"
   ]
  },
  {
   "cell_type": "code",
   "execution_count": 90,
   "metadata": {},
   "outputs": [],
   "source": [
    "from sklearn.preprocessing import StandardScaler\n",
    "\n",
    "# Normalizador de X\n",
    "normalizador_padrao_X = StandardScaler()\n",
    "\n",
    "normalizador_padrao_X.fit(X_treino)\n",
    "\n",
    "X_treino_normalizado_padrao = normalizador_padrao_X.transform(X_treino)\n",
    "\n",
    "X_teste_normalizado_padrao = normalizador_padrao_X.transform(X_teste)\n",
    "\n",
    "# Nomalização de Y\n",
    "\n",
    "normalizador_padrao_Y = StandardScaler()\n",
    "\n",
    "# Remodelando Y_treino para o formato correto (matriz de uma coluna)\n",
    "normalizador_padrao_Y.fit(Y_treino.reshape(-1, 1))\n",
    "\n",
    "Y_treino_normalizado_padrao = normalizador_padrao_Y.transform(Y_treino.reshape(-1, 1)).ravel()\n",
    "\n",
    "# Transformando Y_teste com o mesmo scaler\n",
    "Y_teste_normalizado_padrao = normalizador_padrao_Y.transform(Y_teste.reshape(-1, 1)).ravel()\n"
   ]
  },
  {
   "cell_type": "markdown",
   "metadata": {},
   "source": [
    "--------------------\n",
    "\n",
    "### <center> Modelo Baseline </center>"
   ]
  },
  {
   "cell_type": "markdown",
   "metadata": {},
   "source": [
    "Primeiramente, será feito um baseline ou dummy, para podermos comparar os outros modelos a este, se os próximos modelos forem piores que este, é porquê os outros modelos são muito ruins."
   ]
  },
  {
   "cell_type": "code",
   "execution_count": 91,
   "metadata": {},
   "outputs": [
    {
     "name": "stdout",
     "output_type": "stream",
     "text": [
      "[35.45374409 35.45374409 35.45374409 35.45374409 35.45374409 35.45374409\n",
      " 35.45374409 35.45374409 35.45374409 35.45374409 35.45374409 35.45374409\n",
      " 35.45374409 35.45374409 35.45374409 35.45374409 35.45374409 35.45374409\n",
      " 35.45374409 35.45374409 35.45374409 35.45374409 35.45374409 35.45374409\n",
      " 35.45374409 35.45374409 35.45374409 35.45374409 35.45374409 35.45374409\n",
      " 35.45374409 35.45374409 35.45374409 35.45374409 35.45374409 35.45374409\n",
      " 35.45374409 35.45374409 35.45374409 35.45374409 35.45374409 35.45374409\n",
      " 35.45374409 35.45374409 35.45374409 35.45374409 35.45374409 35.45374409\n",
      " 35.45374409 35.45374409 35.45374409 35.45374409 35.45374409 35.45374409\n",
      " 35.45374409 35.45374409 35.45374409 35.45374409 35.45374409 35.45374409\n",
      " 35.45374409 35.45374409 35.45374409 35.45374409 35.45374409 35.45374409\n",
      " 35.45374409 35.45374409 35.45374409 35.45374409 35.45374409 35.45374409\n",
      " 35.45374409 35.45374409 35.45374409 35.45374409 35.45374409 35.45374409\n",
      " 35.45374409 35.45374409 35.45374409 35.45374409 35.45374409 35.45374409\n",
      " 35.45374409 35.45374409 35.45374409 35.45374409 35.45374409 35.45374409\n",
      " 35.45374409 35.45374409 35.45374409 35.45374409 35.45374409 35.45374409\n",
      " 35.45374409 35.45374409 35.45374409 35.45374409 35.45374409 35.45374409\n",
      " 35.45374409]\n"
     ]
    }
   ],
   "source": [
    "from sklearn.dummy import DummyRegressor\n",
    "\n",
    "modelo_baseline = DummyRegressor()\n",
    "\n",
    "modelo_baseline.fit(X_treino, Y_treino)\n",
    "\n",
    "y_previsto_baseline = modelo_baseline.predict(X_teste)\n",
    "\n",
    "print(y_previsto_baseline)"
   ]
  },
  {
   "cell_type": "markdown",
   "metadata": {},
   "source": [
    "Vamos computar o RMSE desse modelo:"
   ]
  },
  {
   "cell_type": "code",
   "execution_count": 92,
   "metadata": {},
   "outputs": [
    {
     "name": "stdout",
     "output_type": "stream",
     "text": [
      "18.078368524210187\n"
     ]
    }
   ],
   "source": [
    "from sklearn.metrics import mean_squared_error\n",
    "\n",
    "y_verdadeiro = Y_teste\n",
    "\n",
    "RMSE_baseline = mean_squared_error(y_verdadeiro, y_previsto_baseline, squared=False)\n",
    "print(RMSE_baseline)"
   ]
  },
  {
   "cell_type": "markdown",
   "metadata": {},
   "source": [
    "Obteve-se um RMSE alto obviamente, pois foi utilizado um modelo muito simples para esse problema, dessa forma, vamos testar outro modelos preditivos, para verificar, qual é o melhor possível, isto é, com menor RMSE."
   ]
  },
  {
   "cell_type": "markdown",
   "metadata": {},
   "source": [
    "--------------\n",
    "\n",
    "## <center> Modelo Linear Múltiplo </center>\n",
    "\n",
    "### Sem normalização dos dados:"
   ]
  },
  {
   "cell_type": "code",
   "execution_count": 93,
   "metadata": {},
   "outputs": [
    {
     "name": "stdout",
     "output_type": "stream",
     "text": [
      "[39.91961469 26.07760483 28.38423105 51.58688335 21.6175739  47.77903133\n",
      " 49.35674159 58.24280461 25.93704192 31.74666237 49.92893338 30.46748268\n",
      " 21.53815274 59.48918975 23.83017019 24.1196251  25.79883851 71.04636506\n",
      " 60.41074878 19.97398948 31.81064914 40.57355811 20.60952629 35.02391578\n",
      " 26.20284777 55.92038355 53.12102426 51.45146812 57.24212089 28.81184299\n",
      " 72.80893495 44.03555514 27.69414097 37.75935166 32.23648657 38.37175484\n",
      " 41.52579753 43.11717125 53.12102426 33.23498669 25.56164638 57.27381152\n",
      " 25.04208787 35.99381966 47.32410199 34.23010292 56.29709886 30.26754537\n",
      " 70.05973901 40.00555009 24.22166165 17.16112013 18.64240964 52.73099114\n",
      " 51.43523828 27.37735544 23.36232685 14.60231228 37.28597879 21.78649867\n",
      " 52.92849121 25.30007281 25.38360861 36.36319192 19.36776642 48.31147285\n",
      " 61.55012768 32.70815719 47.98254059 23.32304086 20.12251733 23.47387669\n",
      " 50.9792253  39.03604152 31.57688318 33.34270781 20.7523343  18.12151299\n",
      " 37.85961845 28.32200376 37.67842428 33.27815583 49.92893338 34.10193484\n",
      " 50.40861832 44.20205336 38.3588692  34.88125065 28.16487416 26.19941898\n",
      " 32.51605404 49.49706999 28.55015167 31.46489169 39.33321656 23.47252718\n",
      " 23.13724771 24.07135779 42.92904917 36.59257819 56.18009375 60.43421177\n",
      " 42.45706753]\n"
     ]
    }
   ],
   "source": [
    "from sklearn.linear_model import LinearRegression\n",
    "\n",
    "modelo_linear_multiplo = LinearRegression()\n",
    "\n",
    "modelo_linear_multiplo.fit(X_treino, Y_treino)\n",
    "\n",
    "y_previsto_linear_multiplo = modelo_linear_multiplo.predict(X_teste)\n",
    "\n",
    "print(y_previsto_linear_multiplo)\n"
   ]
  },
  {
   "cell_type": "code",
   "execution_count": 94,
   "metadata": {},
   "outputs": [
    {
     "name": "stdout",
     "output_type": "stream",
     "text": [
      "11.22409700924259\n"
     ]
    }
   ],
   "source": [
    "RMSE_linear_multiplo = mean_squared_error(y_verdadeiro, y_previsto_linear_multiplo, squared=False)\n",
    "print(RMSE_linear_multiplo)"
   ]
  },
  {
   "cell_type": "markdown",
   "metadata": {},
   "source": [
    "Vamos calcular o coeficiente de determinação ou $R^2$ para verificar o quão boa é a proporção da variação da variável dependente (target) que é explicada/predita pela variável independente (atributos). E para isso, deve-se saber se o modelo possui ou não intercepto igual a 0 ou diferente de 0."
   ]
  },
  {
   "cell_type": "code",
   "execution_count": 95,
   "metadata": {},
   "outputs": [
    {
     "name": "stdout",
     "output_type": "stream",
     "text": [
      "O intercepto é -4.71749058793489\n",
      "O intercepto é diferente de 0: True\n"
     ]
    }
   ],
   "source": [
    "print('O intercepto é {}'.format(modelo_linear_multiplo.intercept_))\n",
    "print('O intercepto é diferente de 0: {}'.format(modelo_linear_multiplo.intercept_ != 0))"
   ]
  },
  {
   "cell_type": "markdown",
   "metadata": {},
   "source": [
    "Dessa forma, podemos calcular o coeficiente de determinação da seguite forma:"
   ]
  },
  {
   "cell_type": "code",
   "execution_count": 96,
   "metadata": {},
   "outputs": [
    {
     "name": "stdout",
     "output_type": "stream",
     "text": [
      "O coeficiente de determinação do modelo foi de 0.5982399464195951 unidades de y.\n"
     ]
    }
   ],
   "source": [
    "from sklearn.metrics import r2_score\n",
    "\n",
    "R2_MODELO_LINEAR_MULTIPLO = r2_score(Y_teste, y_previsto_linear_multiplo)\n",
    "print(\"O coeficiente de determinação do modelo foi de {} unidades de y.\".format(R2_MODELO_LINEAR_MULTIPLO))\n"
   ]
  },
  {
   "cell_type": "markdown",
   "metadata": {},
   "source": [
    "### Com normalizador padrão dos dados dos atributos:"
   ]
  },
  {
   "cell_type": "markdown",
   "metadata": {},
   "source": [
    "Com o modelo linear múltiplo foi possível alcançar um RMSE menor que o baseline, mas ainda muito alto. Mas e se fizermos com os dados normalizados pelo normalizador padrão?"
   ]
  },
  {
   "cell_type": "code",
   "execution_count": 97,
   "metadata": {},
   "outputs": [
    {
     "name": "stdout",
     "output_type": "stream",
     "text": [
      "[39.91961469 26.07760483 28.38423105 51.58688335 21.6175739  47.77903133\n",
      " 49.35674159 58.24280461 25.93704192 31.74666237 49.92893338 30.46748268\n",
      " 21.53815274 59.48918975 23.83017019 24.1196251  25.79883851 71.04636506\n",
      " 60.41074878 19.97398948 31.81064914 40.57355811 20.60952629 35.02391578\n",
      " 26.20284777 55.92038355 53.12102426 51.45146812 57.24212089 28.81184299\n",
      " 72.80893495 44.03555514 27.69414097 37.75935166 32.23648657 38.37175484\n",
      " 41.52579753 43.11717125 53.12102426 33.23498669 25.56164638 57.27381152\n",
      " 25.04208787 35.99381966 47.32410199 34.23010292 56.29709886 30.26754537\n",
      " 70.05973901 40.00555009 24.22166165 17.16112013 18.64240964 52.73099114\n",
      " 51.43523828 27.37735544 23.36232685 14.60231228 37.28597879 21.78649867\n",
      " 52.92849121 25.30007281 25.38360861 36.36319192 19.36776642 48.31147285\n",
      " 61.55012768 32.70815719 47.98254059 23.32304086 20.12251733 23.47387669\n",
      " 50.9792253  39.03604152 31.57688318 33.34270781 20.7523343  18.12151299\n",
      " 37.85961845 28.32200376 37.67842428 33.27815583 49.92893338 34.10193484\n",
      " 50.40861832 44.20205336 38.3588692  34.88125065 28.16487416 26.19941898\n",
      " 32.51605404 49.49706999 28.55015167 31.46489169 39.33321656 23.47252718\n",
      " 23.13724771 24.07135779 42.92904917 36.59257819 56.18009375 60.43421177\n",
      " 42.45706753]\n"
     ]
    }
   ],
   "source": [
    "modelo_linear_multiplo_normalizado = LinearRegression()\n",
    "\n",
    "modelo_linear_multiplo_normalizado.fit(X_treino_normalizado_padrao, Y_treino)\n",
    "\n",
    "y_previsto_linear_multiplo_normalizado = modelo_linear_multiplo_normalizado.predict(X_teste_normalizado_padrao)\n",
    "\n",
    "print(y_previsto_linear_multiplo_normalizado)"
   ]
  },
  {
   "cell_type": "code",
   "execution_count": 98,
   "metadata": {},
   "outputs": [
    {
     "name": "stdout",
     "output_type": "stream",
     "text": [
      "O RMSE do modelo foi de 11.224097009242593 unidades de y.\n"
     ]
    }
   ],
   "source": [
    "RMSE_linear_multiplo_normalizado = mean_squared_error(y_verdadeiro, y_previsto_linear_multiplo_normalizado, squared=False)\n",
    "print(f\"O RMSE do modelo foi de {RMSE_linear_multiplo_normalizado} unidades de y.\")"
   ]
  },
  {
   "cell_type": "code",
   "execution_count": 99,
   "metadata": {},
   "outputs": [
    {
     "name": "stdout",
     "output_type": "stream",
     "text": [
      "O coeficiente de determinação do modelo foi de 0.5982399464195949 unidades de y.\n"
     ]
    }
   ],
   "source": [
    "R2_MODELO_LINEAR_MULTIPLO_NORMALIZADO = r2_score(y_verdadeiro, y_previsto_linear_multiplo_normalizado)\n",
    "print(\"O coeficiente de determinação do modelo foi de {} unidades de y.\".format(R2_MODELO_LINEAR_MULTIPLO_NORMALIZADO))"
   ]
  },
  {
   "cell_type": "markdown",
   "metadata": {},
   "source": [
    "### Usar Pipeline para aplicar normalização MaxAbsScaler (Pelo Máximo Absoluto)"
   ]
  },
  {
   "cell_type": "code",
   "execution_count": 100,
   "metadata": {},
   "outputs": [
    {
     "name": "stdout",
     "output_type": "stream",
     "text": [
      "O RMSE do modelo foi de 11.224097009242591 unidades de y.\n",
      "O modelo tem intercepto? True\n",
      "Valor do intercepto: -4.717490587934293\n",
      "O valor de R² do modelo é: 0.598239946419595\n"
     ]
    }
   ],
   "source": [
    "from sklearn.pipeline import make_pipeline\n",
    "from sklearn.preprocessing import MaxAbsScaler\n",
    "from sklearn.linear_model import LinearRegression\n",
    "\n",
    "modelo_linear_regression_pipeline_MaxAbsScaler = make_pipeline(\n",
    "    MaxAbsScaler(),\n",
    "    LinearRegression(),\n",
    ")\n",
    "\n",
    "modelo_linear_regression_pipeline_MaxAbsScaler.fit(X_treino, Y_treino)\n",
    "\n",
    "y_previsto_linear_regression_pipeline_MaxAbsScaler = modelo_linear_regression_pipeline_MaxAbsScaler.predict(X_teste)\n",
    "\n",
    "RMSE_pipeline_linear_regression_MaxAbsScaler = mean_squared_error(y_verdadeiro, y_previsto_linear_regression_pipeline_MaxAbsScaler) ** (1/2)\n",
    "\n",
    "print(f\"O RMSE do modelo foi de {RMSE_pipeline_linear_regression_MaxAbsScaler} unidades de y.\")\n",
    "\n",
    "\n",
    "modelo_linear_MaxAbsScaler = modelo_linear_regression_pipeline_MaxAbsScaler.named_steps['linearregression']\n",
    "\n",
    "print(f\"O modelo tem intercepto? {modelo_linear_MaxAbsScaler.fit_intercept}\")\n",
    "print(f\"Valor do intercepto: {modelo_linear_MaxAbsScaler.intercept_}\")\n",
    "\n",
    "if modelo_linear_MaxAbsScaler.intercept_ != 0:\n",
    "    R2_MODELO_LINEAR_MULTIPLO_MaxAbsScaler = r2_score(Y_teste, y_previsto_linear_regression_pipeline_MaxAbsScaler)\n",
    "    print(f\"O valor de R² do modelo é: {R2_MODELO_LINEAR_MULTIPLO_MaxAbsScaler}\")"
   ]
  },
  {
   "cell_type": "markdown",
   "metadata": {},
   "source": [
    "### Usar Pipeline para aplicar normalização MinMaxScaler (Pelo Mínimo e Máximo)"
   ]
  },
  {
   "cell_type": "code",
   "execution_count": 101,
   "metadata": {},
   "outputs": [
    {
     "name": "stdout",
     "output_type": "stream",
     "text": [
      "O RMSE do modelo foi de 11.22409700924259 unidades de y.\n",
      "O modelo tem intercepto? True\n",
      "Valor do intercepto: 3.098907596103132\n",
      "O valor de R² do modelo é: 0.5982399464195951\n"
     ]
    }
   ],
   "source": [
    "from sklearn.pipeline import make_pipeline\n",
    "from sklearn.preprocessing import MinMaxScaler\n",
    "from sklearn.linear_model import LinearRegression\n",
    "\n",
    "modelo_linear_regression_pipeline_MinMaxScaler = make_pipeline(\n",
    "    MinMaxScaler(),\n",
    "    LinearRegression(),\n",
    ")\n",
    "\n",
    "modelo_linear_regression_pipeline_MinMaxScaler.fit(X_treino, Y_treino)\n",
    "\n",
    "y_previsto_linear_regression_pipeline_MinMaxScaler = modelo_linear_regression_pipeline_MinMaxScaler.predict(X_teste)\n",
    "\n",
    "RMSE_pipeline_linear_regression_MinMaxScaler = mean_squared_error(y_verdadeiro, y_previsto_linear_regression_pipeline_MinMaxScaler) ** (1/2)\n",
    "\n",
    "print(f\"O RMSE do modelo foi de {RMSE_pipeline_linear_regression_MinMaxScaler} unidades de y.\")\n",
    "\n",
    "modelo_linear_MinMaxScaler = modelo_linear_regression_pipeline_MinMaxScaler.named_steps['linearregression']\n",
    "\n",
    "print(f\"O modelo tem intercepto? {modelo_linear_MinMaxScaler.fit_intercept}\")\n",
    "print(f\"Valor do intercepto: {modelo_linear_MinMaxScaler.intercept_}\")\n",
    "\n",
    "if modelo_linear_MinMaxScaler.intercept_ != 0:\n",
    "    R2_MODELO_LINEAR_MULTIPLO_MinMaxScaler = r2_score(Y_teste, y_previsto_linear_regression_pipeline_MinMaxScaler)\n",
    "    print(f\"O valor de R² do modelo é: {R2_MODELO_LINEAR_MULTIPLO_MinMaxScaler}\")"
   ]
  },
  {
   "cell_type": "markdown",
   "metadata": {},
   "source": [
    "As normalizações não fizeram muita diferença para este modelo regressão linear múltipla"
   ]
  },
  {
   "cell_type": "markdown",
   "metadata": {},
   "source": [
    "---------------\n",
    "\n",
    "## <center> K-vizinhos mais próximos </center>\n"
   ]
  },
  {
   "cell_type": "markdown",
   "metadata": {},
   "source": [
    "#### Sem normalização dos dados:"
   ]
  },
  {
   "cell_type": "code",
   "execution_count": 102,
   "metadata": {},
   "outputs": [
    {
     "name": "stdout",
     "output_type": "stream",
     "text": [
      "[55.61887979 20.05455859 28.81756872 43.10866609 25.53819104 32.37319645\n",
      " 47.67266889 41.34718624 15.73614057 20.29587519 33.16051238 28.10534001\n",
      " 17.26654747 62.96524657 23.77543073 18.74156646 20.52110401 45.88692605\n",
      " 79.29663476 18.10632924 36.52154372 62.80965482 13.23081461 39.38516737\n",
      " 12.85826775 55.69816953 33.16051238 37.58517536 45.73294308 29.69573132\n",
      " 64.16493481 35.66429523 39.39275161 35.5234123  29.82144578 24.33528525\n",
      " 52.24619303 45.3013311  33.16051238 37.51806637 16.34908474 59.56383164\n",
      " 39.18751759 33.25342748 39.16913156 28.33378639 56.59678659 25.60024388\n",
      " 46.40931904 52.77777902 22.29535559 18.2692754  34.32349423 56.29801365\n",
      " 37.79017956 47.58464579 34.53148616 13.12256688 40.84892492 22.04484597\n",
      " 41.56620979 20.73920825 28.84537759 19.16950123 20.18326077 52.93796728\n",
      " 54.03193587 42.66707313 39.31185309 24.16843205 22.74282551 20.20854156\n",
      " 32.24219601 59.89363099 33.88314889 35.59764588 20.2361206  21.91545431\n",
      " 30.91357576 30.86002646 35.52157369 40.40099535 33.16051238 30.6653644\n",
      " 54.99007768 50.69027552 47.61291431 39.38516737 20.15430278 12.85826775\n",
      " 39.96662547 47.73767663 33.77742924 38.82761111 28.29149853 13.617151\n",
      " 14.31742879 12.19912869 51.58199781 33.08312691 50.93159212 45.73294308\n",
      " 53.606759  ]\n"
     ]
    }
   ],
   "source": [
    "from sklearn.neighbors import KNeighborsRegressor\n",
    "\n",
    "# Criar uma instância do modelo\n",
    "NUM_VIZINHOS = 3\n",
    "modelo_knn = KNeighborsRegressor(n_neighbors=NUM_VIZINHOS)\n",
    "\n",
    "# Ajustar o modelo aos dados\n",
    "modelo_knn.fit(X_treino, Y_treino)\n",
    "\n",
    "y_previsto_knn = modelo_knn.predict(X_teste)\n",
    "print(y_previsto_knn)"
   ]
  },
  {
   "cell_type": "code",
   "execution_count": 103,
   "metadata": {},
   "outputs": [
    {
     "name": "stdout",
     "output_type": "stream",
     "text": [
      "O RMSE do modelo knn foi de 11.04203601818492 unidades de y.\n"
     ]
    }
   ],
   "source": [
    "RMSE_knn = mean_squared_error(y_verdadeiro, y_previsto_knn, squared=False)\n",
    "\n",
    "print(f\"O RMSE do modelo knn foi de {RMSE_knn} unidades de y.\")"
   ]
  },
  {
   "cell_type": "markdown",
   "metadata": {},
   "source": [
    "### Com normalização padrão dos dados dos atributos:\n",
    "\n",
    "Vamos testar com os dados normalizados pela normalização padrão."
   ]
  },
  {
   "cell_type": "code",
   "execution_count": 104,
   "metadata": {},
   "outputs": [
    {
     "name": "stdout",
     "output_type": "stream",
     "text": [
      "[55.61887979 24.32471328 28.81756872 43.10866609 30.95977065 36.08257733\n",
      " 47.67266889 46.11560226 24.26495869 25.60024388 32.66802953 28.10534001\n",
      " 24.81630967 62.96524657 23.54790365 31.55363931 20.52110401 46.11537243\n",
      " 79.29663476 12.57052643 37.86832017 62.80965482 13.23081461 39.38516737\n",
      " 15.46954319 55.69816953 32.66802953 64.72570863 45.73294308 29.69573132\n",
      " 64.16493481 38.99515378 35.66429523 37.64515977 36.26276039 24.33528525\n",
      " 53.48954808 47.12775303 32.66802953 33.77076431 16.34908474 59.56383164\n",
      " 30.64261169 31.9572126  42.45103732 24.02754912 56.59678659 25.60024388\n",
      " 50.78565303 48.30330961 26.69191421 18.2692754  33.67492714 56.29801365\n",
      " 37.79017956 47.61774064 26.28512337 15.41599388 39.4561834  22.04484597\n",
      " 41.56620979 34.74982023 28.84537759 19.16950123 20.18326077 58.85596961\n",
      " 54.03193587 41.21687528 45.59274963 24.16843205 25.35433077 20.20854156\n",
      " 32.24219601 56.45636331 33.88314889 35.72864632 20.21543632 15.02483117\n",
      " 30.91357576 30.86002646 37.19677055 40.40099535 32.66802953 34.25017995\n",
      " 54.99007768 50.35473053 47.61291431 39.38516737 20.69508179 15.46954319\n",
      " 37.97174157 47.73767663 33.77742924 38.82761111 28.14900683 13.617151\n",
      " 14.31742879 15.23443187 53.54470616 33.73583085 50.93159212 45.73294308\n",
      " 53.606759  ]\n"
     ]
    }
   ],
   "source": [
    "modelo_knn_normalizado = KNeighborsRegressor(n_neighbors=NUM_VIZINHOS)\n",
    "\n",
    "# Ajustar o modelo aos dados\n",
    "modelo_knn_normalizado.fit(X_treino_normalizado_padrao, Y_treino)\n",
    "\n",
    "y_previsto_knn_normalizado = modelo_knn_normalizado.predict(X_teste_normalizado_padrao)\n",
    "print(y_previsto_knn_normalizado)"
   ]
  },
  {
   "cell_type": "code",
   "execution_count": 105,
   "metadata": {},
   "outputs": [
    {
     "name": "stdout",
     "output_type": "stream",
     "text": [
      "O RMSE do modelo knn com dados normalizado pela normalização padrão foi de 10.409808260245157 unidades de y.\n"
     ]
    }
   ],
   "source": [
    "RMSE_knn_normalizado = mean_squared_error(y_verdadeiro, y_previsto_knn_normalizado, squared=False)\n",
    "\n",
    "print(f\"O RMSE do modelo knn com dados normalizado pela normalização padrão foi de {RMSE_knn_normalizado} unidades de y.\")"
   ]
  },
  {
   "cell_type": "markdown",
   "metadata": {},
   "source": [
    "### Usar Pipeline para aplicar normalização MaxAbsScaler (Pelo Máximo Absoluto)"
   ]
  },
  {
   "cell_type": "code",
   "execution_count": 106,
   "metadata": {},
   "outputs": [
    {
     "name": "stdout",
     "output_type": "stream",
     "text": [
      "O RMSE do modelo foi de 10.067052010903774 unidades de y.\n"
     ]
    }
   ],
   "source": [
    "from sklearn.pipeline import make_pipeline\n",
    "from sklearn.preprocessing import MaxAbsScaler\n",
    "from sklearn.neighbors import KNeighborsRegressor\n",
    "\n",
    "modelo_knn_pipeline_MaxAbsScaler = make_pipeline(\n",
    "    MaxAbsScaler(),\n",
    "    KNeighborsRegressor(n_neighbors=NUM_VIZINHOS),\n",
    ")\n",
    "\n",
    "modelo_knn_pipeline_MaxAbsScaler.fit(X_treino, Y_treino)\n",
    "\n",
    "y_previsto_knn_pipeline_MaxAbsScaler = modelo_knn_pipeline_MaxAbsScaler.predict(X_teste)\n",
    "\n",
    "RMSE_pipeline_knn_MaxAbsScaler = mean_squared_error(y_verdadeiro, y_previsto_knn_pipeline_MaxAbsScaler) ** (1/2)\n",
    "\n",
    "print(f\"O RMSE do modelo foi de {RMSE_pipeline_knn_MaxAbsScaler} unidades de y.\")"
   ]
  },
  {
   "cell_type": "markdown",
   "metadata": {},
   "source": [
    "### Usar Pipeline para aplicar normalização MinMaxScaler (Pelo Mínimo e Máximo)"
   ]
  },
  {
   "cell_type": "code",
   "execution_count": 107,
   "metadata": {},
   "outputs": [
    {
     "name": "stdout",
     "output_type": "stream",
     "text": [
      "O RMSE do modelo foi de 10.981967636066956 unidades de y.\n"
     ]
    }
   ],
   "source": [
    "from sklearn.pipeline import make_pipeline\n",
    "from sklearn.preprocessing import MinMaxScaler\n",
    "from sklearn.neighbors import KNeighborsRegressor\n",
    "\n",
    "modelo_knn_pipeline_MinMaxScaler = make_pipeline(\n",
    "    MinMaxScaler(),\n",
    "    KNeighborsRegressor(n_neighbors=NUM_VIZINHOS),\n",
    ")\n",
    "\n",
    "modelo_knn_pipeline_MinMaxScaler.fit(X_treino, Y_treino)\n",
    "\n",
    "y_previsto_knn_pipeline_MinMaxScaler = modelo_knn_pipeline_MinMaxScaler.predict(X_teste)\n",
    "\n",
    "RMSE_pipeline_knn_MinMaxScaler = mean_squared_error(y_verdadeiro, y_previsto_knn_pipeline_MinMaxScaler) ** (1/2)\n",
    "\n",
    "print(f\"O RMSE do modelo foi de {RMSE_pipeline_knn_MinMaxScaler } unidades de y.\")"
   ]
  },
  {
   "cell_type": "markdown",
   "metadata": {},
   "source": [
    "Os resultado do RMSE quando foi normalizado e quando não foi normalizado, diferem entre si, o que demostra que há uma diferença para este modelo se realiza ou não a normalização, mas não é diferença substancial."
   ]
  },
  {
   "cell_type": "markdown",
   "metadata": {},
   "source": [
    "--------------\n",
    "\n",
    "## <center> Árvore de Decisão com Otimização de Hiperparâmetros </center>"
   ]
  },
  {
   "cell_type": "markdown",
   "metadata": {},
   "source": [
    "Primeiramente, importamos o módulo \"DecisionTreeRegressor\" para realizar uma regressão com árvore de decisão"
   ]
  },
  {
   "cell_type": "code",
   "execution_count": 108,
   "metadata": {},
   "outputs": [],
   "source": [
    "from sklearn.tree import DecisionTreeRegressor"
   ]
  },
  {
   "cell_type": "markdown",
   "metadata": {},
   "source": [
    "Posteriormente, criamos uma instância utilizando um dicionário com os parâmetros"
   ]
  },
  {
   "cell_type": "code",
   "execution_count": 109,
   "metadata": {},
   "outputs": [],
   "source": [
    "def cria_instancia_modelo_arvore_de_decisao(trial):\n",
    "    \"\"\"Cria uma instância do modelo.\n",
    "\n",
    "    Args:\n",
    "      trial: objeto tipo Trial do Optuna.\n",
    "\n",
    "    Returns:\n",
    "      Uma instância do DecisionTreeRegressor.\n",
    "    \"\"\"\n",
    "    parametros_arvore_de_decisao = {\n",
    "        \"criterion\": trial.suggest_categorical(\n",
    "            \"criterio\", [\"squared_error\", \"friedman_mse\", \"absolute_error\", \"poisson\"]\n",
    "        ),\n",
    "        \"splitter\": trial.suggest_categorical(\n",
    "            \"splitter\", [\"best\", \"random\"]\n",
    "        ),\n",
    "        # Profundidade entre 2 e 32 é razoável; limitar previne overfitting.\n",
    "        \"max_depth\": trial.suggest_int(\"profundidade_max\", 2, 32),\n",
    "        \n",
    "        # min_samples_split define o mínimo de exemplos para dividir um nó.\n",
    "        \"min_samples_split\": trial.suggest_int(\n",
    "            \"min_exemplos_split\", 2, 20\n",
    "        ),\n",
    "        \n",
    "        # min_samples_leaf define o mínimo de exemplos em uma folha.\n",
    "        \"min_samples_leaf\": trial.suggest_int(\n",
    "            \"min_exemplos_folha\", 1, 20\n",
    "        ),\n",
    "        \n",
    "        # max_features pode ser um valor numérico ou uma razão ('sqrt', 'log2').\n",
    "        \"max_features\": trial.suggest_categorical(\n",
    "            \"num_max_atributos\", [\"sqrt\", \"log2\", None]\n",
    "        ),\n",
    "        \n",
    "        # Fixa a aleatoriedade para reprodutibilidade.\n",
    "        \"random_state\": SEMENTE_ALEATORIA,\n",
    "    }\n",
    "\n",
    "    modelo_arvore_de_decisao = DecisionTreeRegressor(**parametros_arvore_de_decisao)\n",
    "\n",
    "    return modelo_arvore_de_decisao\n"
   ]
  },
  {
   "cell_type": "markdown",
   "metadata": {},
   "source": [
    "Definição da função objetivo"
   ]
  },
  {
   "cell_type": "code",
   "execution_count": 110,
   "metadata": {},
   "outputs": [],
   "source": [
    "from sklearn.model_selection import cross_val_score\n",
    "\n",
    "def funcao_objetivo_arvore_de_decisao(trial, X_treino, Y_treino, num_folds):\n",
    "    \"\"\"Função objetivo do optuna\n",
    "\n",
    "    Referencia:\n",
    "      https://medium.com/@walter_sperat/ using-optuna-with-sklearn-the-right-way-part-1-6b4ad0ab2451\n",
    "\n",
    "    \"\"\"\n",
    "    modelo_arvore_de_decisao = cria_instancia_modelo_arvore_de_decisao(trial)\n",
    "\n",
    "    metricas_arvore_de_decisao = cross_val_score(\n",
    "        modelo_arvore_de_decisao,\n",
    "        X_treino,\n",
    "        Y_treino,\n",
    "        scoring=\"neg_root_mean_squared_error\",\n",
    "        cv=num_folds,\n",
    "    )\n",
    "\n",
    "    # releia sobre scores no sklearn para relembrar porque tem um negativo abaixo\n",
    "    return -metricas_arvore_de_decisao.mean()"
   ]
  },
  {
   "cell_type": "markdown",
   "metadata": {},
   "source": [
    "Criação de um estudo para a otimização de hiperparâmetros"
   ]
  },
  {
   "cell_type": "code",
   "execution_count": 111,
   "metadata": {},
   "outputs": [
    {
     "name": "stderr",
     "output_type": "stream",
     "text": [
      "[I 2024-11-10 21:55:15,215] Using an existing study with name 'arvore_aleatoria_Concrete_compressive_strength_4' instead of creating a new one.\n"
     ]
    }
   ],
   "source": [
    "from optuna import create_study\n",
    "\n",
    "NOME_DO_ESTUDO_ARVORE_DE_DECISAO = \"arvore_aleatoria_Concrete_compressive_strength_4\"\n",
    "\n",
    "objeto_de_estudo_arvore_de_decisao = create_study(\n",
    "    direction=\"minimize\",\n",
    "    study_name=NOME_DO_ESTUDO_ARVORE_DE_DECISAO,\n",
    "    storage=f\"sqlite:///{NOME_DO_ESTUDO_ARVORE_DE_DECISAO}.db\",\n",
    "    load_if_exists=True,\n",
    ")"
   ]
  },
  {
   "cell_type": "markdown",
   "metadata": {},
   "source": [
    "Quantidade de folds e definição da função parcial"
   ]
  },
  {
   "cell_type": "code",
   "execution_count": 112,
   "metadata": {},
   "outputs": [],
   "source": [
    "NUM_FOLDS_ARVORE_DE_DECISAO = 10\n",
    "\n",
    "def funcao_objetivo_parcial_arvore_de_decisao(trial):\n",
    "    return funcao_objetivo_arvore_de_decisao(trial, X_treino, Y_treino, NUM_FOLDS_ARVORE_DE_DECISAO)"
   ]
  },
  {
   "cell_type": "markdown",
   "metadata": {},
   "source": [
    "Número de tentativas e execução da otimização de parâmetros"
   ]
  },
  {
   "cell_type": "code",
   "execution_count": 113,
   "metadata": {},
   "outputs": [
    {
     "name": "stderr",
     "output_type": "stream",
     "text": [
      "[I 2024-11-10 21:55:15,990] Trial 500 finished with value: 7.175803215630348 and parameters: {'criterio': 'poisson', 'splitter': 'random', 'profundidade_max': 15, 'min_exemplos_split': 6, 'min_exemplos_folha': 2, 'num_max_atributos': None}. Best is trial 225 with value: 6.187004453965237.\n",
      "[I 2024-11-10 21:55:16,454] Trial 501 finished with value: 6.214732184676564 and parameters: {'criterio': 'poisson', 'splitter': 'best', 'profundidade_max': 14, 'min_exemplos_split': 7, 'min_exemplos_folha': 1, 'num_max_atributos': None}. Best is trial 225 with value: 6.187004453965237.\n",
      "[I 2024-11-10 21:55:16,864] Trial 502 finished with value: 6.187004453965237 and parameters: {'criterio': 'poisson', 'splitter': 'best', 'profundidade_max': 15, 'min_exemplos_split': 7, 'min_exemplos_folha': 1, 'num_max_atributos': None}. Best is trial 225 with value: 6.187004453965237.\n",
      "[I 2024-11-10 21:55:17,359] Trial 503 finished with value: 6.572671339626223 and parameters: {'criterio': 'poisson', 'splitter': 'best', 'profundidade_max': 14, 'min_exemplos_split': 6, 'min_exemplos_folha': 2, 'num_max_atributos': None}. Best is trial 225 with value: 6.187004453965237.\n",
      "[I 2024-11-10 21:55:17,705] Trial 504 finished with value: 7.638264187272536 and parameters: {'criterio': 'poisson', 'splitter': 'best', 'profundidade_max': 16, 'min_exemplos_split': 7, 'min_exemplos_folha': 14, 'num_max_atributos': None}. Best is trial 225 with value: 6.187004453965237.\n",
      "[I 2024-11-10 21:55:18,105] Trial 505 finished with value: 6.247554560341888 and parameters: {'criterio': 'poisson', 'splitter': 'best', 'profundidade_max': 15, 'min_exemplos_split': 8, 'min_exemplos_folha': 1, 'num_max_atributos': None}. Best is trial 225 with value: 6.187004453965237.\n",
      "[I 2024-11-10 21:55:18,507] Trial 506 finished with value: 6.214732184676564 and parameters: {'criterio': 'poisson', 'splitter': 'best', 'profundidade_max': 14, 'min_exemplos_split': 7, 'min_exemplos_folha': 1, 'num_max_atributos': None}. Best is trial 225 with value: 6.187004453965237.\n"
     ]
    },
    {
     "name": "stderr",
     "output_type": "stream",
     "text": [
      "[I 2024-11-10 21:55:19,027] Trial 507 finished with value: 6.401582508392859 and parameters: {'criterio': 'poisson', 'splitter': 'best', 'profundidade_max': 16, 'min_exemplos_split': 6, 'min_exemplos_folha': 1, 'num_max_atributos': None}. Best is trial 225 with value: 6.187004453965237.\n",
      "[I 2024-11-10 21:55:19,401] Trial 508 finished with value: 6.559179083512309 and parameters: {'criterio': 'poisson', 'splitter': 'best', 'profundidade_max': 15, 'min_exemplos_split': 7, 'min_exemplos_folha': 2, 'num_max_atributos': None}. Best is trial 225 with value: 6.187004453965237.\n",
      "[I 2024-11-10 21:55:19,827] Trial 509 finished with value: 6.324501127212104 and parameters: {'criterio': 'poisson', 'splitter': 'best', 'profundidade_max': 17, 'min_exemplos_split': 4, 'min_exemplos_folha': 1, 'num_max_atributos': None}. Best is trial 225 with value: 6.187004453965237.\n",
      "[I 2024-11-10 21:55:20,153] Trial 510 finished with value: 7.253014064826654 and parameters: {'criterio': 'poisson', 'splitter': 'best', 'profundidade_max': 15, 'min_exemplos_split': 8, 'min_exemplos_folha': 6, 'num_max_atributos': None}. Best is trial 225 with value: 6.187004453965237.\n",
      "[I 2024-11-10 21:55:20,642] Trial 511 finished with value: 6.214732184676564 and parameters: {'criterio': 'poisson', 'splitter': 'best', 'profundidade_max': 14, 'min_exemplos_split': 7, 'min_exemplos_folha': 1, 'num_max_atributos': None}. Best is trial 225 with value: 6.187004453965237.\n",
      "[I 2024-11-10 21:55:20,989] Trial 512 finished with value: 6.931488358394615 and parameters: {'criterio': 'poisson', 'splitter': 'best', 'profundidade_max': 16, 'min_exemplos_split': 17, 'min_exemplos_folha': 1, 'num_max_atributos': None}. Best is trial 225 with value: 6.187004453965237.\n",
      "[I 2024-11-10 21:55:21,296] Trial 513 finished with value: 7.693460316414161 and parameters: {'criterio': 'poisson', 'splitter': 'best', 'profundidade_max': 15, 'min_exemplos_split': 10, 'min_exemplos_folha': 15, 'num_max_atributos': None}. Best is trial 225 with value: 6.187004453965237.\n",
      "[I 2024-11-10 21:55:21,676] Trial 514 finished with value: 6.452845196686004 and parameters: {'criterio': 'squared_error', 'splitter': 'best', 'profundidade_max': 14, 'min_exemplos_split': 7, 'min_exemplos_folha': 2, 'num_max_atributos': None}. Best is trial 225 with value: 6.187004453965237.\n",
      "[I 2024-11-10 21:55:21,960] Trial 515 finished with value: 7.839662308555641 and parameters: {'criterio': 'poisson', 'splitter': 'best', 'profundidade_max': 16, 'min_exemplos_split': 6, 'min_exemplos_folha': 2, 'num_max_atributos': 'sqrt'}. Best is trial 225 with value: 6.187004453965237.\n",
      "[I 2024-11-10 21:55:22,339] Trial 516 finished with value: 6.593401686808567 and parameters: {'criterio': 'poisson', 'splitter': 'best', 'profundidade_max': 15, 'min_exemplos_split': 13, 'min_exemplos_folha': 1, 'num_max_atributos': None}. Best is trial 225 with value: 6.187004453965237.\n",
      "[I 2024-11-10 21:55:22,735] Trial 517 finished with value: 6.321285818083129 and parameters: {'criterio': 'poisson', 'splitter': 'best', 'profundidade_max': 14, 'min_exemplos_split': 8, 'min_exemplos_folha': 1, 'num_max_atributos': None}. Best is trial 225 with value: 6.187004453965237.\n",
      "[I 2024-11-10 21:55:23,021] Trial 518 finished with value: 6.6837455502622465 and parameters: {'criterio': 'poisson', 'splitter': 'random', 'profundidade_max': 15, 'min_exemplos_split': 7, 'min_exemplos_folha': 1, 'num_max_atributos': None}. Best is trial 225 with value: 6.187004453965237.\n",
      "[I 2024-11-10 21:55:23,410] Trial 519 finished with value: 6.588490473927051 and parameters: {'criterio': 'poisson', 'splitter': 'best', 'profundidade_max': 16, 'min_exemplos_split': 7, 'min_exemplos_folha': 2, 'num_max_atributos': None}. Best is trial 225 with value: 6.187004453965237.\n",
      "[I 2024-11-10 21:55:23,900] Trial 520 finished with value: 8.69598303385418 and parameters: {'criterio': 'absolute_error', 'splitter': 'best', 'profundidade_max': 17, 'min_exemplos_split': 7, 'min_exemplos_folha': 3, 'num_max_atributos': 'log2'}. Best is trial 225 with value: 6.187004453965237.\n",
      "[I 2024-11-10 21:55:24,263] Trial 521 finished with value: 6.321285818083129 and parameters: {'criterio': 'poisson', 'splitter': 'best', 'profundidade_max': 14, 'min_exemplos_split': 8, 'min_exemplos_folha': 1, 'num_max_atributos': None}. Best is trial 225 with value: 6.187004453965237.\n",
      "[I 2024-11-10 21:55:24,677] Trial 522 finished with value: 6.385565705891784 and parameters: {'criterio': 'poisson', 'splitter': 'best', 'profundidade_max': 15, 'min_exemplos_split': 9, 'min_exemplos_folha': 1, 'num_max_atributos': None}. Best is trial 225 with value: 6.187004453965237.\n",
      "[I 2024-11-10 21:55:25,088] Trial 523 finished with value: 6.380109611324102 and parameters: {'criterio': 'poisson', 'splitter': 'best', 'profundidade_max': 16, 'min_exemplos_split': 5, 'min_exemplos_folha': 1, 'num_max_atributos': None}. Best is trial 225 with value: 6.187004453965237.\n",
      "[I 2024-11-10 21:55:25,463] Trial 524 finished with value: 6.593483406629218 and parameters: {'criterio': 'poisson', 'splitter': 'best', 'profundidade_max': 15, 'min_exemplos_split': 6, 'min_exemplos_folha': 2, 'num_max_atributos': None}. Best is trial 225 with value: 6.187004453965237.\n",
      "[I 2024-11-10 21:55:25,856] Trial 525 finished with value: 6.214732184676564 and parameters: {'criterio': 'poisson', 'splitter': 'best', 'profundidade_max': 14, 'min_exemplos_split': 7, 'min_exemplos_folha': 1, 'num_max_atributos': None}. Best is trial 225 with value: 6.187004453965237.\n",
      "[I 2024-11-10 21:55:26,236] Trial 526 finished with value: 6.9669464164544594 and parameters: {'criterio': 'poisson', 'splitter': 'best', 'profundidade_max': 16, 'min_exemplos_split': 6, 'min_exemplos_folha': 5, 'num_max_atributos': None}. Best is trial 225 with value: 6.187004453965237.\n",
      "[I 2024-11-10 21:55:26,632] Trial 527 finished with value: 6.247554560341888 and parameters: {'criterio': 'poisson', 'splitter': 'best', 'profundidade_max': 15, 'min_exemplos_split': 8, 'min_exemplos_folha': 1, 'num_max_atributos': None}. Best is trial 225 with value: 6.187004453965237.\n",
      "[I 2024-11-10 21:55:27,031] Trial 528 finished with value: 6.551441781152365 and parameters: {'criterio': 'poisson', 'splitter': 'best', 'profundidade_max': 14, 'min_exemplos_split': 7, 'min_exemplos_folha': 2, 'num_max_atributos': None}. Best is trial 225 with value: 6.187004453965237.\n",
      "[I 2024-11-10 21:55:27,346] Trial 529 finished with value: 7.794300990898702 and parameters: {'criterio': 'poisson', 'splitter': 'best', 'profundidade_max': 15, 'min_exemplos_split': 7, 'min_exemplos_folha': 16, 'num_max_atributos': None}. Best is trial 225 with value: 6.187004453965237.\n",
      "[I 2024-11-10 21:55:27,726] Trial 530 finished with value: 6.276486853182209 and parameters: {'criterio': 'poisson', 'splitter': 'best', 'profundidade_max': 16, 'min_exemplos_split': 7, 'min_exemplos_folha': 1, 'num_max_atributos': None}. Best is trial 225 with value: 6.187004453965237.\n",
      "[I 2024-11-10 21:55:28,152] Trial 531 finished with value: 6.245910083496395 and parameters: {'criterio': 'poisson', 'splitter': 'best', 'profundidade_max': 17, 'min_exemplos_split': 7, 'min_exemplos_folha': 1, 'num_max_atributos': None}. Best is trial 225 with value: 6.187004453965237.\n",
      "[I 2024-11-10 21:55:28,549] Trial 532 finished with value: 6.572671339626223 and parameters: {'criterio': 'poisson', 'splitter': 'best', 'profundidade_max': 14, 'min_exemplos_split': 6, 'min_exemplos_folha': 2, 'num_max_atributos': None}. Best is trial 225 with value: 6.187004453965237.\n",
      "[I 2024-11-10 21:55:28,916] Trial 533 finished with value: 6.247554560341888 and parameters: {'criterio': 'poisson', 'splitter': 'best', 'profundidade_max': 15, 'min_exemplos_split': 8, 'min_exemplos_folha': 1, 'num_max_atributos': None}. Best is trial 225 with value: 6.187004453965237.\n",
      "[I 2024-11-10 21:55:29,308] Trial 534 finished with value: 6.742187538261925 and parameters: {'criterio': 'poisson', 'splitter': 'best', 'profundidade_max': 16, 'min_exemplos_split': 14, 'min_exemplos_folha': 1, 'num_max_atributos': None}. Best is trial 225 with value: 6.187004453965237.\n",
      "[I 2024-11-10 21:55:29,599] Trial 535 finished with value: 7.768516139511884 and parameters: {'criterio': 'poisson', 'splitter': 'best', 'profundidade_max': 15, 'min_exemplos_split': 7, 'min_exemplos_folha': 17, 'num_max_atributos': None}. Best is trial 225 with value: 6.187004453965237.\n",
      "[I 2024-11-10 21:55:29,917] Trial 536 finished with value: 8.587791894050717 and parameters: {'criterio': 'poisson', 'splitter': 'best', 'profundidade_max': 15, 'min_exemplos_split': 15, 'min_exemplos_folha': 1, 'num_max_atributos': 'sqrt'}. Best is trial 225 with value: 6.187004453965237.\n",
      "[I 2024-11-10 21:55:30,176] Trial 537 finished with value: 7.379399486120745 and parameters: {'criterio': 'squared_error', 'splitter': 'random', 'profundidade_max': 14, 'min_exemplos_split': 8, 'min_exemplos_folha': 2, 'num_max_atributos': None}. Best is trial 225 with value: 6.187004453965237.\n",
      "[I 2024-11-10 21:55:30,602] Trial 538 finished with value: 6.604092886252694 and parameters: {'criterio': 'poisson', 'splitter': 'best', 'profundidade_max': 16, 'min_exemplos_split': 6, 'min_exemplos_folha': 2, 'num_max_atributos': None}. Best is trial 225 with value: 6.187004453965237.\n",
      "[I 2024-11-10 21:55:30,967] Trial 539 finished with value: 6.187004453965237 and parameters: {'criterio': 'poisson', 'splitter': 'best', 'profundidade_max': 15, 'min_exemplos_split': 7, 'min_exemplos_folha': 1, 'num_max_atributos': None}. Best is trial 225 with value: 6.187004453965237.\n",
      "[I 2024-11-10 21:55:31,372] Trial 540 finished with value: 6.214732184676564 and parameters: {'criterio': 'poisson', 'splitter': 'best', 'profundidade_max': 14, 'min_exemplos_split': 7, 'min_exemplos_folha': 1, 'num_max_atributos': None}. Best is trial 225 with value: 6.187004453965237.\n",
      "[I 2024-11-10 21:55:31,762] Trial 541 finished with value: 6.187004453965237 and parameters: {'criterio': 'poisson', 'splitter': 'best', 'profundidade_max': 15, 'min_exemplos_split': 7, 'min_exemplos_folha': 1, 'num_max_atributos': None}. Best is trial 225 with value: 6.187004453965237.\n",
      "[I 2024-11-10 21:55:32,033] Trial 542 finished with value: 7.564037846788011 and parameters: {'criterio': 'poisson', 'splitter': 'best', 'profundidade_max': 17, 'min_exemplos_split': 8, 'min_exemplos_folha': 2, 'num_max_atributos': 'log2'}. Best is trial 225 with value: 6.187004453965237.\n",
      "[I 2024-11-10 21:55:32,435] Trial 543 finished with value: 6.401582508392859 and parameters: {'criterio': 'poisson', 'splitter': 'best', 'profundidade_max': 16, 'min_exemplos_split': 6, 'min_exemplos_folha': 1, 'num_max_atributos': None}. Best is trial 225 with value: 6.187004453965237.\n",
      "[I 2024-11-10 21:55:33,302] Trial 544 finished with value: 6.593233667076146 and parameters: {'criterio': 'absolute_error', 'splitter': 'best', 'profundidade_max': 14, 'min_exemplos_split': 7, 'min_exemplos_folha': 1, 'num_max_atributos': None}. Best is trial 225 with value: 6.187004453965237.\n",
      "[I 2024-11-10 21:55:33,665] Trial 545 finished with value: 6.559179083512309 and parameters: {'criterio': 'poisson', 'splitter': 'best', 'profundidade_max': 15, 'min_exemplos_split': 7, 'min_exemplos_folha': 2, 'num_max_atributos': None}. Best is trial 225 with value: 6.187004453965237.\n",
      "[I 2024-11-10 21:55:34,033] Trial 546 finished with value: 6.370383543169315 and parameters: {'criterio': 'poisson', 'splitter': 'best', 'profundidade_max': 13, 'min_exemplos_split': 8, 'min_exemplos_folha': 1, 'num_max_atributos': None}. Best is trial 225 with value: 6.187004453965237.\n",
      "[I 2024-11-10 21:55:34,419] Trial 547 finished with value: 6.276486853182209 and parameters: {'criterio': 'poisson', 'splitter': 'best', 'profundidade_max': 16, 'min_exemplos_split': 7, 'min_exemplos_folha': 1, 'num_max_atributos': None}. Best is trial 225 with value: 6.187004453965237.\n",
      "[I 2024-11-10 21:55:34,780] Trial 548 finished with value: 6.5954530425829505 and parameters: {'criterio': 'poisson', 'splitter': 'best', 'profundidade_max': 15, 'min_exemplos_split': 6, 'min_exemplos_folha': 3, 'num_max_atributos': None}. Best is trial 225 with value: 6.187004453965237.\n",
      "[I 2024-11-10 21:55:35,150] Trial 549 finished with value: 6.551441781152365 and parameters: {'criterio': 'poisson', 'splitter': 'best', 'profundidade_max': 14, 'min_exemplos_split': 7, 'min_exemplos_folha': 2, 'num_max_atributos': None}. Best is trial 225 with value: 6.187004453965237.\n",
      "[I 2024-11-10 21:55:35,450] Trial 550 finished with value: 7.525861420986738 and parameters: {'criterio': 'poisson', 'splitter': 'best', 'profundidade_max': 15, 'min_exemplos_split': 8, 'min_exemplos_folha': 12, 'num_max_atributos': None}. Best is trial 225 with value: 6.187004453965237.\n",
      "[I 2024-11-10 21:55:35,873] Trial 551 finished with value: 6.401582508392859 and parameters: {'criterio': 'poisson', 'splitter': 'best', 'profundidade_max': 16, 'min_exemplos_split': 6, 'min_exemplos_folha': 1, 'num_max_atributos': None}. Best is trial 225 with value: 6.187004453965237.\n",
      "[I 2024-11-10 21:55:36,302] Trial 552 finished with value: 6.214732184676564 and parameters: {'criterio': 'poisson', 'splitter': 'best', 'profundidade_max': 14, 'min_exemplos_split': 7, 'min_exemplos_folha': 1, 'num_max_atributos': None}. Best is trial 225 with value: 6.187004453965237.\n",
      "[I 2024-11-10 21:55:36,709] Trial 553 finished with value: 6.559179083512309 and parameters: {'criterio': 'poisson', 'splitter': 'best', 'profundidade_max': 15, 'min_exemplos_split': 7, 'min_exemplos_folha': 2, 'num_max_atributos': None}. Best is trial 225 with value: 6.187004453965237.\n",
      "[I 2024-11-10 21:55:36,999] Trial 554 finished with value: 7.425552200469042 and parameters: {'criterio': 'poisson', 'splitter': 'best', 'profundidade_max': 16, 'min_exemplos_split': 7, 'min_exemplos_folha': 8, 'num_max_atributos': None}. Best is trial 225 with value: 6.187004453965237.\n",
      "[I 2024-11-10 21:55:37,351] Trial 555 finished with value: 6.375322571017607 and parameters: {'criterio': 'poisson', 'splitter': 'best', 'profundidade_max': 17, 'min_exemplos_split': 8, 'min_exemplos_folha': 1, 'num_max_atributos': None}. Best is trial 225 with value: 6.187004453965237.\n",
      "[I 2024-11-10 21:55:37,732] Trial 556 finished with value: 6.4507579572845914 and parameters: {'criterio': 'poisson', 'splitter': 'best', 'profundidade_max': 15, 'min_exemplos_split': 6, 'min_exemplos_folha': 1, 'num_max_atributos': None}. Best is trial 225 with value: 6.187004453965237.\n",
      "[I 2024-11-10 21:55:37,979] Trial 557 finished with value: 6.919316499675896 and parameters: {'criterio': 'poisson', 'splitter': 'random', 'profundidade_max': 13, 'min_exemplos_split': 7, 'min_exemplos_folha': 1, 'num_max_atributos': None}. Best is trial 225 with value: 6.187004453965237.\n",
      "[I 2024-11-10 21:55:38,316] Trial 558 finished with value: 6.561718663717352 and parameters: {'criterio': 'poisson', 'splitter': 'best', 'profundidade_max': 14, 'min_exemplos_split': 8, 'min_exemplos_folha': 2, 'num_max_atributos': None}. Best is trial 225 with value: 6.187004453965237.\n",
      "[I 2024-11-10 21:55:38,589] Trial 559 finished with value: 7.812299543251174 and parameters: {'criterio': 'poisson', 'splitter': 'best', 'profundidade_max': 15, 'min_exemplos_split': 6, 'min_exemplos_folha': 1, 'num_max_atributos': 'sqrt'}. Best is trial 225 with value: 6.187004453965237.\n",
      "[I 2024-11-10 21:55:38,984] Trial 560 finished with value: 6.3539763819059605 and parameters: {'criterio': 'squared_error', 'splitter': 'best', 'profundidade_max': 16, 'min_exemplos_split': 7, 'min_exemplos_folha': 1, 'num_max_atributos': None}. Best is trial 225 with value: 6.187004453965237.\n",
      "[I 2024-11-10 21:55:39,373] Trial 561 finished with value: 6.214732184676564 and parameters: {'criterio': 'poisson', 'splitter': 'best', 'profundidade_max': 14, 'min_exemplos_split': 7, 'min_exemplos_folha': 1, 'num_max_atributos': None}. Best is trial 225 with value: 6.187004453965237.\n",
      "[I 2024-11-10 21:55:39,777] Trial 562 finished with value: 6.559179083512309 and parameters: {'criterio': 'poisson', 'splitter': 'best', 'profundidade_max': 15, 'min_exemplos_split': 7, 'min_exemplos_folha': 2, 'num_max_atributos': None}. Best is trial 225 with value: 6.187004453965237.\n",
      "[I 2024-11-10 21:55:40,166] Trial 563 finished with value: 6.276486853182209 and parameters: {'criterio': 'poisson', 'splitter': 'best', 'profundidade_max': 16, 'min_exemplos_split': 7, 'min_exemplos_folha': 1, 'num_max_atributos': None}. Best is trial 225 with value: 6.187004453965237.\n",
      "[I 2024-11-10 21:55:40,485] Trial 564 finished with value: 7.356144778232315 and parameters: {'criterio': 'poisson', 'splitter': 'best', 'profundidade_max': 15, 'min_exemplos_split': 8, 'min_exemplos_folha': 1, 'num_max_atributos': 'log2'}. Best is trial 225 with value: 6.187004453965237.\n",
      "[I 2024-11-10 21:55:40,952] Trial 565 finished with value: 6.620045785032646 and parameters: {'criterio': 'poisson', 'splitter': 'best', 'profundidade_max': 14, 'min_exemplos_split': 5, 'min_exemplos_folha': 2, 'num_max_atributos': None}. Best is trial 225 with value: 6.187004453965237.\n",
      "[I 2024-11-10 21:55:41,336] Trial 566 finished with value: 6.310328457263429 and parameters: {'criterio': 'poisson', 'splitter': 'best', 'profundidade_max': 17, 'min_exemplos_split': 6, 'min_exemplos_folha': 1, 'num_max_atributos': None}. Best is trial 225 with value: 6.187004453965237.\n",
      "[I 2024-11-10 21:55:42,190] Trial 567 finished with value: 6.509396068988624 and parameters: {'criterio': 'absolute_error', 'splitter': 'best', 'profundidade_max': 16, 'min_exemplos_split': 7, 'min_exemplos_folha': 2, 'num_max_atributos': None}. Best is trial 225 with value: 6.187004453965237.\n",
      "[I 2024-11-10 21:55:42,557] Trial 568 finished with value: 6.187004453965237 and parameters: {'criterio': 'poisson', 'splitter': 'best', 'profundidade_max': 15, 'min_exemplos_split': 7, 'min_exemplos_folha': 1, 'num_max_atributos': None}. Best is trial 225 with value: 6.187004453965237.\n",
      "[I 2024-11-10 21:55:42,958] Trial 569 finished with value: 6.258972509635642 and parameters: {'criterio': 'poisson', 'splitter': 'best', 'profundidade_max': 13, 'min_exemplos_split': 6, 'min_exemplos_folha': 1, 'num_max_atributos': None}. Best is trial 225 with value: 6.187004453965237.\n",
      "[I 2024-11-10 21:55:43,267] Trial 570 finished with value: 7.44249665729883 and parameters: {'criterio': 'poisson', 'splitter': 'best', 'profundidade_max': 14, 'min_exemplos_split': 8, 'min_exemplos_folha': 10, 'num_max_atributos': None}. Best is trial 225 with value: 6.187004453965237.\n",
      "[I 2024-11-10 21:55:43,628] Trial 571 finished with value: 7.471895673790162 and parameters: {'criterio': 'poisson', 'splitter': 'best', 'profundidade_max': 15, 'min_exemplos_split': 7, 'min_exemplos_folha': 9, 'num_max_atributos': None}. Best is trial 225 with value: 6.187004453965237.\n",
      "[I 2024-11-10 21:55:44,039] Trial 572 finished with value: 6.276486853182209 and parameters: {'criterio': 'poisson', 'splitter': 'best', 'profundidade_max': 16, 'min_exemplos_split': 7, 'min_exemplos_folha': 1, 'num_max_atributos': None}. Best is trial 225 with value: 6.187004453965237.\n",
      "[I 2024-11-10 21:55:44,339] Trial 573 finished with value: 8.011508990366853 and parameters: {'criterio': 'poisson', 'splitter': 'best', 'profundidade_max': 15, 'min_exemplos_split': 8, 'min_exemplos_folha': 20, 'num_max_atributos': None}. Best is trial 225 with value: 6.187004453965237.\n",
      "[I 2024-11-10 21:55:44,687] Trial 574 finished with value: 6.551441781152365 and parameters: {'criterio': 'poisson', 'splitter': 'best', 'profundidade_max': 14, 'min_exemplos_split': 7, 'min_exemplos_folha': 2, 'num_max_atributos': None}. Best is trial 225 with value: 6.187004453965237.\n",
      "[I 2024-11-10 21:55:45,049] Trial 575 finished with value: 6.4507579572845914 and parameters: {'criterio': 'poisson', 'splitter': 'best', 'profundidade_max': 15, 'min_exemplos_split': 6, 'min_exemplos_folha': 1, 'num_max_atributos': None}. Best is trial 225 with value: 6.187004453965237.\n",
      "[I 2024-11-10 21:55:45,412] Trial 576 finished with value: 6.588490473927051 and parameters: {'criterio': 'poisson', 'splitter': 'best', 'profundidade_max': 16, 'min_exemplos_split': 7, 'min_exemplos_folha': 2, 'num_max_atributos': None}. Best is trial 225 with value: 6.187004453965237.\n",
      "[I 2024-11-10 21:55:45,682] Trial 577 finished with value: 6.76169285924932 and parameters: {'criterio': 'poisson', 'splitter': 'random', 'profundidade_max': 16, 'min_exemplos_split': 7, 'min_exemplos_folha': 1, 'num_max_atributos': None}. Best is trial 225 with value: 6.187004453965237.\n",
      "[I 2024-11-10 21:55:46,097] Trial 578 finished with value: 6.4620790876627066 and parameters: {'criterio': 'poisson', 'splitter': 'best', 'profundidade_max': 14, 'min_exemplos_split': 6, 'min_exemplos_folha': 1, 'num_max_atributos': None}. Best is trial 225 with value: 6.187004453965237.\n",
      "[I 2024-11-10 21:55:46,495] Trial 579 finished with value: 6.375322571017607 and parameters: {'criterio': 'poisson', 'splitter': 'best', 'profundidade_max': 17, 'min_exemplos_split': 8, 'min_exemplos_folha': 1, 'num_max_atributos': None}. Best is trial 225 with value: 6.187004453965237.\n",
      "[I 2024-11-10 21:55:46,803] Trial 580 finished with value: 8.16185559850507 and parameters: {'criterio': 'poisson', 'splitter': 'best', 'profundidade_max': 15, 'min_exemplos_split': 8, 'min_exemplos_folha': 2, 'num_max_atributos': 'sqrt'}. Best is trial 225 with value: 6.187004453965237.\n",
      "[I 2024-11-10 21:55:47,207] Trial 581 finished with value: 6.2885078661236005 and parameters: {'criterio': 'poisson', 'splitter': 'best', 'profundidade_max': 13, 'min_exemplos_split': 7, 'min_exemplos_folha': 1, 'num_max_atributos': None}. Best is trial 225 with value: 6.187004453965237.\n",
      "[I 2024-11-10 21:55:47,609] Trial 582 finished with value: 6.214732184676564 and parameters: {'criterio': 'poisson', 'splitter': 'best', 'profundidade_max': 14, 'min_exemplos_split': 7, 'min_exemplos_folha': 1, 'num_max_atributos': None}. Best is trial 225 with value: 6.187004453965237.\n",
      "[I 2024-11-10 21:55:47,983] Trial 583 finished with value: 6.482479552743728 and parameters: {'criterio': 'squared_error', 'splitter': 'best', 'profundidade_max': 15, 'min_exemplos_split': 6, 'min_exemplos_folha': 2, 'num_max_atributos': None}. Best is trial 225 with value: 6.187004453965237.\n",
      "[I 2024-11-10 21:55:48,399] Trial 584 finished with value: 6.276486853182209 and parameters: {'criterio': 'poisson', 'splitter': 'best', 'profundidade_max': 16, 'min_exemplos_split': 7, 'min_exemplos_folha': 1, 'num_max_atributos': None}. Best is trial 225 with value: 6.187004453965237.\n",
      "[I 2024-11-10 21:55:48,811] Trial 585 finished with value: 6.4507579572845914 and parameters: {'criterio': 'poisson', 'splitter': 'best', 'profundidade_max': 15, 'min_exemplos_split': 6, 'min_exemplos_folha': 1, 'num_max_atributos': None}. Best is trial 225 with value: 6.187004453965237.\n",
      "[I 2024-11-10 21:55:49,185] Trial 586 finished with value: 6.551441781152365 and parameters: {'criterio': 'poisson', 'splitter': 'best', 'profundidade_max': 14, 'min_exemplos_split': 7, 'min_exemplos_folha': 2, 'num_max_atributos': None}. Best is trial 225 with value: 6.187004453965237.\n",
      "[I 2024-11-10 21:55:49,599] Trial 587 finished with value: 7.56360243233983 and parameters: {'criterio': 'poisson', 'splitter': 'best', 'profundidade_max': 16, 'min_exemplos_split': 7, 'min_exemplos_folha': 1, 'num_max_atributos': 'log2'}. Best is trial 225 with value: 6.187004453965237.\n",
      "[I 2024-11-10 21:55:49,982] Trial 588 finished with value: 6.247554560341888 and parameters: {'criterio': 'poisson', 'splitter': 'best', 'profundidade_max': 15, 'min_exemplos_split': 8, 'min_exemplos_folha': 1, 'num_max_atributos': None}. Best is trial 225 with value: 6.187004453965237.\n",
      "[I 2024-11-10 21:55:50,359] Trial 589 finished with value: 6.214732184676564 and parameters: {'criterio': 'poisson', 'splitter': 'best', 'profundidade_max': 14, 'min_exemplos_split': 7, 'min_exemplos_folha': 1, 'num_max_atributos': None}. Best is trial 225 with value: 6.187004453965237.\n",
      "[I 2024-11-10 21:55:50,735] Trial 590 finished with value: 6.5954530425829505 and parameters: {'criterio': 'poisson', 'splitter': 'best', 'profundidade_max': 15, 'min_exemplos_split': 6, 'min_exemplos_folha': 3, 'num_max_atributos': None}. Best is trial 225 with value: 6.187004453965237.\n",
      "[I 2024-11-10 21:55:51,139] Trial 591 finished with value: 6.582350370717736 and parameters: {'criterio': 'poisson', 'splitter': 'best', 'profundidade_max': 16, 'min_exemplos_split': 8, 'min_exemplos_folha': 2, 'num_max_atributos': None}. Best is trial 225 with value: 6.187004453965237.\n",
      "[I 2024-11-10 21:55:51,990] Trial 592 finished with value: 6.5329801501156 and parameters: {'criterio': 'absolute_error', 'splitter': 'best', 'profundidade_max': 17, 'min_exemplos_split': 7, 'min_exemplos_folha': 1, 'num_max_atributos': None}. Best is trial 225 with value: 6.187004453965237.\n",
      "[I 2024-11-10 21:55:52,367] Trial 593 finished with value: 6.2885078661236005 and parameters: {'criterio': 'poisson', 'splitter': 'best', 'profundidade_max': 13, 'min_exemplos_split': 7, 'min_exemplos_folha': 1, 'num_max_atributos': None}. Best is trial 225 with value: 6.187004453965237.\n",
      "[I 2024-11-10 21:55:52,692] Trial 594 finished with value: 7.1495951835761415 and parameters: {'criterio': 'poisson', 'splitter': 'random', 'profundidade_max': 14, 'min_exemplos_split': 6, 'min_exemplos_folha': 2, 'num_max_atributos': None}. Best is trial 225 with value: 6.187004453965237.\n",
      "[I 2024-11-10 21:55:53,049] Trial 595 finished with value: 6.683290692098893 and parameters: {'criterio': 'poisson', 'splitter': 'best', 'profundidade_max': 16, 'min_exemplos_split': 7, 'min_exemplos_folha': 4, 'num_max_atributos': None}. Best is trial 225 with value: 6.187004453965237.\n",
      "[I 2024-11-10 21:55:53,399] Trial 596 finished with value: 7.896132505584734 and parameters: {'criterio': 'poisson', 'splitter': 'best', 'profundidade_max': 15, 'min_exemplos_split': 7, 'min_exemplos_folha': 18, 'num_max_atributos': None}. Best is trial 225 with value: 6.187004453965237.\n",
      "[I 2024-11-10 21:55:53,783] Trial 597 finished with value: 6.385565705891784 and parameters: {'criterio': 'poisson', 'splitter': 'best', 'profundidade_max': 15, 'min_exemplos_split': 9, 'min_exemplos_folha': 1, 'num_max_atributos': None}. Best is trial 225 with value: 6.187004453965237.\n",
      "[I 2024-11-10 21:55:54,133] Trial 598 finished with value: 6.648530740007243 and parameters: {'criterio': 'poisson', 'splitter': 'best', 'profundidade_max': 14, 'min_exemplos_split': 11, 'min_exemplos_folha': 1, 'num_max_atributos': None}. Best is trial 225 with value: 6.187004453965237.\n",
      "[I 2024-11-10 21:55:54,499] Trial 599 finished with value: 6.3718885159612455 and parameters: {'criterio': 'poisson', 'splitter': 'best', 'profundidade_max': 16, 'min_exemplos_split': 8, 'min_exemplos_folha': 1, 'num_max_atributos': None}. Best is trial 225 with value: 6.187004453965237.\n"
     ]
    }
   ],
   "source": [
    "NUM_TENTATIVAS_ARVORE_DE_DECISAO = 100\n",
    "\n",
    "objeto_de_estudo_arvore_de_decisao.optimize(funcao_objetivo_parcial_arvore_de_decisao, n_trials=NUM_TENTATIVAS_ARVORE_DE_DECISAO)"
   ]
  },
  {
   "cell_type": "markdown",
   "metadata": {},
   "source": [
    "Visualização por meio de um DataFrame"
   ]
  },
  {
   "cell_type": "code",
   "execution_count": 114,
   "metadata": {},
   "outputs": [
    {
     "data": {
      "text/html": [
       "<div>\n",
       "<style scoped>\n",
       "    .dataframe tbody tr th:only-of-type {\n",
       "        vertical-align: middle;\n",
       "    }\n",
       "\n",
       "    .dataframe tbody tr th {\n",
       "        vertical-align: top;\n",
       "    }\n",
       "\n",
       "    .dataframe thead th {\n",
       "        text-align: right;\n",
       "    }\n",
       "</style>\n",
       "<table border=\"1\" class=\"dataframe\">\n",
       "  <thead>\n",
       "    <tr style=\"text-align: right;\">\n",
       "      <th></th>\n",
       "      <th>number</th>\n",
       "      <th>value</th>\n",
       "      <th>datetime_start</th>\n",
       "      <th>datetime_complete</th>\n",
       "      <th>duration</th>\n",
       "      <th>params_criterio</th>\n",
       "      <th>params_min_exemplos_folha</th>\n",
       "      <th>params_min_exemplos_split</th>\n",
       "      <th>params_num_max_atributos</th>\n",
       "      <th>params_profundidade_max</th>\n",
       "      <th>params_splitter</th>\n",
       "      <th>state</th>\n",
       "    </tr>\n",
       "  </thead>\n",
       "  <tbody>\n",
       "    <tr>\n",
       "      <th>0</th>\n",
       "      <td>0</td>\n",
       "      <td>10.469396</td>\n",
       "      <td>2024-11-10 18:04:29.437531</td>\n",
       "      <td>2024-11-10 18:04:29.581968</td>\n",
       "      <td>0 days 00:00:00.144437</td>\n",
       "      <td>squared_error</td>\n",
       "      <td>16</td>\n",
       "      <td>17</td>\n",
       "      <td>sqrt</td>\n",
       "      <td>30</td>\n",
       "      <td>best</td>\n",
       "      <td>COMPLETE</td>\n",
       "    </tr>\n",
       "    <tr>\n",
       "      <th>1</th>\n",
       "      <td>1</td>\n",
       "      <td>7.253014</td>\n",
       "      <td>2024-11-10 18:04:29.631932</td>\n",
       "      <td>2024-11-10 18:04:29.806140</td>\n",
       "      <td>0 days 00:00:00.174208</td>\n",
       "      <td>poisson</td>\n",
       "      <td>6</td>\n",
       "      <td>9</td>\n",
       "      <td>None</td>\n",
       "      <td>23</td>\n",
       "      <td>best</td>\n",
       "      <td>COMPLETE</td>\n",
       "    </tr>\n",
       "    <tr>\n",
       "      <th>2</th>\n",
       "      <td>2</td>\n",
       "      <td>12.694301</td>\n",
       "      <td>2024-11-10 18:04:29.815277</td>\n",
       "      <td>2024-11-10 18:04:29.948248</td>\n",
       "      <td>0 days 00:00:00.132971</td>\n",
       "      <td>poisson</td>\n",
       "      <td>18</td>\n",
       "      <td>13</td>\n",
       "      <td>log2</td>\n",
       "      <td>13</td>\n",
       "      <td>random</td>\n",
       "      <td>COMPLETE</td>\n",
       "    </tr>\n",
       "    <tr>\n",
       "      <th>3</th>\n",
       "      <td>3</td>\n",
       "      <td>9.023081</td>\n",
       "      <td>2024-11-10 18:04:29.972525</td>\n",
       "      <td>2024-11-10 18:04:30.078109</td>\n",
       "      <td>0 days 00:00:00.105584</td>\n",
       "      <td>poisson</td>\n",
       "      <td>3</td>\n",
       "      <td>17</td>\n",
       "      <td>sqrt</td>\n",
       "      <td>9</td>\n",
       "      <td>best</td>\n",
       "      <td>COMPLETE</td>\n",
       "    </tr>\n",
       "    <tr>\n",
       "      <th>4</th>\n",
       "      <td>4</td>\n",
       "      <td>10.040683</td>\n",
       "      <td>2024-11-10 18:04:30.100629</td>\n",
       "      <td>2024-11-10 18:04:30.219403</td>\n",
       "      <td>0 days 00:00:00.118774</td>\n",
       "      <td>friedman_mse</td>\n",
       "      <td>19</td>\n",
       "      <td>17</td>\n",
       "      <td>sqrt</td>\n",
       "      <td>7</td>\n",
       "      <td>best</td>\n",
       "      <td>COMPLETE</td>\n",
       "    </tr>\n",
       "    <tr>\n",
       "      <th>...</th>\n",
       "      <td>...</td>\n",
       "      <td>...</td>\n",
       "      <td>...</td>\n",
       "      <td>...</td>\n",
       "      <td>...</td>\n",
       "      <td>...</td>\n",
       "      <td>...</td>\n",
       "      <td>...</td>\n",
       "      <td>...</td>\n",
       "      <td>...</td>\n",
       "      <td>...</td>\n",
       "      <td>...</td>\n",
       "    </tr>\n",
       "    <tr>\n",
       "      <th>595</th>\n",
       "      <td>595</td>\n",
       "      <td>6.683291</td>\n",
       "      <td>2024-11-10 21:55:52.706481</td>\n",
       "      <td>2024-11-10 21:55:53.009275</td>\n",
       "      <td>0 days 00:00:00.302794</td>\n",
       "      <td>poisson</td>\n",
       "      <td>4</td>\n",
       "      <td>7</td>\n",
       "      <td>None</td>\n",
       "      <td>16</td>\n",
       "      <td>best</td>\n",
       "      <td>COMPLETE</td>\n",
       "    </tr>\n",
       "    <tr>\n",
       "      <th>596</th>\n",
       "      <td>596</td>\n",
       "      <td>7.896133</td>\n",
       "      <td>2024-11-10 21:55:53.066278</td>\n",
       "      <td>2024-11-10 21:55:53.348381</td>\n",
       "      <td>0 days 00:00:00.282103</td>\n",
       "      <td>poisson</td>\n",
       "      <td>18</td>\n",
       "      <td>7</td>\n",
       "      <td>None</td>\n",
       "      <td>15</td>\n",
       "      <td>best</td>\n",
       "      <td>COMPLETE</td>\n",
       "    </tr>\n",
       "    <tr>\n",
       "      <th>597</th>\n",
       "      <td>597</td>\n",
       "      <td>6.385566</td>\n",
       "      <td>2024-11-10 21:55:53.416417</td>\n",
       "      <td>2024-11-10 21:55:53.749778</td>\n",
       "      <td>0 days 00:00:00.333361</td>\n",
       "      <td>poisson</td>\n",
       "      <td>1</td>\n",
       "      <td>9</td>\n",
       "      <td>None</td>\n",
       "      <td>15</td>\n",
       "      <td>best</td>\n",
       "      <td>COMPLETE</td>\n",
       "    </tr>\n",
       "    <tr>\n",
       "      <th>598</th>\n",
       "      <td>598</td>\n",
       "      <td>6.648531</td>\n",
       "      <td>2024-11-10 21:55:53.799494</td>\n",
       "      <td>2024-11-10 21:55:54.108604</td>\n",
       "      <td>0 days 00:00:00.309110</td>\n",
       "      <td>poisson</td>\n",
       "      <td>1</td>\n",
       "      <td>11</td>\n",
       "      <td>None</td>\n",
       "      <td>14</td>\n",
       "      <td>best</td>\n",
       "      <td>COMPLETE</td>\n",
       "    </tr>\n",
       "    <tr>\n",
       "      <th>599</th>\n",
       "      <td>599</td>\n",
       "      <td>6.371889</td>\n",
       "      <td>2024-11-10 21:55:54.149867</td>\n",
       "      <td>2024-11-10 21:55:54.466473</td>\n",
       "      <td>0 days 00:00:00.316606</td>\n",
       "      <td>poisson</td>\n",
       "      <td>1</td>\n",
       "      <td>8</td>\n",
       "      <td>None</td>\n",
       "      <td>16</td>\n",
       "      <td>best</td>\n",
       "      <td>COMPLETE</td>\n",
       "    </tr>\n",
       "  </tbody>\n",
       "</table>\n",
       "<p>600 rows × 12 columns</p>\n",
       "</div>"
      ],
      "text/plain": [
       "     number      value             datetime_start          datetime_complete  \\\n",
       "0         0  10.469396 2024-11-10 18:04:29.437531 2024-11-10 18:04:29.581968   \n",
       "1         1   7.253014 2024-11-10 18:04:29.631932 2024-11-10 18:04:29.806140   \n",
       "2         2  12.694301 2024-11-10 18:04:29.815277 2024-11-10 18:04:29.948248   \n",
       "3         3   9.023081 2024-11-10 18:04:29.972525 2024-11-10 18:04:30.078109   \n",
       "4         4  10.040683 2024-11-10 18:04:30.100629 2024-11-10 18:04:30.219403   \n",
       "..      ...        ...                        ...                        ...   \n",
       "595     595   6.683291 2024-11-10 21:55:52.706481 2024-11-10 21:55:53.009275   \n",
       "596     596   7.896133 2024-11-10 21:55:53.066278 2024-11-10 21:55:53.348381   \n",
       "597     597   6.385566 2024-11-10 21:55:53.416417 2024-11-10 21:55:53.749778   \n",
       "598     598   6.648531 2024-11-10 21:55:53.799494 2024-11-10 21:55:54.108604   \n",
       "599     599   6.371889 2024-11-10 21:55:54.149867 2024-11-10 21:55:54.466473   \n",
       "\n",
       "                  duration params_criterio  params_min_exemplos_folha  \\\n",
       "0   0 days 00:00:00.144437   squared_error                         16   \n",
       "1   0 days 00:00:00.174208         poisson                          6   \n",
       "2   0 days 00:00:00.132971         poisson                         18   \n",
       "3   0 days 00:00:00.105584         poisson                          3   \n",
       "4   0 days 00:00:00.118774    friedman_mse                         19   \n",
       "..                     ...             ...                        ...   \n",
       "595 0 days 00:00:00.302794         poisson                          4   \n",
       "596 0 days 00:00:00.282103         poisson                         18   \n",
       "597 0 days 00:00:00.333361         poisson                          1   \n",
       "598 0 days 00:00:00.309110         poisson                          1   \n",
       "599 0 days 00:00:00.316606         poisson                          1   \n",
       "\n",
       "     params_min_exemplos_split params_num_max_atributos  \\\n",
       "0                           17                     sqrt   \n",
       "1                            9                     None   \n",
       "2                           13                     log2   \n",
       "3                           17                     sqrt   \n",
       "4                           17                     sqrt   \n",
       "..                         ...                      ...   \n",
       "595                          7                     None   \n",
       "596                          7                     None   \n",
       "597                          9                     None   \n",
       "598                         11                     None   \n",
       "599                          8                     None   \n",
       "\n",
       "     params_profundidade_max params_splitter     state  \n",
       "0                         30            best  COMPLETE  \n",
       "1                         23            best  COMPLETE  \n",
       "2                         13          random  COMPLETE  \n",
       "3                          9            best  COMPLETE  \n",
       "4                          7            best  COMPLETE  \n",
       "..                       ...             ...       ...  \n",
       "595                       16            best  COMPLETE  \n",
       "596                       15            best  COMPLETE  \n",
       "597                       15            best  COMPLETE  \n",
       "598                       14            best  COMPLETE  \n",
       "599                       16            best  COMPLETE  \n",
       "\n",
       "[600 rows x 12 columns]"
      ]
     },
     "execution_count": 114,
     "metadata": {},
     "output_type": "execute_result"
    }
   ],
   "source": [
    "df_arvore_de_decisao = objeto_de_estudo_arvore_de_decisao.trials_dataframe()\n",
    "\n",
    "df_arvore_de_decisao"
   ]
  },
  {
   "cell_type": "code",
   "execution_count": 115,
   "metadata": {},
   "outputs": [
    {
     "name": "stdout",
     "output_type": "stream",
     "text": [
      "Número do melhor trial: 225\n",
      "Parâmetros do melhor trial: {'criterio': 'poisson', 'splitter': 'best', 'profundidade_max': 15, 'min_exemplos_split': 7, 'min_exemplos_folha': 1, 'num_max_atributos': None}\n"
     ]
    }
   ],
   "source": [
    "melhor_trial_arvore_de_decisao = objeto_de_estudo_arvore_de_decisao.best_trial\n",
    "\n",
    "print(f\"Número do melhor trial: {melhor_trial_arvore_de_decisao.number}\")\n",
    "print(f\"Parâmetros do melhor trial: {melhor_trial_arvore_de_decisao.params}\")"
   ]
  },
  {
   "cell_type": "markdown",
   "metadata": {},
   "source": [
    "Cálculo de RMSE:"
   ]
  },
  {
   "cell_type": "code",
   "execution_count": 116,
   "metadata": {},
   "outputs": [
    {
     "name": "stdout",
     "output_type": "stream",
     "text": [
      "O RMSE do modelo foi 6.302023788843819\n"
     ]
    }
   ],
   "source": [
    "from sklearn.metrics import mean_squared_error\n",
    "\n",
    "modelo = cria_instancia_modelo_arvore_de_decisao(melhor_trial_arvore_de_decisao)\n",
    "modelo.fit(X_treino, Y_treino)\n",
    "\n",
    "y_verdadeiro = Y_teste\n",
    "y_previsao = modelo.predict(X_teste)\n",
    "\n",
    "RMSE = mean_squared_error(y_verdadeiro, y_previsao) ** (1/2)\n",
    "\n",
    "from sklearn.metrics import mean_squared_error\n",
    "\n",
    "print(f'O RMSE do modelo foi {RMSE}')"
   ]
  },
  {
   "cell_type": "markdown",
   "metadata": {},
   "source": [
    "----------------------\n",
    "\n",
    "## <center> Seleção de Atributos </center>\n",
    "\n",
    "Nessa etapa vamos verificar se o modelo está ou não identificando padrões espúrios, resultando em sobreajustes do modelo aos targets. Dessa forma, vamos implementar alguns métodos para selecionar atributos e verificar se ao utilizar desse método, melhora ou não as métricas. \n",
    "\n",
    "## <center>Seleção de atributos pelo limiar da Variância</center>"
   ]
  },
  {
   "cell_type": "code",
   "execution_count": 117,
   "metadata": {},
   "outputs": [
    {
     "name": "stdout",
     "output_type": "stream",
     "text": [
      "[10926.71766983  7439.7770265   4027.55266729   442.43165179\n",
      "    34.82503014  6008.9636168   6346.15255733  4036.77617769]\n"
     ]
    }
   ],
   "source": [
    "print(np.var(X_treino, axis=0))"
   ]
  },
  {
   "cell_type": "code",
   "execution_count": 118,
   "metadata": {},
   "outputs": [
    {
     "name": "stdout",
     "output_type": "stream",
     "text": [
      "[10770.74958349  7408.6911961   4518.19441951   570.45844238\n",
      "    41.39457577  5752.27639506  6964.8053737   3533.49929305]\n"
     ]
    }
   ],
   "source": [
    "print(np.var(X_teste, axis=0))"
   ]
  },
  {
   "cell_type": "markdown",
   "metadata": {},
   "source": [
    "Todas as oitos colunas dos atributos possuem variância diferente de zero. Então aplicar VarianceThreshold espera-se que isso não interefirá em nada."
   ]
  },
  {
   "cell_type": "code",
   "execution_count": 119,
   "metadata": {},
   "outputs": [
    {
     "name": "stdout",
     "output_type": "stream",
     "text": [
      "[[ 233.81    0.     94.58 ...  947.04  852.16  100.  ]\n",
      " [ 310.      0.      0.   ... 1012.    830.      3.  ]\n",
      " [ 122.6   183.9     0.   ...  958.2   800.1     7.  ]\n",
      " ...\n",
      " [ 184.     86.    190.   ...  923.    623.     28.  ]\n",
      " [ 525.      0.      0.   ... 1125.    613.      3.  ]\n",
      " [ 425.    106.3     0.   ...  852.1   887.1     7.  ]]\n",
      "-=--=--=--=--=--=--=--=--=--=--=--=--=--=--=--=--=--=--=--=-\n",
      "[[ 233.81    0.     94.58 ...  947.04  852.16  100.  ]\n",
      " [ 310.      0.      0.   ... 1012.    830.      3.  ]\n",
      " [ 122.6   183.9     0.   ...  958.2   800.1     7.  ]\n",
      " ...\n",
      " [ 184.     86.    190.   ...  923.    623.     28.  ]\n",
      " [ 525.      0.      0.   ... 1125.    613.      3.  ]\n",
      " [ 425.    106.3     0.   ...  852.1   887.1     7.  ]]\n"
     ]
    }
   ],
   "source": [
    "from sklearn.feature_selection import VarianceThreshold\n",
    "\n",
    "seletor_limiar_variancia = VarianceThreshold()\n",
    "\n",
    "seletor_limiar_variancia.fit(X_treino)\n",
    "\n",
    "X_treino_limiar_variancia = seletor_limiar_variancia.transform(X_treino)\n",
    "\n",
    "print(X_treino_limiar_variancia)\n",
    "print('-=-'*20)\n",
    "print(X_treino)"
   ]
  },
  {
   "cell_type": "markdown",
   "metadata": {},
   "source": [
    "Dessa forma, a seleção de atributo pelo limiar da variância pouco nos ajudou, pois os dados que possuimos possuem alta variância, e não é possível selecionar os dados com esse método."
   ]
  },
  {
   "cell_type": "markdown",
   "metadata": {},
   "source": [
    "## <center>Seleção de atributos por remoção recursiva de atributos (RFE)</center>\n"
   ]
  },
  {
   "cell_type": "markdown",
   "metadata": {},
   "source": [
    "####  1. Modelo Linear Múltiplo usando RFE:"
   ]
  },
  {
   "cell_type": "markdown",
   "metadata": {},
   "source": [
    "Usando o método RFE de seleção de atributos para o modelo de regressão linear múltipla foi visivelmente não muito útil para aprimorar o modelo, visto que o RMSE se manteve quase o mesmo, e nunca foi inferior ao RMSE do modelo linear múltiplo usando todas as colunas de target, isto é, as 8 colunas."
   ]
  },
  {
   "cell_type": "code",
   "execution_count": 120,
   "metadata": {},
   "outputs": [
    {
     "name": "stdout",
     "output_type": "stream",
     "text": [
      "Número de atributos selecionados: 1\n",
      "Colunas selecionadas: [False False False False  True False False False]\n",
      "Ordenação (rank) dos atributos: [4 5 6 2 1 7 8 3]\n",
      "O RMSE do modelo com 1 atributos foi de 16.581191582119107 unidades de y.\n",
      "-=--=--=--=--=--=--=--=--=--=--=--=--=--=--=--=--=--=--=--=-\n",
      "Número de atributos selecionados: 2\n",
      "Colunas selecionadas: [False False False  True  True False False False]\n",
      "Ordenação (rank) dos atributos: [3 4 5 1 1 6 7 2]\n",
      "O RMSE do modelo com 2 atributos foi de 16.452734046312564 unidades de y.\n",
      "-=--=--=--=--=--=--=--=--=--=--=--=--=--=--=--=--=--=--=--=-\n",
      "Número de atributos selecionados: 3\n",
      "Colunas selecionadas: [False False False  True  True False False  True]\n",
      "Ordenação (rank) dos atributos: [2 3 4 1 1 5 6 1]\n",
      "O RMSE do modelo com 3 atributos foi de 14.916202004427037 unidades de y.\n",
      "-=--=--=--=--=--=--=--=--=--=--=--=--=--=--=--=--=--=--=--=-\n",
      "Número de atributos selecionados: 4\n",
      "Colunas selecionadas: [ True False False  True  True False False  True]\n",
      "Ordenação (rank) dos atributos: [1 2 3 1 1 4 5 1]\n",
      "O RMSE do modelo com 4 atributos foi de 13.760339234330369 unidades de y.\n",
      "-=--=--=--=--=--=--=--=--=--=--=--=--=--=--=--=--=--=--=--=-\n",
      "Número de atributos selecionados: 5\n",
      "Colunas selecionadas: [ True  True False  True  True False False  True]\n",
      "Ordenação (rank) dos atributos: [1 1 2 1 1 3 4 1]\n",
      "O RMSE do modelo com 5 atributos foi de 11.96514370553767 unidades de y.\n",
      "-=--=--=--=--=--=--=--=--=--=--=--=--=--=--=--=--=--=--=--=-\n",
      "Número de atributos selecionados: 6\n",
      "Colunas selecionadas: [ True  True  True  True  True False False  True]\n",
      "Ordenação (rank) dos atributos: [1 1 1 1 1 2 3 1]\n",
      "O RMSE do modelo com 6 atributos foi de 11.280027303266808 unidades de y.\n",
      "-=--=--=--=--=--=--=--=--=--=--=--=--=--=--=--=--=--=--=--=-\n",
      "Número de atributos selecionados: 7\n",
      "Colunas selecionadas: [ True  True  True  True  True  True False  True]\n",
      "Ordenação (rank) dos atributos: [1 1 1 1 1 1 2 1]\n",
      "O RMSE do modelo com 7 atributos foi de 11.31265227637275 unidades de y.\n",
      "-=--=--=--=--=--=--=--=--=--=--=--=--=--=--=--=--=--=--=--=-\n",
      "Número de atributos selecionados: 8\n",
      "Colunas selecionadas: [ True  True  True  True  True  True  True  True]\n",
      "Ordenação (rank) dos atributos: [1 1 1 1 1 1 1 1]\n",
      "O RMSE do modelo com 8 atributos foi de 11.224097009242593 unidades de y.\n",
      "-=--=--=--=--=--=--=--=--=--=--=--=--=--=--=--=--=--=--=--=-\n"
     ]
    }
   ],
   "source": [
    "from sklearn.feature_selection import RFE\n",
    "modelo_linear = LinearRegression()\n",
    "\n",
    "for NUM_ATRIBUTOS_DESEJADOS in range(1, 9):\n",
    "    seletor_remocao_recursiva_de_atributos = RFE(modelo_linear, n_features_to_select=NUM_ATRIBUTOS_DESEJADOS)\n",
    "    seletor_remocao_recursiva_de_atributos.fit(X_treino, Y_treino)\n",
    "\n",
    "    X_treino_remocao_recusiva_de_atributos = seletor_remocao_recursiva_de_atributos.transform(X_treino)\n",
    "    X_teste_remocao_recusiva_de_atributos = seletor_remocao_recursiva_de_atributos.transform(X_teste)\n",
    "\n",
    "    \n",
    "    modelo_linear_regression_pipeline_StandardScaler_RFE = make_pipeline(\n",
    "        StandardScaler(),\n",
    "        LinearRegression()\n",
    "    )\n",
    "    modelo_linear_regression_pipeline_StandardScaler_RFE.fit(X_treino_remocao_recusiva_de_atributos, Y_treino)\n",
    "\n",
    "    \n",
    "    y_previsto_linear_regression_pipeline_StandardScaler_RFE = modelo_linear_regression_pipeline_StandardScaler_RFE.predict(X_teste_remocao_recusiva_de_atributos)\n",
    "\n",
    "    \n",
    "    RMSE_pipeline_linear_regression_StandardScaler_RFE = mean_squared_error(Y_teste, y_previsto_linear_regression_pipeline_StandardScaler_RFE) ** 0.5\n",
    "\n",
    "    # Imprimindo os resultados para o número atual de atributos selecionados\n",
    "    print(f\"Número de atributos selecionados: {NUM_ATRIBUTOS_DESEJADOS}\")\n",
    "    print(f\"Colunas selecionadas: {seletor_remocao_recursiva_de_atributos.support_}\")\n",
    "    print(f\"Ordenação (rank) dos atributos: {seletor_remocao_recursiva_de_atributos.ranking_}\")\n",
    "    print(f\"O RMSE do modelo com {NUM_ATRIBUTOS_DESEJADOS} atributos foi de {RMSE_pipeline_linear_regression_StandardScaler_RFE} unidades de y.\")\n",
    "    print(\"-=-\"*20)"
   ]
  },
  {
   "cell_type": "markdown",
   "metadata": {},
   "source": [
    "####  2. Árvores de Decisão usando RFE:"
   ]
  },
  {
   "cell_type": "markdown",
   "metadata": {},
   "source": [
    "A seleção RFE também pode ser aplicado à árvore de decisão, de forma que as variáveis mais relevantes para realizar previsões são selecionadas, enquanto as menos relevantes não são incluídas no processo. Isso reduz a complexidade e pode aumentar a performance."
   ]
  },
  {
   "cell_type": "code",
   "execution_count": 121,
   "metadata": {},
   "outputs": [
    {
     "name": "stdout",
     "output_type": "stream",
     "text": [
      "Número de atributos selecionados: 5\n",
      "Colunas selecionadas: [ True  True False  True False  True False  True]\n",
      "Ordenação (rank) dos atributos [1 1 4 1 2 1 3 1]\n"
     ]
    }
   ],
   "source": [
    "from sklearn.feature_selection import RFE\n",
    "from sklearn.tree import DecisionTreeRegressor\n",
    "\n",
    "NUM_ATRIBUTOS_DESEJADOS = 5\n",
    "\n",
    "modelo = DecisionTreeRegressor()\n",
    "\n",
    "seletor = RFE(modelo, n_features_to_select=NUM_ATRIBUTOS_DESEJADOS)\n",
    "seletor.fit(X_treino, Y_treino)\n",
    "\n",
    "X_treino_modificado = seletor.transform(X_treino)\n",
    "X_teste_modificado = seletor.transform(X_teste)\n",
    "\n",
    "print(f\"Número de atributos selecionados: {seletor.n_features_}\")\n",
    "print(f\"Colunas selecionadas: {seletor.support_}\")\n",
    "print(f\"Ordenação (rank) dos atributos {seletor.ranking_}\")"
   ]
  },
  {
   "cell_type": "markdown",
   "metadata": {},
   "source": [
    "---------\n",
    "\n",
    "### <center> PCA </center>"
   ]
  },
  {
   "cell_type": "markdown",
   "metadata": {},
   "source": [
    "### Árvore de decisão"
   ]
  },
  {
   "cell_type": "code",
   "execution_count": null,
   "metadata": {},
   "outputs": [],
   "source": [
    "from sklearn.decomposition import PCA\n",
    "pca = PCA()\n",
    "pca.fit(X_treino)\n",
    "\n",
    "variancia_explicada = pca.explained_variance_ratio_\n",
    "\n",
    "print(\"Variância explicada:\")\n",
    "for i, var_expl in enumerate(variancia_explicada):\n",
    "    print(f\"   PC{i+1}:\", var_expl)"
   ]
  },
  {
   "cell_type": "code",
   "execution_count": null,
   "metadata": {},
   "outputs": [],
   "source": []
  }
 ],
 "metadata": {
  "kernelspec": {
   "display_name": "base",
   "language": "python",
   "name": "python3"
  },
  "language_info": {
   "codemirror_mode": {
    "name": "ipython",
    "version": 3
   },
   "file_extension": ".py",
   "mimetype": "text/x-python",
   "name": "python",
   "nbconvert_exporter": "python",
   "pygments_lexer": "ipython3",
   "version": "3.11.5"
  }
 },
 "nbformat": 4,
 "nbformat_minor": 2
}
