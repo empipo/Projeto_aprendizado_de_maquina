{
 "cells": [
  {
   "cell_type": "markdown",
   "metadata": {},
   "source": [
    "## <center>Trabalho de Aprendizado de Máquina- Previsão da resistência à compressão do concreto</center>\n",
    "\n",
    "#### _<center>Ilum - Escola de Ciência. Campinas, SP. 2024</center>_\n",
    "\n",
    "------------"
   ]
  },
  {
   "cell_type": "markdown",
   "metadata": {},
   "source": [
    "----------------------\n",
    "\n",
    "## <center> Obtenção dos dados Dataframe </center>"
   ]
  },
  {
   "cell_type": "markdown",
   "metadata": {},
   "source": [
    "Primeiramente, importa-se bibliotecas necessárias básicas para leitura do dataset"
   ]
  },
  {
   "cell_type": "code",
   "execution_count": 12,
   "metadata": {},
   "outputs": [],
   "source": [
    "import os\n",
    "import pandas as pd\n",
    "import numpy as np\n",
    "import matplotlib.pyplot as plt\n",
    "import seaborn as sns"
   ]
  },
  {
   "cell_type": "markdown",
   "metadata": {},
   "source": [
    "Vamos primeiramente ler a pasta que o python está lendo"
   ]
  },
  {
   "cell_type": "code",
   "execution_count": 13,
   "metadata": {},
   "outputs": [
    {
     "data": {
      "text/plain": [
       "b'C:\\\\Users\\\\emanuel24039\\\\Downloads'"
      ]
     },
     "execution_count": 13,
     "metadata": {},
     "output_type": "execute_result"
    }
   ],
   "source": [
    "os.getcwdb()"
   ]
  },
  {
   "cell_type": "code",
   "execution_count": 14,
   "metadata": {},
   "outputs": [],
   "source": [
    "os.chdir('C:/Users/emanuel24039/Downloads')"
   ]
  },
  {
   "cell_type": "markdown",
   "metadata": {},
   "source": [
    "Para ler o arquivo é necessário baixar xlrd, retire o \"#\" para instalar ao rodar a célula abaixo:"
   ]
  },
  {
   "cell_type": "code",
   "execution_count": 15,
   "metadata": {},
   "outputs": [
    {
     "name": "stdout",
     "output_type": "stream",
     "text": [
      "Defaulting to user installation because normal site-packages is not writeable\n",
      "Requirement already satisfied: xlrd in c:\\users\\emanuel24039\\appdata\\roaming\\python\\python311\\site-packages (2.0.1)\n",
      "Note: you may need to restart the kernel to use updated packages.\n"
     ]
    }
   ],
   "source": [
    "\n",
    "pip install xlrd"
   ]
  },
  {
   "cell_type": "markdown",
   "metadata": {},
   "source": [
    "Agora, é lido o dataframe do arquivo excel"
   ]
  },
  {
   "cell_type": "code",
   "execution_count": 16,
   "metadata": {},
   "outputs": [
    {
     "data": {
      "text/html": [
       "<div>\n",
       "<style scoped>\n",
       "    .dataframe tbody tr th:only-of-type {\n",
       "        vertical-align: middle;\n",
       "    }\n",
       "\n",
       "    .dataframe tbody tr th {\n",
       "        vertical-align: top;\n",
       "    }\n",
       "\n",
       "    .dataframe thead th {\n",
       "        text-align: right;\n",
       "    }\n",
       "</style>\n",
       "<table border=\"1\" class=\"dataframe\">\n",
       "  <thead>\n",
       "    <tr style=\"text-align: right;\">\n",
       "      <th></th>\n",
       "      <th>Cement (component 1)(kg in a m^3 mixture)</th>\n",
       "      <th>Blast Furnace Slag (component 2)(kg in a m^3 mixture)</th>\n",
       "      <th>Fly Ash (component 3)(kg in a m^3 mixture)</th>\n",
       "      <th>Water  (component 4)(kg in a m^3 mixture)</th>\n",
       "      <th>Superplasticizer (component 5)(kg in a m^3 mixture)</th>\n",
       "      <th>Coarse Aggregate  (component 6)(kg in a m^3 mixture)</th>\n",
       "      <th>Fine Aggregate (component 7)(kg in a m^3 mixture)</th>\n",
       "      <th>Age (day)</th>\n",
       "      <th>Concrete compressive strength(MPa, megapascals)</th>\n",
       "    </tr>\n",
       "  </thead>\n",
       "  <tbody>\n",
       "    <tr>\n",
       "      <th>0</th>\n",
       "      <td>540.0</td>\n",
       "      <td>0.0</td>\n",
       "      <td>0.0</td>\n",
       "      <td>162.0</td>\n",
       "      <td>2.5</td>\n",
       "      <td>1040.0</td>\n",
       "      <td>676.0</td>\n",
       "      <td>28</td>\n",
       "      <td>79.986111</td>\n",
       "    </tr>\n",
       "    <tr>\n",
       "      <th>1</th>\n",
       "      <td>540.0</td>\n",
       "      <td>0.0</td>\n",
       "      <td>0.0</td>\n",
       "      <td>162.0</td>\n",
       "      <td>2.5</td>\n",
       "      <td>1055.0</td>\n",
       "      <td>676.0</td>\n",
       "      <td>28</td>\n",
       "      <td>61.887366</td>\n",
       "    </tr>\n",
       "    <tr>\n",
       "      <th>2</th>\n",
       "      <td>332.5</td>\n",
       "      <td>142.5</td>\n",
       "      <td>0.0</td>\n",
       "      <td>228.0</td>\n",
       "      <td>0.0</td>\n",
       "      <td>932.0</td>\n",
       "      <td>594.0</td>\n",
       "      <td>270</td>\n",
       "      <td>40.269535</td>\n",
       "    </tr>\n",
       "    <tr>\n",
       "      <th>3</th>\n",
       "      <td>332.5</td>\n",
       "      <td>142.5</td>\n",
       "      <td>0.0</td>\n",
       "      <td>228.0</td>\n",
       "      <td>0.0</td>\n",
       "      <td>932.0</td>\n",
       "      <td>594.0</td>\n",
       "      <td>365</td>\n",
       "      <td>41.052780</td>\n",
       "    </tr>\n",
       "    <tr>\n",
       "      <th>4</th>\n",
       "      <td>198.6</td>\n",
       "      <td>132.4</td>\n",
       "      <td>0.0</td>\n",
       "      <td>192.0</td>\n",
       "      <td>0.0</td>\n",
       "      <td>978.4</td>\n",
       "      <td>825.5</td>\n",
       "      <td>360</td>\n",
       "      <td>44.296075</td>\n",
       "    </tr>\n",
       "    <tr>\n",
       "      <th>...</th>\n",
       "      <td>...</td>\n",
       "      <td>...</td>\n",
       "      <td>...</td>\n",
       "      <td>...</td>\n",
       "      <td>...</td>\n",
       "      <td>...</td>\n",
       "      <td>...</td>\n",
       "      <td>...</td>\n",
       "      <td>...</td>\n",
       "    </tr>\n",
       "    <tr>\n",
       "      <th>1025</th>\n",
       "      <td>276.4</td>\n",
       "      <td>116.0</td>\n",
       "      <td>90.3</td>\n",
       "      <td>179.6</td>\n",
       "      <td>8.9</td>\n",
       "      <td>870.1</td>\n",
       "      <td>768.3</td>\n",
       "      <td>28</td>\n",
       "      <td>44.284354</td>\n",
       "    </tr>\n",
       "    <tr>\n",
       "      <th>1026</th>\n",
       "      <td>322.2</td>\n",
       "      <td>0.0</td>\n",
       "      <td>115.6</td>\n",
       "      <td>196.0</td>\n",
       "      <td>10.4</td>\n",
       "      <td>817.9</td>\n",
       "      <td>813.4</td>\n",
       "      <td>28</td>\n",
       "      <td>31.178794</td>\n",
       "    </tr>\n",
       "    <tr>\n",
       "      <th>1027</th>\n",
       "      <td>148.5</td>\n",
       "      <td>139.4</td>\n",
       "      <td>108.6</td>\n",
       "      <td>192.7</td>\n",
       "      <td>6.1</td>\n",
       "      <td>892.4</td>\n",
       "      <td>780.0</td>\n",
       "      <td>28</td>\n",
       "      <td>23.696601</td>\n",
       "    </tr>\n",
       "    <tr>\n",
       "      <th>1028</th>\n",
       "      <td>159.1</td>\n",
       "      <td>186.7</td>\n",
       "      <td>0.0</td>\n",
       "      <td>175.6</td>\n",
       "      <td>11.3</td>\n",
       "      <td>989.6</td>\n",
       "      <td>788.9</td>\n",
       "      <td>28</td>\n",
       "      <td>32.768036</td>\n",
       "    </tr>\n",
       "    <tr>\n",
       "      <th>1029</th>\n",
       "      <td>260.9</td>\n",
       "      <td>100.5</td>\n",
       "      <td>78.3</td>\n",
       "      <td>200.6</td>\n",
       "      <td>8.6</td>\n",
       "      <td>864.5</td>\n",
       "      <td>761.5</td>\n",
       "      <td>28</td>\n",
       "      <td>32.401235</td>\n",
       "    </tr>\n",
       "  </tbody>\n",
       "</table>\n",
       "<p>1030 rows × 9 columns</p>\n",
       "</div>"
      ],
      "text/plain": [
       "      Cement (component 1)(kg in a m^3 mixture)  \\\n",
       "0                                         540.0   \n",
       "1                                         540.0   \n",
       "2                                         332.5   \n",
       "3                                         332.5   \n",
       "4                                         198.6   \n",
       "...                                         ...   \n",
       "1025                                      276.4   \n",
       "1026                                      322.2   \n",
       "1027                                      148.5   \n",
       "1028                                      159.1   \n",
       "1029                                      260.9   \n",
       "\n",
       "      Blast Furnace Slag (component 2)(kg in a m^3 mixture)  \\\n",
       "0                                                   0.0       \n",
       "1                                                   0.0       \n",
       "2                                                 142.5       \n",
       "3                                                 142.5       \n",
       "4                                                 132.4       \n",
       "...                                                 ...       \n",
       "1025                                              116.0       \n",
       "1026                                                0.0       \n",
       "1027                                              139.4       \n",
       "1028                                              186.7       \n",
       "1029                                              100.5       \n",
       "\n",
       "      Fly Ash (component 3)(kg in a m^3 mixture)  \\\n",
       "0                                            0.0   \n",
       "1                                            0.0   \n",
       "2                                            0.0   \n",
       "3                                            0.0   \n",
       "4                                            0.0   \n",
       "...                                          ...   \n",
       "1025                                        90.3   \n",
       "1026                                       115.6   \n",
       "1027                                       108.6   \n",
       "1028                                         0.0   \n",
       "1029                                        78.3   \n",
       "\n",
       "      Water  (component 4)(kg in a m^3 mixture)  \\\n",
       "0                                         162.0   \n",
       "1                                         162.0   \n",
       "2                                         228.0   \n",
       "3                                         228.0   \n",
       "4                                         192.0   \n",
       "...                                         ...   \n",
       "1025                                      179.6   \n",
       "1026                                      196.0   \n",
       "1027                                      192.7   \n",
       "1028                                      175.6   \n",
       "1029                                      200.6   \n",
       "\n",
       "      Superplasticizer (component 5)(kg in a m^3 mixture)  \\\n",
       "0                                                   2.5     \n",
       "1                                                   2.5     \n",
       "2                                                   0.0     \n",
       "3                                                   0.0     \n",
       "4                                                   0.0     \n",
       "...                                                 ...     \n",
       "1025                                                8.9     \n",
       "1026                                               10.4     \n",
       "1027                                                6.1     \n",
       "1028                                               11.3     \n",
       "1029                                                8.6     \n",
       "\n",
       "      Coarse Aggregate  (component 6)(kg in a m^3 mixture)  \\\n",
       "0                                                1040.0      \n",
       "1                                                1055.0      \n",
       "2                                                 932.0      \n",
       "3                                                 932.0      \n",
       "4                                                 978.4      \n",
       "...                                                 ...      \n",
       "1025                                              870.1      \n",
       "1026                                              817.9      \n",
       "1027                                              892.4      \n",
       "1028                                              989.6      \n",
       "1029                                              864.5      \n",
       "\n",
       "      Fine Aggregate (component 7)(kg in a m^3 mixture)  Age (day)  \\\n",
       "0                                                 676.0         28   \n",
       "1                                                 676.0         28   \n",
       "2                                                 594.0        270   \n",
       "3                                                 594.0        365   \n",
       "4                                                 825.5        360   \n",
       "...                                                 ...        ...   \n",
       "1025                                              768.3         28   \n",
       "1026                                              813.4         28   \n",
       "1027                                              780.0         28   \n",
       "1028                                              788.9         28   \n",
       "1029                                              761.5         28   \n",
       "\n",
       "      Concrete compressive strength(MPa, megapascals)   \n",
       "0                                            79.986111  \n",
       "1                                            61.887366  \n",
       "2                                            40.269535  \n",
       "3                                            41.052780  \n",
       "4                                            44.296075  \n",
       "...                                                ...  \n",
       "1025                                         44.284354  \n",
       "1026                                         31.178794  \n",
       "1027                                         23.696601  \n",
       "1028                                         32.768036  \n",
       "1029                                         32.401235  \n",
       "\n",
       "[1030 rows x 9 columns]"
      ]
     },
     "execution_count": 16,
     "metadata": {},
     "output_type": "execute_result"
    }
   ],
   "source": [
    "df = pd.read_excel(\"C:/Users/emanuel24039/Downloads/Concrete_Data.xls\")\n",
    "df = df.dropna() # Retira=se linhas que possuem dados NaN\n",
    "df"
   ]
  },
  {
   "cell_type": "markdown",
   "metadata": {},
   "source": [
    "Descobre-se os nomes das colunas:"
   ]
  },
  {
   "cell_type": "code",
   "execution_count": 17,
   "metadata": {},
   "outputs": [
    {
     "name": "stdout",
     "output_type": "stream",
     "text": [
      "Index(['Cement (component 1)(kg in a m^3 mixture)',\n",
      "       'Blast Furnace Slag (component 2)(kg in a m^3 mixture)',\n",
      "       'Fly Ash (component 3)(kg in a m^3 mixture)',\n",
      "       'Water  (component 4)(kg in a m^3 mixture)',\n",
      "       'Superplasticizer (component 5)(kg in a m^3 mixture)',\n",
      "       'Coarse Aggregate  (component 6)(kg in a m^3 mixture)',\n",
      "       'Fine Aggregate (component 7)(kg in a m^3 mixture)', 'Age (day)',\n",
      "       'Concrete compressive strength(MPa, megapascals) '],\n",
      "      dtype='object')\n"
     ]
    }
   ],
   "source": [
    "print(df.columns)"
   ]
  },
  {
   "cell_type": "markdown",
   "metadata": {},
   "source": [
    "Será importante posteriormente no código, sabermos quais colunas são atributos e quais são target, assim, é separado em listas os nomes deles, o objetivo dessse trabalho é prever a resistência à compressão do concreto, o dataframe se refere a isso como \"Concrete compressive strength(MPa, megapascals)\", estre é o target do projeto. Todas as demais colunas são atributos."
   ]
  },
  {
   "cell_type": "code",
   "execution_count": 18,
   "metadata": {},
   "outputs": [],
   "source": [
    "ATRIBUTOS = ['Cement (component 1)(kg in a m^3 mixture)', \n",
    "             'Blast Furnace Slag (component 2)(kg in a m^3 mixture)',\n",
    "             'Fly Ash (component 3)(kg in a m^3 mixture)',\n",
    "             'Water  (component 4)(kg in a m^3 mixture)',\n",
    "             'Superplasticizer (component 5)(kg in a m^3 mixture)',\n",
    "             'Coarse Aggregate  (component 6)(kg in a m^3 mixture)',\n",
    "             'Fine Aggregate (component 7)(kg in a m^3 mixture)',\n",
    "             'Age (day)']\n",
    "\n",
    "TARGET = ['Concrete compressive strength(MPa, megapascals) ']"
   ]
  },
  {
   "cell_type": "markdown",
   "metadata": {},
   "source": [
    "Vamos agora separar os dados em dados de treino e teste, isso será importante ao longo de todo o código."
   ]
  },
  {
   "cell_type": "code",
   "execution_count": 19,
   "metadata": {},
   "outputs": [],
   "source": [
    "#Importar biblioteca para fazer a separação dos dados\n",
    "from sklearn.model_selection import train_test_split\n",
    "\n",
    "# 90% dos dados serão de treino e 10% de teste\n",
    "TAMANHO_TESTE = 0.1\n",
    "\n",
    "SEMENTE_ALEATORIA = 777\n",
    "\n",
    "indices = df.index\n",
    "indices_treino, indices_teste = train_test_split(\n",
    "    indices, test_size=TAMANHO_TESTE, random_state=SEMENTE_ALEATORIA\n",
    ")\n",
    "\n",
    "df_treino = df.loc[indices_treino]\n",
    "df_teste = df.loc[indices_teste]\n",
    "\n",
    "X_treino = df_treino.reindex(ATRIBUTOS, axis=1).values\n",
    "Y_treino = df_treino.reindex(TARGET, axis=1).values.ravel()\n",
    "\n",
    "X_teste = df_teste.reindex(ATRIBUTOS, axis=1).values\n",
    "Y_teste = df_teste.reindex(TARGET, axis=1).values.ravel()\n"
   ]
  },
  {
   "cell_type": "markdown",
   "metadata": {},
   "source": [
    "----------------------\n",
    "\n",
    "## <center> Introdução ao dados do Dataframe</center>\n",
    "\n",
    "Antes de utilizar e apresentar os modelos preditivos de aprendizado de máquina sobre o dataframe, é necessário entender o que cada coluna significa, isto é, o que de fato é a resistência à compressão do concreto, o target deste trabalho, e os seus demais atributos.\n",
    "\n",
    "##### O que é o Concreto?\n",
    " \n",
    "Segundo a ASTM (American Society for Testing and Materials), o concreto é um material compósito que consiste de um meio aglomerante no qual estão aglutinadas partículas de diferentes naturezas. [1]\n",
    "Além de quando está no estado fresco pode ser moldado a criatividade humana, podendo adquirir as mais diversas formas. E após passar pelo estado de endurecimento, adquire resistências similares a de rochas.\n",
    "\n",
    "##### Aglomerantes:\n",
    "\n",
    "Os aglomerantes no concreto são materiais capazes de ligar diferentes tipos de elementos ou agregados quando misturados com água, formando uma pasta homogênea que irá se petrificar dando origem a um corpo sólido.\n",
    "Ao longo da história humana diferentes tipos de concretos já foram feitos a partir de uma variada gama de aglomerantes, o mais antigo e simples é a cal. Mas aquele que possibilitou que o concreto fosse usado em larga escala, sendo economicamente viável, e tendo características como alta resistência a compressão e resistente a água foi o cimento Portland, uma invenção relativamente recente do século XIX [2]. No dataset o aglomerante cimento é a coluna 'Ciment (component 1)(kg in a m^3 mixture)'.\n",
    "\n",
    "##### Agregados:\n",
    "Os agregados do concreto são os materiais responsáveis pelo preenchimento dele, ocupando de 60% a 80% de sua constituição. Além de ser através deles que o concreto tem sua resistência a compressão.\n",
    "Eles podem ser classificados conforme sua natureza:\n",
    "- Naturais: utilizados conforme são encontrados na natureza.\n",
    "- Artificiais: suas formas são alteradas pelo homem.\n",
    "E classificados quanto a suas dimensões:\n",
    "    1. Agregados graúdos: maior que 4,75 mm. Exemplo: Brita. No dataset é a coluna: 'Coarse Aggregate  (component 6)(kg in a m^3 mixture)' que é a quantidade de agregado graúdo ou grosso em kilograma por metro cúbico.\n",
    "    2. Agregados miúdos: menor que 4,75 mm. Exemplo: Areia. No dataset é a coluna: 'Fine Aggregate (component 7)(kg in a m^3 mixture)' que é a quantidade de agregado fino ou míudo em kilograma por metro cúbico. [3]\n",
    "\n",
    "##### Cinzas Volantes (Fly Ash)\n",
    "Cinzas volantes são partículas finas resultantes da queima de carvão em usinas termoelétricas. No concreto, elas funcionam como um aditivo pozolânico, que reage com a água e o hidróxido de cálcio gerado pela hidratação do cimento, formando compostos adicionais que aumentam a resistência e a durabilidade do concreto. As cinzas volantes também melhoram a trabalhabilidade e reduzem a permeabilidade do concreto. No dataset, as cinzas volantes estão representadas na coluna 'Fly Ash (component 4)(kg in a m^3 mixture)'. [4]\n",
    "\n",
    "##### Escória de Alto-Forno (Blast Furnace Slag)\n",
    "A escória de alto-forno é um subproduto da produção de ferro em altos-fornos e, ao ser moída finamente, torna-se uma adição mineral para o concreto. Quando misturada com o cimento Portland, a escória reage com a água e contribui para a formação de produtos hidratados que aumentam a resistência à compressão e reduzem a permeabilidade do concreto. No dataset, a escória de alto-forno é representada na coluna 'Blast Furnace Slag (component 2)(kg in a m^3 mixture)'.[4]\n",
    "\n",
    "##### Água (Water)\n",
    "A água é um dos componentes mais importantes na produção de concreto, pois desencadeia a hidratação do cimento, iniciando o processo de endurecimento. A quantidade de água afeta diretamente a consistência, trabalhabilidade e resistência do concreto. A água utilizada no concreto é representada no dataframe pela coluna 'Water (component 5)(kg in a m^3 mixture)' representa a quantidade de água em quilogramas por metro cúbico de mistura.[4]\n",
    "\n",
    "##### Idade do Concreto (Age)\n",
    "A resistência do concreto aumenta com o tempo devido ao processo de hidratação do cimento, que continua por longos períodos após o concreto ter endurecido. A \"idade\" refere-se ao tempo em dias que o concreto foi curado antes de testar sua resistência à compressão. Quanto maior o tempo de cura, em geral, maior é a resistência à compressão. No dataset, a idade é representada pela coluna 'Age (day)', indicando a idade do concreto em dias.[4]\n",
    "\n",
    "##### Resistência à Compressão do Concreto (Compressive Strength)\n",
    "A resistência à compressão é uma das propriedades mais importantes do concreto e é o principal parâmetro para avaliar sua qualidade e durabilidade. Ela mede a capacidade do concreto de suportar cargas aplicadas sem quebrar e é expressa em unidades de força por área, como MPa (megapascais). A resistência à compressão depende de vários fatores, como a proporção dos materiais, a qualidade dos agregados, a quantidade de água e o tempo de cura. Uma maior resistência indica que o concreto pode suportar maiores cargas, o que é essencial para garantir a segurança e a estabilidade de construções. No dataset, a coluna 'Concrete compressive strength(MPa, megapascals)' representa o valor da resistência à compressão do concreto, que é o alvo (target) previsto pelos modelos de aprendizado de máquina neste projeto. [4]\n",
    "\n",
    "Dessa forma, é possível entender que o concreto possui diversas variáveis que alteram sua resistência à compressão, característica mais desejada e pesquisada sobre ele, assim será realizado diversos modelos e estudos para prever esse target.\n"
   ]
  },
  {
   "cell_type": "markdown",
   "metadata": {},
   "source": [
    "----------------------\n",
    "\n",
    "## <center> Matriz de Correlação </center>"
   ]
  },
  {
   "cell_type": "markdown",
   "metadata": {},
   "source": [
    "A **matriz de correlação** é uma tabela que mostra a relação entre duas ou mais variáveis. Os valores de correlação variam de **-1** a **+1**:\n",
    "- **+1** indica uma correlação positiva perfeita (quando uma variável aumenta, a outra também aumenta de forma proporcional).\n",
    "- **-1** indica uma correlação negativa perfeita (quando uma variável aumenta, a outra diminui proporcionalmente).\n",
    "- **0** indica que não há correlação entre as variáveis.\n",
    "\n",
    "Valores próximos de **+1** ou **-1** indicam uma correlação forte, enquanto valores próximos de **0** indicam uma correlação fraca ou inexistente.\n",
    "\n",
    "Vamos utiliza-lá para visualizar como os atributos se correlacionam com o target e com os próprios atributos. Para isso, vamos criar uma matriz de correlação através da biblioteca pandas, que permitirá a visualização das correlações em forma de tabela. Para melhor visualização do gráfico, iremos renomear as colunas do dataframe, reduzindo o tamanho dos seus nomes."
   ]
  },
  {
   "cell_type": "code",
   "execution_count": 20,
   "metadata": {},
   "outputs": [],
   "source": [
    "df_correlação = df.rename(columns={'Cement (component 1)(kg in a m^3 mixture)': 'Cimento', 'Blast Furnace Slag (component 2)(kg in a m^3 mixture)': \"Escória de alto forno\", 'Fly Ash (component 3)(kg in a m^3 mixture)' : 'Cinzas volantes', 'Water  (component 4)(kg in a m^3 mixture)' : 'Água', 'Superplasticizer (component 5)(kg in a m^3 mixture)': 'Superplastificante', 'Coarse Aggregate  (component 6)(kg in a m^3 mixture)' : 'Agregado grosso', 'Fine Aggregate (component 7)(kg in a m^3 mixture)': 'Agregado fino', 'Concrete compressive strength(MPa, megapascals) ': 'Compressão do concreto', 'Age (day)': 'idade (dias)' })\n",
    "\n"
   ]
  },
  {
   "cell_type": "code",
   "execution_count": 21,
   "metadata": {},
   "outputs": [
    {
     "data": {
      "text/html": [
       "<div>\n",
       "<style scoped>\n",
       "    .dataframe tbody tr th:only-of-type {\n",
       "        vertical-align: middle;\n",
       "    }\n",
       "\n",
       "    .dataframe tbody tr th {\n",
       "        vertical-align: top;\n",
       "    }\n",
       "\n",
       "    .dataframe thead th {\n",
       "        text-align: right;\n",
       "    }\n",
       "</style>\n",
       "<table border=\"1\" class=\"dataframe\">\n",
       "  <thead>\n",
       "    <tr style=\"text-align: right;\">\n",
       "      <th></th>\n",
       "      <th>Cimento</th>\n",
       "      <th>Escória de alto forno</th>\n",
       "      <th>Cinzas volantes</th>\n",
       "      <th>Água</th>\n",
       "      <th>Superplastificante</th>\n",
       "      <th>Agregado grosso</th>\n",
       "      <th>Agregado fino</th>\n",
       "      <th>Compressão do concreto</th>\n",
       "      <th>idade (dias)</th>\n",
       "    </tr>\n",
       "  </thead>\n",
       "  <tbody>\n",
       "    <tr>\n",
       "      <th>Cimento</th>\n",
       "      <td>1.000000</td>\n",
       "      <td>-0.275193</td>\n",
       "      <td>-0.397475</td>\n",
       "      <td>-0.081544</td>\n",
       "      <td>0.092771</td>\n",
       "      <td>-0.109356</td>\n",
       "      <td>-0.222720</td>\n",
       "      <td>0.497833</td>\n",
       "      <td>0.081947</td>\n",
       "    </tr>\n",
       "    <tr>\n",
       "      <th>Escória de alto forno</th>\n",
       "      <td>-0.275193</td>\n",
       "      <td>1.000000</td>\n",
       "      <td>-0.323569</td>\n",
       "      <td>0.107286</td>\n",
       "      <td>0.043376</td>\n",
       "      <td>-0.283998</td>\n",
       "      <td>-0.281593</td>\n",
       "      <td>0.134824</td>\n",
       "      <td>-0.044246</td>\n",
       "    </tr>\n",
       "    <tr>\n",
       "      <th>Cinzas volantes</th>\n",
       "      <td>-0.397475</td>\n",
       "      <td>-0.323569</td>\n",
       "      <td>1.000000</td>\n",
       "      <td>-0.257044</td>\n",
       "      <td>0.377340</td>\n",
       "      <td>-0.009977</td>\n",
       "      <td>0.079076</td>\n",
       "      <td>-0.105753</td>\n",
       "      <td>-0.154370</td>\n",
       "    </tr>\n",
       "    <tr>\n",
       "      <th>Água</th>\n",
       "      <td>-0.081544</td>\n",
       "      <td>0.107286</td>\n",
       "      <td>-0.257044</td>\n",
       "      <td>1.000000</td>\n",
       "      <td>-0.657464</td>\n",
       "      <td>-0.182312</td>\n",
       "      <td>-0.450635</td>\n",
       "      <td>-0.289613</td>\n",
       "      <td>0.277604</td>\n",
       "    </tr>\n",
       "    <tr>\n",
       "      <th>Superplastificante</th>\n",
       "      <td>0.092771</td>\n",
       "      <td>0.043376</td>\n",
       "      <td>0.377340</td>\n",
       "      <td>-0.657464</td>\n",
       "      <td>1.000000</td>\n",
       "      <td>-0.266303</td>\n",
       "      <td>0.222501</td>\n",
       "      <td>0.366102</td>\n",
       "      <td>-0.192717</td>\n",
       "    </tr>\n",
       "    <tr>\n",
       "      <th>Agregado grosso</th>\n",
       "      <td>-0.109356</td>\n",
       "      <td>-0.283998</td>\n",
       "      <td>-0.009977</td>\n",
       "      <td>-0.182312</td>\n",
       "      <td>-0.266303</td>\n",
       "      <td>1.000000</td>\n",
       "      <td>-0.178506</td>\n",
       "      <td>-0.164928</td>\n",
       "      <td>-0.003016</td>\n",
       "    </tr>\n",
       "    <tr>\n",
       "      <th>Agregado fino</th>\n",
       "      <td>-0.222720</td>\n",
       "      <td>-0.281593</td>\n",
       "      <td>0.079076</td>\n",
       "      <td>-0.450635</td>\n",
       "      <td>0.222501</td>\n",
       "      <td>-0.178506</td>\n",
       "      <td>1.000000</td>\n",
       "      <td>-0.167249</td>\n",
       "      <td>-0.156094</td>\n",
       "    </tr>\n",
       "    <tr>\n",
       "      <th>Compressão do concreto</th>\n",
       "      <td>0.497833</td>\n",
       "      <td>0.134824</td>\n",
       "      <td>-0.105753</td>\n",
       "      <td>-0.289613</td>\n",
       "      <td>0.366102</td>\n",
       "      <td>-0.164928</td>\n",
       "      <td>-0.167249</td>\n",
       "      <td>1.000000</td>\n",
       "      <td>0.328877</td>\n",
       "    </tr>\n",
       "    <tr>\n",
       "      <th>idade (dias)</th>\n",
       "      <td>0.081947</td>\n",
       "      <td>-0.044246</td>\n",
       "      <td>-0.154370</td>\n",
       "      <td>0.277604</td>\n",
       "      <td>-0.192717</td>\n",
       "      <td>-0.003016</td>\n",
       "      <td>-0.156094</td>\n",
       "      <td>0.328877</td>\n",
       "      <td>1.000000</td>\n",
       "    </tr>\n",
       "  </tbody>\n",
       "</table>\n",
       "</div>"
      ],
      "text/plain": [
       "                         Cimento  Escória de alto forno  Cinzas volantes  \\\n",
       "Cimento                 1.000000              -0.275193        -0.397475   \n",
       "Escória de alto forno  -0.275193               1.000000        -0.323569   \n",
       "Cinzas volantes        -0.397475              -0.323569         1.000000   \n",
       "Água                   -0.081544               0.107286        -0.257044   \n",
       "Superplastificante      0.092771               0.043376         0.377340   \n",
       "Agregado grosso        -0.109356              -0.283998        -0.009977   \n",
       "Agregado fino          -0.222720              -0.281593         0.079076   \n",
       "Compressão do concreto  0.497833               0.134824        -0.105753   \n",
       "idade (dias)            0.081947              -0.044246        -0.154370   \n",
       "\n",
       "                            Água  Superplastificante  Agregado grosso  \\\n",
       "Cimento                -0.081544            0.092771        -0.109356   \n",
       "Escória de alto forno   0.107286            0.043376        -0.283998   \n",
       "Cinzas volantes        -0.257044            0.377340        -0.009977   \n",
       "Água                    1.000000           -0.657464        -0.182312   \n",
       "Superplastificante     -0.657464            1.000000        -0.266303   \n",
       "Agregado grosso        -0.182312           -0.266303         1.000000   \n",
       "Agregado fino          -0.450635            0.222501        -0.178506   \n",
       "Compressão do concreto -0.289613            0.366102        -0.164928   \n",
       "idade (dias)            0.277604           -0.192717        -0.003016   \n",
       "\n",
       "                        Agregado fino  Compressão do concreto  idade (dias)  \n",
       "Cimento                     -0.222720                0.497833      0.081947  \n",
       "Escória de alto forno       -0.281593                0.134824     -0.044246  \n",
       "Cinzas volantes              0.079076               -0.105753     -0.154370  \n",
       "Água                        -0.450635               -0.289613      0.277604  \n",
       "Superplastificante           0.222501                0.366102     -0.192717  \n",
       "Agregado grosso             -0.178506               -0.164928     -0.003016  \n",
       "Agregado fino                1.000000               -0.167249     -0.156094  \n",
       "Compressão do concreto      -0.167249                1.000000      0.328877  \n",
       "idade (dias)                -0.156094                0.328877      1.000000  "
      ]
     },
     "execution_count": 21,
     "metadata": {},
     "output_type": "execute_result"
    }
   ],
   "source": [
    "Dados_Correlacao = df_correlação.reindex(['Cimento', 'Escória de alto forno', 'Cinzas volantes', 'Água', 'Superplastificante', 'Agregado grosso', 'Agregado fino', 'Compressão do concreto', 'idade (dias)'], axis=1)\n",
    "\n",
    "matriz_cov = Dados_Correlacao.corr()\n",
    "\n",
    "matriz_cov"
   ]
  },
  {
   "cell_type": "markdown",
   "metadata": {},
   "source": [
    "Com ajuda do `seaborn`, podemos criar um gráfico que varia sua intensidade a depender da correlação:"
   ]
  },
  {
   "cell_type": "code",
   "execution_count": 22,
   "metadata": {},
   "outputs": [
    {
     "data": {
      "image/png": "[encoded data removed]",
      "text/plain": [
       "<Figure size 640x480 with 2 Axes>"
      ]
     },
     "metadata": {},
     "output_type": "display_data"
    }
   ],
   "source": [
    "import seaborn as sns\n",
    "import numpy as np\n",
    "\n",
    "sns.set_theme(style=\"white\")\n",
    "\n",
    "m_corr = Dados_Correlacao.corr()\n",
    "mascara = np.triu(np.ones_like(m_corr, dtype=bool))\n",
    "mapa_de_cor = sns.diverging_palette(240, 20, as_cmap=True)\n",
    "\n",
    "sns.heatmap(\n",
    "    m_corr,\n",
    "    mask=mascara,\n",
    "    cmap=mapa_de_cor,\n",
    "    center=0,\n",
    "    square=True,\n",
    "    linewidths=0.5,\n",
    ");"
   ]
  },
  {
   "cell_type": "markdown",
   "metadata": {},
   "source": [
    "#### Interpretação das Correlações Mais Impactantes\n",
    "\n",
    "Na matriz de correlação entre os componentes do concreto e a resistência do concreto, as correlações mais significativas são:\n",
    "\n",
    "1. **Cimento e resistência do concreto (target)**\n",
    "   - **Correlação: 0.4979** (moderada e positiva)\n",
    "   - O aumento na quantidade de **cimento** está associado a um aumento na resistência do concreto\n",
    "\n",
    "2. **Água e resistência do concreto**\n",
    "   - **Correlação: -0.287** (moderada e negativa)\n",
    "   - Mais **água** no concreto tende a diminuir a resistência, mostrando uma correlação negativa moderada.\n",
    "\n",
    "3. **Superplastificante e resistência do concreto**\n",
    "   - **Correlação: 0.3661** (moderada e positiva)\n",
    "   - O aumento no uso de **superplastificante** está associado à um aumento da resistência do concreto.\n",
    "\n",
    "4. **Cinzas Volantes e resistência do concreto**\n",
    "   - **Correlação: -0.1057** (fraca e negativa)\n",
    "   - Um aumento nas **cinzas volantes** tende a reduzir a resistência do concreto, embora a correlação seja fraca.\n",
    "\n",
    "5. **Escória de Alto-Forno e resistência do concreto**\n",
    "   - **Correlação: 0.1348** (fraca e positiva)\n",
    "   - A **escória de alto-forno** tem uma correlação baixa com a resistência do concreto.\n",
    "\n",
    "\n"
   ]
  },
  {
   "cell_type": "markdown",
   "metadata": {},
   "source": [
    "#### Conclusão sobre matriz de correlação\n",
    "\n",
    "- A **Água** tem correlação negativa significante com a resistência do concreto, ou seja, à medida que a quantidade de água aumenta, a resistência tende a diminuir.\n",
    "- O **cimento** e **superplastificante** têm correlações **positivas** com a resistência, sugerindo um aumento significante na resistência a medida que os valores desses atributos aumentam.\n",
    "- **Cinzas volantes** tem correlações negativa fraca com a resistência, indicando que sua presença pode reduzir a resistência, mas de forma moderada.\n",
    "- **escória de alto-forno** tem correlações positiva fraca com a resistência, indicando que sua presença pode aumentar a resistência, mas de forma moderada.\n",
    "\n",
    "\n",
    "Essas correlações são essenciais para entender como cada componente do concreto afeta sua resistência, e ajudam na seleção de variáveis para modelos preditivos."
   ]
  },
  {
   "cell_type": "markdown",
   "metadata": {},
   "source": [
    "----------------------\n",
    " \n",
    "### <center> Quartis </center>"
   ]
  },
  {
   "cell_type": "markdown",
   "metadata": {},
   "source": [
    "#### O que é um gráfico de quartis (Boxplot)?\n",
    " \n",
    "O gráfico de quartis (ou boxplot) é uma representação gráfica que resume a distribuição de um conjunto de dados, mostrando a mediana, os quartis (Q1, Q3) e possíveis outliers. Ele é útil para entender a dispersão e a presença de valores extremos nos dados.\n",
    " \n",
    "#### Analisando a Coluna \"Concrete Compressive Strength (MPa)\"\n",
    " \n",
    "Aqui estão os quartis da coluna **resistência à compressão do concreto**:\n",
    " \n",
    "- **Mínimo**: 2,33 MPa\n",
    "- **Quartil 25% (Q1)**: 23,70 MPa\n",
    "- **Mediana (Q2)**: 34,44 MPa\n",
    "- **Quartil 75% (Q3)**: 46,13 MPa\n",
    "- **Máximo**: 82,59 MPa\n",
    " \n",
    "A mediana indica o valor central da resistência, enquanto os quartis mostram a dispersão dos dados:\n",
    " \n",
    "- **Q1 (25%)**: 25% das amostras têm resistência inferior a 23,70 MPa.\n",
    "- **Q3 (75%)**: 75% das amostras têm resistência inferior a 46,13 MPa.\n",
    "- **Outliers**: Valores fora do intervalo entre o mínimo e o máximo aceitável podem indicar pontos fora da curva.\n",
    " \n",
    "O boxplot ajuda a visualizar a distribuição, identificando rapidamente onde a maioria das amostras se concentra e possíveis outliers."
   ]
  },
  {
   "cell_type": "code",
   "execution_count": 23,
   "metadata": {},
   "outputs": [
    {
     "data": {
      "image/png": "[encoded data removed]",
      "text/plain": [
       "<Figure size 640x480 with 1 Axes>"
      ]
     },
     "metadata": {},
     "output_type": "display_data"
    }
   ],
   "source": [
    "sns.boxplot(x=df['Concrete compressive strength(MPa, megapascals) '], color='red', fliersize=8, linewidth=2)\n",
    " \n",
    "plt.title('Gráfico de Quartis - Resistência a compressão do concreto', fontsize=16)\n",
    "plt.show()"
   ]
  },
  {
   "cell_type": "markdown",
   "metadata": {},
   "source": [
    "---------\n",
    "\n",
    "### <center> Normalizar Dados </center>\n",
    "\n",
    "\n",
    "Normalização de dados é o processo de transformar os dados de modo que eles tenham uma escala comum, sem distorcer as diferenças nas faixas de valores. Esse processo é importante quando se trabalha com algoritmos de aprendizado de máquina que são sensíveis à escala dos dados, como o K-nearest neighbors (KNN). E existem diferentes técnicas para normalizar dados, sendo as mais comuns:\n",
    "\n",
    "#### Normalizador Padrão:\n",
    "\n",
    "Nesse método, os dados são transformados para que tenham média 0 e desvio padrão 1. A fórmula para o Z-score é:\n",
    "\n",
    "$$\n",
    "Z_i = \\frac{X_i - \\mu}{\\sigma}\n",
    "$$\n",
    "\n",
    "#### Normalizador Pelo Mínimo e Máximo: \n",
    "\n",
    " Ela consiste em ajustar os dados para que fiquem dentro de um intervalo específico, como [0, 1]. A fórmula para essa transformação é:\n",
    "\n",
    " $$\n",
    "X_{\\text{normalizado}} = \\frac{X - X_{\\text{min}}}{X_{\\text{max}} - X_{\\text{min}}}\n",
    "$$\n",
    "\n",
    "#### Normalizador Pelo Máximo Absoluto:\n",
    "\n",
    "Os valores de um conjunto de dados são ajustados dividindo-os pelo maior valor absoluto do conjunto. Isso assegura que os dados fiquem no intervalo de [−1,1], independentemente da distribuição dos valores.\n",
    "\n",
    "$$\n",
    "X_{\\text{normalizado}} = \\frac{X}{|X_{\\text{max}}|}\n",
    "$$\n",
    "\n",
    "E vamos primeiramente calcular a normalização padrão dos dados do datasets"
   ]
  },
  {
   "cell_type": "code",
   "execution_count": 24,
   "metadata": {},
   "outputs": [],
   "source": [
    "from sklearn.preprocessing import StandardScaler\n",
    "\n",
    "# Normalizador de X\n",
    "normalizador_padrao_X = StandardScaler()\n",
    "\n",
    "normalizador_padrao_X.fit(X_treino)\n",
    "\n",
    "X_treino_normalizado_padrao = normalizador_padrao_X.transform(X_treino)\n",
    "\n",
    "X_teste_normalizado_padrao = normalizador_padrao_X.transform(X_teste)\n",
    "\n",
    "# Nomalização de Y\n",
    "\n",
    "normalizador_padrao_Y = StandardScaler()\n",
    "\n",
    "# Remodelando Y_treino para o formato correto (matriz de uma coluna)\n",
    "normalizador_padrao_Y.fit(Y_treino.reshape(-1, 1))\n",
    "\n",
    "Y_treino_normalizado_padrao = normalizador_padrao_Y.transform(Y_treino.reshape(-1, 1)).ravel()\n",
    "\n",
    "# Transformando Y_teste com o mesmo scaler\n",
    "Y_teste_normalizado_padrao = normalizador_padrao_Y.transform(Y_teste.reshape(-1, 1)).ravel()\n"
   ]
  },
  {
   "cell_type": "markdown",
   "metadata": {},
   "source": [
    "-------------\n",
    "\n",
    "#### RMSE (Root Mean Squared Error)"
   ]
  },
  {
   "cell_type": "markdown",
   "metadata": {},
   "source": [
    "O **RMSE** (Root Mean Squared Error) é uma métrica comum utilizada para avaliar a precisão de modelos preditivos, especialmente em problemas de regressão. Ele mede a média das diferenças quadráticas entre os valores preditos pelo modelo e os valores reais observados.\n",
    "\n",
    "A fórmula do RMSE é dada por:\n",
    "\n",
    "$$\n",
    "RMSE = \\sqrt{\\frac{1}{n} \\sum_{i=1}^{n} (y_i - \\hat{y_i})^2}\n",
    "$$\n",
    "\n",
    "Onde:\n",
    "- $y_i$ é o valor real observado.\n",
    "- $ \\hat{y_i} $ é o valor predito pelo modelo.\n",
    "- $ n $ é o número total de amostras.\n",
    "\n",
    "#### Interpretação\n",
    "\n",
    "- **Valor baixo de RMSE**: Indica que o modelo tem uma boa capacidade de prever os valores, ou seja, as previsões estão próximas dos valores reais.\n",
    "- **Valor alto de RMSE**: Indica que o modelo tem uma grande diferença entre as previsões e os valores reais, sugerindo um desempenho inferior.\n",
    "\n",
    "#### Características\n",
    "- **Sensível a outliers**: O RMSE é sensível a grandes erros de previsão, pois os erros são elevados ao quadrado.\n",
    "- **Unidade de medida**: A unidade do RMSE é a mesma da variável de saída, o que facilita a interpretação.\n",
    "\n",
    "#### Vantagens\n",
    "- Fácil de entender e calcular.\n",
    "- Intuitivo, pois penaliza previsões distantes de forma mais severa devido ao uso de quadrados.\n",
    "\n",
    "#### Desvantagens\n",
    "- Pode ser influenciado por outliers, pois erros grandes são amplificados.\n"
   ]
  },
  {
   "cell_type": "markdown",
   "metadata": {},
   "source": [
    "-------------\n",
    "\n",
    "#### Avaliando o desempenho dos Modelos Preditivos\n",
    " \n",
    "Para avaliar a performance do modelo em relação à média do target, calculamos o RMSE percentual. A fórmula utilizada é:\n",
    " \n",
    "$$\n",
    "\\text{RMSE percentual} = \\left( \\frac{\\text{RMSE}}{\\text{Média do Target}} \\right) \\times 100\n",
    "$$\n",
    " \n",
    "\n",
    "- **Média do target** = 35,81 MPa\n",
    " \n"
   ]
  },
  {
   "cell_type": "markdown",
   "metadata": {},
   "source": [
    "--------------------\n",
    "\n",
    "### <center> Modelo Baseline </center>"
   ]
  },
  {
   "cell_type": "markdown",
   "metadata": {},
   "source": [
    "Primeiramente, será feito um baseline ou também chamado de modelo dummy, para podermos comparar os outros modelos a este, se os próximos modelos forem piores que este, é porquê os outros modelos não são tão bons.\n",
    "\n",
    "Este modelo é mais simples que modelo linear, segue abaixo sua fórmula:\n",
    "\n",
    "$$\n",
    "y = \\beta_0 + \\epsilon.\n",
    "$$\n",
    "\n",
    "É possível afirmar que $y$ na equação acima é o valor esperado de $y$. Além a biblioteca scikit-learn possue uma função própria par calcular esse modelo."
   ]
  },
  {
   "cell_type": "code",
   "execution_count": 25,
   "metadata": {},
   "outputs": [
    {
     "name": "stdout",
     "output_type": "stream",
     "text": [
      "[35.45374409 35.45374409 35.45374409 35.45374409 35.45374409 35.45374409\n",
      " 35.45374409 35.45374409 35.45374409 35.45374409 35.45374409 35.45374409\n",
      " 35.45374409 35.45374409 35.45374409 35.45374409 35.45374409 35.45374409\n",
      " 35.45374409 35.45374409 35.45374409 35.45374409 35.45374409 35.45374409\n",
      " 35.45374409 35.45374409 35.45374409 35.45374409 35.45374409 35.45374409\n",
      " 35.45374409 35.45374409 35.45374409 35.45374409 35.45374409 35.45374409\n",
      " 35.45374409 35.45374409 35.45374409 35.45374409 35.45374409 35.45374409\n",
      " 35.45374409 35.45374409 35.45374409 35.45374409 35.45374409 35.45374409\n",
      " 35.45374409 35.45374409 35.45374409 35.45374409 35.45374409 35.45374409\n",
      " 35.45374409 35.45374409 35.45374409 35.45374409 35.45374409 35.45374409\n",
      " 35.45374409 35.45374409 35.45374409 35.45374409 35.45374409 35.45374409\n",
      " 35.45374409 35.45374409 35.45374409 35.45374409 35.45374409 35.45374409\n",
      " 35.45374409 35.45374409 35.45374409 35.45374409 35.45374409 35.45374409\n",
      " 35.45374409 35.45374409 35.45374409 35.45374409 35.45374409 35.45374409\n",
      " 35.45374409 35.45374409 35.45374409 35.45374409 35.45374409 35.45374409\n",
      " 35.45374409 35.45374409 35.45374409 35.45374409 35.45374409 35.45374409\n",
      " 35.45374409 35.45374409 35.45374409 35.45374409 35.45374409 35.45374409\n",
      " 35.45374409]\n"
     ]
    }
   ],
   "source": [
    "from sklearn.dummy import DummyRegressor\n",
    "\n",
    "modelo_baseline = DummyRegressor()\n",
    "\n",
    "modelo_baseline.fit(X_treino, Y_treino)\n",
    "\n",
    "y_previsto_baseline = modelo_baseline.predict(X_teste)\n",
    "\n",
    "print(y_previsto_baseline)"
   ]
  },
  {
   "cell_type": "markdown",
   "metadata": {},
   "source": [
    "Vamos computar o RMSE desse modelo:"
   ]
  },
  {
   "cell_type": "code",
   "execution_count": 26,
   "metadata": {},
   "outputs": [
    {
     "name": "stdout",
     "output_type": "stream",
     "text": [
      "18.078368524210187\n"
     ]
    }
   ],
   "source": [
    "from sklearn.metrics import mean_squared_error\n",
    "\n",
    "y_verdadeiro = Y_teste\n",
    "\n",
    "RMSE_baseline = mean_squared_error(y_verdadeiro, y_previsto_baseline, squared=False)\n",
    "print(RMSE_baseline)"
   ]
  },
  {
   "cell_type": "markdown",
   "metadata": {},
   "source": [
    "Desempenho em relação a média do target:"
   ]
  },
  {
   "cell_type": "markdown",
   "metadata": {},
   "source": [
    "Obteve-se um RMSE alto obviamente, pois foi utilizado um modelo muito simples para esse problema, dessa forma, vamos testar outro modelos preditivos, para verificar, qual é o melhor possível, isto é, com menor RMSE. "
   ]
  },
  {
   "cell_type": "markdown",
   "metadata": {},
   "source": [
    "--------------\n",
    "\n",
    "## <center> Modelo Linear Múltiplo </center>\n",
    "\n",
    "A regressão linear múltipla é um modelo estatístico que avalia a relação entre uma variável dependente contínua e várias variáveis independentes (ou preditores). Esses preditores podem ser contínuos ou categóricos. O modelo é denominado \"linear\" porque inclui termos aditivos, onde cada preditor é multiplicado por um coeficiente estimado, e geralmente inclui um termo constante (intercepto). [6]\n",
    "No presente trabalho, estamos trabalhando com 8 atributos, dessa forma não é possível utilizar um modelo linear simples, mas usaremos um modelo linear múltiplo, no qual é possível utilizar essa quantidade de atributos. A fórmula desse modelo é a seguinte:\n",
    "\n",
    "$$\n",
    "y = \\beta_0 + \\beta_1 x_1 + \\beta_2 x_2 + \\cdots + \\beta_n x_n + \\epsilon.\n",
    "$$\n",
    "\n",
    "Faremos primeiro a criação e teste de um modelo sem normalizar os dados:\n",
    "\n",
    "### Sem normalização dos dados:"
   ]
  },
  {
   "cell_type": "code",
   "execution_count": 27,
   "metadata": {},
   "outputs": [
    {
     "name": "stdout",
     "output_type": "stream",
     "text": [
      "[39.91961469 26.07760483 28.38423105 51.58688335 21.6175739  47.77903133\n",
      " 49.35674159 58.24280461 25.93704192 31.74666237 49.92893338 30.46748268\n",
      " 21.53815274 59.48918975 23.83017019 24.1196251  25.79883851 71.04636506\n",
      " 60.41074878 19.97398948 31.81064914 40.57355811 20.60952629 35.02391578\n",
      " 26.20284777 55.92038355 53.12102426 51.45146812 57.24212089 28.81184299\n",
      " 72.80893495 44.03555514 27.69414097 37.75935166 32.23648657 38.37175484\n",
      " 41.52579753 43.11717125 53.12102426 33.23498669 25.56164638 57.27381152\n",
      " 25.04208787 35.99381966 47.32410199 34.23010292 56.29709886 30.26754537\n",
      " 70.05973901 40.00555009 24.22166165 17.16112013 18.64240964 52.73099114\n",
      " 51.43523828 27.37735544 23.36232685 14.60231228 37.28597879 21.78649867\n",
      " 52.92849121 25.30007281 25.38360861 36.36319192 19.36776642 48.31147285\n",
      " 61.55012768 32.70815719 47.98254059 23.32304086 20.12251733 23.47387669\n",
      " 50.9792253  39.03604152 31.57688318 33.34270781 20.7523343  18.12151299\n",
      " 37.85961845 28.32200376 37.67842428 33.27815583 49.92893338 34.10193484\n",
      " 50.40861832 44.20205336 38.3588692  34.88125065 28.16487416 26.19941898\n",
      " 32.51605404 49.49706999 28.55015167 31.46489169 39.33321656 23.47252718\n",
      " 23.13724771 24.07135779 42.92904917 36.59257819 56.18009375 60.43421177\n",
      " 42.45706753]\n"
     ]
    }
   ],
   "source": [
    "from sklearn.linear_model import LinearRegression\n",
    "\n",
    "modelo_linear_multiplo = LinearRegression()\n",
    "\n",
    "modelo_linear_multiplo.fit(X_treino, Y_treino)\n",
    "\n",
    "y_previsto_linear_multiplo = modelo_linear_multiplo.predict(X_teste)\n",
    "\n",
    "print(y_previsto_linear_multiplo)\n"
   ]
  },
  {
   "cell_type": "code",
   "execution_count": 28,
   "metadata": {},
   "outputs": [
    {
     "name": "stdout",
     "output_type": "stream",
     "text": [
      "11.22409700924259\n"
     ]
    }
   ],
   "source": [
    "RMSE_linear_multiplo = mean_squared_error(y_verdadeiro, y_previsto_linear_multiplo, squared=False)\n",
    "print(RMSE_linear_multiplo)"
   ]
  },
  {
   "cell_type": "markdown",
   "metadata": {},
   "source": [
    "Vamos calcular o coeficiente de determinação ou também chamado de $R^2$ para verificar o quão boa é a proporção da variação da variável dependente (target) que é explicada/predita pela variável independente (atributos). E para isso, deve-se saber se o modelo possui ou não intercepto igual a 0, pois se tiver intercepto é possível utilizar a biblioteca scikit-learn para calcular de forma direta essa métrica, se possuir um intercepto igual a zero, será necessário criar uma função que calcula especificamente para este caso. \n",
    "\n",
    "Se o intercepto for igual a 0:\n",
    "\n",
    "$$\n",
    "R^2 = 1 - \\frac{\\sum_i (y_i - \\hat{y}_i)^2}{\\sum_i y_i^2}.\n",
    "$$\n",
    "\n",
    "Se o intercepto for diferente de 0, caso onde não é necessário criar uma função, pois o scikit-learn já possui função pronta:\n",
    "\n",
    "$$\n",
    "R^2 = 1 - \\frac{\\sum_i (y_i - \\hat{y}_i)^2}{\\sum_i (y_i - E[y])^2},\n",
    "$$\n",
    "\n",
    "Além disso, o valor máximo de $R^2$ é 1 e quanto maior for o $R^2$, melhor seu modelo se ajusta aos dados.\n"
   ]
  },
  {
   "cell_type": "code",
   "execution_count": 29,
   "metadata": {},
   "outputs": [
    {
     "name": "stdout",
     "output_type": "stream",
     "text": [
      "O intercepto é -4.71749058793489\n",
      "O intercepto é diferente de 0: True\n"
     ]
    }
   ],
   "source": [
    "print('O intercepto é {}'.format(modelo_linear_multiplo.intercept_))\n",
    "print('O intercepto é diferente de 0: {}'.format(modelo_linear_multiplo.intercept_ != 0))"
   ]
  },
  {
   "cell_type": "markdown",
   "metadata": {},
   "source": [
    "Dessa forma, podemos calcular o coeficiente de determinação da seguinte forma:"
   ]
  },
  {
   "cell_type": "code",
   "execution_count": 30,
   "metadata": {},
   "outputs": [
    {
     "name": "stdout",
     "output_type": "stream",
     "text": [
      "O coeficiente de determinação do modelo foi de 0.5982399464195951 unidades de y.\n"
     ]
    }
   ],
   "source": [
    "from sklearn.metrics import r2_score\n",
    "\n",
    "R2_MODELO_LINEAR_MULTIPLO = r2_score(Y_teste, y_previsto_linear_multiplo)\n",
    "print(\"O coeficiente de determinação do modelo foi de {} unidades de y.\".format(R2_MODELO_LINEAR_MULTIPLO))\n"
   ]
  },
  {
   "cell_type": "markdown",
   "metadata": {},
   "source": [
    "### Com normalizador padrão dos dados dos atributos:"
   ]
  },
  {
   "cell_type": "markdown",
   "metadata": {},
   "source": [
    "Com o modelo linear múltiplo foi possível alcançar um RMSE menor que o baseline, mas ainda muito alto. Mas e se fizermos com os dados normalizados pelo normalizador padrão?"
   ]
  },
  {
   "cell_type": "code",
   "execution_count": 31,
   "metadata": {},
   "outputs": [
    {
     "name": "stdout",
     "output_type": "stream",
     "text": [
      "[39.91961469 26.07760483 28.38423105 51.58688335 21.6175739  47.77903133\n",
      " 49.35674159 58.24280461 25.93704192 31.74666237 49.92893338 30.46748268\n",
      " 21.53815274 59.48918975 23.83017019 24.1196251  25.79883851 71.04636506\n",
      " 60.41074878 19.97398948 31.81064914 40.57355811 20.60952629 35.02391578\n",
      " 26.20284777 55.92038355 53.12102426 51.45146812 57.24212089 28.81184299\n",
      " 72.80893495 44.03555514 27.69414097 37.75935166 32.23648657 38.37175484\n",
      " 41.52579753 43.11717125 53.12102426 33.23498669 25.56164638 57.27381152\n",
      " 25.04208787 35.99381966 47.32410199 34.23010292 56.29709886 30.26754537\n",
      " 70.05973901 40.00555009 24.22166165 17.16112013 18.64240964 52.73099114\n",
      " 51.43523828 27.37735544 23.36232685 14.60231228 37.28597879 21.78649867\n",
      " 52.92849121 25.30007281 25.38360861 36.36319192 19.36776642 48.31147285\n",
      " 61.55012768 32.70815719 47.98254059 23.32304086 20.12251733 23.47387669\n",
      " 50.9792253  39.03604152 31.57688318 33.34270781 20.7523343  18.12151299\n",
      " 37.85961845 28.32200376 37.67842428 33.27815583 49.92893338 34.10193484\n",
      " 50.40861832 44.20205336 38.3588692  34.88125065 28.16487416 26.19941898\n",
      " 32.51605404 49.49706999 28.55015167 31.46489169 39.33321656 23.47252718\n",
      " 23.13724771 24.07135779 42.92904917 36.59257819 56.18009375 60.43421177\n",
      " 42.45706753]\n"
     ]
    }
   ],
   "source": [
    "modelo_linear_multiplo_normalizado = LinearRegression()\n",
    "\n",
    "modelo_linear_multiplo_normalizado.fit(X_treino_normalizado_padrao, Y_treino)\n",
    "\n",
    "y_previsto_linear_multiplo_normalizado = modelo_linear_multiplo_normalizado.predict(X_teste_normalizado_padrao)\n",
    "\n",
    "print(y_previsto_linear_multiplo_normalizado)"
   ]
  },
  {
   "cell_type": "code",
   "execution_count": 32,
   "metadata": {},
   "outputs": [
    {
     "name": "stdout",
     "output_type": "stream",
     "text": [
      "O RMSE do modelo foi de 11.224097009242593 unidades de y.\n"
     ]
    }
   ],
   "source": [
    "RMSE_linear_multiplo_normalizado = mean_squared_error(y_verdadeiro, y_previsto_linear_multiplo_normalizado, squared=False)\n",
    "print(f\"O RMSE do modelo foi de {RMSE_linear_multiplo_normalizado} unidades de y.\")"
   ]
  },
  {
   "cell_type": "code",
   "execution_count": 33,
   "metadata": {},
   "outputs": [
    {
     "name": "stdout",
     "output_type": "stream",
     "text": [
      "O coeficiente de determinação do modelo foi de 0.5982399464195949 unidades de y.\n"
     ]
    }
   ],
   "source": [
    "R2_MODELO_LINEAR_MULTIPLO_NORMALIZADO = r2_score(y_verdadeiro, y_previsto_linear_multiplo_normalizado)\n",
    "print(\"O coeficiente de determinação do modelo foi de {} unidades de y.\".format(R2_MODELO_LINEAR_MULTIPLO_NORMALIZADO))"
   ]
  },
  {
   "cell_type": "markdown",
   "metadata": {},
   "source": [
    "Em seguida, usaremos da função "
   ]
  },
  {
   "cell_type": "markdown",
   "metadata": {},
   "source": [
    "### Usar Pipeline para aplicar normalização MaxAbsScaler (Pelo Máximo Absoluto)"
   ]
  },
  {
   "cell_type": "code",
   "execution_count": 34,
   "metadata": {},
   "outputs": [
    {
     "name": "stdout",
     "output_type": "stream",
     "text": [
      "O RMSE do modelo foi de 11.224097009242591 unidades de y.\n",
      "O modelo tem intercepto? True\n",
      "Valor do intercepto: -4.717490587934293\n",
      "O valor de R² do modelo é: 0.598239946419595\n"
     ]
    }
   ],
   "source": [
    "from sklearn.pipeline import make_pipeline\n",
    "from sklearn.preprocessing import MaxAbsScaler\n",
    "from sklearn.linear_model import LinearRegression\n",
    "\n",
    "modelo_linear_regression_pipeline_MaxAbsScaler = make_pipeline(\n",
    "    MaxAbsScaler(),\n",
    "    LinearRegression(),\n",
    ")\n",
    "\n",
    "modelo_linear_regression_pipeline_MaxAbsScaler.fit(X_treino, Y_treino)\n",
    "\n",
    "y_previsto_linear_regression_pipeline_MaxAbsScaler = modelo_linear_regression_pipeline_MaxAbsScaler.predict(X_teste)\n",
    "\n",
    "RMSE_pipeline_linear_regression_MaxAbsScaler = mean_squared_error(y_verdadeiro, y_previsto_linear_regression_pipeline_MaxAbsScaler) ** (1/2)\n",
    "\n",
    "print(f\"O RMSE do modelo foi de {RMSE_pipeline_linear_regression_MaxAbsScaler} unidades de y.\")\n",
    "\n",
    "\n",
    "modelo_linear_MaxAbsScaler = modelo_linear_regression_pipeline_MaxAbsScaler.named_steps['linearregression']\n",
    "\n",
    "print(f\"O modelo tem intercepto? {modelo_linear_MaxAbsScaler.fit_intercept}\")\n",
    "print(f\"Valor do intercepto: {modelo_linear_MaxAbsScaler.intercept_}\")\n",
    "\n",
    "if modelo_linear_MaxAbsScaler.intercept_ != 0:\n",
    "    R2_MODELO_LINEAR_MULTIPLO_MaxAbsScaler = r2_score(Y_teste, y_previsto_linear_regression_pipeline_MaxAbsScaler)\n",
    "    print(f\"O valor de R² do modelo é: {R2_MODELO_LINEAR_MULTIPLO_MaxAbsScaler}\")"
   ]
  },
  {
   "cell_type": "markdown",
   "metadata": {},
   "source": [
    "### Usar Pipeline para aplicar normalização MinMaxScaler (Pelo Mínimo e Máximo)"
   ]
  },
  {
   "cell_type": "code",
   "execution_count": 35,
   "metadata": {},
   "outputs": [
    {
     "name": "stdout",
     "output_type": "stream",
     "text": [
      "O RMSE do modelo foi de 11.22409700924259 unidades de y.\n",
      "O modelo tem intercepto? True\n",
      "Valor do intercepto: 3.098907596103132\n",
      "O valor de R² do modelo é: 0.5982399464195951\n"
     ]
    }
   ],
   "source": [
    "from sklearn.pipeline import make_pipeline\n",
    "from sklearn.preprocessing import MinMaxScaler\n",
    "from sklearn.linear_model import LinearRegression\n",
    "\n",
    "modelo_linear_regression_pipeline_MinMaxScaler = make_pipeline(\n",
    "    MinMaxScaler(),\n",
    "    LinearRegression(),\n",
    ")\n",
    "\n",
    "modelo_linear_regression_pipeline_MinMaxScaler.fit(X_treino, Y_treino)\n",
    "\n",
    "y_previsto_linear_regression_pipeline_MinMaxScaler = modelo_linear_regression_pipeline_MinMaxScaler.predict(X_teste)\n",
    "\n",
    "RMSE_pipeline_linear_regression_MinMaxScaler = mean_squared_error(y_verdadeiro, y_previsto_linear_regression_pipeline_MinMaxScaler) ** (1/2)\n",
    "\n",
    "print(f\"O RMSE do modelo foi de {RMSE_pipeline_linear_regression_MinMaxScaler} unidades de y.\")\n",
    "\n",
    "modelo_linear_MinMaxScaler = modelo_linear_regression_pipeline_MinMaxScaler.named_steps['linearregression']\n",
    "\n",
    "print(f\"O modelo tem intercepto? {modelo_linear_MinMaxScaler.fit_intercept}\")\n",
    "print(f\"Valor do intercepto: {modelo_linear_MinMaxScaler.intercept_}\")\n",
    "\n",
    "if modelo_linear_MinMaxScaler.intercept_ != 0:\n",
    "    R2_MODELO_LINEAR_MULTIPLO_MinMaxScaler = r2_score(Y_teste, y_previsto_linear_regression_pipeline_MinMaxScaler)\n",
    "    print(f\"O valor de R² do modelo é: {R2_MODELO_LINEAR_MULTIPLO_MinMaxScaler}\")"
   ]
  },
  {
   "cell_type": "markdown",
   "metadata": {},
   "source": [
    "##### Conclusão: \n",
    "\n",
    "As normalizações não fizeram muita diferença para este modelo regressão linear múltipla, mas no entanto este modelo foi bem melhor do modelo anterior, o baseline, que alcançou um RMSE de aproximadamente 18, enquanto o modelo linear múltiplo foi de 11, ou seja, foi possível alcançar uma melhora significativa no modelo."
   ]
  },
  {
   "cell_type": "markdown",
   "metadata": {},
   "source": [
    "---------------\n",
    "\n",
    "## <center> K-vizinhos mais próximos </center>\n"
   ]
  },
  {
   "attachments": {
    "image.png": {
     "image/png": "[encoded data removed]"
    }
   },
   "cell_type": "markdown",
   "metadata": {},
   "source": [
    "Primeiramente, segundo  [5], a técnica K-nearest neighbors (KNN) é um algoritmo de aprendizado supervisionado amplamente utilizado para tarefas de classificação. Nesse método, a classificação de uma nova amostra é definida com base nas classes das amostras mais próximas, conhecidas como vizinhos. O principal parâmetro do KNN é o valor de k, que indica o número de vizinhos a serem considerados na decisão. Por exemplo, se k=3, a classe da nova amostra será determinada pela classe mais frequente entre os três vizinhos mais próximos. A seguir, apresenta-se uma ilustração desse processo conforme descrito por Pedroso (2009) [5]\n",
    "\n",
    "![image.png](attachment:image.png)"
   ]
  },
  {
   "cell_type": "markdown",
   "metadata": {},
   "source": [
    "Primeiramente, foi feito o modelo K-NN sem normalizar os dados, para verificar a pior hipótese de resultado."
   ]
  },
  {
   "cell_type": "markdown",
   "metadata": {},
   "source": [
    "#### Sem normalização dos dados:"
   ]
  },
  {
   "cell_type": "code",
   "execution_count": 36,
   "metadata": {},
   "outputs": [
    {
     "name": "stdout",
     "output_type": "stream",
     "text": [
      "[55.61887979 20.05455859 28.81756872 43.10866609 25.53819104 32.37319645\n",
      " 47.67266889 41.34718624 15.73614057 20.29587519 33.16051238 28.10534001\n",
      " 17.26654747 62.96524657 23.77543073 18.74156646 20.52110401 45.88692605\n",
      " 79.29663476 18.10632924 36.52154372 62.80965482 13.23081461 39.38516737\n",
      " 12.85826775 55.69816953 33.16051238 37.58517536 45.73294308 29.69573132\n",
      " 64.16493481 35.66429523 39.39275161 35.5234123  29.82144578 24.33528525\n",
      " 52.24619303 45.3013311  33.16051238 37.51806637 16.34908474 59.56383164\n",
      " 39.18751759 33.25342748 39.16913156 28.33378639 56.59678659 25.60024388\n",
      " 46.40931904 52.77777902 22.29535559 18.2692754  34.32349423 56.29801365\n",
      " 37.79017956 47.58464579 34.53148616 13.12256688 40.84892492 22.04484597\n",
      " 41.56620979 20.73920825 28.84537759 19.16950123 20.18326077 52.93796728\n",
      " 54.03193587 42.66707313 39.31185309 24.16843205 22.74282551 20.20854156\n",
      " 32.24219601 59.89363099 33.88314889 35.59764588 20.2361206  21.91545431\n",
      " 30.91357576 30.86002646 35.52157369 40.40099535 33.16051238 30.6653644\n",
      " 54.99007768 50.69027552 47.61291431 39.38516737 20.15430278 12.85826775\n",
      " 39.96662547 47.73767663 33.77742924 38.82761111 28.29149853 13.617151\n",
      " 14.31742879 12.19912869 51.58199781 33.08312691 50.93159212 45.73294308\n",
      " 53.606759  ]\n"
     ]
    }
   ],
   "source": [
    "from sklearn.neighbors import KNeighborsRegressor\n",
    "\n",
    "# Criar uma instância do modelo\n",
    "NUM_VIZINHOS = 3\n",
    "modelo_knn = KNeighborsRegressor(n_neighbors=NUM_VIZINHOS)\n",
    "\n",
    "# Ajustar o modelo aos dados\n",
    "modelo_knn.fit(X_treino, Y_treino)\n",
    "\n",
    "y_previsto_knn = modelo_knn.predict(X_teste)\n",
    "print(y_previsto_knn)"
   ]
  },
  {
   "cell_type": "code",
   "execution_count": 37,
   "metadata": {},
   "outputs": [
    {
     "name": "stdout",
     "output_type": "stream",
     "text": [
      "O RMSE do modelo knn foi de 11.04203601818492 unidades de y.\n"
     ]
    }
   ],
   "source": [
    "RMSE_knn = mean_squared_error(y_verdadeiro, y_previsto_knn, squared=False)\n",
    "\n",
    "print(f\"O RMSE do modelo knn foi de {RMSE_knn} unidades de y.\")"
   ]
  },
  {
   "cell_type": "markdown",
   "metadata": {},
   "source": [
    "### Com normalização padrão dos dados dos atributos:\n",
    "\n",
    "Vamos testar com os dados normalizados pela normalização padrão."
   ]
  },
  {
   "cell_type": "code",
   "execution_count": 38,
   "metadata": {},
   "outputs": [
    {
     "name": "stdout",
     "output_type": "stream",
     "text": [
      "[55.61887979 24.32471328 28.81756872 43.10866609 30.95977065 36.08257733\n",
      " 47.67266889 46.11560226 24.26495869 25.60024388 32.66802953 28.10534001\n",
      " 24.81630967 62.96524657 23.54790365 31.55363931 20.52110401 46.11537243\n",
      " 79.29663476 12.57052643 37.86832017 62.80965482 13.23081461 39.38516737\n",
      " 15.46954319 55.69816953 32.66802953 64.72570863 45.73294308 29.69573132\n",
      " 64.16493481 38.99515378 35.66429523 37.64515977 36.26276039 24.33528525\n",
      " 53.48954808 47.12775303 32.66802953 33.77076431 16.34908474 59.56383164\n",
      " 30.64261169 31.9572126  42.45103732 24.02754912 56.59678659 25.60024388\n",
      " 50.78565303 48.30330961 26.69191421 18.2692754  33.67492714 56.29801365\n",
      " 37.79017956 47.61774064 26.28512337 15.41599388 39.4561834  22.04484597\n",
      " 41.56620979 34.74982023 28.84537759 19.16950123 20.18326077 58.85596961\n",
      " 54.03193587 41.21687528 45.59274963 24.16843205 25.35433077 20.20854156\n",
      " 32.24219601 56.45636331 33.88314889 35.72864632 20.21543632 15.02483117\n",
      " 30.91357576 30.86002646 37.19677055 40.40099535 32.66802953 34.25017995\n",
      " 54.99007768 50.35473053 47.61291431 39.38516737 20.69508179 15.46954319\n",
      " 37.97174157 47.73767663 33.77742924 38.82761111 28.14900683 13.617151\n",
      " 14.31742879 15.23443187 53.54470616 33.73583085 50.93159212 45.73294308\n",
      " 53.606759  ]\n"
     ]
    }
   ],
   "source": [
    "modelo_knn_normalizado = KNeighborsRegressor(n_neighbors=NUM_VIZINHOS)\n",
    "\n",
    "# Ajustar o modelo aos dados\n",
    "modelo_knn_normalizado.fit(X_treino_normalizado_padrao, Y_treino)\n",
    "\n",
    "y_previsto_knn_normalizado = modelo_knn_normalizado.predict(X_teste_normalizado_padrao)\n",
    "print(y_previsto_knn_normalizado)"
   ]
  },
  {
   "cell_type": "code",
   "execution_count": 39,
   "metadata": {},
   "outputs": [
    {
     "name": "stdout",
     "output_type": "stream",
     "text": [
      "O RMSE do modelo knn com dados normalizado pela normalização padrão foi de 10.409808260245157 unidades de y.\n"
     ]
    }
   ],
   "source": [
    "RMSE_knn_normalizado = mean_squared_error(y_verdadeiro, y_previsto_knn_normalizado, squared=False)\n",
    "\n",
    "print(f\"O RMSE do modelo knn com dados normalizado pela normalização padrão foi de {RMSE_knn_normalizado} unidades de y.\")"
   ]
  },
  {
   "cell_type": "markdown",
   "metadata": {},
   "source": [
    "### Usar Pipeline para aplicar normalização MaxAbsScaler (Pelo Máximo Absoluto)"
   ]
  },
  {
   "cell_type": "code",
   "execution_count": 40,
   "metadata": {},
   "outputs": [
    {
     "name": "stdout",
     "output_type": "stream",
     "text": [
      "O RMSE do modelo foi de 10.067052010903774 unidades de y.\n"
     ]
    }
   ],
   "source": [
    "from sklearn.pipeline import make_pipeline\n",
    "from sklearn.preprocessing import MaxAbsScaler\n",
    "from sklearn.neighbors import KNeighborsRegressor\n",
    "\n",
    "modelo_knn_pipeline_MaxAbsScaler = make_pipeline(\n",
    "    MaxAbsScaler(),\n",
    "    KNeighborsRegressor(n_neighbors=NUM_VIZINHOS),\n",
    ")\n",
    "\n",
    "modelo_knn_pipeline_MaxAbsScaler.fit(X_treino, Y_treino)\n",
    "\n",
    "y_previsto_knn_pipeline_MaxAbsScaler = modelo_knn_pipeline_MaxAbsScaler.predict(X_teste)\n",
    "\n",
    "RMSE_pipeline_knn_MaxAbsScaler = mean_squared_error(y_verdadeiro, y_previsto_knn_pipeline_MaxAbsScaler) ** (1/2)\n",
    "\n",
    "print(f\"O RMSE do modelo foi de {RMSE_pipeline_knn_MaxAbsScaler} unidades de y.\")"
   ]
  },
  {
   "cell_type": "markdown",
   "metadata": {},
   "source": [
    "### Usar Pipeline para aplicar normalização MinMaxScaler (Pelo Mínimo e Máximo)"
   ]
  },
  {
   "cell_type": "code",
   "execution_count": 41,
   "metadata": {},
   "outputs": [
    {
     "name": "stdout",
     "output_type": "stream",
     "text": [
      "O RMSE do modelo foi de 10.981967636066956 unidades de y.\n"
     ]
    }
   ],
   "source": [
    "from sklearn.pipeline import make_pipeline\n",
    "from sklearn.preprocessing import MinMaxScaler\n",
    "from sklearn.neighbors import KNeighborsRegressor\n",
    "\n",
    "modelo_knn_pipeline_MinMaxScaler = make_pipeline(\n",
    "    MinMaxScaler(),\n",
    "    KNeighborsRegressor(n_neighbors=NUM_VIZINHOS),\n",
    ")\n",
    "\n",
    "modelo_knn_pipeline_MinMaxScaler.fit(X_treino, Y_treino)\n",
    "\n",
    "y_previsto_knn_pipeline_MinMaxScaler = modelo_knn_pipeline_MinMaxScaler.predict(X_teste)\n",
    "\n",
    "RMSE_pipeline_knn_MinMaxScaler = mean_squared_error(y_verdadeiro, y_previsto_knn_pipeline_MinMaxScaler) ** (1/2)\n",
    "\n",
    "print(f\"O RMSE do modelo foi de {RMSE_pipeline_knn_MinMaxScaler } unidades de y.\")"
   ]
  },
  {
   "cell_type": "markdown",
   "metadata": {},
   "source": [
    "#### Conclusão:\n",
    "\n",
    "Os resultado do RMSE quando foi normalizado e quando não foi normalizado, diferem entre si, o que demostra que há uma diferença para este modelo se realiza ou não a normalização, mas não é diferença substancial. Portanto, é importante sempre realizar a normalização para verificar o quando isso modifica os resultados, e se é benéfico para o caso trabalhado. Além disso, o modelo k-NN foi melhor que o baseline, mas não encontrou tanta diferença em performance do modelo linear múltiplo. Mas o k-NN usando o normalizador pelo máximo absoluto foi o melhor modelo testado até agora."
   ]
  },
  {
   "cell_type": "markdown",
   "metadata": {},
   "source": [
    "--------------\n",
    "\n",
    "## <center> Árvore de Decisão com Otimização de Hiperparâmetros </center>"
   ]
  },
  {
   "cell_type": "markdown",
   "metadata": {},
   "source": [
    "Segundo o IBM, \"uma árvore de regressão é um tipo de árvore de decisão. Ela usa a soma de quadrados e análise de regressão para prever os valores do campo de destino. As predições são baseadas em combinações de valores nos campos de entrada\". Nas células a seguir, utilizamos esse modelo com a otimização de hiperparâmetros. O RMSE foi utilizado como métrica de performance."
   ]
  },
  {
   "cell_type": "markdown",
   "metadata": {},
   "source": [
    "Primeiramente, importamos o módulo \"DecisionTreeRegressor\" para realizar uma regressão com árvore de decisão"
   ]
  },
  {
   "cell_type": "code",
   "execution_count": 42,
   "metadata": {},
   "outputs": [],
   "source": [
    "from sklearn.tree import DecisionTreeRegressor"
   ]
  },
  {
   "cell_type": "markdown",
   "metadata": {},
   "source": [
    "Posteriormente, criamos uma instância utilizando um dicionário com alguns dos parâmetros apresentados na aba \"DecisionTreeRegressor\" do \"Scikit Learn\". De forma simplificada, essa função combina diversos hiperparâmetros e permite achar a melhor configuração."
   ]
  },
  {
   "cell_type": "code",
   "execution_count": 43,
   "metadata": {},
   "outputs": [],
   "source": [
    "def cria_instancia_modelo_arvore_de_decisao(trial):\n",
    "    \"\"\"Cria uma instância do modelo.\n",
    "\n",
    "    Args:\n",
    "      trial: objeto tipo Trial do Optuna.\n",
    "\n",
    "    Returns:\n",
    "      Uma instância do DecisionTreeRegressor.\n",
    "    \"\"\"\n",
    "    parametros_arvore_de_decisao = {\n",
    "        \"criterion\": trial.suggest_categorical(\n",
    "            \"criterio\", [\"squared_error\", \"friedman_mse\", \"absolute_error\", \"poisson\"]\n",
    "        ),\n",
    "        \"splitter\": trial.suggest_categorical(\n",
    "            \"splitter\", [\"best\", \"random\"]\n",
    "        ),\n",
    "        # Profundidade entre 2 e 32 é razoável; limitar previne overfitting.\n",
    "        \"max_depth\": trial.suggest_int(\"profundidade_max\", 2, 32),\n",
    "        \n",
    "        # min_samples_split define o mínimo de exemplos para dividir um nó.\n",
    "        \"min_samples_split\": trial.suggest_int(\n",
    "            \"min_exemplos_split\", 2, 20\n",
    "        ),\n",
    "        \n",
    "        # min_samples_leaf define o mínimo de exemplos em uma folha.\n",
    "        \"min_samples_leaf\": trial.suggest_int(\n",
    "            \"min_exemplos_folha\", 1, 20\n",
    "        ),\n",
    "        \n",
    "        # max_features pode ser um valor numérico ou uma razão ('sqrt', 'log2').\n",
    "        \"max_features\": trial.suggest_categorical(\n",
    "            \"num_max_atributos\", [\"sqrt\", \"log2\", None]\n",
    "        ),\n",
    "        \n",
    "        # Fixa a aleatoriedade para reprodutibilidade.\n",
    "        \"random_state\": SEMENTE_ALEATORIA,\n",
    "    }\n",
    "\n",
    "    modelo_arvore_de_decisao = DecisionTreeRegressor(**parametros_arvore_de_decisao)\n",
    "\n",
    "    return modelo_arvore_de_decisao\n"
   ]
  },
  {
   "cell_type": "markdown",
   "metadata": {},
   "source": [
    "Definição da função objetivo. Podemos defini-la da seguinte forma: \"[...] recebe um \"trial\" e dados explicitamente, usa as funções definidas previamente para criar o de modelo, avalia usando validação cruzada e retorna o desempenho\". Referência: https://medium.com/@walter_sperat/using-optuna-with-sklearn-the-right-way-part-1-6b4ad0ab2451"
   ]
  },
  {
   "cell_type": "code",
   "execution_count": 44,
   "metadata": {},
   "outputs": [],
   "source": [
    "from sklearn.model_selection import cross_val_score\n",
    "\n",
    "def funcao_objetivo_arvore_de_decisao(trial, X_treino, Y_treino, num_folds):\n",
    "    \"\"\"Função objetivo do optuna\n",
    "\n",
    "    Referencia:\n",
    "      https://medium.com/@walter_sperat/ using-optuna-with-sklearn-the-right-way-part-1-6b4ad0ab2451\n",
    "\n",
    "    \"\"\"\n",
    "    modelo_arvore_de_decisao = cria_instancia_modelo_arvore_de_decisao(trial)\n",
    "\n",
    "    metricas_arvore_de_decisao = cross_val_score(\n",
    "        modelo_arvore_de_decisao,\n",
    "        X_treino,\n",
    "        Y_treino,\n",
    "        scoring=\"neg_root_mean_squared_error\",\n",
    "        cv=num_folds,\n",
    "    )\n",
    "\n",
    "    # releia sobre scores no sklearn para relembrar porque tem um negativo abaixo\n",
    "    return -metricas_arvore_de_decisao.mean()"
   ]
  },
  {
   "cell_type": "markdown",
   "metadata": {},
   "source": [
    "Criação de um estudo para gerenciar experimentos com o objetivo de otimizar os hiperparâmetros"
   ]
  },
  {
   "cell_type": "code",
   "execution_count": 45,
   "metadata": {},
   "outputs": [
    {
     "name": "stderr",
     "output_type": "stream",
     "text": [
      "[I 2024-11-11 16:16:30,934] Using an existing study with name 'arvore_aleatoria_Concrete_compressive_strength_10' instead of creating a new one.\n"
     ]
    }
   ],
   "source": [
    "from optuna import create_study\n",
    "\n",
    "NOME_DO_ESTUDO_ARVORE_DE_DECISAO = \"arvore_aleatoria_Concrete_compressive_strength_10_final\"\n",
    "\n",
    "objeto_de_estudo_arvore_de_decisao = create_study(\n",
    "    direction=\"minimize\",\n",
    "    study_name=NOME_DO_ESTUDO_ARVORE_DE_DECISAO,\n",
    "    storage=f\"sqlite:///{NOME_DO_ESTUDO_ARVORE_DE_DECISAO}.db\",\n",
    "    load_if_exists=True,\n",
    ")"
   ]
  },
  {
   "cell_type": "markdown",
   "metadata": {},
   "source": [
    "Nessa célula, definimos a função \"funcao_objetivo_parcial_arvore_de_decisao\", a qual utiliza um número de \"folds\" igual a 10"
   ]
  },
  {
   "cell_type": "code",
   "execution_count": 46,
   "metadata": {},
   "outputs": [],
   "source": [
    "NUM_FOLDS_ARVORE_DE_DECISAO = 10\n",
    "\n",
    "def funcao_objetivo_parcial_arvore_de_decisao(trial):\n",
    "    return funcao_objetivo_arvore_de_decisao(trial, X_treino, Y_treino, NUM_FOLDS_ARVORE_DE_DECISAO)"
   ]
  },
  {
   "cell_type": "markdown",
   "metadata": {},
   "source": [
    "Número de tentativas e execução da otimização de parâmetros"
   ]
  },
  {
   "cell_type": "code",
   "execution_count": 47,
   "metadata": {},
   "outputs": [
    {
     "name": "stderr",
     "output_type": "stream",
     "text": [
      "[I 2024-11-11 16:16:31,355] Trial 123 finished with value: 6.217651040378903 and parameters: {'criterio': 'squared_error', 'splitter': 'best', 'profundidade_max': 28, 'min_exemplos_split': 2, 'min_exemplos_folha': 1, 'num_max_atributos': None}. Best is trial 110 with value: 6.217651040378903.\n",
      "[I 2024-11-11 16:16:31,648] Trial 124 finished with value: 6.217651040378903 and parameters: {'criterio': 'squared_error', 'splitter': 'best', 'profundidade_max': 28, 'min_exemplos_split': 2, 'min_exemplos_folha': 1, 'num_max_atributos': None}. Best is trial 110 with value: 6.217651040378903.\n",
      "[I 2024-11-11 16:16:32,000] Trial 125 finished with value: 6.217651040378903 and parameters: {'criterio': 'squared_error', 'splitter': 'best', 'profundidade_max': 28, 'min_exemplos_split': 2, 'min_exemplos_folha': 1, 'num_max_atributos': None}. Best is trial 110 with value: 6.217651040378903.\n",
      "[I 2024-11-11 16:16:32,275] Trial 126 finished with value: 6.217651040378903 and parameters: {'criterio': 'squared_error', 'splitter': 'best', 'profundidade_max': 28, 'min_exemplos_split': 2, 'min_exemplos_folha': 1, 'num_max_atributos': None}. Best is trial 110 with value: 6.217651040378903.\n",
      "[I 2024-11-11 16:16:32,548] Trial 127 finished with value: 6.217651040378903 and parameters: {'criterio': 'squared_error', 'splitter': 'best', 'profundidade_max': 26, 'min_exemplos_split': 2, 'min_exemplos_folha': 1, 'num_max_atributos': None}. Best is trial 110 with value: 6.217651040378903.\n",
      "[I 2024-11-11 16:16:32,769] Trial 128 finished with value: 7.65372906269324 and parameters: {'criterio': 'squared_error', 'splitter': 'best', 'profundidade_max': 28, 'min_exemplos_split': 2, 'min_exemplos_folha': 13, 'num_max_atributos': None}. Best is trial 110 with value: 6.217651040378903.\n",
      "[I 2024-11-11 16:16:33,071] Trial 129 finished with value: 6.217651040378903 and parameters: {'criterio': 'squared_error', 'splitter': 'best', 'profundidade_max': 26, 'min_exemplos_split': 2, 'min_exemplos_folha': 1, 'num_max_atributos': None}. Best is trial 110 with value: 6.217651040378903.\n",
      "[I 2024-11-11 16:16:33,321] Trial 130 finished with value: 6.600494379963526 and parameters: {'criterio': 'squared_error', 'splitter': 'best', 'profundidade_max': 25, 'min_exemplos_split': 2, 'min_exemplos_folha': 3, 'num_max_atributos': None}. Best is trial 110 with value: 6.217651040378903.\n",
      "[I 2024-11-11 16:16:33,516] Trial 131 finished with value: 7.628391143803414 and parameters: {'criterio': 'squared_error', 'splitter': 'best', 'profundidade_max': 28, 'min_exemplos_split': 2, 'min_exemplos_folha': 2, 'num_max_atributos': 'sqrt'}. Best is trial 110 with value: 6.217651040378903.\n",
      "[I 2024-11-11 16:16:33,787] Trial 132 finished with value: 6.217651040378903 and parameters: {'criterio': 'squared_error', 'splitter': 'best', 'profundidade_max': 28, 'min_exemplos_split': 2, 'min_exemplos_folha': 1, 'num_max_atributos': None}. Best is trial 110 with value: 6.217651040378903.\n",
      "[I 2024-11-11 16:16:34,073] Trial 133 finished with value: 6.217651040378903 and parameters: {'criterio': 'squared_error', 'splitter': 'best', 'profundidade_max': 28, 'min_exemplos_split': 2, 'min_exemplos_folha': 1, 'num_max_atributos': None}. Best is trial 110 with value: 6.217651040378903.\n",
      "[I 2024-11-11 16:16:34,359] Trial 134 finished with value: 6.217651040378903 and parameters: {'criterio': 'squared_error', 'splitter': 'best', 'profundidade_max': 26, 'min_exemplos_split': 2, 'min_exemplos_folha': 1, 'num_max_atributos': None}. Best is trial 110 with value: 6.217651040378903.\n",
      "[I 2024-11-11 16:16:34,586] Trial 135 finished with value: 7.575853763396571 and parameters: {'criterio': 'squared_error', 'splitter': 'best', 'profundidade_max': 25, 'min_exemplos_split': 2, 'min_exemplos_folha': 9, 'num_max_atributos': None}. Best is trial 110 with value: 6.217651040378903.\n",
      "[I 2024-11-11 16:16:34,866] Trial 136 finished with value: 6.217651040378903 and parameters: {'criterio': 'squared_error', 'splitter': 'best', 'profundidade_max': 27, 'min_exemplos_split': 2, 'min_exemplos_folha': 1, 'num_max_atributos': None}. Best is trial 110 with value: 6.217651040378903.\n",
      "[I 2024-11-11 16:16:35,133] Trial 137 finished with value: 6.421234742927696 and parameters: {'criterio': 'squared_error', 'splitter': 'best', 'profundidade_max': 28, 'min_exemplos_split': 2, 'min_exemplos_folha': 2, 'num_max_atributos': None}. Best is trial 110 with value: 6.217651040378903.\n",
      "[I 2024-11-11 16:16:35,415] Trial 138 finished with value: 6.217651040378903 and parameters: {'criterio': 'squared_error', 'splitter': 'best', 'profundidade_max': 26, 'min_exemplos_split': 2, 'min_exemplos_folha': 1, 'num_max_atributos': None}. Best is trial 110 with value: 6.217651040378903.\n",
      "[I 2024-11-11 16:16:35,619] Trial 139 finished with value: 9.514019145449149 and parameters: {'criterio': 'squared_error', 'splitter': 'random', 'profundidade_max': 23, 'min_exemplos_split': 3, 'min_exemplos_folha': 2, 'num_max_atributos': 'log2'}. Best is trial 110 with value: 6.217651040378903.\n",
      "[I 2024-11-11 16:16:35,899] Trial 140 finished with value: 6.217651040378903 and parameters: {'criterio': 'squared_error', 'splitter': 'best', 'profundidade_max': 29, 'min_exemplos_split': 2, 'min_exemplos_folha': 1, 'num_max_atributos': None}. Best is trial 110 with value: 6.217651040378903.\n",
      "[I 2024-11-11 16:16:36,156] Trial 141 finished with value: 6.421234742927696 and parameters: {'criterio': 'squared_error', 'splitter': 'best', 'profundidade_max': 25, 'min_exemplos_split': 3, 'min_exemplos_folha': 2, 'num_max_atributos': None}. Best is trial 110 with value: 6.217651040378903.\n",
      "[I 2024-11-11 16:16:36,453] Trial 142 finished with value: 6.217651040378903 and parameters: {'criterio': 'squared_error', 'splitter': 'best', 'profundidade_max': 26, 'min_exemplos_split': 2, 'min_exemplos_folha': 1, 'num_max_atributos': None}. Best is trial 110 with value: 6.217651040378903.\n",
      "[I 2024-11-11 16:16:36,740] Trial 143 finished with value: 6.217651040378903 and parameters: {'criterio': 'squared_error', 'splitter': 'best', 'profundidade_max': 27, 'min_exemplos_split': 2, 'min_exemplos_folha': 1, 'num_max_atributos': None}. Best is trial 110 with value: 6.217651040378903.\n",
      "[I 2024-11-11 16:16:37,014] Trial 144 finished with value: 6.421234742927696 and parameters: {'criterio': 'squared_error', 'splitter': 'best', 'profundidade_max': 28, 'min_exemplos_split': 2, 'min_exemplos_folha': 2, 'num_max_atributos': None}. Best is trial 110 with value: 6.217651040378903.\n",
      "[I 2024-11-11 16:16:37,301] Trial 145 finished with value: 6.2810715780172135 and parameters: {'criterio': 'squared_error', 'splitter': 'best', 'profundidade_max': 26, 'min_exemplos_split': 3, 'min_exemplos_folha': 1, 'num_max_atributos': None}. Best is trial 110 with value: 6.217651040378903.\n",
      "[I 2024-11-11 16:16:37,609] Trial 146 finished with value: 6.421234742927696 and parameters: {'criterio': 'squared_error', 'splitter': 'best', 'profundidade_max': 27, 'min_exemplos_split': 2, 'min_exemplos_folha': 2, 'num_max_atributos': None}. Best is trial 110 with value: 6.217651040378903.\n",
      "[I 2024-11-11 16:16:38,042] Trial 147 finished with value: 6.217651040378903 and parameters: {'criterio': 'squared_error', 'splitter': 'best', 'profundidade_max': 25, 'min_exemplos_split': 2, 'min_exemplos_folha': 1, 'num_max_atributos': None}. Best is trial 110 with value: 6.217651040378903.\n",
      "[I 2024-11-11 16:16:38,337] Trial 148 finished with value: 6.600494379963526 and parameters: {'criterio': 'squared_error', 'splitter': 'best', 'profundidade_max': 28, 'min_exemplos_split': 3, 'min_exemplos_folha': 3, 'num_max_atributos': None}. Best is trial 110 with value: 6.217651040378903.\n",
      "[I 2024-11-11 16:16:38,607] Trial 149 finished with value: 6.421234742927696 and parameters: {'criterio': 'squared_error', 'splitter': 'best', 'profundidade_max': 22, 'min_exemplos_split': 2, 'min_exemplos_folha': 2, 'num_max_atributos': None}. Best is trial 110 with value: 6.217651040378903.\n",
      "[I 2024-11-11 16:16:38,874] Trial 150 finished with value: 6.294370312164754 and parameters: {'criterio': 'squared_error', 'splitter': 'best', 'profundidade_max': 29, 'min_exemplos_split': 4, 'min_exemplos_folha': 1, 'num_max_atributos': None}. Best is trial 110 with value: 6.217651040378903.\n",
      "[I 2024-11-11 16:16:39,138] Trial 151 finished with value: 6.2810715780172135 and parameters: {'criterio': 'squared_error', 'splitter': 'best', 'profundidade_max': 27, 'min_exemplos_split': 3, 'min_exemplos_folha': 1, 'num_max_atributos': None}. Best is trial 110 with value: 6.217651040378903.\n",
      "[I 2024-11-11 16:16:39,358] Trial 152 finished with value: 7.7482950357832845 and parameters: {'criterio': 'squared_error', 'splitter': 'best', 'profundidade_max': 26, 'min_exemplos_split': 2, 'min_exemplos_folha': 16, 'num_max_atributos': None}. Best is trial 110 with value: 6.217651040378903.\n",
      "[I 2024-11-11 16:16:39,675] Trial 153 finished with value: 6.217651040378903 and parameters: {'criterio': 'squared_error', 'splitter': 'best', 'profundidade_max': 26, 'min_exemplos_split': 2, 'min_exemplos_folha': 1, 'num_max_atributos': None}. Best is trial 110 with value: 6.217651040378903.\n",
      "[I 2024-11-11 16:16:39,948] Trial 154 finished with value: 6.2810715780172135 and parameters: {'criterio': 'squared_error', 'splitter': 'best', 'profundidade_max': 27, 'min_exemplos_split': 3, 'min_exemplos_folha': 1, 'num_max_atributos': None}. Best is trial 110 with value: 6.217651040378903.\n",
      "[I 2024-11-11 16:16:40,220] Trial 155 finished with value: 6.421234742927696 and parameters: {'criterio': 'squared_error', 'splitter': 'best', 'profundidade_max': 26, 'min_exemplos_split': 2, 'min_exemplos_folha': 2, 'num_max_atributos': None}. Best is trial 110 with value: 6.217651040378903.\n",
      "[I 2024-11-11 16:16:40,517] Trial 156 finished with value: 6.217651040378903 and parameters: {'criterio': 'squared_error', 'splitter': 'best', 'profundidade_max': 28, 'min_exemplos_split': 2, 'min_exemplos_folha': 1, 'num_max_atributos': None}. Best is trial 110 with value: 6.217651040378903.\n",
      "[I 2024-11-11 16:16:40,802] Trial 157 finished with value: 6.421234742927696 and parameters: {'criterio': 'squared_error', 'splitter': 'best', 'profundidade_max': 29, 'min_exemplos_split': 3, 'min_exemplos_folha': 2, 'num_max_atributos': None}. Best is trial 110 with value: 6.217651040378903.\n",
      "[I 2024-11-11 16:16:41,077] Trial 158 finished with value: 6.217651040378903 and parameters: {'criterio': 'squared_error', 'splitter': 'best', 'profundidade_max': 27, 'min_exemplos_split': 2, 'min_exemplos_folha': 1, 'num_max_atributos': None}. Best is trial 110 with value: 6.217651040378903.\n",
      "[I 2024-11-11 16:16:41,632] Trial 159 finished with value: 6.294370312164754 and parameters: {'criterio': 'squared_error', 'splitter': 'best', 'profundidade_max': 25, 'min_exemplos_split': 4, 'min_exemplos_folha': 1, 'num_max_atributos': None}. Best is trial 110 with value: 6.217651040378903.\n",
      "[I 2024-11-11 16:16:41,873] Trial 160 finished with value: 7.628391143803414 and parameters: {'criterio': 'squared_error', 'splitter': 'best', 'profundidade_max': 26, 'min_exemplos_split': 2, 'min_exemplos_folha': 2, 'num_max_atributos': 'sqrt'}. Best is trial 110 with value: 6.217651040378903.\n",
      "[I 2024-11-11 16:16:42,153] Trial 161 finished with value: 6.2810715780172135 and parameters: {'criterio': 'squared_error', 'splitter': 'best', 'profundidade_max': 28, 'min_exemplos_split': 3, 'min_exemplos_folha': 1, 'num_max_atributos': None}. Best is trial 110 with value: 6.217651040378903.\n",
      "[I 2024-11-11 16:16:42,436] Trial 162 finished with value: 6.217651040378903 and parameters: {'criterio': 'squared_error', 'splitter': 'best', 'profundidade_max': 28, 'min_exemplos_split': 2, 'min_exemplos_folha': 1, 'num_max_atributos': None}. Best is trial 110 with value: 6.217651040378903.\n",
      "[I 2024-11-11 16:16:42,738] Trial 163 finished with value: 6.217651040378903 and parameters: {'criterio': 'squared_error', 'splitter': 'best', 'profundidade_max': 27, 'min_exemplos_split': 2, 'min_exemplos_folha': 1, 'num_max_atributos': None}. Best is trial 110 with value: 6.217651040378903.\n",
      "[I 2024-11-11 16:16:43,007] Trial 164 finished with value: 6.421234742927696 and parameters: {'criterio': 'squared_error', 'splitter': 'best', 'profundidade_max': 29, 'min_exemplos_split': 2, 'min_exemplos_folha': 2, 'num_max_atributos': None}. Best is trial 110 with value: 6.217651040378903.\n",
      "[I 2024-11-11 16:16:43,328] Trial 165 finished with value: 6.2810715780172135 and parameters: {'criterio': 'squared_error', 'splitter': 'best', 'profundidade_max': 28, 'min_exemplos_split': 3, 'min_exemplos_folha': 1, 'num_max_atributos': None}. Best is trial 110 with value: 6.217651040378903.\n",
      "[I 2024-11-11 16:16:43,624] Trial 166 finished with value: 6.217651040378903 and parameters: {'criterio': 'squared_error', 'splitter': 'best', 'profundidade_max': 24, 'min_exemplos_split': 2, 'min_exemplos_folha': 1, 'num_max_atributos': None}. Best is trial 110 with value: 6.217651040378903.\n",
      "[I 2024-11-11 16:16:43,943] Trial 167 finished with value: 6.421234742927696 and parameters: {'criterio': 'squared_error', 'splitter': 'best', 'profundidade_max': 25, 'min_exemplos_split': 2, 'min_exemplos_folha': 2, 'num_max_atributos': None}. Best is trial 110 with value: 6.217651040378903.\n",
      "[I 2024-11-11 16:16:44,222] Trial 168 finished with value: 6.2810715780172135 and parameters: {'criterio': 'squared_error', 'splitter': 'best', 'profundidade_max': 27, 'min_exemplos_split': 3, 'min_exemplos_folha': 1, 'num_max_atributos': None}. Best is trial 110 with value: 6.217651040378903.\n",
      "[I 2024-11-11 16:16:44,608] Trial 169 finished with value: 7.1890111322864785 and parameters: {'criterio': 'absolute_error', 'splitter': 'best', 'profundidade_max': 28, 'min_exemplos_split': 2, 'min_exemplos_folha': 1, 'num_max_atributos': 'log2'}. Best is trial 110 with value: 6.217651040378903.\n",
      "[I 2024-11-11 16:16:44,836] Trial 170 finished with value: 6.909011526937905 and parameters: {'criterio': 'squared_error', 'splitter': 'random', 'profundidade_max': 26, 'min_exemplos_split': 3, 'min_exemplos_folha': 2, 'num_max_atributos': None}. Best is trial 110 with value: 6.217651040378903.\n",
      "[I 2024-11-11 16:16:45,131] Trial 171 finished with value: 6.217651040378903 and parameters: {'criterio': 'squared_error', 'splitter': 'best', 'profundidade_max': 29, 'min_exemplos_split': 2, 'min_exemplos_folha': 1, 'num_max_atributos': None}. Best is trial 110 with value: 6.217651040378903.\n",
      "[I 2024-11-11 16:16:45,470] Trial 172 finished with value: 6.217651040378903 and parameters: {'criterio': 'squared_error', 'splitter': 'best', 'profundidade_max': 28, 'min_exemplos_split': 2, 'min_exemplos_folha': 1, 'num_max_atributos': None}. Best is trial 110 with value: 6.217651040378903.\n",
      "[I 2024-11-11 16:16:45,820] Trial 173 finished with value: 6.217651040378903 and parameters: {'criterio': 'squared_error', 'splitter': 'best', 'profundidade_max': 27, 'min_exemplos_split': 2, 'min_exemplos_folha': 1, 'num_max_atributos': None}. Best is trial 110 with value: 6.217651040378903.\n",
      "[I 2024-11-11 16:16:46,129] Trial 174 finished with value: 6.217651040378903 and parameters: {'criterio': 'squared_error', 'splitter': 'best', 'profundidade_max': 28, 'min_exemplos_split': 2, 'min_exemplos_folha': 1, 'num_max_atributos': None}. Best is trial 110 with value: 6.217651040378903.\n",
      "[I 2024-11-11 16:16:46,420] Trial 175 finished with value: 6.421234742927696 and parameters: {'criterio': 'squared_error', 'splitter': 'best', 'profundidade_max': 26, 'min_exemplos_split': 3, 'min_exemplos_folha': 2, 'num_max_atributos': None}. Best is trial 110 with value: 6.217651040378903.\n",
      "[I 2024-11-11 16:16:46,722] Trial 176 finished with value: 6.217651040378903 and parameters: {'criterio': 'squared_error', 'splitter': 'best', 'profundidade_max': 29, 'min_exemplos_split': 2, 'min_exemplos_folha': 1, 'num_max_atributos': None}. Best is trial 110 with value: 6.217651040378903.\n",
      "[I 2024-11-11 16:16:47,048] Trial 177 finished with value: 6.421234742927696 and parameters: {'criterio': 'squared_error', 'splitter': 'best', 'profundidade_max': 27, 'min_exemplos_split': 2, 'min_exemplos_folha': 2, 'num_max_atributos': None}. Best is trial 110 with value: 6.217651040378903.\n",
      "[I 2024-11-11 16:16:47,332] Trial 178 finished with value: 6.2810715780172135 and parameters: {'criterio': 'squared_error', 'splitter': 'best', 'profundidade_max': 25, 'min_exemplos_split': 3, 'min_exemplos_folha': 1, 'num_max_atributos': None}. Best is trial 110 with value: 6.217651040378903.\n",
      "[I 2024-11-11 16:16:47,605] Trial 179 finished with value: 6.421234742927696 and parameters: {'criterio': 'squared_error', 'splitter': 'best', 'profundidade_max': 26, 'min_exemplos_split': 2, 'min_exemplos_folha': 2, 'num_max_atributos': None}. Best is trial 110 with value: 6.217651040378903.\n",
      "[I 2024-11-11 16:16:47,889] Trial 180 finished with value: 6.2810715780172135 and parameters: {'criterio': 'squared_error', 'splitter': 'best', 'profundidade_max': 28, 'min_exemplos_split': 3, 'min_exemplos_folha': 1, 'num_max_atributos': None}. Best is trial 110 with value: 6.217651040378903.\n",
      "[I 2024-11-11 16:16:48,142] Trial 181 finished with value: 6.421234742927696 and parameters: {'criterio': 'squared_error', 'splitter': 'best', 'profundidade_max': 27, 'min_exemplos_split': 2, 'min_exemplos_folha': 2, 'num_max_atributos': None}. Best is trial 110 with value: 6.217651040378903.\n",
      "[I 2024-11-11 16:16:48,441] Trial 182 finished with value: 6.217651040378903 and parameters: {'criterio': 'squared_error', 'splitter': 'best', 'profundidade_max': 26, 'min_exemplos_split': 2, 'min_exemplos_folha': 1, 'num_max_atributos': None}. Best is trial 110 with value: 6.217651040378903.\n",
      "[I 2024-11-11 16:16:48,720] Trial 183 finished with value: 6.217651040378903 and parameters: {'criterio': 'squared_error', 'splitter': 'best', 'profundidade_max': 27, 'min_exemplos_split': 2, 'min_exemplos_folha': 1, 'num_max_atributos': None}. Best is trial 110 with value: 6.217651040378903.\n",
      "[I 2024-11-11 16:16:49,166] Trial 184 finished with value: 6.2810715780172135 and parameters: {'criterio': 'squared_error', 'splitter': 'best', 'profundidade_max': 25, 'min_exemplos_split': 3, 'min_exemplos_folha': 1, 'num_max_atributos': None}. Best is trial 110 with value: 6.217651040378903.\n",
      "[I 2024-11-11 16:16:49,408] Trial 185 finished with value: 11.966299852196018 and parameters: {'criterio': 'squared_error', 'splitter': 'best', 'profundidade_max': 2, 'min_exemplos_split': 2, 'min_exemplos_folha': 1, 'num_max_atributos': None}. Best is trial 110 with value: 6.217651040378903.\n",
      "[I 2024-11-11 16:16:49,737] Trial 186 finished with value: 6.217651040378903 and parameters: {'criterio': 'squared_error', 'splitter': 'best', 'profundidade_max': 26, 'min_exemplos_split': 2, 'min_exemplos_folha': 1, 'num_max_atributos': None}. Best is trial 110 with value: 6.217651040378903.\n",
      "[I 2024-11-11 16:16:50,019] Trial 187 finished with value: 6.421234742927696 and parameters: {'criterio': 'squared_error', 'splitter': 'best', 'profundidade_max': 28, 'min_exemplos_split': 2, 'min_exemplos_folha': 2, 'num_max_atributos': None}. Best is trial 110 with value: 6.217651040378903.\n",
      "[I 2024-11-11 16:16:50,285] Trial 188 finished with value: 6.2810715780172135 and parameters: {'criterio': 'squared_error', 'splitter': 'best', 'profundidade_max': 27, 'min_exemplos_split': 3, 'min_exemplos_folha': 1, 'num_max_atributos': None}. Best is trial 110 with value: 6.217651040378903.\n",
      "[I 2024-11-11 16:16:50,592] Trial 189 finished with value: 6.217651040378903 and parameters: {'criterio': 'squared_error', 'splitter': 'best', 'profundidade_max': 26, 'min_exemplos_split': 2, 'min_exemplos_folha': 1, 'num_max_atributos': None}. Best is trial 110 with value: 6.217651040378903.\n",
      "[I 2024-11-11 16:16:50,861] Trial 190 finished with value: 6.421234742927696 and parameters: {'criterio': 'squared_error', 'splitter': 'best', 'profundidade_max': 29, 'min_exemplos_split': 3, 'min_exemplos_folha': 2, 'num_max_atributos': None}. Best is trial 110 with value: 6.217651040378903.\n",
      "[I 2024-11-11 16:16:51,088] Trial 191 finished with value: 9.32698154113219 and parameters: {'criterio': 'squared_error', 'splitter': 'random', 'profundidade_max': 24, 'min_exemplos_split': 2, 'min_exemplos_folha': 1, 'num_max_atributos': 'sqrt'}. Best is trial 110 with value: 6.217651040378903.\n",
      "[I 2024-11-11 16:16:51,367] Trial 192 finished with value: 6.217651040378903 and parameters: {'criterio': 'squared_error', 'splitter': 'best', 'profundidade_max': 27, 'min_exemplos_split': 2, 'min_exemplos_folha': 1, 'num_max_atributos': None}. Best is trial 110 with value: 6.217651040378903.\n",
      "[I 2024-11-11 16:16:51,654] Trial 193 finished with value: 6.217651040378903 and parameters: {'criterio': 'squared_error', 'splitter': 'best', 'profundidade_max': 28, 'min_exemplos_split': 2, 'min_exemplos_folha': 1, 'num_max_atributos': None}. Best is trial 110 with value: 6.217651040378903.\n",
      "[I 2024-11-11 16:16:51,933] Trial 194 finished with value: 6.217651040378903 and parameters: {'criterio': 'squared_error', 'splitter': 'best', 'profundidade_max': 27, 'min_exemplos_split': 2, 'min_exemplos_folha': 1, 'num_max_atributos': None}. Best is trial 110 with value: 6.217651040378903.\n",
      "[I 2024-11-11 16:16:52,185] Trial 195 finished with value: 6.421234742927696 and parameters: {'criterio': 'squared_error', 'splitter': 'best', 'profundidade_max': 26, 'min_exemplos_split': 3, 'min_exemplos_folha': 2, 'num_max_atributos': None}. Best is trial 110 with value: 6.217651040378903.\n",
      "[I 2024-11-11 16:16:52,824] Trial 196 finished with value: 6.315697026381473 and parameters: {'criterio': 'absolute_error', 'splitter': 'best', 'profundidade_max': 28, 'min_exemplos_split': 2, 'min_exemplos_folha': 1, 'num_max_atributos': None}. Best is trial 110 with value: 6.217651040378903.\n",
      "[I 2024-11-11 16:16:53,101] Trial 197 finished with value: 6.217651040378903 and parameters: {'criterio': 'squared_error', 'splitter': 'best', 'profundidade_max': 25, 'min_exemplos_split': 2, 'min_exemplos_folha': 1, 'num_max_atributos': None}. Best is trial 110 with value: 6.217651040378903.\n",
      "[I 2024-11-11 16:16:53,391] Trial 198 finished with value: 6.421234742927696 and parameters: {'criterio': 'squared_error', 'splitter': 'best', 'profundidade_max': 27, 'min_exemplos_split': 3, 'min_exemplos_folha': 2, 'num_max_atributos': None}. Best is trial 110 with value: 6.217651040378903.\n",
      "[I 2024-11-11 16:16:53,705] Trial 199 finished with value: 6.217651040378903 and parameters: {'criterio': 'squared_error', 'splitter': 'best', 'profundidade_max': 28, 'min_exemplos_split': 2, 'min_exemplos_folha': 1, 'num_max_atributos': None}. Best is trial 110 with value: 6.217651040378903.\n",
      "[I 2024-11-11 16:16:53,956] Trial 200 finished with value: 7.712226280361046 and parameters: {'criterio': 'squared_error', 'splitter': 'best', 'profundidade_max': 29, 'min_exemplos_split': 3, 'min_exemplos_folha': 1, 'num_max_atributos': 'log2'}. Best is trial 110 with value: 6.217651040378903.\n",
      "[I 2024-11-11 16:16:54,236] Trial 201 finished with value: 6.421234742927696 and parameters: {'criterio': 'squared_error', 'splitter': 'best', 'profundidade_max': 26, 'min_exemplos_split': 2, 'min_exemplos_folha': 2, 'num_max_atributos': None}. Best is trial 110 with value: 6.217651040378903.\n",
      "[I 2024-11-11 16:16:54,599] Trial 202 finished with value: 6.217651040378903 and parameters: {'criterio': 'squared_error', 'splitter': 'best', 'profundidade_max': 26, 'min_exemplos_split': 2, 'min_exemplos_folha': 1, 'num_max_atributos': None}. Best is trial 110 with value: 6.217651040378903.\n",
      "[I 2024-11-11 16:16:54,912] Trial 203 finished with value: 6.217651040378903 and parameters: {'criterio': 'squared_error', 'splitter': 'best', 'profundidade_max': 27, 'min_exemplos_split': 2, 'min_exemplos_folha': 1, 'num_max_atributos': None}. Best is trial 110 with value: 6.217651040378903.\n",
      "[I 2024-11-11 16:16:55,217] Trial 204 finished with value: 6.217651040378903 and parameters: {'criterio': 'squared_error', 'splitter': 'best', 'profundidade_max': 26, 'min_exemplos_split': 2, 'min_exemplos_folha': 1, 'num_max_atributos': None}. Best is trial 110 with value: 6.217651040378903.\n",
      "[I 2024-11-11 16:16:55,497] Trial 205 finished with value: 6.217651040378903 and parameters: {'criterio': 'squared_error', 'splitter': 'best', 'profundidade_max': 27, 'min_exemplos_split': 2, 'min_exemplos_folha': 1, 'num_max_atributos': None}. Best is trial 110 with value: 6.217651040378903.\n",
      "[I 2024-11-11 16:16:55,789] Trial 206 finished with value: 6.217651040378903 and parameters: {'criterio': 'squared_error', 'splitter': 'best', 'profundidade_max': 25, 'min_exemplos_split': 2, 'min_exemplos_folha': 1, 'num_max_atributos': None}. Best is trial 110 with value: 6.217651040378903.\n",
      "[I 2024-11-11 16:16:56,062] Trial 207 finished with value: 6.421234742927696 and parameters: {'criterio': 'squared_error', 'splitter': 'best', 'profundidade_max': 28, 'min_exemplos_split': 3, 'min_exemplos_folha': 2, 'num_max_atributos': None}. Best is trial 110 with value: 6.217651040378903.\n",
      "[I 2024-11-11 16:16:56,321] Trial 208 finished with value: 6.421234742927696 and parameters: {'criterio': 'squared_error', 'splitter': 'best', 'profundidade_max': 27, 'min_exemplos_split': 2, 'min_exemplos_folha': 2, 'num_max_atributos': None}. Best is trial 110 with value: 6.217651040378903.\n",
      "[I 2024-11-11 16:16:56,586] Trial 209 finished with value: 6.2810715780172135 and parameters: {'criterio': 'squared_error', 'splitter': 'best', 'profundidade_max': 26, 'min_exemplos_split': 3, 'min_exemplos_folha': 1, 'num_max_atributos': None}. Best is trial 110 with value: 6.217651040378903.\n",
      "[I 2024-11-11 16:16:56,859] Trial 210 finished with value: 6.217651040378903 and parameters: {'criterio': 'squared_error', 'splitter': 'best', 'profundidade_max': 25, 'min_exemplos_split': 2, 'min_exemplos_folha': 1, 'num_max_atributos': None}. Best is trial 110 with value: 6.217651040378903.\n",
      "[I 2024-11-11 16:16:57,114] Trial 211 finished with value: 6.421234742927696 and parameters: {'criterio': 'squared_error', 'splitter': 'best', 'profundidade_max': 28, 'min_exemplos_split': 2, 'min_exemplos_folha': 2, 'num_max_atributos': None}. Best is trial 110 with value: 6.217651040378903.\n",
      "[I 2024-11-11 16:16:57,382] Trial 212 finished with value: 6.217651040378903 and parameters: {'criterio': 'squared_error', 'splitter': 'best', 'profundidade_max': 29, 'min_exemplos_split': 2, 'min_exemplos_folha': 1, 'num_max_atributos': None}. Best is trial 110 with value: 6.217651040378903.\n",
      "[I 2024-11-11 16:16:57,666] Trial 213 finished with value: 6.217651040378903 and parameters: {'criterio': 'squared_error', 'splitter': 'best', 'profundidade_max': 29, 'min_exemplos_split': 2, 'min_exemplos_folha': 1, 'num_max_atributos': None}. Best is trial 110 with value: 6.217651040378903.\n",
      "[I 2024-11-11 16:16:57,982] Trial 214 finished with value: 6.217651040378903 and parameters: {'criterio': 'squared_error', 'splitter': 'best', 'profundidade_max': 27, 'min_exemplos_split': 2, 'min_exemplos_folha': 1, 'num_max_atributos': None}. Best is trial 110 with value: 6.217651040378903.\n",
      "[I 2024-11-11 16:16:58,336] Trial 215 finished with value: 6.217651040378903 and parameters: {'criterio': 'squared_error', 'splitter': 'best', 'profundidade_max': 29, 'min_exemplos_split': 2, 'min_exemplos_folha': 1, 'num_max_atributos': None}. Best is trial 110 with value: 6.217651040378903.\n",
      "[I 2024-11-11 16:16:58,637] Trial 216 finished with value: 6.2810715780172135 and parameters: {'criterio': 'squared_error', 'splitter': 'best', 'profundidade_max': 28, 'min_exemplos_split': 3, 'min_exemplos_folha': 1, 'num_max_atributos': None}. Best is trial 110 with value: 6.217651040378903.\n",
      "[I 2024-11-11 16:16:58,919] Trial 217 finished with value: 6.421234742927696 and parameters: {'criterio': 'squared_error', 'splitter': 'best', 'profundidade_max': 26, 'min_exemplos_split': 2, 'min_exemplos_folha': 2, 'num_max_atributos': None}. Best is trial 110 with value: 6.217651040378903.\n",
      "[I 2024-11-11 16:16:59,223] Trial 218 finished with value: 6.217651040378903 and parameters: {'criterio': 'squared_error', 'splitter': 'best', 'profundidade_max': 27, 'min_exemplos_split': 2, 'min_exemplos_folha': 1, 'num_max_atributos': None}. Best is trial 110 with value: 6.217651040378903.\n",
      "[I 2024-11-11 16:16:59,503] Trial 219 finished with value: 6.2810715780172135 and parameters: {'criterio': 'squared_error', 'splitter': 'best', 'profundidade_max': 28, 'min_exemplos_split': 3, 'min_exemplos_folha': 1, 'num_max_atributos': None}. Best is trial 110 with value: 6.217651040378903.\n",
      "[I 2024-11-11 16:16:59,781] Trial 220 finished with value: 6.217651040378903 and parameters: {'criterio': 'squared_error', 'splitter': 'best', 'profundidade_max': 27, 'min_exemplos_split': 2, 'min_exemplos_folha': 1, 'num_max_atributos': None}. Best is trial 110 with value: 6.217651040378903.\n",
      "[I 2024-11-11 16:17:00,106] Trial 221 finished with value: 6.421234742927696 and parameters: {'criterio': 'squared_error', 'splitter': 'best', 'profundidade_max': 26, 'min_exemplos_split': 3, 'min_exemplos_folha': 2, 'num_max_atributos': None}. Best is trial 110 with value: 6.217651040378903.\n",
      "[I 2024-11-11 16:17:00,389] Trial 222 finished with value: 6.217651040378903 and parameters: {'criterio': 'squared_error', 'splitter': 'best', 'profundidade_max': 25, 'min_exemplos_split': 2, 'min_exemplos_folha': 1, 'num_max_atributos': None}. Best is trial 110 with value: 6.217651040378903.\n"
     ]
    }
   ],
   "source": [
    "NUM_TENTATIVAS_ARVORE_DE_DECISAO = 100\n",
    "\n",
    "objeto_de_estudo_arvore_de_decisao.optimize(funcao_objetivo_parcial_arvore_de_decisao, n_trials=NUM_TENTATIVAS_ARVORE_DE_DECISAO)"
   ]
  },
  {
   "cell_type": "markdown",
   "metadata": {},
   "source": [
    "Visualização por meio de um DataFrame"
   ]
  },
  {
   "cell_type": "code",
   "execution_count": 48,
   "metadata": {},
   "outputs": [
    {
     "data": {
      "text/html": [
       "<div>\n",
       "<style scoped>\n",
       "    .dataframe tbody tr th:only-of-type {\n",
       "        vertical-align: middle;\n",
       "    }\n",
       "\n",
       "    .dataframe tbody tr th {\n",
       "        vertical-align: top;\n",
       "    }\n",
       "\n",
       "    .dataframe thead th {\n",
       "        text-align: right;\n",
       "    }\n",
       "</style>\n",
       "<table border=\"1\" class=\"dataframe\">\n",
       "  <thead>\n",
       "    <tr style=\"text-align: right;\">\n",
       "      <th></th>\n",
       "      <th>number</th>\n",
       "      <th>value</th>\n",
       "      <th>datetime_start</th>\n",
       "      <th>datetime_complete</th>\n",
       "      <th>duration</th>\n",
       "      <th>params_criterio</th>\n",
       "      <th>params_min_exemplos_folha</th>\n",
       "      <th>params_min_exemplos_split</th>\n",
       "      <th>params_num_max_atributos</th>\n",
       "      <th>params_profundidade_max</th>\n",
       "      <th>params_splitter</th>\n",
       "      <th>state</th>\n",
       "    </tr>\n",
       "  </thead>\n",
       "  <tbody>\n",
       "    <tr>\n",
       "      <th>0</th>\n",
       "      <td>0</td>\n",
       "      <td>7.079599</td>\n",
       "      <td>2024-11-11 03:33:06.847851</td>\n",
       "      <td>2024-11-11 03:33:07.199133</td>\n",
       "      <td>0 days 00:00:00.351282</td>\n",
       "      <td>poisson</td>\n",
       "      <td>4</td>\n",
       "      <td>19</td>\n",
       "      <td>None</td>\n",
       "      <td>15</td>\n",
       "      <td>best</td>\n",
       "      <td>COMPLETE</td>\n",
       "    </tr>\n",
       "    <tr>\n",
       "      <th>1</th>\n",
       "      <td>1</td>\n",
       "      <td>14.086818</td>\n",
       "      <td>2024-11-11 03:33:07.263744</td>\n",
       "      <td>2024-11-11 03:33:07.403256</td>\n",
       "      <td>0 days 00:00:00.139512</td>\n",
       "      <td>friedman_mse</td>\n",
       "      <td>17</td>\n",
       "      <td>8</td>\n",
       "      <td>sqrt</td>\n",
       "      <td>29</td>\n",
       "      <td>random</td>\n",
       "      <td>COMPLETE</td>\n",
       "    </tr>\n",
       "    <tr>\n",
       "      <th>2</th>\n",
       "      <td>2</td>\n",
       "      <td>8.011509</td>\n",
       "      <td>2024-11-11 03:33:07.445391</td>\n",
       "      <td>2024-11-11 03:33:07.690313</td>\n",
       "      <td>0 days 00:00:00.244922</td>\n",
       "      <td>poisson</td>\n",
       "      <td>20</td>\n",
       "      <td>7</td>\n",
       "      <td>None</td>\n",
       "      <td>19</td>\n",
       "      <td>best</td>\n",
       "      <td>COMPLETE</td>\n",
       "    </tr>\n",
       "    <tr>\n",
       "      <th>3</th>\n",
       "      <td>3</td>\n",
       "      <td>12.694301</td>\n",
       "      <td>2024-11-11 03:33:07.730379</td>\n",
       "      <td>2024-11-11 03:33:07.948019</td>\n",
       "      <td>0 days 00:00:00.217640</td>\n",
       "      <td>squared_error</td>\n",
       "      <td>18</td>\n",
       "      <td>15</td>\n",
       "      <td>log2</td>\n",
       "      <td>22</td>\n",
       "      <td>random</td>\n",
       "      <td>COMPLETE</td>\n",
       "    </tr>\n",
       "    <tr>\n",
       "      <th>4</th>\n",
       "      <td>4</td>\n",
       "      <td>6.756855</td>\n",
       "      <td>2024-11-11 03:33:08.028524</td>\n",
       "      <td>2024-11-11 03:33:08.745292</td>\n",
       "      <td>0 days 00:00:00.716768</td>\n",
       "      <td>absolute_error</td>\n",
       "      <td>3</td>\n",
       "      <td>10</td>\n",
       "      <td>None</td>\n",
       "      <td>8</td>\n",
       "      <td>best</td>\n",
       "      <td>COMPLETE</td>\n",
       "    </tr>\n",
       "    <tr>\n",
       "      <th>...</th>\n",
       "      <td>...</td>\n",
       "      <td>...</td>\n",
       "      <td>...</td>\n",
       "      <td>...</td>\n",
       "      <td>...</td>\n",
       "      <td>...</td>\n",
       "      <td>...</td>\n",
       "      <td>...</td>\n",
       "      <td>...</td>\n",
       "      <td>...</td>\n",
       "      <td>...</td>\n",
       "      <td>...</td>\n",
       "    </tr>\n",
       "    <tr>\n",
       "      <th>218</th>\n",
       "      <td>218</td>\n",
       "      <td>6.217651</td>\n",
       "      <td>2024-11-11 16:16:58.925841</td>\n",
       "      <td>2024-11-11 16:16:59.190580</td>\n",
       "      <td>0 days 00:00:00.264739</td>\n",
       "      <td>squared_error</td>\n",
       "      <td>1</td>\n",
       "      <td>2</td>\n",
       "      <td>None</td>\n",
       "      <td>27</td>\n",
       "      <td>best</td>\n",
       "      <td>COMPLETE</td>\n",
       "    </tr>\n",
       "    <tr>\n",
       "      <th>219</th>\n",
       "      <td>219</td>\n",
       "      <td>6.281072</td>\n",
       "      <td>2024-11-11 16:16:59.236863</td>\n",
       "      <td>2024-11-11 16:16:59.483139</td>\n",
       "      <td>0 days 00:00:00.246276</td>\n",
       "      <td>squared_error</td>\n",
       "      <td>1</td>\n",
       "      <td>3</td>\n",
       "      <td>None</td>\n",
       "      <td>28</td>\n",
       "      <td>best</td>\n",
       "      <td>COMPLETE</td>\n",
       "    </tr>\n",
       "    <tr>\n",
       "      <th>220</th>\n",
       "      <td>220</td>\n",
       "      <td>6.217651</td>\n",
       "      <td>2024-11-11 16:16:59.513324</td>\n",
       "      <td>2024-11-11 16:16:59.762092</td>\n",
       "      <td>0 days 00:00:00.248768</td>\n",
       "      <td>squared_error</td>\n",
       "      <td>1</td>\n",
       "      <td>2</td>\n",
       "      <td>None</td>\n",
       "      <td>27</td>\n",
       "      <td>best</td>\n",
       "      <td>COMPLETE</td>\n",
       "    </tr>\n",
       "    <tr>\n",
       "      <th>221</th>\n",
       "      <td>221</td>\n",
       "      <td>6.421235</td>\n",
       "      <td>2024-11-11 16:16:59.787895</td>\n",
       "      <td>2024-11-11 16:17:00.020133</td>\n",
       "      <td>0 days 00:00:00.232238</td>\n",
       "      <td>squared_error</td>\n",
       "      <td>2</td>\n",
       "      <td>3</td>\n",
       "      <td>None</td>\n",
       "      <td>26</td>\n",
       "      <td>best</td>\n",
       "      <td>COMPLETE</td>\n",
       "    </tr>\n",
       "    <tr>\n",
       "      <th>222</th>\n",
       "      <td>222</td>\n",
       "      <td>6.217651</td>\n",
       "      <td>2024-11-11 16:17:00.115150</td>\n",
       "      <td>2024-11-11 16:17:00.364597</td>\n",
       "      <td>0 days 00:00:00.249447</td>\n",
       "      <td>squared_error</td>\n",
       "      <td>1</td>\n",
       "      <td>2</td>\n",
       "      <td>None</td>\n",
       "      <td>25</td>\n",
       "      <td>best</td>\n",
       "      <td>COMPLETE</td>\n",
       "    </tr>\n",
       "  </tbody>\n",
       "</table>\n",
       "<p>223 rows × 12 columns</p>\n",
       "</div>"
      ],
      "text/plain": [
       "     number      value             datetime_start          datetime_complete  \\\n",
       "0         0   7.079599 2024-11-11 03:33:06.847851 2024-11-11 03:33:07.199133   \n",
       "1         1  14.086818 2024-11-11 03:33:07.263744 2024-11-11 03:33:07.403256   \n",
       "2         2   8.011509 2024-11-11 03:33:07.445391 2024-11-11 03:33:07.690313   \n",
       "3         3  12.694301 2024-11-11 03:33:07.730379 2024-11-11 03:33:07.948019   \n",
       "4         4   6.756855 2024-11-11 03:33:08.028524 2024-11-11 03:33:08.745292   \n",
       "..      ...        ...                        ...                        ...   \n",
       "218     218   6.217651 2024-11-11 16:16:58.925841 2024-11-11 16:16:59.190580   \n",
       "219     219   6.281072 2024-11-11 16:16:59.236863 2024-11-11 16:16:59.483139   \n",
       "220     220   6.217651 2024-11-11 16:16:59.513324 2024-11-11 16:16:59.762092   \n",
       "221     221   6.421235 2024-11-11 16:16:59.787895 2024-11-11 16:17:00.020133   \n",
       "222     222   6.217651 2024-11-11 16:17:00.115150 2024-11-11 16:17:00.364597   \n",
       "\n",
       "                  duration params_criterio  params_min_exemplos_folha  \\\n",
       "0   0 days 00:00:00.351282         poisson                          4   \n",
       "1   0 days 00:00:00.139512    friedman_mse                         17   \n",
       "2   0 days 00:00:00.244922         poisson                         20   \n",
       "3   0 days 00:00:00.217640   squared_error                         18   \n",
       "4   0 days 00:00:00.716768  absolute_error                          3   \n",
       "..                     ...             ...                        ...   \n",
       "218 0 days 00:00:00.264739   squared_error                          1   \n",
       "219 0 days 00:00:00.246276   squared_error                          1   \n",
       "220 0 days 00:00:00.248768   squared_error                          1   \n",
       "221 0 days 00:00:00.232238   squared_error                          2   \n",
       "222 0 days 00:00:00.249447   squared_error                          1   \n",
       "\n",
       "     params_min_exemplos_split params_num_max_atributos  \\\n",
       "0                           19                     None   \n",
       "1                            8                     sqrt   \n",
       "2                            7                     None   \n",
       "3                           15                     log2   \n",
       "4                           10                     None   \n",
       "..                         ...                      ...   \n",
       "218                          2                     None   \n",
       "219                          3                     None   \n",
       "220                          2                     None   \n",
       "221                          3                     None   \n",
       "222                          2                     None   \n",
       "\n",
       "     params_profundidade_max params_splitter     state  \n",
       "0                         15            best  COMPLETE  \n",
       "1                         29          random  COMPLETE  \n",
       "2                         19            best  COMPLETE  \n",
       "3                         22          random  COMPLETE  \n",
       "4                          8            best  COMPLETE  \n",
       "..                       ...             ...       ...  \n",
       "218                       27            best  COMPLETE  \n",
       "219                       28            best  COMPLETE  \n",
       "220                       27            best  COMPLETE  \n",
       "221                       26            best  COMPLETE  \n",
       "222                       25            best  COMPLETE  \n",
       "\n",
       "[223 rows x 12 columns]"
      ]
     },
     "execution_count": 48,
     "metadata": {},
     "output_type": "execute_result"
    }
   ],
   "source": [
    "df_arvore_de_decisao = objeto_de_estudo_arvore_de_decisao.trials_dataframe()\n",
    "\n",
    "df_arvore_de_decisao"
   ]
  },
  {
   "cell_type": "markdown",
   "metadata": {},
   "source": [
    "Impressão do número e dos parâmetros do melhor \"trial\"."
   ]
  },
  {
   "cell_type": "code",
   "execution_count": 49,
   "metadata": {},
   "outputs": [
    {
     "name": "stdout",
     "output_type": "stream",
     "text": [
      "Número do melhor trial: 110\n",
      "Parâmetros do melhor trial: {'criterio': 'squared_error', 'splitter': 'best', 'profundidade_max': 27, 'min_exemplos_split': 2, 'min_exemplos_folha': 1, 'num_max_atributos': None}\n"
     ]
    }
   ],
   "source": [
    "melhor_trial_arvore_de_decisao = objeto_de_estudo_arvore_de_decisao.best_trial\n",
    "\n",
    "print(f\"Número do melhor trial: {melhor_trial_arvore_de_decisao.number}\")\n",
    "print(f\"Parâmetros do melhor trial: {melhor_trial_arvore_de_decisao.params}\")"
   ]
  },
  {
   "cell_type": "markdown",
   "metadata": {},
   "source": [
    "Cálculo de RMSE:"
   ]
  },
  {
   "cell_type": "code",
   "execution_count": 50,
   "metadata": {},
   "outputs": [
    {
     "name": "stdout",
     "output_type": "stream",
     "text": [
      "O RMSE do modelo foi 6.4282022618139605\n"
     ]
    }
   ],
   "source": [
    "from sklearn.metrics import mean_squared_error\n",
    "\n",
    "modelo = cria_instancia_modelo_arvore_de_decisao(melhor_trial_arvore_de_decisao)\n",
    "modelo.fit(X_treino, Y_treino)\n",
    "\n",
    "y_verdadeiro = Y_teste\n",
    "y_previsao = modelo.predict(X_teste)\n",
    "\n",
    "RMSE = mean_squared_error(y_verdadeiro, y_previsao) ** (1/2)\n",
    "\n",
    "from sklearn.metrics import mean_squared_error\n",
    "\n",
    "print(f'O RMSE do modelo foi {RMSE}')"
   ]
  },
  {
   "cell_type": "code",
   "execution_count": 51,
   "metadata": {},
   "outputs": [
    {
     "name": "stdout",
     "output_type": "stream",
     "text": [
      "Concrete compressive strength(MPa, megapascals)     82.599225\n",
      "dtype: float64\n",
      "Concrete compressive strength(MPa, megapascals)     2.331808\n",
      "dtype: float64\n"
     ]
    }
   ],
   "source": [
    "print(df[TARGET].max())\n",
    "print(df[TARGET].min())"
   ]
  },
  {
   "cell_type": "markdown",
   "metadata": {},
   "source": [
    "### Conclusão\n",
    "\n",
    "Considerando a grande amplitude dos dados (estão numa escala entre 2 e 83), um RMSE de aproximadamente 6.14 indica um modelo com uma boa performance para os dados apresentados. Utilizando o RMSE relativo, temos que $$\\text{RMSE percentual} \\approx \\left( \\frac{\\text{6,14}}{\\text{35,81}} \\right) \\times 100 \\approx 17,146$$. Isso significa que o erro médio do modelo é cerca de **17,146%** da média do target, o que representa um desempenho razoável."
   ]
  },
  {
   "cell_type": "markdown",
   "metadata": {},
   "source": [
    "\n",
    "\n",
    "**Definição:**\n",
    "\n",
    "A Floresta Aleatória (Random Forest) é um algoritmo de aprendizado de máquina muito usado para resolver problemas de previsão e classificação. Ele funciona criando várias árvores de decisão que, juntas, formam uma \"floresta\". Cada árvore de decisão é um modelo simples que toma decisões dividindo os dados em diferentes grupos, com base nas características dos dados. A Floresta Aleatória, ao invés de confiar em uma única árvore, cria várias delas e combina os resultados de todas para fazer a previsão final. No caso de regressão (como o seu modelo de previsão da resistência do concreto), o resultado final é a média das previsões feitas por todas as árvores.\n",
    "\n",
    "Uma das principais vantagens da Floresta Aleatória é que ela ajuda a evitar o problema do overfitting (ajuste excessivo aos dados de treinamento). Como cada árvore é treinada com uma amostra diferente dos dados e com um subconjunto aleatório das características, o modelo fica menos propenso a se ajustar demais aos dados específicos e mais capaz de generalizar bem para novos dados. Além disso, a Floresta Aleatória pode lidar com dados complexos e de alta dimensionalidade, o que a torna muito eficaz em várias situações, como no seu caso, em que se tenta prever a resistência do concreto com várias variáveis de entrada.\n",
    "\n",
    "**Utilização nesse projeto:**\n",
    "\n",
    "Neste projeto, a Floresta Aleatória foi aplicada para prever a resistência à compressão do concreto com base em uma série de variáveis de entrada, como os componentes do concreto (cimento, escória de alto-forno, cinzas volantes, água, superplastificante, agregado graúdo e agregado miúdo) e a idade do concreto. O objetivo é construir um modelo preditivo que seja capaz de estimar a resistência do concreto (em megapascais, MPa) a partir dessas variáveis.\n",
    "\n",
    "Para isso, foi utilizado o RandomForestRegressor, que é a versão da Floresta Aleatória voltada para problemas de regressão. Este modelo foi configurado e treinado usando os dados disponíveis. Os principais hiperparâmetros do modelo, como o número de árvores (n_estimators), a profundidade das árvores, o número mínimo de amostras para dividir um nó e o número mínimo de amostras por folha, foram otimizados utilizando Optuna, uma ferramenta de otimização de hiperparâmetros.\n",
    "\n",
    "A escolha do algoritmo foi motivada pela sua capacidade de lidar com grandes volumes de dados e sua robustez, o que é crucial quando trabalhamos com dados de componentes do concreto, onde as relações podem ser não-lineares e complexas. Ao usar a Floresta Aleatória, buscamos não apenas melhorar a precisão da previsão da resistência do concreto, mas também garantir que o modelo fosse capaz de generalizar bem para novos dados, evitando o overfitting e garantindo previsões consistentes.\n",
    "\n"
   ]
  },
  {
   "cell_type": "markdown",
   "metadata": {},
   "source": [
    "**Uso do Optuna para otimizar hiperparâmetros:**\n",
    "\n",
    "Nesse código definimos duas funções principais para otimizar um modelo de RandomForestRegressor utilizando a biblioteca Optuna. A primeira função, chamada cria_instancia_modelo, tem o objetivo de criar uma instância do modelo RandomForestRegressor com hiperparâmetros ajustados dinamicamente. Ela recebe um objeto trial do Optuna e, com ele, sugere valores para diversos parâmetros do modelo, como o número de árvores `(n_estimators)`, o critério de divisão das árvores `(criterion)`, o número mínimo de amostras para dividir um nó `(min_samples_split)`, o número mínimo de amostras para um nó folha `(min_samples_leaf)`, a proporção máxima de atributos a serem usados em cada divisão `(max_features)`, entre outros. Esses valores são sugeridos automat]icamente pelo Optuna dentro de intervalos definidos, permitindo a busca pelo conjunto ideal de parâmetros. Ao final, a função retorna uma instância do modelo configurado com os parâmetros definidos.\n",
    "\n",
    "A segunda função, chamada funcao_objetivo, é utilizada no processo de otimização do Optuna. Esta função tem como principal tarefa avaliar a performance do modelo criado com os hiperparâmetros sugeridos pelo Optuna. Ela utiliza o método de validação cruzada `(cross-validation)` para calcular a métrica de desempenho do modelo em diferentes subconjuntos dos dados. A métrica utilizada é o Root Mean Squared Error `(RMSE)`, que é retornada de forma negativa, já que o sklearn busca maximizar o valor da métrica e, neste caso, desejamos minimizá-la. O Optuna vai iterativamente testar diferentes combinações de parâmetros e tentar encontrar a configuração que minimize esse erro médio, permitindo assim otimizar o modelo para melhor performance."
   ]
  },
  {
   "cell_type": "markdown",
   "metadata": {},
   "source": [
    "----------------------\n",
    "\n",
    "## <center> Floresta Aleatória com Otimização de Hiperparâmetros </center>"
   ]
  },
  {
   "cell_type": "code",
   "execution_count": 52,
   "metadata": {},
   "outputs": [],
   "source": [
    "from sklearn.ensemble import RandomForestRegressor\n",
    "\n",
    "def cria_instancia_modelo(trial):\n",
    "    \"\"\"Cria uma instância do modelo.\n",
    "\n",
    "    Args:\n",
    "      trial: objeto tipo Trial do optuna.\n",
    "\n",
    "    Returns:\n",
    "      Uma instância do modelo desejado.\n",
    "\n",
    "    \"\"\"\n",
    "    parametros = {\n",
    "        \"n_estimators\": trial.suggest_int(\"num_arvores\", 10, 100),\n",
    "        \"criterion\": trial.suggest_categorical(\n",
    "            \"critério\", [\"squared_error\", \"friedman_mse\", \"poisson\"]\n",
    "        ),\n",
    "        \"min_samples_split\": trial.suggest_int(\n",
    "            \"min_exemplos_split\", 2, 20, log=True\n",
    "        ),\n",
    "        \"min_samples_leaf\": trial.suggest_int(\n",
    "            \"min_exemplos_folha\", 1, 20, log=True\n",
    "        ),\n",
    "        \"max_features\": trial.suggest_float(\"num_max_atributos\", 0, 1),\n",
    "        \"n_jobs\": -1,\n",
    "        \"bootstrap\": True,\n",
    "        \"random_state\": SEMENTE_ALEATORIA,\n",
    "    }\n",
    "\n",
    "    model = RandomForestRegressor(**parametros)\n",
    "\n",
    "    return model\n",
    "\n",
    "\n",
    "from sklearn.model_selection import cross_val_score\n",
    "\n",
    "def funcao_objetivo(trial, X, y, num_folds):\n",
    "    \"\"\"Função objetivo do optuna\n",
    "\n",
    "    Referencia:\n",
    "      https://medium.com/@walter_sperat/ using-optuna-with-sklearn-the-right-way-part-1-6b4ad0ab2451\n",
    "\n",
    "    \"\"\"\n",
    "    modelo = cria_instancia_modelo(trial)\n",
    "\n",
    "    metricas = cross_val_score(\n",
    "        modelo,\n",
    "        X,\n",
    "        y,\n",
    "        scoring=\"neg_root_mean_squared_error\",\n",
    "        cv=num_folds,\n",
    "    )\n",
    "\n",
    "    return -metricas.mean()"
   ]
  },
  {
   "cell_type": "markdown",
   "metadata": {},
   "source": [
    "**Criação do arquivo de estudo**\n",
    "\n",
    "Usando a biblioteca Optuna, criamos um arquivo de estudo que armazenará todas as tentativas de otimização realizadas durante o processo de busca pelos melhores hiperparâmetros. Esse arquivo permitirá que o Optuna registre e acesse as tentativas anteriores, otimizando a busca."
   ]
  },
  {
   "cell_type": "code",
   "execution_count": 53,
   "metadata": {},
   "outputs": [
    {
     "name": "stderr",
     "output_type": "stream",
     "text": [
      "[I 2024-11-11 16:17:01,331] A new study created in RDB with name: arvore_aleatoria_concreto\n"
     ]
    }
   ],
   "source": [
    "from optuna import create_study\n",
    "\n",
    "NOME_DO_ESTUDO = \"arvore_aleatoria_concreto_final\"\n",
    "\n",
    "objeto_de_estudo = create_study(\n",
    "    direction=\"minimize\",\n",
    "    study_name=NOME_DO_ESTUDO,\n",
    "    storage=f\"sqlite:///{NOME_DO_ESTUDO}.db\",\n",
    "    load_if_exists=True,\n",
    ")"
   ]
  },
  {
   "cell_type": "markdown",
   "metadata": {},
   "source": [
    "Com isso, criamos uma instância de estudo com o nome especificado e configuramos o Optuna para armazenar as tentativas de otimização em um banco de dados. O parâmetro `direction=\"minimize\"` indica que queremos minimizar a função objetivo, ou seja, reduzir o erro do modelo."
   ]
  },
  {
   "cell_type": "markdown",
   "metadata": {},
   "source": [
    "**Função do optuna**\n",
    "\n",
    "O Optuna requer uma função objetivo que recebe um único parâmetro `(trial)` para sugerir os valores dos hiperparâmetros. Com a função objetivo previamente definida, podemos configurar o número de tentativas que o Optuna deve realizar na busca pelos melhores hiperparâmetros."
   ]
  },
  {
   "cell_type": "code",
   "execution_count": 54,
   "metadata": {},
   "outputs": [],
   "source": [
    "NUM_FOLDS = 10\n",
    "\n",
    "def funcao_objetivo_parcial(trial):\n",
    "    return funcao_objetivo(trial, X_treino, Y_treino, NUM_FOLDS)"
   ]
  },
  {
   "cell_type": "markdown",
   "metadata": {},
   "source": [
    "Aqui, a função optimize é chamada para iniciar o processo de otimização. O parâmetro `n_trials` define quantas tentativas o Optuna deve fazer. Cada \"tentativa\" envolve a escolha de um conjunto de hiperparâmetros, a avaliação do desempenho do modelo com esses parâmetros e o registro dos resultados."
   ]
  },
  {
   "cell_type": "code",
   "execution_count": 55,
   "metadata": {},
   "outputs": [
    {
     "name": "stderr",
     "output_type": "stream",
     "text": [
      "[I 2024-11-11 16:17:02,950] Trial 0 finished with value: 6.568653084058068 and parameters: {'num_arvores': 64, 'critério': 'friedman_mse', 'min_exemplos_split': 4, 'min_exemplos_folha': 1, 'num_max_atributos': 0.1376201306343775}. Best is trial 0 with value: 6.568653084058068.\n",
      "[I 2024-11-11 16:17:04,125] Trial 1 finished with value: 4.827002304621276 and parameters: {'num_arvores': 33, 'critério': 'squared_error', 'min_exemplos_split': 3, 'min_exemplos_folha': 1, 'num_max_atributos': 0.6431579792579657}. Best is trial 1 with value: 4.827002304621276.\n",
      "[I 2024-11-11 16:17:05,597] Trial 2 finished with value: 5.1072175336563435 and parameters: {'num_arvores': 57, 'critério': 'squared_error', 'min_exemplos_split': 8, 'min_exemplos_folha': 1, 'num_max_atributos': 0.8378676774194094}. Best is trial 1 with value: 4.827002304621276.\n",
      "[I 2024-11-11 16:17:07,181] Trial 3 finished with value: 5.016899934115189 and parameters: {'num_arvores': 52, 'critério': 'friedman_mse', 'min_exemplos_split': 3, 'min_exemplos_folha': 1, 'num_max_atributos': 0.3890228719460386}. Best is trial 1 with value: 4.827002304621276.\n",
      "[I 2024-11-11 16:17:08,672] Trial 4 finished with value: 4.89410305401225 and parameters: {'num_arvores': 54, 'critério': 'poisson', 'min_exemplos_split': 4, 'min_exemplos_folha': 1, 'num_max_atributos': 0.5561208309404434}. Best is trial 1 with value: 4.827002304621276.\n",
      "[I 2024-11-11 16:17:09,632] Trial 5 finished with value: 5.388968629196664 and parameters: {'num_arvores': 15, 'critério': 'squared_error', 'min_exemplos_split': 2, 'min_exemplos_folha': 2, 'num_max_atributos': 0.43595921995871234}. Best is trial 1 with value: 4.827002304621276.\n",
      "[I 2024-11-11 16:17:10,519] Trial 6 finished with value: 5.023514324940508 and parameters: {'num_arvores': 13, 'critério': 'squared_error', 'min_exemplos_split': 3, 'min_exemplos_folha': 1, 'num_max_atributos': 0.8031160731880841}. Best is trial 1 with value: 4.827002304621276.\n",
      "[I 2024-11-11 16:17:11,515] Trial 7 finished with value: 10.318610585382798 and parameters: {'num_arvores': 35, 'critério': 'friedman_mse', 'min_exemplos_split': 2, 'min_exemplos_folha': 19, 'num_max_atributos': 0.005460584108686439}. Best is trial 1 with value: 4.827002304621276.\n",
      "[I 2024-11-11 16:17:12,430] Trial 8 finished with value: 5.073675335521251 and parameters: {'num_arvores': 26, 'critério': 'poisson', 'min_exemplos_split': 2, 'min_exemplos_folha': 1, 'num_max_atributos': 0.34831400603088236}. Best is trial 1 with value: 4.827002304621276.\n",
      "[I 2024-11-11 16:17:14,119] Trial 9 finished with value: 6.463648717475714 and parameters: {'num_arvores': 100, 'critério': 'poisson', 'min_exemplos_split': 5, 'min_exemplos_folha': 1, 'num_max_atributos': 0.19003474838643908}. Best is trial 1 with value: 4.827002304621276.\n",
      "[I 2024-11-11 16:17:15,857] Trial 10 finished with value: 6.029372850385112 and parameters: {'num_arvores': 81, 'critério': 'squared_error', 'min_exemplos_split': 18, 'min_exemplos_folha': 6, 'num_max_atributos': 0.6487617849792539}. Best is trial 1 with value: 4.827002304621276.\n",
      "[I 2024-11-11 16:17:17,171] Trial 11 finished with value: 5.371367996036642 and parameters: {'num_arvores': 40, 'critério': 'poisson', 'min_exemplos_split': 6, 'min_exemplos_folha': 3, 'num_max_atributos': 0.6158414691315119}. Best is trial 1 with value: 4.827002304621276.\n",
      "[I 2024-11-11 16:17:18,564] Trial 12 finished with value: 5.3895091629099765 and parameters: {'num_arvores': 45, 'critério': 'poisson', 'min_exemplos_split': 9, 'min_exemplos_folha': 2, 'num_max_atributos': 0.9649953218062696}. Best is trial 1 with value: 4.827002304621276.\n",
      "[I 2024-11-11 16:17:19,936] Trial 13 finished with value: 5.783263873918395 and parameters: {'num_arvores': 68, 'critério': 'squared_error', 'min_exemplos_split': 3, 'min_exemplos_folha': 5, 'num_max_atributos': 0.5698683724407939}. Best is trial 1 with value: 4.827002304621276.\n",
      "[I 2024-11-11 16:17:20,962] Trial 14 finished with value: 5.130293753062218 and parameters: {'num_arvores': 29, 'critério': 'poisson', 'min_exemplos_split': 4, 'min_exemplos_folha': 2, 'num_max_atributos': 0.7450689205773213}. Best is trial 1 with value: 4.827002304621276.\n",
      "[I 2024-11-11 16:17:22,405] Trial 15 finished with value: 7.243791720499269 and parameters: {'num_arvores': 69, 'critério': 'squared_error', 'min_exemplos_split': 12, 'min_exemplos_folha': 16, 'num_max_atributos': 0.5079013057022901}. Best is trial 1 with value: 4.827002304621276.\n",
      "[I 2024-11-11 16:17:24,033] Trial 16 finished with value: 6.268900119337843 and parameters: {'num_arvores': 81, 'critério': 'poisson', 'min_exemplos_split': 6, 'min_exemplos_folha': 9, 'num_max_atributos': 0.684711727820744}. Best is trial 1 with value: 4.827002304621276.\n",
      "[I 2024-11-11 16:17:25,234] Trial 17 finished with value: 5.952226948473165 and parameters: {'num_arvores': 49, 'critério': 'squared_error', 'min_exemplos_split': 4, 'min_exemplos_folha': 3, 'num_max_atributos': 0.2856874488554859}. Best is trial 1 with value: 4.827002304621276.\n",
      "[I 2024-11-11 16:17:26,447] Trial 18 finished with value: 5.147757582102896 and parameters: {'num_arvores': 34, 'critério': 'poisson', 'min_exemplos_split': 3, 'min_exemplos_folha': 2, 'num_max_atributos': 0.9505095547637034}. Best is trial 1 with value: 4.827002304621276.\n",
      "[I 2024-11-11 16:17:27,339] Trial 19 finished with value: 5.847242378314094 and parameters: {'num_arvores': 22, 'critério': 'friedman_mse', 'min_exemplos_split': 9, 'min_exemplos_folha': 5, 'num_max_atributos': 0.530485725143043}. Best is trial 1 with value: 4.827002304621276.\n",
      "[I 2024-11-11 16:17:28,836] Trial 20 finished with value: 5.2100870480667645 and parameters: {'num_arvores': 59, 'critério': 'poisson', 'min_exemplos_split': 7, 'min_exemplos_folha': 2, 'num_max_atributos': 0.8653630672566834}. Best is trial 1 with value: 4.827002304621276.\n",
      "[I 2024-11-11 16:17:30,055] Trial 21 finished with value: 5.032729990602309 and parameters: {'num_arvores': 49, 'critério': 'friedman_mse', 'min_exemplos_split': 3, 'min_exemplos_folha': 1, 'num_max_atributos': 0.4341264050435454}. Best is trial 1 with value: 4.827002304621276.\n",
      "[I 2024-11-11 16:17:31,163] Trial 22 finished with value: 5.543989876873856 and parameters: {'num_arvores': 41, 'critério': 'friedman_mse', 'min_exemplos_split': 4, 'min_exemplos_folha': 3, 'num_max_atributos': 0.4004152092958522}. Best is trial 1 with value: 4.827002304621276.\n",
      "[I 2024-11-11 16:17:32,795] Trial 23 finished with value: 4.8681439230173105 and parameters: {'num_arvores': 76, 'critério': 'friedman_mse', 'min_exemplos_split': 5, 'min_exemplos_folha': 1, 'num_max_atributos': 0.7112025720446078}. Best is trial 1 with value: 4.827002304621276.\n",
      "[I 2024-11-11 16:17:34,469] Trial 24 finished with value: 5.067366977182584 and parameters: {'num_arvores': 79, 'critério': 'friedman_mse', 'min_exemplos_split': 5, 'min_exemplos_folha': 2, 'num_max_atributos': 0.6996405251263133}. Best is trial 1 with value: 4.827002304621276.\n",
      "[I 2024-11-11 16:17:36,438] Trial 25 finished with value: 4.907223249997427 and parameters: {'num_arvores': 99, 'critério': 'friedman_mse', 'min_exemplos_split': 5, 'min_exemplos_folha': 1, 'num_max_atributos': 0.5819241386007242}. Best is trial 1 with value: 4.827002304621276.\n",
      "[I 2024-11-11 16:17:38,361] Trial 26 finished with value: 5.633113547639118 and parameters: {'num_arvores': 90, 'critério': 'squared_error', 'min_exemplos_split': 13, 'min_exemplos_folha': 3, 'num_max_atributos': 0.7494696698929577}. Best is trial 1 with value: 4.827002304621276.\n",
      "[I 2024-11-11 16:17:40,272] Trial 27 finished with value: 6.656849691146819 and parameters: {'num_arvores': 74, 'critério': 'friedman_mse', 'min_exemplos_split': 4, 'min_exemplos_folha': 9, 'num_max_atributos': 0.48181063189861684}. Best is trial 1 with value: 4.827002304621276.\n",
      "[I 2024-11-11 16:17:42,363] Trial 28 finished with value: 5.535373427728085 and parameters: {'num_arvores': 91, 'critério': 'poisson', 'min_exemplos_split': 6, 'min_exemplos_folha': 4, 'num_max_atributos': 0.8892068555989308}. Best is trial 1 with value: 4.827002304621276.\n",
      "[I 2024-11-11 16:17:43,746] Trial 29 finished with value: 6.0601098546394 and parameters: {'num_arvores': 61, 'critério': 'squared_error', 'min_exemplos_split': 7, 'min_exemplos_folha': 8, 'num_max_atributos': 0.7693044190412707}. Best is trial 1 with value: 4.827002304621276.\n",
      "[I 2024-11-11 16:17:45,070] Trial 30 finished with value: 6.721689201283479 and parameters: {'num_arvores': 65, 'critério': 'friedman_mse', 'min_exemplos_split': 5, 'min_exemplos_folha': 13, 'num_max_atributos': 0.6663334315240812}. Best is trial 1 with value: 4.827002304621276.\n",
      "[I 2024-11-11 16:17:47,300] Trial 31 finished with value: 4.906928738954791 and parameters: {'num_arvores': 98, 'critério': 'friedman_mse', 'min_exemplos_split': 5, 'min_exemplos_folha': 1, 'num_max_atributos': 0.5757128973758883}. Best is trial 1 with value: 4.827002304621276.\n",
      "[I 2024-11-11 16:17:49,175] Trial 32 finished with value: 4.856996701614486 and parameters: {'num_arvores': 94, 'critério': 'friedman_mse', 'min_exemplos_split': 4, 'min_exemplos_folha': 1, 'num_max_atributos': 0.596573170150199}. Best is trial 1 with value: 4.827002304621276.\n",
      "[I 2024-11-11 16:17:51,264] Trial 33 finished with value: 4.87276148263338 and parameters: {'num_arvores': 88, 'critério': 'friedman_mse', 'min_exemplos_split': 4, 'min_exemplos_folha': 1, 'num_max_atributos': 0.6273297917057862}. Best is trial 1 with value: 4.827002304621276.\n",
      "[I 2024-11-11 16:17:53,361] Trial 34 finished with value: 4.796585621715681 and parameters: {'num_arvores': 87, 'critério': 'friedman_mse', 'min_exemplos_split': 3, 'min_exemplos_folha': 1, 'num_max_atributos': 0.7197554744540574}. Best is trial 34 with value: 4.796585621715681.\n",
      "[I 2024-11-11 16:17:55,264] Trial 35 finished with value: 5.0067858882038685 and parameters: {'num_arvores': 85, 'critério': 'friedman_mse', 'min_exemplos_split': 3, 'min_exemplos_folha': 2, 'num_max_atributos': 0.8281567212382154}. Best is trial 34 with value: 4.796585621715681.\n",
      "[I 2024-11-11 16:17:57,407] Trial 36 finished with value: 4.732918374659077 and parameters: {'num_arvores': 94, 'critério': 'friedman_mse', 'min_exemplos_split': 2, 'min_exemplos_folha': 1, 'num_max_atributos': 0.7295838017986047}. Best is trial 36 with value: 4.732918374659077.\n",
      "[I 2024-11-11 16:17:59,446] Trial 37 finished with value: 5.471753973248616 and parameters: {'num_arvores': 93, 'critério': 'friedman_mse', 'min_exemplos_split': 2, 'min_exemplos_folha': 4, 'num_max_atributos': 0.8980220771830977}. Best is trial 36 with value: 4.732918374659077.\n",
      "[I 2024-11-11 16:18:01,724] Trial 38 finished with value: 4.746865195396702 and parameters: {'num_arvores': 94, 'critério': 'friedman_mse', 'min_exemplos_split': 2, 'min_exemplos_folha': 1, 'num_max_atributos': 0.7917918297504931}. Best is trial 36 with value: 4.732918374659077.\n",
      "[I 2024-11-11 16:18:03,601] Trial 39 finished with value: 5.0067858882038685 and parameters: {'num_arvores': 85, 'critério': 'friedman_mse', 'min_exemplos_split': 2, 'min_exemplos_folha': 2, 'num_max_atributos': 0.7900872349933576}. Best is trial 36 with value: 4.732918374659077.\n",
      "[I 2024-11-11 16:18:04,552] Trial 40 finished with value: 4.9332157323968735 and parameters: {'num_arvores': 17, 'critério': 'squared_error', 'min_exemplos_split': 2, 'min_exemplos_folha': 1, 'num_max_atributos': 0.8260839866822572}. Best is trial 36 with value: 4.732918374659077.\n",
      "[I 2024-11-11 16:18:06,489] Trial 41 finished with value: 4.785819455769117 and parameters: {'num_arvores': 94, 'critério': 'friedman_mse', 'min_exemplos_split': 3, 'min_exemplos_folha': 1, 'num_max_atributos': 0.7209704743893874}. Best is trial 36 with value: 4.732918374659077.\n",
      "[I 2024-11-11 16:18:08,486] Trial 42 finished with value: 4.786967594478505 and parameters: {'num_arvores': 96, 'critério': 'friedman_mse', 'min_exemplos_split': 3, 'min_exemplos_folha': 1, 'num_max_atributos': 0.7277962622071271}. Best is trial 36 with value: 4.732918374659077.\n",
      "[I 2024-11-11 16:18:10,496] Trial 43 finished with value: 4.787705299556058 and parameters: {'num_arvores': 95, 'critério': 'friedman_mse', 'min_exemplos_split': 3, 'min_exemplos_folha': 1, 'num_max_atributos': 0.7384321102678288}. Best is trial 36 with value: 4.732918374659077.\n",
      "[I 2024-11-11 16:18:12,805] Trial 44 finished with value: 4.7855695244276335 and parameters: {'num_arvores': 95, 'critério': 'friedman_mse', 'min_exemplos_split': 2, 'min_exemplos_folha': 1, 'num_max_atributos': 0.9245646331668161}. Best is trial 36 with value: 4.732918374659077.\n",
      "[I 2024-11-11 16:18:15,134] Trial 45 finished with value: 4.774509949874576 and parameters: {'num_arvores': 100, 'critério': 'friedman_mse', 'min_exemplos_split': 2, 'min_exemplos_folha': 1, 'num_max_atributos': 0.960893883899048}. Best is trial 36 with value: 4.732918374659077.\n",
      "[I 2024-11-11 16:18:16,902] Trial 46 finished with value: 5.473583915878223 and parameters: {'num_arvores': 84, 'critério': 'friedman_mse', 'min_exemplos_split': 2, 'min_exemplos_folha': 4, 'num_max_atributos': 0.9341715946546993}. Best is trial 36 with value: 4.732918374659077.\n",
      "[I 2024-11-11 16:18:18,850] Trial 47 finished with value: 5.021480376175555 and parameters: {'num_arvores': 91, 'critério': 'friedman_mse', 'min_exemplos_split': 2, 'min_exemplos_folha': 2, 'num_max_atributos': 0.9758145670520298}. Best is trial 36 with value: 4.732918374659077.\n",
      "[I 2024-11-11 16:18:21,252] Trial 48 finished with value: 4.774509949874576 and parameters: {'num_arvores': 100, 'critério': 'friedman_mse', 'min_exemplos_split': 2, 'min_exemplos_folha': 1, 'num_max_atributos': 0.9058881253219219}. Best is trial 36 with value: 4.732918374659077.\n",
      "[I 2024-11-11 16:18:23,231] Trial 49 finished with value: 5.7927950629492715 and parameters: {'num_arvores': 98, 'critério': 'friedman_mse', 'min_exemplos_split': 19, 'min_exemplos_folha': 1, 'num_max_atributos': 0.9961143589728242}. Best is trial 36 with value: 4.732918374659077.\n",
      "[I 2024-11-11 16:18:25,399] Trial 50 finished with value: 6.449645296483129 and parameters: {'num_arvores': 99, 'critério': 'friedman_mse', 'min_exemplos_split': 2, 'min_exemplos_folha': 11, 'num_max_atributos': 0.9257837225328156}. Best is trial 36 with value: 4.732918374659077.\n",
      "[I 2024-11-11 16:18:27,852] Trial 51 finished with value: 4.746865195396702 and parameters: {'num_arvores': 94, 'critério': 'friedman_mse', 'min_exemplos_split': 2, 'min_exemplos_folha': 1, 'num_max_atributos': 0.8494497131596883}. Best is trial 36 with value: 4.732918374659077.\n",
      "[I 2024-11-11 16:18:29,595] Trial 52 finished with value: 5.95663977060846 and parameters: {'num_arvores': 89, 'critério': 'friedman_mse', 'min_exemplos_split': 2, 'min_exemplos_folha': 7, 'num_max_atributos': 0.8677813877557538}. Best is trial 36 with value: 4.732918374659077.\n",
      "[I 2024-11-11 16:18:31,813] Trial 53 finished with value: 4.779412650932642 and parameters: {'num_arvores': 82, 'critério': 'friedman_mse', 'min_exemplos_split': 2, 'min_exemplos_folha': 1, 'num_max_atributos': 0.9150477831721794}. Best is trial 36 with value: 4.732918374659077.\n",
      "[I 2024-11-11 16:18:34,015] Trial 54 finished with value: 5.273656506242025 and parameters: {'num_arvores': 100, 'critério': 'friedman_mse', 'min_exemplos_split': 11, 'min_exemplos_folha': 1, 'num_max_atributos': 0.8509234012577701}. Best is trial 36 with value: 4.732918374659077.\n",
      "[I 2024-11-11 16:18:35,720] Trial 55 finished with value: 7.3702870383803845 and parameters: {'num_arvores': 82, 'critério': 'friedman_mse', 'min_exemplos_split': 15, 'min_exemplos_folha': 20, 'num_max_atributos': 0.8099024679800839}. Best is trial 36 with value: 4.732918374659077.\n",
      "[I 2024-11-11 16:18:37,598] Trial 56 finished with value: 5.02275676759605 and parameters: {'num_arvores': 77, 'critério': 'friedman_mse', 'min_exemplos_split': 2, 'min_exemplos_folha': 2, 'num_max_atributos': 0.9949735056450658}. Best is trial 36 with value: 4.732918374659077.\n",
      "[I 2024-11-11 16:18:39,968] Trial 57 finished with value: 4.791098180987232 and parameters: {'num_arvores': 92, 'critério': 'friedman_mse', 'min_exemplos_split': 2, 'min_exemplos_folha': 1, 'num_max_atributos': 0.8977505904875632}. Best is trial 36 with value: 4.732918374659077.\n",
      "[I 2024-11-11 16:18:41,627] Trial 58 finished with value: 5.826784143511393 and parameters: {'num_arvores': 73, 'critério': 'friedman_mse', 'min_exemplos_split': 2, 'min_exemplos_folha': 6, 'num_max_atributos': 0.7907128340705024}. Best is trial 36 with value: 4.732918374659077.\n",
      "[I 2024-11-11 16:18:43,918] Trial 59 finished with value: 4.782355109470726 and parameters: {'num_arvores': 87, 'critério': 'friedman_mse', 'min_exemplos_split': 2, 'min_exemplos_folha': 1, 'num_max_atributos': 0.9471342533389009}. Best is trial 36 with value: 4.732918374659077.\n",
      "[I 2024-11-11 16:18:45,879] Trial 60 finished with value: 5.205134298839555 and parameters: {'num_arvores': 96, 'critério': 'friedman_mse', 'min_exemplos_split': 8, 'min_exemplos_folha': 2, 'num_max_atributos': 0.8548951894148885}. Best is trial 36 with value: 4.732918374659077.\n",
      "[I 2024-11-11 16:18:48,184] Trial 61 finished with value: 4.782287626072378 and parameters: {'num_arvores': 88, 'critério': 'friedman_mse', 'min_exemplos_split': 2, 'min_exemplos_folha': 1, 'num_max_atributos': 0.9058061738011868}. Best is trial 36 with value: 4.732918374659077.\n",
      "[I 2024-11-11 16:18:50,075] Trial 62 finished with value: 6.752028463654392 and parameters: {'num_arvores': 100, 'critério': 'friedman_mse', 'min_exemplos_split': 2, 'min_exemplos_folha': 14, 'num_max_atributos': 0.8998531262357177}. Best is trial 36 with value: 4.732918374659077.\n",
      "[I 2024-11-11 16:18:52,246] Trial 63 finished with value: 4.777769328704965 and parameters: {'num_arvores': 83, 'critério': 'friedman_mse', 'min_exemplos_split': 2, 'min_exemplos_folha': 1, 'num_max_atributos': 0.9633350433133401}. Best is trial 36 with value: 4.732918374659077.\n",
      "[I 2024-11-11 16:18:54,403] Trial 64 finished with value: 4.799146608597253 and parameters: {'num_arvores': 81, 'critério': 'friedman_mse', 'min_exemplos_split': 3, 'min_exemplos_folha': 1, 'num_max_atributos': 0.9630174547089776}. Best is trial 36 with value: 4.732918374659077.\n",
      "[I 2024-11-11 16:18:56,477] Trial 65 finished with value: 7.131642478327727 and parameters: {'num_arvores': 91, 'critério': 'friedman_mse', 'min_exemplos_split': 10, 'min_exemplos_folha': 1, 'num_max_atributos': 0.11924853780306055}. Best is trial 36 with value: 4.732918374659077.\n",
      "[I 2024-11-11 16:18:58,893] Trial 66 finished with value: 5.518502563878088 and parameters: {'num_arvores': 97, 'critério': 'poisson', 'min_exemplos_split': 14, 'min_exemplos_folha': 1, 'num_max_atributos': 0.8667630588969772}. Best is trial 36 with value: 4.732918374659077.\n",
      "[I 2024-11-11 16:19:00,814] Trial 67 finished with value: 5.9930216024056815 and parameters: {'num_arvores': 84, 'critério': 'friedman_mse', 'min_exemplos_split': 17, 'min_exemplos_folha': 6, 'num_max_atributos': 0.764559964548183}. Best is trial 36 with value: 4.732918374659077.\n",
      "[I 2024-11-11 16:19:02,613] Trial 68 finished with value: 6.460484034963001 and parameters: {'num_arvores': 71, 'critério': 'friedman_mse', 'min_exemplos_split': 2, 'min_exemplos_folha': 11, 'num_max_atributos': 0.9612606653209899}. Best is trial 36 with value: 4.732918374659077.\n",
      "[I 2024-11-11 16:19:04,928] Trial 69 finished with value: 4.809982342065192 and parameters: {'num_arvores': 92, 'critério': 'squared_error', 'min_exemplos_split': 2, 'min_exemplos_folha': 1, 'num_max_atributos': 0.8259541825150818}. Best is trial 36 with value: 4.732918374659077.\n",
      "[I 2024-11-11 16:19:06,657] Trial 70 finished with value: 5.228569770861178 and parameters: {'num_arvores': 76, 'critério': 'friedman_mse', 'min_exemplos_split': 3, 'min_exemplos_folha': 3, 'num_max_atributos': 0.8776140560804834}. Best is trial 36 with value: 4.732918374659077.\n",
      "[I 2024-11-11 16:19:08,780] Trial 71 finished with value: 4.7857332559625325 and parameters: {'num_arvores': 89, 'critério': 'friedman_mse', 'min_exemplos_split': 2, 'min_exemplos_folha': 1, 'num_max_atributos': 0.9135856633514059}. Best is trial 36 with value: 4.732918374659077.\n",
      "[I 2024-11-11 16:19:11,076] Trial 72 finished with value: 4.782355109470725 and parameters: {'num_arvores': 87, 'critério': 'friedman_mse', 'min_exemplos_split': 2, 'min_exemplos_folha': 1, 'num_max_atributos': 0.9259822068821125}. Best is trial 36 with value: 4.732918374659077.\n",
      "[I 2024-11-11 16:19:13,214] Trial 73 finished with value: 4.78329132718509 and parameters: {'num_arvores': 79, 'critério': 'friedman_mse', 'min_exemplos_split': 2, 'min_exemplos_folha': 1, 'num_max_atributos': 0.9971607238651821}. Best is trial 36 with value: 4.732918374659077.\n",
      "[I 2024-11-11 16:19:15,152] Trial 74 finished with value: 5.662898888141614 and parameters: {'num_arvores': 94, 'critério': 'friedman_mse', 'min_exemplos_split': 2, 'min_exemplos_folha': 5, 'num_max_atributos': 0.7958485372723145}. Best is trial 36 with value: 4.732918374659077.\n",
      "[I 2024-11-11 16:19:17,161] Trial 75 finished with value: 4.745448304525664 and parameters: {'num_arvores': 83, 'critério': 'friedman_mse', 'min_exemplos_split': 2, 'min_exemplos_folha': 1, 'num_max_atributos': 0.8370669331530655}. Best is trial 36 with value: 4.732918374659077.\n",
      "[I 2024-11-11 16:19:18,787] Trial 76 finished with value: 5.1411251892012135 and parameters: {'num_arvores': 67, 'critério': 'poisson', 'min_exemplos_split': 8, 'min_exemplos_folha': 1, 'num_max_atributos': 0.6807465844885874}. Best is trial 36 with value: 4.732918374659077.\n",
      "[I 2024-11-11 16:19:20,262] Trial 77 finished with value: 5.1392375795028 and parameters: {'num_arvores': 54, 'critério': 'friedman_mse', 'min_exemplos_split': 9, 'min_exemplos_folha': 1, 'num_max_atributos': 0.8378871428159437}. Best is trial 36 with value: 4.732918374659077.\n",
      "[I 2024-11-11 16:19:22,014] Trial 78 finished with value: 6.9954591863465865 and parameters: {'num_arvores': 97, 'critério': 'friedman_mse', 'min_exemplos_split': 7, 'min_exemplos_folha': 16, 'num_max_atributos': 0.945196140278832}. Best is trial 36 with value: 4.732918374659077.\n",
      "[I 2024-11-11 16:19:23,869] Trial 79 finished with value: 5.0039537674592784 and parameters: {'num_arvores': 79, 'critério': 'friedman_mse', 'min_exemplos_split': 3, 'min_exemplos_folha': 2, 'num_max_atributos': 0.7776382491801246}. Best is trial 36 with value: 4.732918374659077.\n",
      "[I 2024-11-11 16:19:27,143] Trial 80 finished with value: 5.489062816344492 and parameters: {'num_arvores': 83, 'critério': 'squared_error', 'min_exemplos_split': 6, 'min_exemplos_folha': 1, 'num_max_atributos': 0.3330729841168893}. Best is trial 36 with value: 4.732918374659077.\n",
      "[I 2024-11-11 16:19:31,317] Trial 81 finished with value: 4.780127554475945 and parameters: {'num_arvores': 86, 'critério': 'friedman_mse', 'min_exemplos_split': 2, 'min_exemplos_folha': 1, 'num_max_atributos': 0.8791746474170347}. Best is trial 36 with value: 4.732918374659077.\n",
      "[I 2024-11-11 16:19:35,676] Trial 82 finished with value: 4.740845480247491 and parameters: {'num_arvores': 85, 'critério': 'friedman_mse', 'min_exemplos_split': 2, 'min_exemplos_folha': 1, 'num_max_atributos': 0.8186926476918058}. Best is trial 36 with value: 4.732918374659077.\n",
      "[I 2024-11-11 16:19:39,821] Trial 83 finished with value: 4.74122625580505 and parameters: {'num_arvores': 90, 'critério': 'friedman_mse', 'min_exemplos_split': 2, 'min_exemplos_folha': 1, 'num_max_atributos': 0.8408734022576639}. Best is trial 36 with value: 4.732918374659077.\n",
      "[I 2024-11-11 16:19:44,306] Trial 84 finished with value: 4.746865195396702 and parameters: {'num_arvores': 94, 'critério': 'friedman_mse', 'min_exemplos_split': 2, 'min_exemplos_folha': 1, 'num_max_atributos': 0.8079011003193027}. Best is trial 36 with value: 4.732918374659077.\n",
      "[I 2024-11-11 16:19:48,711] Trial 85 finished with value: 4.7460353690273855 and parameters: {'num_arvores': 93, 'critério': 'friedman_mse', 'min_exemplos_split': 2, 'min_exemplos_folha': 1, 'num_max_atributos': 0.7548876314877607}. Best is trial 36 with value: 4.732918374659077.\n",
      "[I 2024-11-11 16:19:52,720] Trial 86 finished with value: 5.374797281100797 and parameters: {'num_arvores': 93, 'critério': 'friedman_mse', 'min_exemplos_split': 12, 'min_exemplos_folha': 1, 'num_max_atributos': 0.6548581971926657}. Best is trial 36 with value: 4.732918374659077.\n",
      "[I 2024-11-11 16:19:56,530] Trial 87 finished with value: 6.144632030281462 and parameters: {'num_arvores': 90, 'critério': 'friedman_mse', 'min_exemplos_split': 2, 'min_exemplos_folha': 8, 'num_max_atributos': 0.6992249154825587}. Best is trial 36 with value: 4.732918374659077.\n",
      "[I 2024-11-11 16:20:00,847] Trial 88 finished with value: 4.744727092781695 and parameters: {'num_arvores': 96, 'critério': 'friedman_mse', 'min_exemplos_split': 2, 'min_exemplos_folha': 1, 'num_max_atributos': 0.7542483557503257}. Best is trial 36 with value: 4.732918374659077.\n",
      "[I 2024-11-11 16:20:04,755] Trial 89 finished with value: 5.482544787562094 and parameters: {'num_arvores': 95, 'critério': 'poisson', 'min_exemplos_split': 2, 'min_exemplos_folha': 4, 'num_max_atributos': 0.7544301300463719}. Best is trial 36 with value: 4.732918374659077.\n",
      "[I 2024-11-11 16:20:07,738] Trial 90 finished with value: 5.67301543941935 and parameters: {'num_arvores': 90, 'critério': 'friedman_mse', 'min_exemplos_split': 3, 'min_exemplos_folha': 5, 'num_max_atributos': 0.8139696931030072}. Best is trial 36 with value: 4.732918374659077.\n",
      "[I 2024-11-11 16:20:10,346] Trial 91 finished with value: 4.74421252777126 and parameters: {'num_arvores': 98, 'critério': 'friedman_mse', 'min_exemplos_split': 2, 'min_exemplos_folha': 1, 'num_max_atributos': 0.7732892317742626}. Best is trial 36 with value: 4.732918374659077.\n",
      "[I 2024-11-11 16:20:12,947] Trial 92 finished with value: 4.730173685524036 and parameters: {'num_arvores': 97, 'critério': 'friedman_mse', 'min_exemplos_split': 2, 'min_exemplos_folha': 1, 'num_max_atributos': 0.7464789376291738}. Best is trial 92 with value: 4.730173685524036.\n",
      "[I 2024-11-11 16:20:14,816] Trial 93 finished with value: 7.154656799406737 and parameters: {'num_arvores': 97, 'critério': 'friedman_mse', 'min_exemplos_split': 2, 'min_exemplos_folha': 17, 'num_max_atributos': 0.7477224608194046}. Best is trial 92 with value: 4.730173685524036.\n",
      "[I 2024-11-11 16:20:17,166] Trial 94 finished with value: 4.73358911200979 and parameters: {'num_arvores': 92, 'critério': 'friedman_mse', 'min_exemplos_split': 2, 'min_exemplos_folha': 1, 'num_max_atributos': 0.6268214007719806}. Best is trial 92 with value: 4.730173685524036.\n",
      "[I 2024-11-11 16:20:19,366] Trial 95 finished with value: 4.73358911200979 and parameters: {'num_arvores': 92, 'critério': 'friedman_mse', 'min_exemplos_split': 2, 'min_exemplos_folha': 1, 'num_max_atributos': 0.685092549340727}. Best is trial 92 with value: 4.730173685524036.\n",
      "[I 2024-11-11 16:20:21,146] Trial 96 finished with value: 5.883122641768251 and parameters: {'num_arvores': 92, 'critério': 'friedman_mse', 'min_exemplos_split': 20, 'min_exemplos_folha': 1, 'num_max_atributos': 0.6291862444374897}. Best is trial 92 with value: 4.730173685524036.\n",
      "[I 2024-11-11 16:20:23,258] Trial 97 finished with value: 4.735709468658874 and parameters: {'num_arvores': 98, 'critério': 'friedman_mse', 'min_exemplos_split': 2, 'min_exemplos_folha': 1, 'num_max_atributos': 0.542806217495869}. Best is trial 92 with value: 4.730173685524036.\n",
      "[I 2024-11-11 16:20:24,877] Trial 98 finished with value: 7.153091260105205 and parameters: {'num_arvores': 97, 'critério': 'friedman_mse', 'min_exemplos_split': 10, 'min_exemplos_folha': 13, 'num_max_atributos': 0.47419133800837066}. Best is trial 92 with value: 4.730173685524036.\n",
      "[I 2024-11-11 16:20:26,715] Trial 99 finished with value: 4.72435696339331 and parameters: {'num_arvores': 86, 'critério': 'squared_error', 'min_exemplos_split': 2, 'min_exemplos_folha': 1, 'num_max_atributos': 0.5413330727768411}. Best is trial 99 with value: 4.72435696339331.\n"
     ]
    }
   ],
   "source": [
    "NUM_TENTATIVAS = 100\n",
    "\n",
    "objeto_de_estudo.optimize(funcao_objetivo_parcial, n_trials=NUM_TENTATIVAS)"
   ]
  },
  {
   "cell_type": "markdown",
   "metadata": {},
   "source": [
    "Podemos obter o número da melhor tentativa e seus parâmetros por meio do método `best_trial`:"
   ]
  },
  {
   "cell_type": "code",
   "execution_count": 56,
   "metadata": {},
   "outputs": [
    {
     "name": "stdout",
     "output_type": "stream",
     "text": [
      "Número do melhor trial: 99\n",
      "Parâmetros do melhor trial: {'num_arvores': 86, 'critério': 'squared_error', 'min_exemplos_split': 2, 'min_exemplos_folha': 1, 'num_max_atributos': 0.5413330727768411}\n"
     ]
    }
   ],
   "source": [
    "melhor_trial = objeto_de_estudo.best_trial\n",
    "\n",
    "print(f\"Número do melhor trial: {melhor_trial.number}\")\n",
    "print(f\"Parâmetros do melhor trial: {melhor_trial.params}\")"
   ]
  },
  {
   "cell_type": "markdown",
   "metadata": {},
   "source": [
    "**Utilizando o modelo**\n",
    "\n",
    "Com os melhores parâmetros encontrados, podemos instanciar o modelo e treinar com os dados de treinamento. Após o treinamento, fazemos a previsão para os dados de teste e calculamos o Root Mean Squared Error (RMSE) para avaliar o desempenho do modelo."
   ]
  },
  {
   "cell_type": "code",
   "execution_count": 57,
   "metadata": {},
   "outputs": [
    {
     "name": "stdout",
     "output_type": "stream",
     "text": [
      "4.896305612048668\n"
     ]
    }
   ],
   "source": [
    "from sklearn.metrics import mean_squared_error\n",
    "\n",
    "modelo = cria_instancia_modelo(melhor_trial)\n",
    "modelo.fit(X_treino, Y_treino)\n",
    "\n",
    "y_verdadeiro = Y_teste\n",
    "y_previsao = modelo.predict(X_teste)\n",
    "\n",
    "RMSE = mean_squared_error(y_verdadeiro, y_previsao) ** (1/2)\n",
    "\n",
    "print(RMSE)"
   ]
  },
  {
   "cell_type": "markdown",
   "metadata": {},
   "source": [
    "#### Avaliando o desempenho da floresta aleatória\n",
    " \n",
    "Com os seguintes valores:\n",
    " \n",
    "- **RMSE** = 5,12\n",
    "- **Média do target** = 35,81 MPa\n",
    " \n",
    "Substituindo na fórmula:\n",
    " \n",
    "$$\n",
    "\\text{RMSE percentual} = \\left( \\frac{5,12}{35,81} \\right) \\times 100 \\approx 14,3\\%\n",
    "$$\n",
    " \n",
    "Isso significa que o erro médio do modelo é cerca de **14,3%** da média do target.\n",
    " \n",
    "##### Conclusão\n",
    " \n",
    "Um RMSE de 14,3% em relação à média do target indica um desempenho razoável do modelo da floresta aleatória. Embora o valor não seja extremamente baixo, ele sugere que o modelo está fazendo previsões com uma precisão razoável dentro do intervalo dos dados.\n",
    " \n",
    " "
   ]
  },
  {
   "cell_type": "markdown",
   "metadata": {},
   "source": [
    "----------------------\n",
    "\n",
    "## <center> Seleção de Atributos </center>\n",
    "\n",
    "\n",
    "A seleção de atributos (ou feature selection) é uma técnica utilizada em aprendizado de máquina para escolher um subconjunto de atributos (ou features) mais relevantes para o modelo, com o objetivo de melhorar a performance, reduzir a complexidade e evitar o sobreajuste (overfitting). Essa técnica é essencial quando se trabalha com datasets grandes, onde nem todos os atributos são igualmente importantes para a tarefa preditiva.\n",
    "\n",
    "Nessa etapa vamos verificar se o modelo está ou não identificando padrões espúrios, resultando em sobreajustes do modelo aos targets. Dessa forma, vamos implementar alguns métodos para selecionar atributos e verificar se ao utilizar desse método, melhora ou não as métricas. \n",
    "\n",
    "## <center>Seleção de atributos pelo limiar da Variância</center>"
   ]
  },
  {
   "cell_type": "markdown",
   "metadata": {},
   "source": [
    "É uma técnica simples e eficaz para eliminar atributos que não carregam informação significativa para o modelo, com base na variância dos dados. A ideia central dessa técnica é que atributos com pouca ou nenhuma variabilidade não contribuem para a distinção entre as amostras e, portanto, podem ser descartados. Neste caso, descartaremos, se houver uma variância igual 0. "
   ]
  },
  {
   "cell_type": "code",
   "execution_count": 58,
   "metadata": {},
   "outputs": [
    {
     "name": "stdout",
     "output_type": "stream",
     "text": [
      "[10926.71766983  7439.7770265   4027.55266729   442.43165179\n",
      "    34.82503014  6008.9636168   6346.15255733  4036.77617769]\n"
     ]
    }
   ],
   "source": [
    "print(np.var(X_treino, axis=0))"
   ]
  },
  {
   "cell_type": "code",
   "execution_count": 59,
   "metadata": {},
   "outputs": [
    {
     "name": "stdout",
     "output_type": "stream",
     "text": [
      "[10770.74958349  7408.6911961   4518.19441951   570.45844238\n",
      "    41.39457577  5752.27639506  6964.8053737   3533.49929305]\n"
     ]
    }
   ],
   "source": [
    "print(np.var(X_teste, axis=0))"
   ]
  },
  {
   "cell_type": "markdown",
   "metadata": {},
   "source": [
    "Todas as oitos colunas dos atributos possuem variância diferente de zero. Então ao aplicar VarianceThreshold espera-se que isso não interefirá em nada."
   ]
  },
  {
   "cell_type": "code",
   "execution_count": 60,
   "metadata": {},
   "outputs": [
    {
     "name": "stdout",
     "output_type": "stream",
     "text": [
      "[[ 233.81    0.     94.58 ...  947.04  852.16  100.  ]\n",
      " [ 310.      0.      0.   ... 1012.    830.      3.  ]\n",
      " [ 122.6   183.9     0.   ...  958.2   800.1     7.  ]\n",
      " ...\n",
      " [ 184.     86.    190.   ...  923.    623.     28.  ]\n",
      " [ 525.      0.      0.   ... 1125.    613.      3.  ]\n",
      " [ 425.    106.3     0.   ...  852.1   887.1     7.  ]]\n",
      "-=--=--=--=--=--=--=--=--=--=--=--=--=--=--=--=--=--=--=--=-\n",
      "[[ 233.81    0.     94.58 ...  947.04  852.16  100.  ]\n",
      " [ 310.      0.      0.   ... 1012.    830.      3.  ]\n",
      " [ 122.6   183.9     0.   ...  958.2   800.1     7.  ]\n",
      " ...\n",
      " [ 184.     86.    190.   ...  923.    623.     28.  ]\n",
      " [ 525.      0.      0.   ... 1125.    613.      3.  ]\n",
      " [ 425.    106.3     0.   ...  852.1   887.1     7.  ]]\n"
     ]
    }
   ],
   "source": [
    "from sklearn.feature_selection import VarianceThreshold\n",
    "\n",
    "seletor_limiar_variancia = VarianceThreshold()\n",
    "\n",
    "seletor_limiar_variancia.fit(X_treino)\n",
    "\n",
    "X_treino_limiar_variancia = seletor_limiar_variancia.transform(X_treino)\n",
    "\n",
    "print(X_treino_limiar_variancia)\n",
    "print('-=-'*20)\n",
    "print(X_treino)"
   ]
  },
  {
   "cell_type": "markdown",
   "metadata": {},
   "source": [
    "Dessa forma, a seleção de atributo pelo limiar da variância pouco nos ajudou, pois os dados que possuimos possuem alta variância, e não é possível selecionar os dados com esse método."
   ]
  },
  {
   "cell_type": "markdown",
   "metadata": {},
   "source": [
    "## <center>Seleção de atributos por remoção recursiva de atributos (RFE)</center>\n"
   ]
  },
  {
   "cell_type": "markdown",
   "metadata": {},
   "source": [
    "####  1. Modelo Linear Múltiplo usando RFE:"
   ]
  },
  {
   "cell_type": "markdown",
   "metadata": {},
   "source": [
    "Usando o método RFE de seleção de atributos para o modelo de regressão linear múltipla foi visivelmente não muito útil para aprimorar o modelo, visto que o RMSE se manteve quase o mesmo, e nunca foi inferior ao RMSE do modelo linear múltiplo usando todas as colunas de target, isto é, as 8 colunas."
   ]
  },
  {
   "cell_type": "code",
   "execution_count": 61,
   "metadata": {},
   "outputs": [
    {
     "name": "stdout",
     "output_type": "stream",
     "text": [
      "Número de atributos selecionados: 1\n",
      "Colunas selecionadas: [False False False False  True False False False]\n",
      "Ordenação (rank) dos atributos: [4 5 6 2 1 7 8 3]\n",
      "O RMSE do modelo com 1 atributos foi de 16.581191582119107 unidades de y.\n",
      "-=--=--=--=--=--=--=--=--=--=--=--=--=--=--=--=--=--=--=--=-\n",
      "Número de atributos selecionados: 2\n",
      "Colunas selecionadas: [False False False  True  True False False False]\n",
      "Ordenação (rank) dos atributos: [3 4 5 1 1 6 7 2]\n",
      "O RMSE do modelo com 2 atributos foi de 16.452734046312564 unidades de y.\n",
      "-=--=--=--=--=--=--=--=--=--=--=--=--=--=--=--=--=--=--=--=-\n",
      "Número de atributos selecionados: 3\n",
      "Colunas selecionadas: [False False False  True  True False False  True]\n",
      "Ordenação (rank) dos atributos: [2 3 4 1 1 5 6 1]\n",
      "O RMSE do modelo com 3 atributos foi de 14.916202004427037 unidades de y.\n",
      "-=--=--=--=--=--=--=--=--=--=--=--=--=--=--=--=--=--=--=--=-\n",
      "Número de atributos selecionados: 4\n",
      "Colunas selecionadas: [ True False False  True  True False False  True]\n",
      "Ordenação (rank) dos atributos: [1 2 3 1 1 4 5 1]\n",
      "O RMSE do modelo com 4 atributos foi de 13.760339234330369 unidades de y.\n",
      "-=--=--=--=--=--=--=--=--=--=--=--=--=--=--=--=--=--=--=--=-\n",
      "Número de atributos selecionados: 5\n",
      "Colunas selecionadas: [ True  True False  True  True False False  True]\n",
      "Ordenação (rank) dos atributos: [1 1 2 1 1 3 4 1]\n",
      "O RMSE do modelo com 5 atributos foi de 11.96514370553767 unidades de y.\n",
      "-=--=--=--=--=--=--=--=--=--=--=--=--=--=--=--=--=--=--=--=-\n",
      "Número de atributos selecionados: 6\n",
      "Colunas selecionadas: [ True  True  True  True  True False False  True]\n",
      "Ordenação (rank) dos atributos: [1 1 1 1 1 2 3 1]\n",
      "O RMSE do modelo com 6 atributos foi de 11.280027303266808 unidades de y.\n",
      "-=--=--=--=--=--=--=--=--=--=--=--=--=--=--=--=--=--=--=--=-\n",
      "Número de atributos selecionados: 7\n",
      "Colunas selecionadas: [ True  True  True  True  True  True False  True]\n",
      "Ordenação (rank) dos atributos: [1 1 1 1 1 1 2 1]\n",
      "O RMSE do modelo com 7 atributos foi de 11.31265227637275 unidades de y.\n",
      "-=--=--=--=--=--=--=--=--=--=--=--=--=--=--=--=--=--=--=--=-\n",
      "Número de atributos selecionados: 8\n",
      "Colunas selecionadas: [ True  True  True  True  True  True  True  True]\n",
      "Ordenação (rank) dos atributos: [1 1 1 1 1 1 1 1]\n",
      "O RMSE do modelo com 8 atributos foi de 11.224097009242593 unidades de y.\n",
      "-=--=--=--=--=--=--=--=--=--=--=--=--=--=--=--=--=--=--=--=-\n"
     ]
    }
   ],
   "source": [
    "from sklearn.feature_selection import RFE\n",
    "modelo_linear = LinearRegression()\n",
    "\n",
    "for NUM_ATRIBUTOS_DESEJADOS in range(1, 9):\n",
    "    seletor_remocao_recursiva_de_atributos = RFE(modelo_linear, n_features_to_select=NUM_ATRIBUTOS_DESEJADOS)\n",
    "    seletor_remocao_recursiva_de_atributos.fit(X_treino, Y_treino)\n",
    "\n",
    "    X_treino_remocao_recusiva_de_atributos = seletor_remocao_recursiva_de_atributos.transform(X_treino)\n",
    "    X_teste_remocao_recusiva_de_atributos = seletor_remocao_recursiva_de_atributos.transform(X_teste)\n",
    "\n",
    "    \n",
    "    modelo_linear_regression_pipeline_StandardScaler_RFE = make_pipeline(\n",
    "        StandardScaler(),\n",
    "        LinearRegression()\n",
    "    )\n",
    "    modelo_linear_regression_pipeline_StandardScaler_RFE.fit(X_treino_remocao_recusiva_de_atributos, Y_treino)\n",
    "\n",
    "    \n",
    "    y_previsto_linear_regression_pipeline_StandardScaler_RFE = modelo_linear_regression_pipeline_StandardScaler_RFE.predict(X_teste_remocao_recusiva_de_atributos)\n",
    "\n",
    "    \n",
    "    RMSE_pipeline_linear_regression_StandardScaler_RFE = mean_squared_error(Y_teste, y_previsto_linear_regression_pipeline_StandardScaler_RFE) ** 0.5\n",
    "\n",
    "    # Imprimindo os resultados para o número atual de atributos selecionados\n",
    "    print(f\"Número de atributos selecionados: {NUM_ATRIBUTOS_DESEJADOS}\")\n",
    "    print(f\"Colunas selecionadas: {seletor_remocao_recursiva_de_atributos.support_}\")\n",
    "    print(f\"Ordenação (rank) dos atributos: {seletor_remocao_recursiva_de_atributos.ranking_}\")\n",
    "    print(f\"O RMSE do modelo com {NUM_ATRIBUTOS_DESEJADOS} atributos foi de {RMSE_pipeline_linear_regression_StandardScaler_RFE} unidades de y.\")\n",
    "    print(\"-=-\"*20)"
   ]
  },
  {
   "cell_type": "markdown",
   "metadata": {},
   "source": [
    "####  2. Árvores de Decisão usando RFE:"
   ]
  },
  {
   "cell_type": "markdown",
   "metadata": {},
   "source": [
    "A seleção RFE também pode ser aplicado à árvore de decisão, de forma que as variáveis mais relevantes para realizar previsões são selecionadas, enquanto as menos relevantes não são incluídas no processo. Isso reduz a complexidade e pode aumentar a performance.[9]"
   ]
  },
  {
   "cell_type": "code",
   "execution_count": 62,
   "metadata": {},
   "outputs": [
    {
     "name": "stdout",
     "output_type": "stream",
     "text": [
      "Número de atributos selecionados: 5\n",
      "Colunas selecionadas: [ True  True False  True False  True False  True]\n",
      "Ordenação (rank) dos atributos [1 1 4 1 3 1 2 1]\n"
     ]
    }
   ],
   "source": [
    "from sklearn.feature_selection import RFE\n",
    "from sklearn.tree import DecisionTreeRegressor\n",
    "\n",
    "NUM_ATRIBUTOS_DESEJADOS = 5\n",
    "\n",
    "modelo = DecisionTreeRegressor()\n",
    "\n",
    "seletor = RFE(modelo, n_features_to_select=NUM_ATRIBUTOS_DESEJADOS)\n",
    "seletor.fit(X_treino, Y_treino)\n",
    "\n",
    "X_treino_modificado = seletor.transform(X_treino)\n",
    "X_teste_modificado = seletor.transform(X_teste)\n",
    "\n",
    "print(f\"Número de atributos selecionados: {seletor.n_features_}\")\n",
    "print(f\"Colunas selecionadas: {seletor.support_}\")\n",
    "print(f\"Ordenação (rank) dos atributos {seletor.ranking_}\")"
   ]
  },
  {
   "cell_type": "markdown",
   "metadata": {},
   "source": [
    "Implementação da árvore de decisão com a seleção RFE"
   ]
  },
  {
   "cell_type": "code",
   "execution_count": 63,
   "metadata": {},
   "outputs": [
    {
     "name": "stdout",
     "output_type": "stream",
     "text": [
      "Número de atributos selecionados: 1\n",
      "Colunas selecionadas: [ True False False False False False False False]\n",
      "Ordenação (rank) dos atributos: [1 4 8 3 7 6 5 2]\n",
      "O RMSE do modelo com 1 atributos foi de 15.72725691750373 unidades de y.\n",
      "-=--=--=--=--=--=--=--=--=--=--=--=--=--=--=--=--=--=--=--=-\n",
      "Número de atributos selecionados: 2\n",
      "Colunas selecionadas: [ True False False False False False False  True]\n",
      "Ordenação (rank) dos atributos: [1 3 7 2 6 4 5 1]\n",
      "O RMSE do modelo com 2 atributos foi de 12.274593386686432 unidades de y.\n",
      "-=--=--=--=--=--=--=--=--=--=--=--=--=--=--=--=--=--=--=--=-\n",
      "Número de atributos selecionados: 3\n",
      "Colunas selecionadas: [ True False False  True False False False  True]\n",
      "Ordenação (rank) dos atributos: [1 2 6 1 5 4 3 1]\n",
      "O RMSE do modelo com 3 atributos foi de 8.824397009724708 unidades de y.\n",
      "-=--=--=--=--=--=--=--=--=--=--=--=--=--=--=--=--=--=--=--=-\n",
      "Número de atributos selecionados: 4\n",
      "Colunas selecionadas: [ True  True False  True False False False  True]\n",
      "Ordenação (rank) dos atributos: [1 1 5 1 3 2 4 1]\n",
      "O RMSE do modelo com 4 atributos foi de 6.028669722658187 unidades de y.\n",
      "-=--=--=--=--=--=--=--=--=--=--=--=--=--=--=--=--=--=--=--=-\n",
      "Número de atributos selecionados: 5\n",
      "Colunas selecionadas: [ True  True False  True False  True False  True]\n",
      "Ordenação (rank) dos atributos: [1 1 4 1 3 1 2 1]\n",
      "O RMSE do modelo com 5 atributos foi de 5.932241485237823 unidades de y.\n",
      "-=--=--=--=--=--=--=--=--=--=--=--=--=--=--=--=--=--=--=--=-\n",
      "Número de atributos selecionados: 6\n",
      "Colunas selecionadas: [ True  True False  True False  True  True  True]\n",
      "Ordenação (rank) dos atributos: [1 1 3 1 2 1 1 1]\n",
      "O RMSE do modelo com 6 atributos foi de 6.181593937254306 unidades de y.\n",
      "-=--=--=--=--=--=--=--=--=--=--=--=--=--=--=--=--=--=--=--=-\n",
      "Número de atributos selecionados: 7\n",
      "Colunas selecionadas: [ True  True False  True  True  True  True  True]\n",
      "Ordenação (rank) dos atributos: [1 1 2 1 1 1 1 1]\n",
      "O RMSE do modelo com 7 atributos foi de 5.745775218923665 unidades de y.\n",
      "-=--=--=--=--=--=--=--=--=--=--=--=--=--=--=--=--=--=--=--=-\n",
      "Número de atributos selecionados: 8\n",
      "Colunas selecionadas: [ True  True  True  True  True  True  True  True]\n",
      "Ordenação (rank) dos atributos: [1 1 1 1 1 1 1 1]\n",
      "O RMSE do modelo com 8 atributos foi de 6.521867604471824 unidades de y.\n",
      "-=--=--=--=--=--=--=--=--=--=--=--=--=--=--=--=--=--=--=--=-\n"
     ]
    }
   ],
   "source": [
    "from sklearn.tree import DecisionTreeRegressor\n",
    "from sklearn.feature_selection import RFE\n",
    "from sklearn.pipeline import make_pipeline\n",
    "from sklearn.preprocessing import StandardScaler\n",
    "from sklearn.metrics import mean_squared_error\n",
    "modelo_arvore_decisao = DecisionTreeRegressor()\n",
    "\n",
    "for NUM_ATRIBUTOS_DESEJADOS in range(1, 9):\n",
    "    seletor_remocao_recursiva_de_atributos = RFE(modelo_arvore_decisao, n_features_to_select=NUM_ATRIBUTOS_DESEJADOS)\n",
    "    seletor_remocao_recursiva_de_atributos.fit(X_treino, Y_treino)\n",
    "\n",
    "    X_treino_remocao_recursiva_de_atributos = seletor_remocao_recursiva_de_atributos.transform(X_treino)\n",
    "    X_teste_remocao_recursiva_de_atributos = seletor_remocao_recursiva_de_atributos.transform(X_teste)\n",
    "    modelo_arvore_decisao_pipeline = make_pipeline(\n",
    "        StandardScaler(),\n",
    "        DecisionTreeRegressor()\n",
    "    )\n",
    "    modelo_arvore_decisao_pipeline.fit(X_treino_remocao_recursiva_de_atributos, Y_treino)\n",
    "\n",
    "    y_previsto_arvore_decisao = modelo_arvore_decisao_pipeline.predict(X_teste_remocao_recursiva_de_atributos)\n",
    "    \n",
    "    RMSE_arvore_decisao = mean_squared_error(Y_teste, y_previsto_arvore_decisao) ** 0.5\n",
    "\n",
    "    print(f\"Número de atributos selecionados: {NUM_ATRIBUTOS_DESEJADOS}\")\n",
    "    print(f\"Colunas selecionadas: {seletor_remocao_recursiva_de_atributos.support_}\")\n",
    "    print(f\"Ordenação (rank) dos atributos: {seletor_remocao_recursiva_de_atributos.ranking_}\")\n",
    "    print(f\"O RMSE do modelo com {NUM_ATRIBUTOS_DESEJADOS} atributos foi de {RMSE_arvore_decisao} unidades de y.\")\n",
    "    print(\"-=-\"*20)\n"
   ]
  },
  {
   "cell_type": "markdown",
   "metadata": {},
   "source": [
    "### Conclusão \n",
    "\n",
    "À medida que mais atributos são selecionados, o RMSE diminui, alcançando o valor mais baixo de 6.03 quando 4 atributos são escolhidos, o que sugere que esse conjunto de atributos proporciona o melhor equilíbrio entre precisão e complexidade do modelo. Com 5 atributos, por exemplo, o RMSE aumenta ligeiramente para 7.58, indicando que a inclusão de mais atributos não melhora substancialmente a performance do modelo e pode até introduzir algum ruído. "
   ]
  },
  {
   "cell_type": "markdown",
   "metadata": {},
   "source": [
    "## <center>Seleção de atributos pelo fator de inflação de variância (VIF)</center>\n",
    "\n",
    "O VIF (Variance Inflation Factor, ou Fator de Inflação de Variância) é uma medida estatística utilizada para detectar multicolinearidade em modelos de regressão linear. Ele indica o quanto a variância de um coeficiente de regressão está inflacionada devido à correlação entre os preditores (variáveis independentes) do modelo.\n",
    "\n",
    "Como o VIF é calculado?\n",
    "\n",
    "O VIF para uma variável $X_i$ é calculado a partir da regressão de $X_i$ sobre todas as outras variáveis preditoras no modelo ​sobre todas as outras variáveis preditoras no modelo. A fórmula do VIF é:\n",
    "\n",
    "$$\n",
    "VIF(X_i) = \\frac{1}{1 - R_i^2}\n",
    "$$\n",
    "\n",
    "Onde, $R_i^2$ é o coeficiente de determinação da regressão de $X_i$  sobre as outras variáveis."
   ]
  },
  {
   "cell_type": "code",
   "execution_count": 64,
   "metadata": {},
   "outputs": [],
   "source": [
    "from sklearn.linear_model import LinearRegression\n",
    "\n",
    "\n",
    "def selecao_vif(df_atributos, limiar_vif):\n",
    "    \"\"\"Realiza a seleção de atributos por VIF.\n",
    "\n",
    "    Args:\n",
    "      df_atributos: DataFrame contendo os atributos.\n",
    "      limiar_vf: valor do limiar do vif. Número positivo. Usualmente é 5 ou 10.\n",
    "\n",
    "    Returns:\n",
    "      DataFrame com os atributos selecionados.\n",
    "\n",
    "    \"\"\"\n",
    "    df = df_atributos.copy()\n",
    "\n",
    "    while True:\n",
    "        VIFs = []\n",
    "\n",
    "        for col in df.columns:\n",
    "            X = df.drop(col, axis=1).values\n",
    "            y = df[col].values\n",
    "\n",
    "            r_quadrado = LinearRegression().fit(X, y).score(X, y)\n",
    "\n",
    "            if r_quadrado != 1:\n",
    "                VIF = 1 / (1 - r_quadrado)\n",
    "            else:\n",
    "                VIF = float(\"inf\")\n",
    "\n",
    "            VIFs.append(VIF)\n",
    "\n",
    "        VIF_maximo = max(VIFs)\n",
    "\n",
    "        if VIF_maximo > limiar_vif:\n",
    "            indice = VIFs.index(VIF_maximo)\n",
    "            coluna_remocao = df.columns[indice]\n",
    "            df = df.drop(coluna_remocao, axis=1)\n",
    "\n",
    "        else:\n",
    "            break\n",
    "\n",
    "    return df"
   ]
  },
  {
   "cell_type": "markdown",
   "metadata": {},
   "source": [
    "Agora, precisamos retirar a coluna que o VIF considerou menos importante, tanto do X_treino como do X_teste:"
   ]
  },
  {
   "cell_type": "code",
   "execution_count": 65,
   "metadata": {},
   "outputs": [
    {
     "name": "stdout",
     "output_type": "stream",
     "text": [
      "        1      2       3      4        5       6      7\n",
      "0    0.00  94.58  197.89  4.567   947.04  852.16  100.0\n",
      "1    0.00   0.00  192.00  0.000  1012.00  830.00    3.0\n",
      "2  183.90   0.00  203.50  0.000   958.20  800.10    7.0\n",
      "3   98.05  24.51  181.71  6.860  1065.80  785.38   56.0\n",
      "4  115.00  89.00  202.00  9.000   860.00  829.00   28.0\n",
      "       1       2       3     4       5       6     7\n",
      "0  145.0    0.00  178.50  8.00   867.2  824.00  28.0\n",
      "1    0.0  121.62  173.96  6.72  1056.4  778.45   3.0\n",
      "2    0.0    0.00  192.00  0.00   940.6  785.60   3.0\n",
      "3   26.0  123.00  201.00  3.93   822.0  699.00  28.0\n",
      "4    0.0    0.00  194.00  0.00   968.0  885.00  90.0\n"
     ]
    }
   ],
   "source": [
    "LIMIAR_VIF = 5\n",
    "X_treino_modificado_VIF = pd.DataFrame(X_treino)\n",
    "X_teste_modificado_VIF = pd.DataFrame(X_teste)\n",
    "\n",
    "X_treino_modificado_VIF_MODELO = selecao_vif(X_treino_modificado_VIF, LIMIAR_VIF)\n",
    "\n",
    "X_teste_modificado_VIF_MODELO = X_teste_modificado_VIF[X_treino_modificado_VIF_MODELO.columns]\n",
    "\n",
    "\n",
    "print(X_treino_modificado_VIF_MODELO.head())\n",
    "print(X_teste_modificado_VIF_MODELO.head())"
   ]
  },
  {
   "cell_type": "markdown",
   "metadata": {},
   "source": [
    "Agora vamos aplicar a regressão linear com essas 7 colunas usando pipeline, e ainda usando StandardScaler:"
   ]
  },
  {
   "cell_type": "code",
   "execution_count": 66,
   "metadata": {},
   "outputs": [
    {
     "name": "stdout",
     "output_type": "stream",
     "text": [
      "O RMSE do modelo foi de 12.91285243195619 unidades de y.\n",
      "O modelo tem intercepto? True\n",
      "Valor do intercepto: 35.45374408923085\n",
      "O valor de R² do modelo é: 0.468249011478572\n"
     ]
    }
   ],
   "source": [
    "from sklearn.pipeline import make_pipeline\n",
    "from sklearn.preprocessing import StandardScaler\n",
    "from sklearn.linear_model import LinearRegression\n",
    "\n",
    "modelo_linear_regression_pipeline_StandardScaler_VIF = make_pipeline(\n",
    "    StandardScaler(),\n",
    "    LinearRegression(),\n",
    ")\n",
    "\n",
    "modelo_linear_regression_pipeline_StandardScaler_VIF.fit(X_treino_modificado_VIF_MODELO, Y_treino)\n",
    "\n",
    "y_previsto_linear_regression_pipeline_StandardScaler_VIF = modelo_linear_regression_pipeline_StandardScaler_VIF.predict(X_teste_modificado_VIF_MODELO)\n",
    "\n",
    "RMSE_pipeline_linear_regression_StandardScaler_VIF = mean_squared_error(y_verdadeiro, y_previsto_linear_regression_pipeline_StandardScaler_VIF) ** (1/2)\n",
    "\n",
    "print(f\"O RMSE do modelo foi de {RMSE_pipeline_linear_regression_StandardScaler_VIF} unidades de y.\")\n",
    "\n",
    "modelo_linear_StandardScaler_VIF = modelo_linear_regression_pipeline_StandardScaler_VIF.named_steps['linearregression']\n",
    "\n",
    "print(f\"O modelo tem intercepto? {modelo_linear_StandardScaler_VIF.fit_intercept}\")\n",
    "print(f\"Valor do intercepto: {modelo_linear_StandardScaler_VIF.intercept_}\")\n",
    "\n",
    "if modelo_linear_StandardScaler_VIF.intercept_ != 0:\n",
    "    R2_MODELO_LINEAR_MULTIPLO_StandardScaler_VIF = r2_score(Y_teste, y_previsto_linear_regression_pipeline_StandardScaler_VIF)\n",
    "    print(f\"O valor de R² do modelo é: {R2_MODELO_LINEAR_MULTIPLO_StandardScaler_VIF}\")"
   ]
  },
  {
   "cell_type": "markdown",
   "metadata": {},
   "source": [
    "Se alcançou um RMSE elevado quando comparado ao usar 7 colunas usando o método REF que alcançou um RMSE de aproximadamente 11, enquanto usando o VIF resltou em 12."
   ]
  },
  {
   "cell_type": "markdown",
   "metadata": {},
   "source": [
    "---------\n",
    "\n",
    "### <center> PCA </center>"
   ]
  },
  {
   "cell_type": "markdown",
   "metadata": {},
   "source": [
    "### Árvore de decisão"
   ]
  },
  {
   "cell_type": "markdown",
   "metadata": {},
   "source": [
    "De acordo com a IBM, \"a análise de componentes principais (PCA) reduz o número de dimensões em grandes conjuntos de dados para os componentes principais que retêm a maior parte das informações originais. Ela faz isso transformando variáveis potencialmente correlacionadas em um conjunto menor de variáveis, chamadas componentes principais\". Tendo isso em vista, aplicamos uma redução de dimensionalidade em um algoritmo de árvore de decisão a fim de avaliar a performance com esses dois processos.[8]"
   ]
  },
  {
   "cell_type": "markdown",
   "metadata": {},
   "source": [
    "Determinação da variância explicada"
   ]
  },
  {
   "cell_type": "code",
   "execution_count": 67,
   "metadata": {},
   "outputs": [
    {
     "name": "stdout",
     "output_type": "stream",
     "text": [
      "Variância explicada:\n",
      "   PC1: 0.32845878900483577\n",
      "   PC2: 0.24755517030958785\n",
      "   PC3: 0.18304145729241353\n",
      "   PC4: 0.1058817202242904\n",
      "   PC5: 0.10343086997153027\n",
      "   PC6: 0.02950660144860714\n",
      "   PC7: 0.0018385630209134386\n",
      "   PC8: 0.0002868287278215381\n"
     ]
    }
   ],
   "source": [
    "from sklearn.decomposition import PCA\n",
    "pca = PCA()\n",
    "pca.fit(X_treino)\n",
    "\n",
    "variancia_explicada = pca.explained_variance_ratio_\n",
    "\n",
    "print(\"Variância explicada:\")\n",
    "for i, var_expl in enumerate(variancia_explicada):\n",
    "    print(f\"   PC{i+1}:\", var_expl)"
   ]
  },
  {
   "cell_type": "markdown",
   "metadata": {},
   "source": [
    "Visualização dos principais componentes por meio de um DataFrame"
   ]
  },
  {
   "cell_type": "code",
   "execution_count": 68,
   "metadata": {},
   "outputs": [
    {
     "data": {
      "text/html": [
       "<div>\n",
       "<style scoped>\n",
       "    .dataframe tbody tr th:only-of-type {\n",
       "        vertical-align: middle;\n",
       "    }\n",
       "\n",
       "    .dataframe tbody tr th {\n",
       "        vertical-align: top;\n",
       "    }\n",
       "\n",
       "    .dataframe thead th {\n",
       "        text-align: right;\n",
       "    }\n",
       "</style>\n",
       "<table border=\"1\" class=\"dataframe\">\n",
       "  <thead>\n",
       "    <tr style=\"text-align: right;\">\n",
       "      <th></th>\n",
       "      <th>PC1</th>\n",
       "      <th>PC2</th>\n",
       "      <th>PC3</th>\n",
       "      <th>PC4</th>\n",
       "      <th>PC5</th>\n",
       "      <th>PC6</th>\n",
       "      <th>PC7</th>\n",
       "      <th>PC8</th>\n",
       "    </tr>\n",
       "  </thead>\n",
       "  <tbody>\n",
       "    <tr>\n",
       "      <th>0</th>\n",
       "      <td>-45.929960</td>\n",
       "      <td>-96.915415</td>\n",
       "      <td>47.787327</td>\n",
       "      <td>16.858918</td>\n",
       "      <td>74.079993</td>\n",
       "      <td>8.235033</td>\n",
       "      <td>13.730166</td>\n",
       "      <td>-2.166715</td>\n",
       "    </tr>\n",
       "    <tr>\n",
       "      <th>1</th>\n",
       "      <td>42.010651</td>\n",
       "      <td>-78.911495</td>\n",
       "      <td>11.558152</td>\n",
       "      <td>-70.135510</td>\n",
       "      <td>-29.745072</td>\n",
       "      <td>41.665640</td>\n",
       "      <td>4.532725</td>\n",
       "      <td>0.197782</td>\n",
       "    </tr>\n",
       "    <tr>\n",
       "      <th>2</th>\n",
       "      <td>-170.038333</td>\n",
       "      <td>87.455891</td>\n",
       "      <td>15.312433</td>\n",
       "      <td>-63.925608</td>\n",
       "      <td>-16.811537</td>\n",
       "      <td>44.183366</td>\n",
       "      <td>2.185790</td>\n",
       "      <td>0.095671</td>\n",
       "    </tr>\n",
       "    <tr>\n",
       "      <th>3</th>\n",
       "      <td>-61.489960</td>\n",
       "      <td>-3.260258</td>\n",
       "      <td>-72.439825</td>\n",
       "      <td>-71.920083</td>\n",
       "      <td>10.323150</td>\n",
       "      <td>-5.324644</td>\n",
       "      <td>4.297035</td>\n",
       "      <td>-4.678016</td>\n",
       "    </tr>\n",
       "    <tr>\n",
       "      <th>4</th>\n",
       "      <td>-156.275192</td>\n",
       "      <td>20.347598</td>\n",
       "      <td>101.995562</td>\n",
       "      <td>41.470227</td>\n",
       "      <td>11.896716</td>\n",
       "      <td>33.653900</td>\n",
       "      <td>1.975492</td>\n",
       "      <td>-3.904117</td>\n",
       "    </tr>\n",
       "    <tr>\n",
       "      <th>...</th>\n",
       "      <td>...</td>\n",
       "      <td>...</td>\n",
       "      <td>...</td>\n",
       "      <td>...</td>\n",
       "      <td>...</td>\n",
       "      <td>...</td>\n",
       "      <td>...</td>\n",
       "      <td>...</td>\n",
       "    </tr>\n",
       "    <tr>\n",
       "      <th>922</th>\n",
       "      <td>144.727484</td>\n",
       "      <td>-38.538104</td>\n",
       "      <td>-34.920013</td>\n",
       "      <td>-31.828353</td>\n",
       "      <td>-25.837284</td>\n",
       "      <td>24.670645</td>\n",
       "      <td>-0.532077</td>\n",
       "      <td>2.612425</td>\n",
       "    </tr>\n",
       "    <tr>\n",
       "      <th>923</th>\n",
       "      <td>23.946591</td>\n",
       "      <td>217.538259</td>\n",
       "      <td>-124.310275</td>\n",
       "      <td>-22.895034</td>\n",
       "      <td>-82.503363</td>\n",
       "      <td>-37.349831</td>\n",
       "      <td>2.503718</td>\n",
       "      <td>-1.681636</td>\n",
       "    </tr>\n",
       "    <tr>\n",
       "      <th>924</th>\n",
       "      <td>-91.487107</td>\n",
       "      <td>47.179638</td>\n",
       "      <td>-69.064021</td>\n",
       "      <td>195.690931</td>\n",
       "      <td>-18.393163</td>\n",
       "      <td>26.585000</td>\n",
       "      <td>2.686149</td>\n",
       "      <td>-0.006920</td>\n",
       "    </tr>\n",
       "    <tr>\n",
       "      <th>925</th>\n",
       "      <td>286.283107</td>\n",
       "      <td>-0.592059</td>\n",
       "      <td>-166.265006</td>\n",
       "      <td>-9.364370</td>\n",
       "      <td>-86.848761</td>\n",
       "      <td>0.929582</td>\n",
       "      <td>11.898073</td>\n",
       "      <td>0.763513</td>\n",
       "    </tr>\n",
       "    <tr>\n",
       "      <th>926</th>\n",
       "      <td>102.310481</td>\n",
       "      <td>21.579425</td>\n",
       "      <td>198.165822</td>\n",
       "      <td>-48.288586</td>\n",
       "      <td>-39.026197</td>\n",
       "      <td>-35.580737</td>\n",
       "      <td>-0.676451</td>\n",
       "      <td>-2.823342</td>\n",
       "    </tr>\n",
       "  </tbody>\n",
       "</table>\n",
       "<p>927 rows × 8 columns</p>\n",
       "</div>"
      ],
      "text/plain": [
       "            PC1         PC2         PC3         PC4        PC5        PC6  \\\n",
       "0    -45.929960  -96.915415   47.787327   16.858918  74.079993   8.235033   \n",
       "1     42.010651  -78.911495   11.558152  -70.135510 -29.745072  41.665640   \n",
       "2   -170.038333   87.455891   15.312433  -63.925608 -16.811537  44.183366   \n",
       "3    -61.489960   -3.260258  -72.439825  -71.920083  10.323150  -5.324644   \n",
       "4   -156.275192   20.347598  101.995562   41.470227  11.896716  33.653900   \n",
       "..          ...         ...         ...         ...        ...        ...   \n",
       "922  144.727484  -38.538104  -34.920013  -31.828353 -25.837284  24.670645   \n",
       "923   23.946591  217.538259 -124.310275  -22.895034 -82.503363 -37.349831   \n",
       "924  -91.487107   47.179638  -69.064021  195.690931 -18.393163  26.585000   \n",
       "925  286.283107   -0.592059 -166.265006   -9.364370 -86.848761   0.929582   \n",
       "926  102.310481   21.579425  198.165822  -48.288586 -39.026197 -35.580737   \n",
       "\n",
       "           PC7       PC8  \n",
       "0    13.730166 -2.166715  \n",
       "1     4.532725  0.197782  \n",
       "2     2.185790  0.095671  \n",
       "3     4.297035 -4.678016  \n",
       "4     1.975492 -3.904117  \n",
       "..         ...       ...  \n",
       "922  -0.532077  2.612425  \n",
       "923   2.503718 -1.681636  \n",
       "924   2.686149 -0.006920  \n",
       "925  11.898073  0.763513  \n",
       "926  -0.676451 -2.823342  \n",
       "\n",
       "[927 rows x 8 columns]"
      ]
     },
     "execution_count": 68,
     "metadata": {},
     "output_type": "execute_result"
    }
   ],
   "source": [
    "X_PCA = pca.transform(X_treino)\n",
    "\n",
    "nomes_componentes = [f\"PC{i+1}\" for i in range(8)]\n",
    "df_pca = pd.DataFrame(X_PCA, columns=nomes_componentes)\n",
    "\n",
    "df_pca"
   ]
  },
  {
   "cell_type": "markdown",
   "metadata": {},
   "source": [
    "O código cria gráficos para visualizar a variância explicada por componentes em uma Análise de Componentes Principais (PCA). Aqui, definimos o limite de variância acumulada de 90%, geramos uma lista com os nomes dos componentes principais, e organizamos a variância explicada em DataFrames. Dois gráficos foram plotados: um de barras mostrando a variância explicada por componente e um de linha com a variância acumulada, indicando o limite de 90%."
   ]
  },
  {
   "cell_type": "code",
   "execution_count": 69,
   "metadata": {},
   "outputs": [
    {
     "data": {
      "image/png": "[encoded data removed]",
      "text/plain": [
       "<Figure size 1000x400 with 2 Axes>"
      ]
     },
     "metadata": {},
     "output_type": "display_data"
    }
   ],
   "source": [
    "import seaborn as sns\n",
    "import numpy as np\n",
    "import matplotlib.pyplot as plt\n",
    "\n",
    "LIMIAR_DE_VARIANCIA = 0.9\n",
    "\n",
    "nomes_componentes = [f\"PC{i+1}\" for i in range(X_treino.shape[1])]\n",
    "\n",
    "df1 = pd.DataFrame({\n",
    "    \"Componentes principais\": nomes_componentes,\n",
    "    \"Variância explicada\": variancia_explicada,\n",
    "})\n",
    "\n",
    "df2 = pd.DataFrame({\n",
    "    \"Número de componentes\": np.arange(len(nomes_componentes) + 1),\n",
    "    \"Variância acumulada\": np.r_[0, np.cumsum(variancia_explicada)],\n",
    "})\n",
    "\n",
    "figura, eixos = plt.subplots(1, 2, figsize=(10, 4))\n",
    "\n",
    "sns.barplot(\n",
    "    df1,\n",
    "    x=\"Componentes principais\",\n",
    "    y=\"Variância explicada\",\n",
    "    ax=eixos[0],\n",
    ")\n",
    "eixos[0].set(ylim=(0.0, 1.0))\n",
    "\n",
    "sns.lineplot(\n",
    "    df2,\n",
    "    x=\"Número de componentes\",\n",
    "    y=\"Variância acumulada\",\n",
    "    ax=eixos[1],\n",
    "    marker=\"o\",\n",
    ")\n",
    "eixos[1].set(ylim=(0.0, 1.0))\n",
    "eixos[1].axhline(LIMIAR_DE_VARIANCIA, linestyle=\"--\", color=\"red\");"
   ]
  },
  {
   "cell_type": "markdown",
   "metadata": {},
   "source": [
    "Reduzimos o código de X_treino a 5 dimensões. Ele ajusta o modelo PCA aos dados, calculando autovalores (variância explicada por componente) e autovetores (direções dos novos eixos principais). Por fim, exibe esses valores, os quais indicam a quantidade de variância capturada por cada componente e a contribuição das variáveis originais na nova representação dos dados."
   ]
  },
  {
   "cell_type": "code",
   "execution_count": 70,
   "metadata": {},
   "outputs": [
    {
     "name": "stdout",
     "output_type": "stream",
     "text": [
      "Autovalores:\n",
      " [12910.26887628  9730.30382318  7194.55380175  4161.74425206\n",
      "  4065.41211908]\n",
      "\n",
      "Autovetores:\n",
      " [[ 0.90223879  0.03810084  0.17352929  0.00354444 -0.14371132]\n",
      " [-0.26872676  0.78795702  0.06792108 -0.18307831 -0.12598437]\n",
      " [-0.23406018 -0.30368204 -0.05310687  0.70222539 -0.10073155]\n",
      " [ 0.00665323  0.07175337 -0.03054206  0.06750776  0.10570115]\n",
      " [-0.00189859 -0.00428077  0.02197729  0.02293351 -0.02134763]\n",
      " [ 0.01326744 -0.25672222 -0.78083098 -0.45225834 -0.11061982]\n",
      " [-0.22493942 -0.45784621  0.5852059  -0.51298065  0.06169868]\n",
      " [ 0.09025122  0.06894175 -0.09420826  0.02406797  0.9621103 ]]\n"
     ]
    }
   ],
   "source": [
    "from sklearn.decomposition import PCA\n",
    "\n",
    "NUM_DIMENSOES = 5\n",
    "\n",
    "pca = PCA(NUM_DIMENSOES)\n",
    "pca.fit(X_treino)\n",
    "\n",
    "autovalores = pca.explained_variance_\n",
    "autovetores = pca.components_.T\n",
    "\n",
    "print(\"Autovalores:\\n\", autovalores)\n",
    "print()\n",
    "print(\"Autovetores:\\n\", autovetores)"
   ]
  },
  {
   "cell_type": "markdown",
   "metadata": {},
   "source": [
    "Criamos, em seguida, uma pipeline que estandariza os dados, reduz a dimensionalidade usando PCA para 5 componentes principais e aplica um regressor de árvore de decisão para prever \"Y_treino\""
   ]
  },
  {
   "cell_type": "code",
   "execution_count": 71,
   "metadata": {},
   "outputs": [
    {
     "data": {
      "text/html": [
       "<style>#sk-container-id-1 {color: black;}#sk-container-id-1 pre{padding: 0;}#sk-container-id-1 div.sk-toggleable {background-color: white;}#sk-container-id-1 label.sk-toggleable__label {cursor: pointer;display: block;width: 100%;margin-bottom: 0;padding: 0.3em;box-sizing: border-box;text-align: center;}#sk-container-id-1 label.sk-toggleable__label-arrow:before {content: \"▸\";float: left;margin-right: 0.25em;color: #696969;}#sk-container-id-1 label.sk-toggleable__label-arrow:hover:before {color: black;}#sk-container-id-1 div.sk-estimator:hover label.sk-toggleable__label-arrow:before {color: black;}#sk-container-id-1 div.sk-toggleable__content {max-height: 0;max-width: 0;overflow: hidden;text-align: left;background-color: #f0f8ff;}#sk-container-id-1 div.sk-toggleable__content pre {margin: 0.2em;color: black;border-radius: 0.25em;background-color: #f0f8ff;}#sk-container-id-1 input.sk-toggleable__control:checked~div.sk-toggleable__content {max-height: 200px;max-width: 100%;overflow: auto;}#sk-container-id-1 input.sk-toggleable__control:checked~label.sk-toggleable__label-arrow:before {content: \"▾\";}#sk-container-id-1 div.sk-estimator input.sk-toggleable__control:checked~label.sk-toggleable__label {background-color: #d4ebff;}#sk-container-id-1 div.sk-label input.sk-toggleable__control:checked~label.sk-toggleable__label {background-color: #d4ebff;}#sk-container-id-1 input.sk-hidden--visually {border: 0;clip: rect(1px 1px 1px 1px);clip: rect(1px, 1px, 1px, 1px);height: 1px;margin: -1px;overflow: hidden;padding: 0;position: absolute;width: 1px;}#sk-container-id-1 div.sk-estimator {font-family: monospace;background-color: #f0f8ff;border: 1px dotted black;border-radius: 0.25em;box-sizing: border-box;margin-bottom: 0.5em;}#sk-container-id-1 div.sk-estimator:hover {background-color: #d4ebff;}#sk-container-id-1 div.sk-parallel-item::after {content: \"\";width: 100%;border-bottom: 1px solid gray;flex-grow: 1;}#sk-container-id-1 div.sk-label:hover label.sk-toggleable__label {background-color: #d4ebff;}#sk-container-id-1 div.sk-serial::before {content: \"\";position: absolute;border-left: 1px solid gray;box-sizing: border-box;top: 0;bottom: 0;left: 50%;z-index: 0;}#sk-container-id-1 div.sk-serial {display: flex;flex-direction: column;align-items: center;background-color: white;padding-right: 0.2em;padding-left: 0.2em;position: relative;}#sk-container-id-1 div.sk-item {position: relative;z-index: 1;}#sk-container-id-1 div.sk-parallel {display: flex;align-items: stretch;justify-content: center;background-color: white;position: relative;}#sk-container-id-1 div.sk-item::before, #sk-container-id-1 div.sk-parallel-item::before {content: \"\";position: absolute;border-left: 1px solid gray;box-sizing: border-box;top: 0;bottom: 0;left: 50%;z-index: -1;}#sk-container-id-1 div.sk-parallel-item {display: flex;flex-direction: column;z-index: 1;position: relative;background-color: white;}#sk-container-id-1 div.sk-parallel-item:first-child::after {align-self: flex-end;width: 50%;}#sk-container-id-1 div.sk-parallel-item:last-child::after {align-self: flex-start;width: 50%;}#sk-container-id-1 div.sk-parallel-item:only-child::after {width: 0;}#sk-container-id-1 div.sk-dashed-wrapped {border: 1px dashed gray;margin: 0 0.4em 0.5em 0.4em;box-sizing: border-box;padding-bottom: 0.4em;background-color: white;}#sk-container-id-1 div.sk-label label {font-family: monospace;font-weight: bold;display: inline-block;line-height: 1.2em;}#sk-container-id-1 div.sk-label-container {text-align: center;}#sk-container-id-1 div.sk-container {/* jupyter's `normalize.less` sets `[hidden] { display: none; }` but bootstrap.min.css set `[hidden] { display: none !important; }` so we also need the `!important` here to be able to override the default hidden behavior on the sphinx rendered scikit-learn.org. See: https://github.com/scikit-learn/scikit-learn/issues/21755 */display: inline-block !important;position: relative;}#sk-container-id-1 div.sk-text-repr-fallback {display: none;}</style><div id=\"sk-container-id-1\" class=\"sk-top-container\"><div class=\"sk-text-repr-fallback\"><pre>Pipeline(steps=[(&#x27;standardscaler&#x27;, StandardScaler()),\n",
       "                (&#x27;pca&#x27;, PCA(n_components=5)),\n",
       "                (&#x27;decisiontreeregressor&#x27;,\n",
       "                 DecisionTreeRegressor(random_state=42))])</pre><b>In a Jupyter environment, please rerun this cell to show the HTML representation or trust the notebook. <br />On GitHub, the HTML representation is unable to render, please try loading this page with nbviewer.org.</b></div><div class=\"sk-container\" hidden><div class=\"sk-item sk-dashed-wrapped\"><div class=\"sk-label-container\"><div class=\"sk-label sk-toggleable\"><input class=\"sk-toggleable__control sk-hidden--visually\" id=\"sk-estimator-id-1\" type=\"checkbox\" ><label for=\"sk-estimator-id-1\" class=\"sk-toggleable__label sk-toggleable__label-arrow\">Pipeline</label><div class=\"sk-toggleable__content\"><pre>Pipeline(steps=[(&#x27;standardscaler&#x27;, StandardScaler()),\n",
       "                (&#x27;pca&#x27;, PCA(n_components=5)),\n",
       "                (&#x27;decisiontreeregressor&#x27;,\n",
       "                 DecisionTreeRegressor(random_state=42))])</pre></div></div></div><div class=\"sk-serial\"><div class=\"sk-item\"><div class=\"sk-estimator sk-toggleable\"><input class=\"sk-toggleable__control sk-hidden--visually\" id=\"sk-estimator-id-2\" type=\"checkbox\" ><label for=\"sk-estimator-id-2\" class=\"sk-toggleable__label sk-toggleable__label-arrow\">StandardScaler</label><div class=\"sk-toggleable__content\"><pre>StandardScaler()</pre></div></div></div><div class=\"sk-item\"><div class=\"sk-estimator sk-toggleable\"><input class=\"sk-toggleable__control sk-hidden--visually\" id=\"sk-estimator-id-3\" type=\"checkbox\" ><label for=\"sk-estimator-id-3\" class=\"sk-toggleable__label sk-toggleable__label-arrow\">PCA</label><div class=\"sk-toggleable__content\"><pre>PCA(n_components=5)</pre></div></div></div><div class=\"sk-item\"><div class=\"sk-estimator sk-toggleable\"><input class=\"sk-toggleable__control sk-hidden--visually\" id=\"sk-estimator-id-4\" type=\"checkbox\" ><label for=\"sk-estimator-id-4\" class=\"sk-toggleable__label sk-toggleable__label-arrow\">DecisionTreeRegressor</label><div class=\"sk-toggleable__content\"><pre>DecisionTreeRegressor(random_state=42)</pre></div></div></div></div></div></div></div>"
      ],
      "text/plain": [
       "Pipeline(steps=[('standardscaler', StandardScaler()),\n",
       "                ('pca', PCA(n_components=5)),\n",
       "                ('decisiontreeregressor',\n",
       "                 DecisionTreeRegressor(random_state=42))])"
      ]
     },
     "execution_count": 71,
     "metadata": {},
     "output_type": "execute_result"
    }
   ],
   "source": [
    "from sklearn.pipeline import make_pipeline\n",
    "from sklearn.preprocessing import StandardScaler\n",
    "from sklearn.tree import DecisionTreeRegressor\n",
    "\n",
    "NUM_COMPONENTES = 5\n",
    "\n",
    "modelo = make_pipeline(\n",
    "    StandardScaler(),\n",
    "    PCA(NUM_COMPONENTES),\n",
    "    DecisionTreeRegressor(random_state = 42),\n",
    ")\n",
    "\n",
    "modelo.fit(X_treino, Y_treino)"
   ]
  },
  {
   "cell_type": "markdown",
   "metadata": {},
   "source": [
    "Cálculo do RMSE para árvore de decisão com redução da dimensionalidade"
   ]
  },
  {
   "cell_type": "code",
   "execution_count": 72,
   "metadata": {},
   "outputs": [
    {
     "name": "stdout",
     "output_type": "stream",
     "text": [
      "O RMSE do modelo da árvore de decisão com PCA foi de 12.122634863642144 unidades de y.\n"
     ]
    }
   ],
   "source": [
    "from sklearn.metrics import mean_squared_error\n",
    "\n",
    "modelo.fit(X_treino, Y_treino)\n",
    "\n",
    "X_verdadeiro = X_teste\n",
    "y_verdadeiro = Y_teste\n",
    "\n",
    "y_previsto = modelo.predict(X_verdadeiro)\n",
    "\n",
    "RMSE = mean_squared_error(y_verdadeiro, y_previsto) ** (1/2)\n",
    "\n",
    "print(f\"O RMSE do modelo da árvore de decisão com PCA foi de {RMSE} unidades de y.\")"
   ]
  },
  {
   "cell_type": "markdown",
   "metadata": {},
   "source": [
    "### Conclusão\n",
    "\n",
    "O RMSE foi maior do que o obtido pela otimização de hiperparâmetros. Isso indica que, para o conjunto de dados que estamos trabalhando, reduzir a dimensionalidade não é uma boa forma de aumentar a performance do modelo. No modelo de árvore de decisão, quando duas variáveis são altamente correlacionadas, a árvore de decisão tende a escolher apenas uma delas para o nó, o que ajuda a evitar redundância.  Assim, o PCA, que é eficaz para induzir ortogonalidade (não há correlação entre as componentes), não contibui muito, uma vez que a árvore de decisão executa o mesmo processo de forma eficaz.[10]"
   ]
  },
  {
   "cell_type": "markdown",
   "metadata": {},
   "source": [
    "### Matriz de Covariância\n",
    "\n",
    "A matriz de covariância é uma matriz que descreve a covariância entre diferentes variáveis em um conjunto de dados. Ela ajuda a entender como as variáveis variam juntas. A diagonal da matriz contém as variâncias das variáveis, e as posições fora da diagonal contêm as covariâncias entre pares de variáveis. A seguir, temos a matriz de covariância com os dados do dataset."
   ]
  },
  {
   "cell_type": "code",
   "execution_count": 73,
   "metadata": {},
   "outputs": [
    {
     "data": {
      "image/png": "[encoded data removed]",
      "text/plain": [
       "<Figure size 800x600 with 2 Axes>"
      ]
     },
     "metadata": {},
     "output_type": "display_data"
    }
   ],
   "source": [
    "import seaborn as sns\n",
    "import numpy as np\n",
    "import pandas as pd\n",
    "import matplotlib.pyplot as plt\n",
    "from sklearn.decomposition import PCA\n",
    "from sklearn.preprocessing import StandardScaler\n",
    "\n",
    "scaler = StandardScaler()\n",
    "df_scaled = scaler.fit_transform(df)\n",
    "\n",
    "cov_matrix = np.cov(df_scaled, rowvar=False)\n",
    "\n",
    "plt.figure(figsize=(8, 6))\n",
    "sns.heatmap(\n",
    "    cov_matrix, \n",
    "    annot=True,  \n",
    "    cmap='coolwarm',  \n",
    "    xticklabels=df.columns,  \n",
    "    yticklabels=df.columns,  \n",
    "    fmt=\".2f\",  \n",
    "    linewidths=0.5, \n",
    "    cbar_kws={'label': 'Covariância'} \n",
    ")\n",
    "plt.title(\"Matriz de Covariância Normalizada\")\n",
    "plt.show()\n"
   ]
  },
  {
   "cell_type": "markdown",
   "metadata": {},
   "source": [
    "O código acima foi feito pela referência [7]"
   ]
  },
  {
   "cell_type": "markdown",
   "metadata": {},
   "source": [
    "### Conclusão\n",
    "\n",
    "De forma geral, covariâncias positivas indicam que dois componentes tendem a aumentar ou diminuir juntos, como Cimento e Agregado Graúdo, que apresentam uma relação moderada positiva de 0,50. Covariâncias negativas sugerem que, quando um componente aumenta, o outro tende a diminuir, como é o caso da Escória de Alto-Forno e das Cinzas Volantes, que possuem uma relação moderada negativa de -0,40. Valores próximos de zero indicam pouca ou nenhuma correlação, como observado para a Água, que é praticamente independente dos outros componentes."
   ]
  },
  {
   "cell_type": "markdown",
   "metadata": {},
   "source": [
    "### Referências:\n",
    "\n",
    "[1] PEDROSO, Fábio Luís. Concreto: as origens e a evolução do material construtivo mais usado pelo homem. Concreto e construções, v. 53, p. 14-19, 2009. Disponível em: <http://ibracon.org.br/publicacoes/revistas_ibracon/rev_construcao/pdf/revista_concreto_53.pdf>. Acesso em: 8 out. de 2024.\n",
    "\n",
    "[2] CASTRO, V. G. Cimento Portland. In: Compósitos madeira-cimento: um produto sustentável para o Futuro [online]. Mossoró: EdUFERSA, 2021, pp. 13-21. ISBN: 978-65-87108-26-1. Disponível em: <https://doi.org/10.7476/9786587108612.0002>. Acesso em: 8 de out. de 2024.\n",
    "\n",
    "[3] BASTOS, Paulo Sérgio. Fundamentos do Concreto Armado: Agregados. Bauru, 2019. Disponível em: <https://wwwp.feb.unesp.br/pbastos/concreto1/Fundamentos%20CA.pdf>. Acesso em: 5 de maio de 2023\n",
    "\n",
    "[4] IBRACON. Revista IBRACON de Estruturas e Materiais, v. 53, p. 1-18, 2019. Disponível em: http://ibracon.org.br/publicacoes/revistas_ibracon/rev_construcao/pdf/revista_concreto_53.pdf. Acesso em: 10 nov. 2024.\n",
    "\n",
    "[5] Raschka, Sebastian. Model Evaluation, Model Selection, and Algorithm Selection in Machine Learning. University of Wisconsin–Madison, Department of Statistics, novembro de 2018. Disponível em: https://arxiv.org/pdf/1811.12808. Acesso em: 11 nov. 2024.\n",
    "\n",
    "[6] IBM. Multiple Linear Regression. Disponível em: https://www.ibm.com/docs/pt-br/cognos-analytics/11.2.0?topic=tests-multiple-linear-regression. Acesso em: 10 nov. 2024.\n",
    "\n",
    "[7]https://chatgpt.com/c/67316944-3b34-800b-93e0-e3fd581ff22f\n",
    "\n",
    "[8]https://www.ibm.com/br-pt/topics/principal-component-analysis\n",
    "\n",
    "[9]https://medium.com/data-hackers/como-selecionar-as-melhores-features-para-seu-modelo-de-machine-learning-faf74e357913\n",
    "\n",
    "[10]https://www.geeksforgeeks.org/solving-the-multicollinearity-problem-with-decision-tree/\n",
    "\n",
    "ATP-203 8.1 - Redução de dimensionalidade com PCA\n",
    "\n",
    "ATP-203 6.1 - Otimização de hiperparâmetros com optuna\n",
    "\n",
    "ATP-203 4.1 - Árvore de decisão"
   ]
  }
 ],
 "metadata": {
  "kernelspec": {
   "display_name": "base",
   "language": "python",
   "name": "python3"
  },
  "language_info": {
   "codemirror_mode": {
    "name": "ipython",
    "version": 3
   },
   "file_extension": ".py",
   "mimetype": "text/x-python",
   "name": "python",
   "nbconvert_exporter": "python",
   "pygments_lexer": "ipython3",
   "version": "3.11.5"
  }
 },
 "nbformat": 4,
 "nbformat_minor": 2
}
