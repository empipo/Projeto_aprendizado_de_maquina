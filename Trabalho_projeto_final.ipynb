{
 "cells": [
  {
   "cell_type": "markdown",
   "metadata": {},
   "source": [
    "## <center>Trabalho de Machine Learning - Previsão da resistência à compressão do concreto</center>\n",
    "\n",
    "#### _<center>Ilum - Escola de Ciência. Campinas, SP. 2024</center>_\n",
    "\n",
    "------------"
   ]
  },
  {
   "cell_type": "markdown",
   "metadata": {},
   "source": [
    "----------------------\n",
    "\n",
    "## <center> Obtenção e Visualização do Dataframe </center>"
   ]
  },
  {
   "cell_type": "code",
   "execution_count": 31,
   "metadata": {},
   "outputs": [],
   "source": [
    "import os\n",
    "import pandas as pd\n",
    "import numpy as np"
   ]
  },
  {
   "cell_type": "markdown",
   "metadata": {},
   "source": [
    "Vamos primeiramente importar os dados do dataset"
   ]
  },
  {
   "cell_type": "code",
   "execution_count": 32,
   "metadata": {},
   "outputs": [
    {
     "data": {
      "text/plain": [
       "b'c:\\\\Users\\\\jose24028\\\\OneDrive - ILUM ESCOLA DE CI\\xc3\\x8aNCIA\\\\\\xc3\\x81rea de Trabalho\\\\2 - Semestre\\\\Machine Learn\\\\Projeto\\\\Projeto_aprendizado_de_maquina'"
      ]
     },
     "execution_count": 32,
     "metadata": {},
     "output_type": "execute_result"
    }
   ],
   "source": [
    "os.getcwdb()"
   ]
  },
  {
   "cell_type": "markdown",
   "metadata": {},
   "source": [
    "para ler o arquivo é necessário baixar xlrd"
   ]
  },
  {
   "cell_type": "code",
   "execution_count": 33,
   "metadata": {},
   "outputs": [],
   "source": [
    "#pip install xlrd"
   ]
  },
  {
   "cell_type": "code",
   "execution_count": 34,
   "metadata": {},
   "outputs": [
    {
     "data": {
      "text/html": [
       "<div>\n",
       "<style scoped>\n",
       "    .dataframe tbody tr th:only-of-type {\n",
       "        vertical-align: middle;\n",
       "    }\n",
       "\n",
       "    .dataframe tbody tr th {\n",
       "        vertical-align: top;\n",
       "    }\n",
       "\n",
       "    .dataframe thead th {\n",
       "        text-align: right;\n",
       "    }\n",
       "</style>\n",
       "<table border=\"1\" class=\"dataframe\">\n",
       "  <thead>\n",
       "    <tr style=\"text-align: right;\">\n",
       "      <th></th>\n",
       "      <th>Cement (component 1)(kg in a m^3 mixture)</th>\n",
       "      <th>Blast Furnace Slag (component 2)(kg in a m^3 mixture)</th>\n",
       "      <th>Fly Ash (component 3)(kg in a m^3 mixture)</th>\n",
       "      <th>Water  (component 4)(kg in a m^3 mixture)</th>\n",
       "      <th>Superplasticizer (component 5)(kg in a m^3 mixture)</th>\n",
       "      <th>Coarse Aggregate  (component 6)(kg in a m^3 mixture)</th>\n",
       "      <th>Fine Aggregate (component 7)(kg in a m^3 mixture)</th>\n",
       "      <th>Age (day)</th>\n",
       "      <th>Concrete compressive strength(MPa, megapascals)</th>\n",
       "    </tr>\n",
       "  </thead>\n",
       "  <tbody>\n",
       "    <tr>\n",
       "      <th>0</th>\n",
       "      <td>540.0</td>\n",
       "      <td>0.0</td>\n",
       "      <td>0.0</td>\n",
       "      <td>162.0</td>\n",
       "      <td>2.5</td>\n",
       "      <td>1040.0</td>\n",
       "      <td>676.0</td>\n",
       "      <td>28</td>\n",
       "      <td>79.986111</td>\n",
       "    </tr>\n",
       "    <tr>\n",
       "      <th>1</th>\n",
       "      <td>540.0</td>\n",
       "      <td>0.0</td>\n",
       "      <td>0.0</td>\n",
       "      <td>162.0</td>\n",
       "      <td>2.5</td>\n",
       "      <td>1055.0</td>\n",
       "      <td>676.0</td>\n",
       "      <td>28</td>\n",
       "      <td>61.887366</td>\n",
       "    </tr>\n",
       "    <tr>\n",
       "      <th>2</th>\n",
       "      <td>332.5</td>\n",
       "      <td>142.5</td>\n",
       "      <td>0.0</td>\n",
       "      <td>228.0</td>\n",
       "      <td>0.0</td>\n",
       "      <td>932.0</td>\n",
       "      <td>594.0</td>\n",
       "      <td>270</td>\n",
       "      <td>40.269535</td>\n",
       "    </tr>\n",
       "    <tr>\n",
       "      <th>3</th>\n",
       "      <td>332.5</td>\n",
       "      <td>142.5</td>\n",
       "      <td>0.0</td>\n",
       "      <td>228.0</td>\n",
       "      <td>0.0</td>\n",
       "      <td>932.0</td>\n",
       "      <td>594.0</td>\n",
       "      <td>365</td>\n",
       "      <td>41.052780</td>\n",
       "    </tr>\n",
       "    <tr>\n",
       "      <th>4</th>\n",
       "      <td>198.6</td>\n",
       "      <td>132.4</td>\n",
       "      <td>0.0</td>\n",
       "      <td>192.0</td>\n",
       "      <td>0.0</td>\n",
       "      <td>978.4</td>\n",
       "      <td>825.5</td>\n",
       "      <td>360</td>\n",
       "      <td>44.296075</td>\n",
       "    </tr>\n",
       "    <tr>\n",
       "      <th>...</th>\n",
       "      <td>...</td>\n",
       "      <td>...</td>\n",
       "      <td>...</td>\n",
       "      <td>...</td>\n",
       "      <td>...</td>\n",
       "      <td>...</td>\n",
       "      <td>...</td>\n",
       "      <td>...</td>\n",
       "      <td>...</td>\n",
       "    </tr>\n",
       "    <tr>\n",
       "      <th>1025</th>\n",
       "      <td>276.4</td>\n",
       "      <td>116.0</td>\n",
       "      <td>90.3</td>\n",
       "      <td>179.6</td>\n",
       "      <td>8.9</td>\n",
       "      <td>870.1</td>\n",
       "      <td>768.3</td>\n",
       "      <td>28</td>\n",
       "      <td>44.284354</td>\n",
       "    </tr>\n",
       "    <tr>\n",
       "      <th>1026</th>\n",
       "      <td>322.2</td>\n",
       "      <td>0.0</td>\n",
       "      <td>115.6</td>\n",
       "      <td>196.0</td>\n",
       "      <td>10.4</td>\n",
       "      <td>817.9</td>\n",
       "      <td>813.4</td>\n",
       "      <td>28</td>\n",
       "      <td>31.178794</td>\n",
       "    </tr>\n",
       "    <tr>\n",
       "      <th>1027</th>\n",
       "      <td>148.5</td>\n",
       "      <td>139.4</td>\n",
       "      <td>108.6</td>\n",
       "      <td>192.7</td>\n",
       "      <td>6.1</td>\n",
       "      <td>892.4</td>\n",
       "      <td>780.0</td>\n",
       "      <td>28</td>\n",
       "      <td>23.696601</td>\n",
       "    </tr>\n",
       "    <tr>\n",
       "      <th>1028</th>\n",
       "      <td>159.1</td>\n",
       "      <td>186.7</td>\n",
       "      <td>0.0</td>\n",
       "      <td>175.6</td>\n",
       "      <td>11.3</td>\n",
       "      <td>989.6</td>\n",
       "      <td>788.9</td>\n",
       "      <td>28</td>\n",
       "      <td>32.768036</td>\n",
       "    </tr>\n",
       "    <tr>\n",
       "      <th>1029</th>\n",
       "      <td>260.9</td>\n",
       "      <td>100.5</td>\n",
       "      <td>78.3</td>\n",
       "      <td>200.6</td>\n",
       "      <td>8.6</td>\n",
       "      <td>864.5</td>\n",
       "      <td>761.5</td>\n",
       "      <td>28</td>\n",
       "      <td>32.401235</td>\n",
       "    </tr>\n",
       "  </tbody>\n",
       "</table>\n",
       "<p>1030 rows × 9 columns</p>\n",
       "</div>"
      ],
      "text/plain": [
       "      Cement (component 1)(kg in a m^3 mixture)  \\\n",
       "0                                         540.0   \n",
       "1                                         540.0   \n",
       "2                                         332.5   \n",
       "3                                         332.5   \n",
       "4                                         198.6   \n",
       "...                                         ...   \n",
       "1025                                      276.4   \n",
       "1026                                      322.2   \n",
       "1027                                      148.5   \n",
       "1028                                      159.1   \n",
       "1029                                      260.9   \n",
       "\n",
       "      Blast Furnace Slag (component 2)(kg in a m^3 mixture)  \\\n",
       "0                                                   0.0       \n",
       "1                                                   0.0       \n",
       "2                                                 142.5       \n",
       "3                                                 142.5       \n",
       "4                                                 132.4       \n",
       "...                                                 ...       \n",
       "1025                                              116.0       \n",
       "1026                                                0.0       \n",
       "1027                                              139.4       \n",
       "1028                                              186.7       \n",
       "1029                                              100.5       \n",
       "\n",
       "      Fly Ash (component 3)(kg in a m^3 mixture)  \\\n",
       "0                                            0.0   \n",
       "1                                            0.0   \n",
       "2                                            0.0   \n",
       "3                                            0.0   \n",
       "4                                            0.0   \n",
       "...                                          ...   \n",
       "1025                                        90.3   \n",
       "1026                                       115.6   \n",
       "1027                                       108.6   \n",
       "1028                                         0.0   \n",
       "1029                                        78.3   \n",
       "\n",
       "      Water  (component 4)(kg in a m^3 mixture)  \\\n",
       "0                                         162.0   \n",
       "1                                         162.0   \n",
       "2                                         228.0   \n",
       "3                                         228.0   \n",
       "4                                         192.0   \n",
       "...                                         ...   \n",
       "1025                                      179.6   \n",
       "1026                                      196.0   \n",
       "1027                                      192.7   \n",
       "1028                                      175.6   \n",
       "1029                                      200.6   \n",
       "\n",
       "      Superplasticizer (component 5)(kg in a m^3 mixture)  \\\n",
       "0                                                   2.5     \n",
       "1                                                   2.5     \n",
       "2                                                   0.0     \n",
       "3                                                   0.0     \n",
       "4                                                   0.0     \n",
       "...                                                 ...     \n",
       "1025                                                8.9     \n",
       "1026                                               10.4     \n",
       "1027                                                6.1     \n",
       "1028                                               11.3     \n",
       "1029                                                8.6     \n",
       "\n",
       "      Coarse Aggregate  (component 6)(kg in a m^3 mixture)  \\\n",
       "0                                                1040.0      \n",
       "1                                                1055.0      \n",
       "2                                                 932.0      \n",
       "3                                                 932.0      \n",
       "4                                                 978.4      \n",
       "...                                                 ...      \n",
       "1025                                              870.1      \n",
       "1026                                              817.9      \n",
       "1027                                              892.4      \n",
       "1028                                              989.6      \n",
       "1029                                              864.5      \n",
       "\n",
       "      Fine Aggregate (component 7)(kg in a m^3 mixture)  Age (day)  \\\n",
       "0                                                 676.0         28   \n",
       "1                                                 676.0         28   \n",
       "2                                                 594.0        270   \n",
       "3                                                 594.0        365   \n",
       "4                                                 825.5        360   \n",
       "...                                                 ...        ...   \n",
       "1025                                              768.3         28   \n",
       "1026                                              813.4         28   \n",
       "1027                                              780.0         28   \n",
       "1028                                              788.9         28   \n",
       "1029                                              761.5         28   \n",
       "\n",
       "      Concrete compressive strength(MPa, megapascals)   \n",
       "0                                            79.986111  \n",
       "1                                            61.887366  \n",
       "2                                            40.269535  \n",
       "3                                            41.052780  \n",
       "4                                            44.296075  \n",
       "...                                                ...  \n",
       "1025                                         44.284354  \n",
       "1026                                         31.178794  \n",
       "1027                                         23.696601  \n",
       "1028                                         32.768036  \n",
       "1029                                         32.401235  \n",
       "\n",
       "[1030 rows x 9 columns]"
      ]
     },
     "execution_count": 34,
     "metadata": {},
     "output_type": "execute_result"
    }
   ],
   "source": [
    "df = pd.read_excel(\"Dataframe/Concrete_Data.xls\")\n",
    "df = df.dropna() # Retira=se linhas que possuem dados NaN\n",
    "df"
   ]
  },
  {
   "cell_type": "markdown",
   "metadata": {},
   "source": [
    "Descobre-se os nomes das colunas:"
   ]
  },
  {
   "cell_type": "code",
   "execution_count": 35,
   "metadata": {},
   "outputs": [
    {
     "name": "stdout",
     "output_type": "stream",
     "text": [
      "Index(['Cement (component 1)(kg in a m^3 mixture)',\n",
      "       'Blast Furnace Slag (component 2)(kg in a m^3 mixture)',\n",
      "       'Fly Ash (component 3)(kg in a m^3 mixture)',\n",
      "       'Water  (component 4)(kg in a m^3 mixture)',\n",
      "       'Superplasticizer (component 5)(kg in a m^3 mixture)',\n",
      "       'Coarse Aggregate  (component 6)(kg in a m^3 mixture)',\n",
      "       'Fine Aggregate (component 7)(kg in a m^3 mixture)', 'Age (day)',\n",
      "       'Concrete compressive strength(MPa, megapascals) '],\n",
      "      dtype='object')\n"
     ]
    }
   ],
   "source": [
    "print(df.columns)"
   ]
  },
  {
   "cell_type": "markdown",
   "metadata": {},
   "source": [
    "Será importante posteriormente no código, sabermos quais colunas são atributos e quais são target, assim, é separado em listas os nomes deles:"
   ]
  },
  {
   "cell_type": "code",
   "execution_count": 36,
   "metadata": {},
   "outputs": [],
   "source": [
    "ATRIBUTOS = ['Cement (component 1)(kg in a m^3 mixture)', \n",
    "             'Blast Furnace Slag (component 2)(kg in a m^3 mixture)',\n",
    "             'Fly Ash (component 3)(kg in a m^3 mixture)',\n",
    "             'Water  (component 4)(kg in a m^3 mixture)',\n",
    "             'Superplasticizer (component 5)(kg in a m^3 mixture)',\n",
    "             'Coarse Aggregate  (component 6)(kg in a m^3 mixture)',\n",
    "             'Fine Aggregate (component 7)(kg in a m^3 mixture)',\n",
    "             'Age (day)']\n",
    "\n",
    "TARGET = ['Concrete compressive strength(MPa, megapascals) ']"
   ]
  },
  {
   "cell_type": "markdown",
   "metadata": {},
   "source": [
    "Vamos agora separar os dados em dados de treino e teste, isso será importante ao longo de todo o código."
   ]
  },
  {
   "cell_type": "code",
   "execution_count": 37,
   "metadata": {},
   "outputs": [],
   "source": [
    "#Importar biblioteca para fazer a separação dos dados\n",
    "from sklearn.model_selection import train_test_split\n",
    "\n",
    "# 90% dos dados serão de treino e 10% de teste\n",
    "TAMANHO_TESTE = 0.1\n",
    "\n",
    "SEMENTE_ALEATORIA = 777\n",
    "\n",
    "indices = df.index\n",
    "indices_treino, indices_teste = train_test_split(\n",
    "    indices, test_size=TAMANHO_TESTE, random_state=SEMENTE_ALEATORIA\n",
    ")\n",
    "\n",
    "df_treino = df.loc[indices_treino]\n",
    "df_teste = df.loc[indices_teste]\n",
    "\n",
    "X_treino = df_treino.reindex(ATRIBUTOS, axis=1).values\n",
    "Y_treino = df_treino.reindex(TARGET, axis=1).values.ravel()\n",
    "\n",
    "X_teste = df_teste.reindex(ATRIBUTOS, axis=1).values\n",
    "Y_teste = df_teste.reindex(TARGET, axis=1).values.ravel()\n"
   ]
  },
  {
   "cell_type": "markdown",
   "metadata": {},
   "source": [
    "----------------------\n",
    "\n",
    "## <center> Matriz de Correlação </center>"
   ]
  },
  {
   "cell_type": "markdown",
   "metadata": {},
   "source": [
    "A **matriz de correlação** é uma tabela que mostra a relação entre duas ou mais variáveis. Os valores de correlação variam de **-1** a **+1**:\n",
    "- **+1** indica uma correlação positiva perfeita (quando uma variável aumenta, a outra também aumenta de forma proporcional).\n",
    "- **-1** indica uma correlação negativa perfeita (quando uma variável aumenta, a outra diminui proporcionalmente).\n",
    "- **0** indica que não há correlação entre as variáveis.\n",
    "\n",
    "Valores próximos de **+1** ou **-1** indicam uma correlação forte, enquanto valores próximos de **0** indicam uma correlação fraca ou inexistente.\n",
    "\n",
    "Vamos utiliza-lá para visualizar como os atributos se correlacionam com o target e com os próprios atributos. Para isso, vamos criar uma matriz de correlação através da biblioteca pandas, que permitirá a visualização das correlações em forma de tabela."
   ]
  },
  {
   "cell_type": "code",
   "execution_count": 74,
   "metadata": {},
   "outputs": [
    {
     "data": {
      "text/html": [
       "<div>\n",
       "<style scoped>\n",
       "    .dataframe tbody tr th:only-of-type {\n",
       "        vertical-align: middle;\n",
       "    }\n",
       "\n",
       "    .dataframe tbody tr th {\n",
       "        vertical-align: top;\n",
       "    }\n",
       "\n",
       "    .dataframe thead th {\n",
       "        text-align: right;\n",
       "    }\n",
       "</style>\n",
       "<table border=\"1\" class=\"dataframe\">\n",
       "  <thead>\n",
       "    <tr style=\"text-align: right;\">\n",
       "      <th></th>\n",
       "      <th>Cement (component 1)(kg in a m^3 mixture)</th>\n",
       "      <th>Blast Furnace Slag (component 2)(kg in a m^3 mixture)</th>\n",
       "      <th>Fly Ash (component 3)(kg in a m^3 mixture)</th>\n",
       "      <th>Water  (component 4)(kg in a m^3 mixture)</th>\n",
       "      <th>Superplasticizer (component 5)(kg in a m^3 mixture)</th>\n",
       "      <th>Coarse Aggregate  (component 6)(kg in a m^3 mixture)</th>\n",
       "      <th>Fine Aggregate (component 7)(kg in a m^3 mixture)</th>\n",
       "      <th>Age (day)</th>\n",
       "      <th>Concrete compressive strength(MPa, megapascals)</th>\n",
       "    </tr>\n",
       "  </thead>\n",
       "  <tbody>\n",
       "    <tr>\n",
       "      <th>Cement (component 1)(kg in a m^3 mixture)</th>\n",
       "      <td>1.000000</td>\n",
       "      <td>-0.275193</td>\n",
       "      <td>-0.397475</td>\n",
       "      <td>-0.081544</td>\n",
       "      <td>0.092771</td>\n",
       "      <td>-0.109356</td>\n",
       "      <td>-0.222720</td>\n",
       "      <td>0.081947</td>\n",
       "      <td>0.497833</td>\n",
       "    </tr>\n",
       "    <tr>\n",
       "      <th>Blast Furnace Slag (component 2)(kg in a m^3 mixture)</th>\n",
       "      <td>-0.275193</td>\n",
       "      <td>1.000000</td>\n",
       "      <td>-0.323569</td>\n",
       "      <td>0.107286</td>\n",
       "      <td>0.043376</td>\n",
       "      <td>-0.283998</td>\n",
       "      <td>-0.281593</td>\n",
       "      <td>-0.044246</td>\n",
       "      <td>0.134824</td>\n",
       "    </tr>\n",
       "    <tr>\n",
       "      <th>Fly Ash (component 3)(kg in a m^3 mixture)</th>\n",
       "      <td>-0.397475</td>\n",
       "      <td>-0.323569</td>\n",
       "      <td>1.000000</td>\n",
       "      <td>-0.257044</td>\n",
       "      <td>0.377340</td>\n",
       "      <td>-0.009977</td>\n",
       "      <td>0.079076</td>\n",
       "      <td>-0.154370</td>\n",
       "      <td>-0.105753</td>\n",
       "    </tr>\n",
       "    <tr>\n",
       "      <th>Water  (component 4)(kg in a m^3 mixture)</th>\n",
       "      <td>-0.081544</td>\n",
       "      <td>0.107286</td>\n",
       "      <td>-0.257044</td>\n",
       "      <td>1.000000</td>\n",
       "      <td>-0.657464</td>\n",
       "      <td>-0.182312</td>\n",
       "      <td>-0.450635</td>\n",
       "      <td>0.277604</td>\n",
       "      <td>-0.289613</td>\n",
       "    </tr>\n",
       "    <tr>\n",
       "      <th>Superplasticizer (component 5)(kg in a m^3 mixture)</th>\n",
       "      <td>0.092771</td>\n",
       "      <td>0.043376</td>\n",
       "      <td>0.377340</td>\n",
       "      <td>-0.657464</td>\n",
       "      <td>1.000000</td>\n",
       "      <td>-0.266303</td>\n",
       "      <td>0.222501</td>\n",
       "      <td>-0.192717</td>\n",
       "      <td>0.366102</td>\n",
       "    </tr>\n",
       "    <tr>\n",
       "      <th>Coarse Aggregate  (component 6)(kg in a m^3 mixture)</th>\n",
       "      <td>-0.109356</td>\n",
       "      <td>-0.283998</td>\n",
       "      <td>-0.009977</td>\n",
       "      <td>-0.182312</td>\n",
       "      <td>-0.266303</td>\n",
       "      <td>1.000000</td>\n",
       "      <td>-0.178506</td>\n",
       "      <td>-0.003016</td>\n",
       "      <td>-0.164928</td>\n",
       "    </tr>\n",
       "    <tr>\n",
       "      <th>Fine Aggregate (component 7)(kg in a m^3 mixture)</th>\n",
       "      <td>-0.222720</td>\n",
       "      <td>-0.281593</td>\n",
       "      <td>0.079076</td>\n",
       "      <td>-0.450635</td>\n",
       "      <td>0.222501</td>\n",
       "      <td>-0.178506</td>\n",
       "      <td>1.000000</td>\n",
       "      <td>-0.156094</td>\n",
       "      <td>-0.167249</td>\n",
       "    </tr>\n",
       "    <tr>\n",
       "      <th>Age (day)</th>\n",
       "      <td>0.081947</td>\n",
       "      <td>-0.044246</td>\n",
       "      <td>-0.154370</td>\n",
       "      <td>0.277604</td>\n",
       "      <td>-0.192717</td>\n",
       "      <td>-0.003016</td>\n",
       "      <td>-0.156094</td>\n",
       "      <td>1.000000</td>\n",
       "      <td>0.328877</td>\n",
       "    </tr>\n",
       "    <tr>\n",
       "      <th>Concrete compressive strength(MPa, megapascals)</th>\n",
       "      <td>0.497833</td>\n",
       "      <td>0.134824</td>\n",
       "      <td>-0.105753</td>\n",
       "      <td>-0.289613</td>\n",
       "      <td>0.366102</td>\n",
       "      <td>-0.164928</td>\n",
       "      <td>-0.167249</td>\n",
       "      <td>0.328877</td>\n",
       "      <td>1.000000</td>\n",
       "    </tr>\n",
       "  </tbody>\n",
       "</table>\n",
       "</div>"
      ],
      "text/plain": [
       "                                                    Cement (component 1)(kg in a m^3 mixture)  \\\n",
       "Cement (component 1)(kg in a m^3 mixture)                                            1.000000   \n",
       "Blast Furnace Slag (component 2)(kg in a m^3 mi...                                  -0.275193   \n",
       "Fly Ash (component 3)(kg in a m^3 mixture)                                          -0.397475   \n",
       "Water  (component 4)(kg in a m^3 mixture)                                           -0.081544   \n",
       "Superplasticizer (component 5)(kg in a m^3 mixt...                                   0.092771   \n",
       "Coarse Aggregate  (component 6)(kg in a m^3 mix...                                  -0.109356   \n",
       "Fine Aggregate (component 7)(kg in a m^3 mixture)                                   -0.222720   \n",
       "Age (day)                                                                            0.081947   \n",
       "Concrete compressive strength(MPa, megapascals)                                      0.497833   \n",
       "\n",
       "                                                    Blast Furnace Slag (component 2)(kg in a m^3 mixture)  \\\n",
       "Cement (component 1)(kg in a m^3 mixture)                                                   -0.275193       \n",
       "Blast Furnace Slag (component 2)(kg in a m^3 mi...                                           1.000000       \n",
       "Fly Ash (component 3)(kg in a m^3 mixture)                                                  -0.323569       \n",
       "Water  (component 4)(kg in a m^3 mixture)                                                    0.107286       \n",
       "Superplasticizer (component 5)(kg in a m^3 mixt...                                           0.043376       \n",
       "Coarse Aggregate  (component 6)(kg in a m^3 mix...                                          -0.283998       \n",
       "Fine Aggregate (component 7)(kg in a m^3 mixture)                                           -0.281593       \n",
       "Age (day)                                                                                   -0.044246       \n",
       "Concrete compressive strength(MPa, megapascals)                                              0.134824       \n",
       "\n",
       "                                                    Fly Ash (component 3)(kg in a m^3 mixture)  \\\n",
       "Cement (component 1)(kg in a m^3 mixture)                                            -0.397475   \n",
       "Blast Furnace Slag (component 2)(kg in a m^3 mi...                                   -0.323569   \n",
       "Fly Ash (component 3)(kg in a m^3 mixture)                                            1.000000   \n",
       "Water  (component 4)(kg in a m^3 mixture)                                            -0.257044   \n",
       "Superplasticizer (component 5)(kg in a m^3 mixt...                                    0.377340   \n",
       "Coarse Aggregate  (component 6)(kg in a m^3 mix...                                   -0.009977   \n",
       "Fine Aggregate (component 7)(kg in a m^3 mixture)                                     0.079076   \n",
       "Age (day)                                                                            -0.154370   \n",
       "Concrete compressive strength(MPa, megapascals)                                      -0.105753   \n",
       "\n",
       "                                                    Water  (component 4)(kg in a m^3 mixture)  \\\n",
       "Cement (component 1)(kg in a m^3 mixture)                                           -0.081544   \n",
       "Blast Furnace Slag (component 2)(kg in a m^3 mi...                                   0.107286   \n",
       "Fly Ash (component 3)(kg in a m^3 mixture)                                          -0.257044   \n",
       "Water  (component 4)(kg in a m^3 mixture)                                            1.000000   \n",
       "Superplasticizer (component 5)(kg in a m^3 mixt...                                  -0.657464   \n",
       "Coarse Aggregate  (component 6)(kg in a m^3 mix...                                  -0.182312   \n",
       "Fine Aggregate (component 7)(kg in a m^3 mixture)                                   -0.450635   \n",
       "Age (day)                                                                            0.277604   \n",
       "Concrete compressive strength(MPa, megapascals)                                     -0.289613   \n",
       "\n",
       "                                                    Superplasticizer (component 5)(kg in a m^3 mixture)  \\\n",
       "Cement (component 1)(kg in a m^3 mixture)                                                    0.092771     \n",
       "Blast Furnace Slag (component 2)(kg in a m^3 mi...                                           0.043376     \n",
       "Fly Ash (component 3)(kg in a m^3 mixture)                                                   0.377340     \n",
       "Water  (component 4)(kg in a m^3 mixture)                                                   -0.657464     \n",
       "Superplasticizer (component 5)(kg in a m^3 mixt...                                           1.000000     \n",
       "Coarse Aggregate  (component 6)(kg in a m^3 mix...                                          -0.266303     \n",
       "Fine Aggregate (component 7)(kg in a m^3 mixture)                                            0.222501     \n",
       "Age (day)                                                                                   -0.192717     \n",
       "Concrete compressive strength(MPa, megapascals)                                              0.366102     \n",
       "\n",
       "                                                    Coarse Aggregate  (component 6)(kg in a m^3 mixture)  \\\n",
       "Cement (component 1)(kg in a m^3 mixture)                                                   -0.109356      \n",
       "Blast Furnace Slag (component 2)(kg in a m^3 mi...                                          -0.283998      \n",
       "Fly Ash (component 3)(kg in a m^3 mixture)                                                  -0.009977      \n",
       "Water  (component 4)(kg in a m^3 mixture)                                                   -0.182312      \n",
       "Superplasticizer (component 5)(kg in a m^3 mixt...                                          -0.266303      \n",
       "Coarse Aggregate  (component 6)(kg in a m^3 mix...                                           1.000000      \n",
       "Fine Aggregate (component 7)(kg in a m^3 mixture)                                           -0.178506      \n",
       "Age (day)                                                                                   -0.003016      \n",
       "Concrete compressive strength(MPa, megapascals)                                             -0.164928      \n",
       "\n",
       "                                                    Fine Aggregate (component 7)(kg in a m^3 mixture)  \\\n",
       "Cement (component 1)(kg in a m^3 mixture)                                                   -0.222720   \n",
       "Blast Furnace Slag (component 2)(kg in a m^3 mi...                                          -0.281593   \n",
       "Fly Ash (component 3)(kg in a m^3 mixture)                                                   0.079076   \n",
       "Water  (component 4)(kg in a m^3 mixture)                                                   -0.450635   \n",
       "Superplasticizer (component 5)(kg in a m^3 mixt...                                           0.222501   \n",
       "Coarse Aggregate  (component 6)(kg in a m^3 mix...                                          -0.178506   \n",
       "Fine Aggregate (component 7)(kg in a m^3 mixture)                                            1.000000   \n",
       "Age (day)                                                                                   -0.156094   \n",
       "Concrete compressive strength(MPa, megapascals)                                             -0.167249   \n",
       "\n",
       "                                                    Age (day)  \\\n",
       "Cement (component 1)(kg in a m^3 mixture)            0.081947   \n",
       "Blast Furnace Slag (component 2)(kg in a m^3 mi...  -0.044246   \n",
       "Fly Ash (component 3)(kg in a m^3 mixture)          -0.154370   \n",
       "Water  (component 4)(kg in a m^3 mixture)            0.277604   \n",
       "Superplasticizer (component 5)(kg in a m^3 mixt...  -0.192717   \n",
       "Coarse Aggregate  (component 6)(kg in a m^3 mix...  -0.003016   \n",
       "Fine Aggregate (component 7)(kg in a m^3 mixture)   -0.156094   \n",
       "Age (day)                                            1.000000   \n",
       "Concrete compressive strength(MPa, megapascals)      0.328877   \n",
       "\n",
       "                                                    Concrete compressive strength(MPa, megapascals)   \n",
       "Cement (component 1)(kg in a m^3 mixture)                                                   0.497833  \n",
       "Blast Furnace Slag (component 2)(kg in a m^3 mi...                                          0.134824  \n",
       "Fly Ash (component 3)(kg in a m^3 mixture)                                                 -0.105753  \n",
       "Water  (component 4)(kg in a m^3 mixture)                                                  -0.289613  \n",
       "Superplasticizer (component 5)(kg in a m^3 mixt...                                          0.366102  \n",
       "Coarse Aggregate  (component 6)(kg in a m^3 mix...                                         -0.164928  \n",
       "Fine Aggregate (component 7)(kg in a m^3 mixture)                                          -0.167249  \n",
       "Age (day)                                                                                   0.328877  \n",
       "Concrete compressive strength(MPa, megapascals)                                             1.000000  "
      ]
     },
     "execution_count": 74,
     "metadata": {},
     "output_type": "execute_result"
    }
   ],
   "source": [
    "Dados_Correlacao = df.reindex(ATRIBUTOS + TARGET, axis=1)\n",
    "\n",
    "matriz_cov = Dados_Correlacao.corr()\n",
    "\n",
    "matriz_cov"
   ]
  },
  {
   "cell_type": "markdown",
   "metadata": {},
   "source": [
    "Com ajuda do `seaborn`, podemos criar um gráfico que varia sua intensidade a depender da correlação:"
   ]
  },
  {
   "cell_type": "code",
   "execution_count": 76,
   "metadata": {},
   "outputs": [
    {
     "data": {
      "image/png": "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",
      "text/plain": [
       "<Figure size 640x480 with 2 Axes>"
      ]
     },
     "metadata": {},
     "output_type": "display_data"
    }
   ],
   "source": [
    "import seaborn as sns\n",
    "import numpy as np\n",
    "\n",
    "sns.set_theme(style=\"white\")\n",
    "\n",
    "m_corr = Dados_Correlacao.corr()\n",
    "mascara = np.triu(np.ones_like(m_corr, dtype=bool))\n",
    "mapa_de_cor = sns.diverging_palette(240, 20, as_cmap=True)\n",
    "\n",
    "sns.heatmap(\n",
    "    m_corr,\n",
    "    mask=mascara,\n",
    "    cmap=mapa_de_cor,\n",
    "    center=0,\n",
    "    square=True,\n",
    "    linewidths=0.5,\n",
    ");"
   ]
  },
  {
   "cell_type": "markdown",
   "metadata": {},
   "source": [
    "---------\n",
    "\n",
    "### <center> Normalizar Dados </center>\n",
    "\n",
    "#### Normalizador Padrão:"
   ]
  },
  {
   "cell_type": "markdown",
   "metadata": {},
   "source": [
    "É vísivel abaixo que os dados do target possuem uma certa variação, então vamos normaliza-los também para fazer os modelos de regressão."
   ]
  },
  {
   "cell_type": "code",
<<<<<<< HEAD
   "execution_count": 38,
=======
   "execution_count": 1,
>>>>>>> 5d6426ff4519d13e52acfcaecf67e371d54db216
   "metadata": {},
   "outputs": [
    {
     "ename": "NameError",
     "evalue": "name 'Y_treino' is not defined",
     "output_type": "error",
     "traceback": [
      "\u001b[1;31m---------------------------------------------------------------------------\u001b[0m",
      "\u001b[1;31mNameError\u001b[0m                                 Traceback (most recent call last)",
      "\u001b[1;32mc:\\Users\\emanuel24039\\OneDrive - ILUM ESCOLA DE CIÊNCIA\\Documentos\\Estudos - vscode\\jupyter\\Aprendizado de Máquina\\Trabalho\\Trabalho_projeto_final.ipynb Célula 17\u001b[0m line \u001b[0;36m1\n\u001b[1;32m----> <a href='vscode-notebook-cell:/c%3A/Users/emanuel24039/OneDrive%20-%20ILUM%20ESCOLA%20DE%20CI%C3%8ANCIA/Documentos/Estudos%20-%20vscode/jupyter/Aprendizado%20de%20M%C3%A1quina/Trabalho/Trabalho_projeto_final.ipynb#X22sZmlsZQ%3D%3D?line=0'>1</a>\u001b[0m \u001b[39mprint\u001b[39m(\u001b[39mmin\u001b[39m(Y_treino))\n\u001b[0;32m      <a href='vscode-notebook-cell:/c%3A/Users/emanuel24039/OneDrive%20-%20ILUM%20ESCOLA%20DE%20CI%C3%8ANCIA/Documentos/Estudos%20-%20vscode/jupyter/Aprendizado%20de%20M%C3%A1quina/Trabalho/Trabalho_projeto_final.ipynb#X22sZmlsZQ%3D%3D?line=1'>2</a>\u001b[0m \u001b[39mprint\u001b[39m(\u001b[39mmax\u001b[39m(Y_treino))\n",
      "\u001b[1;31mNameError\u001b[0m: name 'Y_treino' is not defined"
     ]
    }
   ],
   "source": [
    "print(min(Y_treino))\n",
    "print(max(Y_treino))\n",
    "\n",
    "#t"
   ]
  },
  {
   "cell_type": "code",
   "execution_count": 39,
   "metadata": {},
   "outputs": [],
   "source": [
    "from sklearn.preprocessing import StandardScaler\n",
    "\n",
    "# Normalizador de X\n",
    "normalizador_padrao_X = StandardScaler()\n",
    "\n",
    "normalizador_padrao_X.fit(X_treino)\n",
    "\n",
    "X_treino_normalizado_padrao = normalizador_padrao_X.transform(X_treino)\n",
    "\n",
    "X_teste_normalizado_padrao = normalizador_padrao_X.transform(X_teste)\n",
    "\n",
    "# Nomalização de Y\n",
    "\n",
    "normalizador_padrao_Y = StandardScaler()\n",
    "\n",
    "# Remodelando Y_treino para o formato correto (matriz de uma coluna)\n",
    "normalizador_padrao_Y.fit(Y_treino.reshape(-1, 1))\n",
    "\n",
    "Y_treino_normalizado_padrao = normalizador_padrao_Y.transform(Y_treino.reshape(-1, 1)).ravel()\n",
    "\n",
    "# Transformando Y_teste com o mesmo scaler\n",
    "Y_teste_normalizado_padrao = normalizador_padrao_Y.transform(Y_teste.reshape(-1, 1)).ravel()\n"
   ]
  },
  {
   "cell_type": "markdown",
   "metadata": {},
   "source": [
    "--------------------\n",
    "\n",
    "### <center> Modelo Baseline </center>"
   ]
  },
  {
   "cell_type": "markdown",
   "metadata": {},
   "source": [
    "Primeiramente, será feito um baseline ou dummy, para podermos comparar os outros modelos a este, se os próximos modelos forem piores que este, é porquê os outros modelos são muito ruins."
   ]
  },
  {
   "cell_type": "code",
   "execution_count": 40,
   "metadata": {},
   "outputs": [
    {
     "name": "stdout",
     "output_type": "stream",
     "text": [
      "[35.45374409 35.45374409 35.45374409 35.45374409 35.45374409 35.45374409\n",
      " 35.45374409 35.45374409 35.45374409 35.45374409 35.45374409 35.45374409\n",
      " 35.45374409 35.45374409 35.45374409 35.45374409 35.45374409 35.45374409\n",
      " 35.45374409 35.45374409 35.45374409 35.45374409 35.45374409 35.45374409\n",
      " 35.45374409 35.45374409 35.45374409 35.45374409 35.45374409 35.45374409\n",
      " 35.45374409 35.45374409 35.45374409 35.45374409 35.45374409 35.45374409\n",
      " 35.45374409 35.45374409 35.45374409 35.45374409 35.45374409 35.45374409\n",
      " 35.45374409 35.45374409 35.45374409 35.45374409 35.45374409 35.45374409\n",
      " 35.45374409 35.45374409 35.45374409 35.45374409 35.45374409 35.45374409\n",
      " 35.45374409 35.45374409 35.45374409 35.45374409 35.45374409 35.45374409\n",
      " 35.45374409 35.45374409 35.45374409 35.45374409 35.45374409 35.45374409\n",
      " 35.45374409 35.45374409 35.45374409 35.45374409 35.45374409 35.45374409\n",
      " 35.45374409 35.45374409 35.45374409 35.45374409 35.45374409 35.45374409\n",
      " 35.45374409 35.45374409 35.45374409 35.45374409 35.45374409 35.45374409\n",
      " 35.45374409 35.45374409 35.45374409 35.45374409 35.45374409 35.45374409\n",
      " 35.45374409 35.45374409 35.45374409 35.45374409 35.45374409 35.45374409\n",
      " 35.45374409 35.45374409 35.45374409 35.45374409 35.45374409 35.45374409\n",
      " 35.45374409]\n"
     ]
    }
   ],
   "source": [
    "from sklearn.dummy import DummyRegressor\n",
    "\n",
    "modelo_baseline = DummyRegressor()\n",
    "\n",
    "modelo_baseline.fit(X_treino, Y_treino)\n",
    "\n",
    "y_previsto_baseline = modelo_baseline.predict(X_teste)\n",
    "\n",
    "print(y_previsto_baseline)"
   ]
  },
  {
   "cell_type": "markdown",
   "metadata": {},
   "source": [
    "Vamos computar o RMSE desse modelo:"
   ]
  },
  {
   "cell_type": "code",
   "execution_count": 41,
   "metadata": {},
   "outputs": [
    {
     "name": "stdout",
     "output_type": "stream",
     "text": [
      "18.078368524210187\n"
     ]
    },
    {
     "name": "stderr",
     "output_type": "stream",
     "text": [
      "C:\\Users\\jose24028\\AppData\\Roaming\\Python\\Python311\\site-packages\\sklearn\\metrics\\_regression.py:492: FutureWarning: 'squared' is deprecated in version 1.4 and will be removed in 1.6. To calculate the root mean squared error, use the function'root_mean_squared_error'.\n",
      "  warnings.warn(\n"
     ]
    }
   ],
   "source": [
    "from sklearn.metrics import mean_squared_error\n",
    "\n",
    "y_verdadeiro = Y_teste\n",
    "\n",
    "RMSE_baseline = mean_squared_error(y_verdadeiro, y_previsto_baseline, squared=False)\n",
    "print(RMSE_baseline)"
   ]
  },
  {
   "cell_type": "markdown",
   "metadata": {},
   "source": [
    "Obteve-se um RMSE alto obviamente, pois foi utilizado um modelo muito simples para esse problema, dessa forma, vamos testar outro modelos preditivos, para verificar, qual é o melhor possível, isto é, com menor RMSE."
   ]
  },
  {
   "cell_type": "markdown",
   "metadata": {},
   "source": [
    "--------------\n",
    "\n",
    "## <center> Modelo Linear Múltiplo </center>\n",
    "\n",
    "### Sem normalização dos dados:"
   ]
  },
  {
   "cell_type": "code",
   "execution_count": 42,
   "metadata": {},
   "outputs": [
    {
     "name": "stdout",
     "output_type": "stream",
     "text": [
      "[39.91961469 26.07760483 28.38423105 51.58688335 21.6175739  47.77903133\n",
      " 49.35674159 58.24280461 25.93704192 31.74666237 49.92893338 30.46748268\n",
      " 21.53815274 59.48918975 23.83017019 24.1196251  25.79883851 71.04636506\n",
      " 60.41074878 19.97398948 31.81064914 40.57355811 20.60952629 35.02391578\n",
      " 26.20284777 55.92038355 53.12102426 51.45146812 57.24212089 28.81184299\n",
      " 72.80893495 44.03555514 27.69414097 37.75935166 32.23648657 38.37175484\n",
      " 41.52579753 43.11717125 53.12102426 33.23498669 25.56164638 57.27381152\n",
      " 25.04208787 35.99381966 47.32410199 34.23010292 56.29709886 30.26754537\n",
      " 70.05973901 40.00555009 24.22166165 17.16112013 18.64240964 52.73099114\n",
      " 51.43523828 27.37735544 23.36232685 14.60231228 37.28597879 21.78649867\n",
      " 52.92849121 25.30007281 25.38360861 36.36319192 19.36776642 48.31147285\n",
      " 61.55012768 32.70815719 47.98254059 23.32304086 20.12251733 23.47387669\n",
      " 50.9792253  39.03604152 31.57688318 33.34270781 20.7523343  18.12151299\n",
      " 37.85961845 28.32200376 37.67842428 33.27815583 49.92893338 34.10193484\n",
      " 50.40861832 44.20205336 38.3588692  34.88125065 28.16487416 26.19941898\n",
      " 32.51605404 49.49706999 28.55015167 31.46489169 39.33321656 23.47252718\n",
      " 23.13724771 24.07135779 42.92904917 36.59257819 56.18009375 60.43421177\n",
      " 42.45706753]\n"
     ]
    }
   ],
   "source": [
    "from sklearn.linear_model import LinearRegression\n",
    "\n",
    "modelo_linear_multiplo = LinearRegression()\n",
    "\n",
    "modelo_linear_multiplo.fit(X_treino, Y_treino)\n",
    "\n",
    "y_previsto_linear_multiplo = modelo_linear_multiplo.predict(X_teste)\n",
    "\n",
    "print(y_previsto_linear_multiplo)\n"
   ]
  },
  {
   "cell_type": "code",
   "execution_count": 43,
   "metadata": {},
   "outputs": [
    {
     "name": "stdout",
     "output_type": "stream",
     "text": [
      "11.22409700924259\n"
     ]
    },
    {
     "name": "stderr",
     "output_type": "stream",
     "text": [
      "C:\\Users\\jose24028\\AppData\\Roaming\\Python\\Python311\\site-packages\\sklearn\\metrics\\_regression.py:492: FutureWarning: 'squared' is deprecated in version 1.4 and will be removed in 1.6. To calculate the root mean squared error, use the function'root_mean_squared_error'.\n",
      "  warnings.warn(\n"
     ]
    }
   ],
   "source": [
    "RMSE_linear_multiplo = mean_squared_error(y_verdadeiro, y_previsto_linear_multiplo, squared=False)\n",
    "print(RMSE_linear_multiplo)"
   ]
  },
  {
   "cell_type": "markdown",
   "metadata": {},
   "source": [
    "Vamos calcular o coeficiente de determinação ou $R^2$ para verificar o quão boa é a proporção da variação da variável dependente (target) que é explicada/predita pela variável independente (atributos). E para isso, deve-se saber se o modelo possui ou não intercepto igual a 0 ou diferente de 0."
   ]
  },
  {
   "cell_type": "code",
   "execution_count": 44,
   "metadata": {},
   "outputs": [
    {
     "name": "stdout",
     "output_type": "stream",
     "text": [
      "O intercepto é -4.71749058793489\n",
      "O intercepto é diferente de 0: True\n"
     ]
    }
   ],
   "source": [
    "print('O intercepto é {}'.format(modelo_linear_multiplo.intercept_))\n",
    "print('O intercepto é diferente de 0: {}'.format(modelo_linear_multiplo.intercept_ != 0))"
   ]
  },
  {
   "cell_type": "markdown",
   "metadata": {},
   "source": [
    "Dessa forma, podemos calcular o coeficiente de determinação da seguite forma:"
   ]
  },
  {
   "cell_type": "code",
   "execution_count": 45,
   "metadata": {},
   "outputs": [
    {
     "name": "stdout",
     "output_type": "stream",
     "text": [
      "O coeficiente de determinação do modelo foi de 0.5982399464195951 unidades de y.\n"
     ]
    }
   ],
   "source": [
    "from sklearn.metrics import r2_score\n",
    "\n",
    "R2_MODELO_LINEAR_MULTIPLO = r2_score(Y_teste, y_previsto_linear_multiplo)\n",
    "print(\"O coeficiente de determinação do modelo foi de {} unidades de y.\".format(R2_MODELO_LINEAR_MULTIPLO))\n"
   ]
  },
  {
   "cell_type": "markdown",
   "metadata": {},
   "source": [
    "### Com normalizador padrão dos dados dos atributos:"
   ]
  },
  {
   "cell_type": "markdown",
   "metadata": {},
   "source": [
    "Com o modelo linear múltiplo foi possível alcançar um RMSE menor que o baseline, mas ainda muito alto. Mas e se fizermos com os dados normalizados pelo normalizador padrão?"
   ]
  },
  {
   "cell_type": "code",
   "execution_count": 46,
   "metadata": {},
   "outputs": [
    {
     "name": "stdout",
     "output_type": "stream",
     "text": [
      "[39.91961469 26.07760483 28.38423105 51.58688335 21.6175739  47.77903133\n",
      " 49.35674159 58.24280461 25.93704192 31.74666237 49.92893338 30.46748268\n",
      " 21.53815274 59.48918975 23.83017019 24.1196251  25.79883851 71.04636506\n",
      " 60.41074878 19.97398948 31.81064914 40.57355811 20.60952629 35.02391578\n",
      " 26.20284777 55.92038355 53.12102426 51.45146812 57.24212089 28.81184299\n",
      " 72.80893495 44.03555514 27.69414097 37.75935166 32.23648657 38.37175484\n",
      " 41.52579753 43.11717125 53.12102426 33.23498669 25.56164638 57.27381152\n",
      " 25.04208787 35.99381966 47.32410199 34.23010292 56.29709886 30.26754537\n",
      " 70.05973901 40.00555009 24.22166165 17.16112013 18.64240964 52.73099114\n",
      " 51.43523828 27.37735544 23.36232685 14.60231228 37.28597879 21.78649867\n",
      " 52.92849121 25.30007281 25.38360861 36.36319192 19.36776642 48.31147285\n",
      " 61.55012768 32.70815719 47.98254059 23.32304086 20.12251733 23.47387669\n",
      " 50.9792253  39.03604152 31.57688318 33.34270781 20.7523343  18.12151299\n",
      " 37.85961845 28.32200376 37.67842428 33.27815583 49.92893338 34.10193484\n",
      " 50.40861832 44.20205336 38.3588692  34.88125065 28.16487416 26.19941898\n",
      " 32.51605404 49.49706999 28.55015167 31.46489169 39.33321656 23.47252718\n",
      " 23.13724771 24.07135779 42.92904917 36.59257819 56.18009375 60.43421177\n",
      " 42.45706753]\n"
     ]
    }
   ],
   "source": [
    "modelo_linear_multiplo_normalizado = LinearRegression()\n",
    "\n",
    "modelo_linear_multiplo_normalizado.fit(X_treino_normalizado_padrao, Y_treino)\n",
    "\n",
    "y_previsto_linear_multiplo_normalizado = modelo_linear_multiplo_normalizado.predict(X_teste_normalizado_padrao)\n",
    "\n",
    "print(y_previsto_linear_multiplo_normalizado)"
   ]
  },
  {
   "cell_type": "code",
   "execution_count": 47,
   "metadata": {},
   "outputs": [
    {
     "name": "stdout",
     "output_type": "stream",
     "text": [
      "O RMSE do modelo foi de 11.224097009242593 unidades de y.\n"
     ]
    },
    {
     "name": "stderr",
     "output_type": "stream",
     "text": [
      "C:\\Users\\jose24028\\AppData\\Roaming\\Python\\Python311\\site-packages\\sklearn\\metrics\\_regression.py:492: FutureWarning: 'squared' is deprecated in version 1.4 and will be removed in 1.6. To calculate the root mean squared error, use the function'root_mean_squared_error'.\n",
      "  warnings.warn(\n"
     ]
    }
   ],
   "source": [
    "RMSE_linear_multiplo_normalizado = mean_squared_error(y_verdadeiro, y_previsto_linear_multiplo_normalizado, squared=False)\n",
    "print(f\"O RMSE do modelo foi de {RMSE_linear_multiplo_normalizado} unidades de y.\")"
   ]
  },
  {
   "cell_type": "code",
   "execution_count": 48,
   "metadata": {},
   "outputs": [
    {
     "name": "stdout",
     "output_type": "stream",
     "text": [
      "O coeficiente de determinação do modelo foi de 0.5982399464195949 unidades de y.\n"
     ]
    }
   ],
   "source": [
    "R2_MODELO_LINEAR_MULTIPLO_NORMALIZADO = r2_score(y_verdadeiro, y_previsto_linear_multiplo_normalizado)\n",
    "print(\"O coeficiente de determinação do modelo foi de {} unidades de y.\".format(R2_MODELO_LINEAR_MULTIPLO_NORMALIZADO))"
   ]
  },
  {
   "cell_type": "markdown",
   "metadata": {},
   "source": [
    "### Usar Pipeline para aplicar normalização MaxAbsScaler (Pelo Máximo Absoluto)"
   ]
  },
  {
   "cell_type": "code",
   "execution_count": 49,
   "metadata": {},
   "outputs": [
    {
     "name": "stdout",
     "output_type": "stream",
     "text": [
      "O RMSE do modelo foi de 11.224097009242591 unidades de y.\n",
      "O modelo tem intercepto? True\n",
      "Valor do intercepto: -4.717490587934293\n",
      "O valor de R² do modelo é: 0.598239946419595\n"
     ]
    }
   ],
   "source": [
    "from sklearn.pipeline import make_pipeline\n",
    "from sklearn.preprocessing import MaxAbsScaler\n",
    "from sklearn.linear_model import LinearRegression\n",
    "\n",
    "modelo_linear_regression_pipeline_MaxAbsScaler = make_pipeline(\n",
    "    MaxAbsScaler(),\n",
    "    LinearRegression(),\n",
    ")\n",
    "\n",
    "modelo_linear_regression_pipeline_MaxAbsScaler.fit(X_treino, Y_treino)\n",
    "\n",
    "y_previsto_linear_regression_pipeline_MaxAbsScaler = modelo_linear_regression_pipeline_MaxAbsScaler.predict(X_teste)\n",
    "\n",
    "RMSE_pipeline_linear_regression_MaxAbsScaler = mean_squared_error(y_verdadeiro, y_previsto_linear_regression_pipeline_MaxAbsScaler) ** (1/2)\n",
    "\n",
    "print(f\"O RMSE do modelo foi de {RMSE_pipeline_linear_regression_MaxAbsScaler} unidades de y.\")\n",
    "\n",
    "\n",
    "modelo_linear_MaxAbsScaler = modelo_linear_regression_pipeline_MaxAbsScaler.named_steps['linearregression']\n",
    "\n",
    "print(f\"O modelo tem intercepto? {modelo_linear_MaxAbsScaler.fit_intercept}\")\n",
    "print(f\"Valor do intercepto: {modelo_linear_MaxAbsScaler.intercept_}\")\n",
    "\n",
    "if modelo_linear_MaxAbsScaler.intercept_ != 0:\n",
    "    R2_MODELO_LINEAR_MULTIPLO_MaxAbsScaler = r2_score(Y_teste, y_previsto_linear_regression_pipeline_MaxAbsScaler)\n",
    "    print(f\"O valor de R² do modelo é: {R2_MODELO_LINEAR_MULTIPLO_MaxAbsScaler}\")"
   ]
  },
  {
   "cell_type": "markdown",
   "metadata": {},
   "source": [
    "### Usar Pipeline para aplicar normalização MinMaxScaler (Pelo Mínimo e Máximo)"
   ]
  },
  {
   "cell_type": "code",
   "execution_count": 50,
   "metadata": {},
   "outputs": [
    {
     "name": "stdout",
     "output_type": "stream",
     "text": [
      "O RMSE do modelo foi de 11.22409700924259 unidades de y.\n",
      "O modelo tem intercepto? True\n",
      "Valor do intercepto: 3.098907596103132\n",
      "O valor de R² do modelo é: 0.5982399464195951\n"
     ]
    }
   ],
   "source": [
    "from sklearn.pipeline import make_pipeline\n",
    "from sklearn.preprocessing import MinMaxScaler\n",
    "from sklearn.linear_model import LinearRegression\n",
    "\n",
    "modelo_linear_regression_pipeline_MinMaxScaler = make_pipeline(\n",
    "    MinMaxScaler(),\n",
    "    LinearRegression(),\n",
    ")\n",
    "\n",
    "modelo_linear_regression_pipeline_MinMaxScaler.fit(X_treino, Y_treino)\n",
    "\n",
    "y_previsto_linear_regression_pipeline_MinMaxScaler = modelo_linear_regression_pipeline_MinMaxScaler.predict(X_teste)\n",
    "\n",
    "RMSE_pipeline_linear_regression_MinMaxScaler = mean_squared_error(y_verdadeiro, y_previsto_linear_regression_pipeline_MinMaxScaler) ** (1/2)\n",
    "\n",
    "print(f\"O RMSE do modelo foi de {RMSE_pipeline_linear_regression_MinMaxScaler} unidades de y.\")\n",
    "\n",
    "modelo_linear_MinMaxScaler = modelo_linear_regression_pipeline_MinMaxScaler.named_steps['linearregression']\n",
    "\n",
    "print(f\"O modelo tem intercepto? {modelo_linear_MinMaxScaler.fit_intercept}\")\n",
    "print(f\"Valor do intercepto: {modelo_linear_MinMaxScaler.intercept_}\")\n",
    "\n",
    "if modelo_linear_MinMaxScaler.intercept_ != 0:\n",
    "    R2_MODELO_LINEAR_MULTIPLO_MinMaxScaler = r2_score(Y_teste, y_previsto_linear_regression_pipeline_MinMaxScaler)\n",
    "    print(f\"O valor de R² do modelo é: {R2_MODELO_LINEAR_MULTIPLO_MinMaxScaler}\")"
   ]
  },
  {
   "cell_type": "markdown",
   "metadata": {},
   "source": [
    "As normalizações não fizeram muita diferença para este modelo regressão linear múltipla"
   ]
  },
  {
   "cell_type": "markdown",
   "metadata": {},
   "source": [
    "---------------\n",
    "\n",
    "## <center> K-vizinhos mais próximos </center>\n"
   ]
  },
  {
   "cell_type": "markdown",
   "metadata": {},
   "source": [
    "#### Sem normalização dos dados:"
   ]
  },
  {
   "cell_type": "code",
   "execution_count": 51,
   "metadata": {},
   "outputs": [
    {
     "name": "stdout",
     "output_type": "stream",
     "text": [
      "[55.61887979 20.05455859 28.81756872 43.10866609 25.53819104 32.37319645\n",
      " 47.67266889 41.34718624 15.73614057 20.29587519 33.16051238 28.10534001\n",
      " 17.26654747 62.96524657 23.77543073 18.74156646 20.52110401 45.88692605\n",
      " 79.29663476 18.10632924 36.52154372 62.80965482 13.23081461 39.38516737\n",
      " 12.85826775 55.69816953 33.16051238 37.58517536 45.73294308 29.69573132\n",
      " 64.16493481 35.66429523 39.39275161 35.5234123  29.82144578 24.33528525\n",
      " 52.24619303 45.3013311  33.16051238 37.51806637 16.34908474 59.56383164\n",
      " 39.18751759 33.25342748 39.16913156 28.33378639 56.59678659 25.60024388\n",
      " 46.40931904 52.77777902 22.29535559 18.2692754  34.32349423 56.29801365\n",
      " 37.79017956 47.58464579 34.53148616 13.12256688 40.84892492 22.04484597\n",
      " 41.56620979 20.73920825 28.84537759 19.16950123 20.18326077 52.93796728\n",
      " 54.03193587 42.66707313 39.31185309 24.16843205 22.74282551 20.20854156\n",
      " 32.24219601 59.89363099 33.88314889 35.59764588 20.2361206  21.91545431\n",
      " 30.91357576 30.86002646 35.52157369 40.40099535 33.16051238 30.6653644\n",
      " 54.99007768 50.69027552 47.61291431 39.38516737 20.15430278 12.85826775\n",
      " 39.96662547 47.73767663 33.77742924 38.82761111 28.29149853 13.617151\n",
      " 14.31742879 12.19912869 51.58199781 33.08312691 50.93159212 45.73294308\n",
      " 53.606759  ]\n"
     ]
    }
   ],
   "source": [
    "from sklearn.neighbors import KNeighborsRegressor\n",
    "\n",
    "# Criar uma instância do modelo\n",
    "NUM_VIZINHOS = 3\n",
    "modelo_knn = KNeighborsRegressor(n_neighbors=NUM_VIZINHOS)\n",
    "\n",
    "# Ajustar o modelo aos dados\n",
    "modelo_knn.fit(X_treino, Y_treino)\n",
    "\n",
    "y_previsto_knn = modelo_knn.predict(X_teste)\n",
    "print(y_previsto_knn)"
   ]
  },
  {
   "cell_type": "code",
   "execution_count": 52,
   "metadata": {},
   "outputs": [
    {
     "name": "stdout",
     "output_type": "stream",
     "text": [
      "O RMSE do modelo knn foi de 11.04203601818492 unidades de y.\n"
     ]
    },
    {
     "name": "stderr",
     "output_type": "stream",
     "text": [
      "C:\\Users\\jose24028\\AppData\\Roaming\\Python\\Python311\\site-packages\\sklearn\\metrics\\_regression.py:492: FutureWarning: 'squared' is deprecated in version 1.4 and will be removed in 1.6. To calculate the root mean squared error, use the function'root_mean_squared_error'.\n",
      "  warnings.warn(\n"
     ]
    }
   ],
   "source": [
    "RMSE_knn = mean_squared_error(y_verdadeiro, y_previsto_knn, squared=False)\n",
    "\n",
    "print(f\"O RMSE do modelo knn foi de {RMSE_knn} unidades de y.\")"
   ]
  },
  {
   "cell_type": "markdown",
   "metadata": {},
   "source": [
    "### Com normalização padrão dos dados dos atributos:\n",
    "\n",
    "Vamos testar com os dados normalizados pela normalização padrão."
   ]
  },
  {
   "cell_type": "code",
   "execution_count": 53,
   "metadata": {},
   "outputs": [
    {
     "name": "stdout",
     "output_type": "stream",
     "text": [
      "[55.61887979 24.32471328 28.81756872 43.10866609 30.95977065 36.08257733\n",
      " 47.67266889 46.11560226 24.26495869 25.60024388 32.66802953 28.10534001\n",
      " 24.81630967 62.96524657 23.54790365 31.55363931 20.52110401 46.11537243\n",
      " 79.29663476 12.57052643 37.86832017 62.80965482 13.23081461 39.38516737\n",
      " 15.46954319 55.69816953 32.66802953 64.72570863 45.73294308 29.69573132\n",
      " 64.16493481 38.99515378 35.66429523 37.64515977 36.26276039 24.33528525\n",
      " 53.48954808 47.12775303 32.66802953 33.77076431 16.34908474 59.56383164\n",
      " 30.64261169 31.9572126  42.45103732 24.02754912 56.59678659 25.60024388\n",
      " 50.78565303 48.30330961 26.69191421 18.2692754  33.67492714 56.29801365\n",
      " 37.79017956 47.61774064 26.28512337 15.41599388 39.4561834  22.04484597\n",
      " 41.56620979 34.74982023 28.84537759 19.16950123 20.18326077 58.85596961\n",
      " 54.03193587 41.21687528 45.59274963 24.16843205 25.35433077 20.20854156\n",
      " 32.24219601 56.45636331 33.88314889 35.72864632 20.21543632 15.02483117\n",
      " 30.91357576 30.86002646 37.19677055 40.40099535 32.66802953 34.25017995\n",
      " 54.99007768 50.35473053 47.61291431 39.38516737 20.69508179 15.46954319\n",
      " 37.97174157 47.73767663 33.77742924 38.82761111 28.14900683 13.617151\n",
      " 14.31742879 15.23443187 53.54470616 33.73583085 50.93159212 45.73294308\n",
      " 53.606759  ]\n"
     ]
    }
   ],
   "source": [
    "modelo_knn_normalizado = KNeighborsRegressor(n_neighbors=NUM_VIZINHOS)\n",
    "\n",
    "# Ajustar o modelo aos dados\n",
    "modelo_knn_normalizado.fit(X_treino_normalizado_padrao, Y_treino)\n",
    "\n",
    "y_previsto_knn_normalizado = modelo_knn_normalizado.predict(X_teste_normalizado_padrao)\n",
    "print(y_previsto_knn_normalizado)"
   ]
  },
  {
   "cell_type": "code",
   "execution_count": 54,
   "metadata": {},
   "outputs": [
    {
     "name": "stdout",
     "output_type": "stream",
     "text": [
      "O RMSE do modelo knn com dados normalizado pela normalização padrão foi de 10.409808260245157 unidades de y.\n"
     ]
    },
    {
     "name": "stderr",
     "output_type": "stream",
     "text": [
      "C:\\Users\\jose24028\\AppData\\Roaming\\Python\\Python311\\site-packages\\sklearn\\metrics\\_regression.py:492: FutureWarning: 'squared' is deprecated in version 1.4 and will be removed in 1.6. To calculate the root mean squared error, use the function'root_mean_squared_error'.\n",
      "  warnings.warn(\n"
     ]
    }
   ],
   "source": [
    "RMSE_knn_normalizado = mean_squared_error(y_verdadeiro, y_previsto_knn_normalizado, squared=False)\n",
    "\n",
    "print(f\"O RMSE do modelo knn com dados normalizado pela normalização padrão foi de {RMSE_knn_normalizado} unidades de y.\")"
   ]
  },
  {
   "cell_type": "markdown",
   "metadata": {},
   "source": [
    "### Usar Pipeline para aplicar normalização MaxAbsScaler (Pelo Máximo Absoluto)"
   ]
  },
  {
   "cell_type": "code",
   "execution_count": 55,
   "metadata": {},
   "outputs": [
    {
     "name": "stdout",
     "output_type": "stream",
     "text": [
      "O RMSE do modelo foi de 10.067052010903774 unidades de y.\n"
     ]
    }
   ],
   "source": [
    "from sklearn.pipeline import make_pipeline\n",
    "from sklearn.preprocessing import MaxAbsScaler\n",
    "from sklearn.neighbors import KNeighborsRegressor\n",
    "\n",
    "modelo_knn_pipeline_MaxAbsScaler = make_pipeline(\n",
    "    MaxAbsScaler(),\n",
    "    KNeighborsRegressor(n_neighbors=NUM_VIZINHOS),\n",
    ")\n",
    "\n",
    "modelo_knn_pipeline_MaxAbsScaler.fit(X_treino, Y_treino)\n",
    "\n",
    "y_previsto_knn_pipeline_MaxAbsScaler = modelo_knn_pipeline_MaxAbsScaler.predict(X_teste)\n",
    "\n",
    "RMSE_pipeline_knn_MaxAbsScaler = mean_squared_error(y_verdadeiro, y_previsto_knn_pipeline_MaxAbsScaler) ** (1/2)\n",
    "\n",
    "print(f\"O RMSE do modelo foi de {RMSE_pipeline_knn_MaxAbsScaler} unidades de y.\")"
   ]
  },
  {
   "cell_type": "markdown",
   "metadata": {},
   "source": [
    "### Usar Pipeline para aplicar normalização MinMaxScaler (Pelo Mínimo e Máximo)"
   ]
  },
  {
   "cell_type": "code",
   "execution_count": 56,
   "metadata": {},
   "outputs": [
    {
     "name": "stdout",
     "output_type": "stream",
     "text": [
      "O RMSE do modelo foi de 10.981967636066956 unidades de y.\n"
     ]
    }
   ],
   "source": [
    "from sklearn.pipeline import make_pipeline\n",
    "from sklearn.preprocessing import MinMaxScaler\n",
    "from sklearn.neighbors import KNeighborsRegressor\n",
    "\n",
    "modelo_knn_pipeline_MinMaxScaler = make_pipeline(\n",
    "    MinMaxScaler(),\n",
    "    KNeighborsRegressor(n_neighbors=NUM_VIZINHOS),\n",
    ")\n",
    "\n",
    "modelo_knn_pipeline_MinMaxScaler.fit(X_treino, Y_treino)\n",
    "\n",
    "y_previsto_knn_pipeline_MinMaxScaler = modelo_knn_pipeline_MinMaxScaler.predict(X_teste)\n",
    "\n",
    "RMSE_pipeline_knn_MinMaxScaler = mean_squared_error(y_verdadeiro, y_previsto_knn_pipeline_MinMaxScaler) ** (1/2)\n",
    "\n",
    "print(f\"O RMSE do modelo foi de {RMSE_pipeline_knn_MinMaxScaler } unidades de y.\")"
   ]
  },
  {
   "cell_type": "markdown",
   "metadata": {},
   "source": [
    "Os resultado do RMSE quando foi normalizado e quando não foi normalizado, diferem entre si, o que demostra que há uma diferença para este modelo se realiza ou não a normalização, mas não é diferença substancial."
   ]
  },
  {
   "cell_type": "markdown",
   "metadata": {},
   "source": [
    "--------------\n",
    "\n",
    "## <center> Árvore de Decisão com Otimização de Hiperparâmetros </center>"
   ]
  },
  {
   "cell_type": "markdown",
   "metadata": {},
   "source": [
    "Primeiramente, importamos o módulo \"DecisionTreeRegressor\" para realizar uma regressão com árvore de decisão"
   ]
  },
  {
   "cell_type": "code",
   "execution_count": 57,
   "metadata": {},
   "outputs": [],
   "source": [
    "from sklearn.tree import DecisionTreeRegressor"
   ]
  },
  {
   "cell_type": "markdown",
   "metadata": {},
   "source": [
    "Posteriormente, criamos uma instância utilizando um dicionário com os parâmetros"
   ]
  },
  {
   "cell_type": "code",
   "execution_count": 58,
   "metadata": {},
   "outputs": [],
   "source": [
    "def cria_instancia_modelo_arvore_de_decisao(trial):\n",
    "    \"\"\"Cria uma instância do modelo.\n",
    "\n",
    "    Args:\n",
    "      trial: objeto tipo Trial do Optuna.\n",
    "\n",
    "    Returns:\n",
    "      Uma instância do DecisionTreeRegressor.\n",
    "    \"\"\"\n",
    "    parametros_arvore_de_decisao = {\n",
    "        \"criterion\": trial.suggest_categorical(\n",
    "            \"criterio\", [\"squared_error\", \"friedman_mse\", \"absolute_error\", \"poisson\"]\n",
    "        ),\n",
    "        \"splitter\": trial.suggest_categorical(\n",
    "            \"splitter\", [\"best\", \"random\"]\n",
    "        ),\n",
    "        # Profundidade entre 2 e 32 é razoável; limitar previne overfitting.\n",
    "        \"max_depth\": trial.suggest_int(\"profundidade_max\", 2, 32),\n",
    "        \n",
    "        # min_samples_split define o mínimo de exemplos para dividir um nó.\n",
    "        \"min_samples_split\": trial.suggest_int(\n",
    "            \"min_exemplos_split\", 2, 20\n",
    "        ),\n",
    "        \n",
    "        # min_samples_leaf define o mínimo de exemplos em uma folha.\n",
    "        \"min_samples_leaf\": trial.suggest_int(\n",
    "            \"min_exemplos_folha\", 1, 20\n",
    "        ),\n",
    "        \n",
    "        # max_features pode ser um valor numérico ou uma razão ('sqrt', 'log2').\n",
    "        \"max_features\": trial.suggest_categorical(\n",
    "            \"num_max_atributos\", [\"sqrt\", \"log2\", None]\n",
    "        ),\n",
    "        \n",
    "        # Fixa a aleatoriedade para reprodutibilidade.\n",
    "        \"random_state\": SEMENTE_ALEATORIA,\n",
    "    }\n",
    "\n",
    "    modelo_arvore_de_decisao = DecisionTreeRegressor(**parametros_arvore_de_decisao)\n",
    "\n",
    "    return modelo_arvore_de_decisao\n"
   ]
  },
  {
   "cell_type": "markdown",
   "metadata": {},
   "source": [
    "Definição da função objetivo"
   ]
  },
  {
   "cell_type": "code",
   "execution_count": 59,
   "metadata": {},
   "outputs": [],
   "source": [
    "from sklearn.model_selection import cross_val_score\n",
    "\n",
    "def funcao_objetivo_arvore_de_decisao(trial, X_treino, Y_treino, num_folds):\n",
    "    \"\"\"Função objetivo do optuna\n",
    "\n",
    "    Referencia:\n",
    "      https://medium.com/@walter_sperat/ using-optuna-with-sklearn-the-right-way-part-1-6b4ad0ab2451\n",
    "\n",
    "    \"\"\"\n",
    "    modelo_arvore_de_decisao = cria_instancia_modelo_arvore_de_decisao(trial)\n",
    "\n",
    "    metricas_arvore_de_decisao = cross_val_score(\n",
    "        modelo_arvore_de_decisao,\n",
    "        X_treino,\n",
    "        Y_treino,\n",
    "        scoring=\"neg_root_mean_squared_error\",\n",
    "        cv=num_folds,\n",
    "    )\n",
    "\n",
    "    # releia sobre scores no sklearn para relembrar porque tem um negativo abaixo\n",
    "    return -metricas_arvore_de_decisao.mean()"
   ]
  },
  {
   "cell_type": "markdown",
   "metadata": {},
   "source": [
    "Criação de um estudo para a otimização de hiperparâmetros"
   ]
  },
  {
   "cell_type": "code",
   "execution_count": 60,
   "metadata": {},
   "outputs": [
    {
     "name": "stderr",
     "output_type": "stream",
     "text": [
      "[I 2024-11-10 22:47:39,579] A new study created in RDB with name: arvore_aleatoria_Concrete_compressive_strength_4\n"
     ]
    }
   ],
   "source": [
    "from optuna import create_study\n",
    "\n",
    "NOME_DO_ESTUDO_ARVORE_DE_DECISAO = \"arvore_aleatoria_Concrete_compressive_strength_4\"\n",
    "\n",
    "objeto_de_estudo_arvore_de_decisao = create_study(\n",
    "    direction=\"minimize\",\n",
    "    study_name=NOME_DO_ESTUDO_ARVORE_DE_DECISAO,\n",
    "    storage=f\"sqlite:///{NOME_DO_ESTUDO_ARVORE_DE_DECISAO}.db\",\n",
    "    load_if_exists=True,\n",
    ")"
   ]
  },
  {
   "cell_type": "markdown",
   "metadata": {},
   "source": [
    "Quantidade de folds e definição da função parcial"
   ]
  },
  {
   "cell_type": "code",
   "execution_count": 61,
   "metadata": {},
   "outputs": [],
   "source": [
    "NUM_FOLDS_ARVORE_DE_DECISAO = 10\n",
    "\n",
    "def funcao_objetivo_parcial_arvore_de_decisao(trial):\n",
    "    return funcao_objetivo_arvore_de_decisao(trial, X_treino, Y_treino, NUM_FOLDS_ARVORE_DE_DECISAO)"
   ]
  },
  {
   "cell_type": "markdown",
   "metadata": {},
   "source": [
    "Número de tentativas e execução da otimização de parâmetros"
   ]
  },
  {
   "cell_type": "code",
   "execution_count": 62,
   "metadata": {},
   "outputs": [
    {
     "name": "stderr",
     "output_type": "stream",
     "text": [
      "[I 2024-11-10 22:47:39,889] Trial 0 finished with value: 13.902883790810128 and parameters: {'criterio': 'poisson', 'splitter': 'random', 'profundidade_max': 11, 'min_exemplos_split': 8, 'min_exemplos_folha': 19, 'num_max_atributos': 'sqrt'}. Best is trial 0 with value: 13.902883790810128.\n",
      "[I 2024-11-10 22:47:40,134] Trial 1 finished with value: 9.941327409027982 and parameters: {'criterio': 'friedman_mse', 'splitter': 'random', 'profundidade_max': 27, 'min_exemplos_split': 13, 'min_exemplos_folha': 13, 'num_max_atributos': None}. Best is trial 1 with value: 9.941327409027982.\n",
      "[I 2024-11-10 22:47:40,362] Trial 2 finished with value: 9.948810544186571 and parameters: {'criterio': 'poisson', 'splitter': 'best', 'profundidade_max': 27, 'min_exemplos_split': 5, 'min_exemplos_folha': 17, 'num_max_atributos': 'log2'}. Best is trial 1 with value: 9.941327409027982.\n",
      "[I 2024-11-10 22:47:40,619] Trial 3 finished with value: 10.08443876350491 and parameters: {'criterio': 'friedman_mse', 'splitter': 'best', 'profundidade_max': 16, 'min_exemplos_split': 11, 'min_exemplos_folha': 19, 'num_max_atributos': 'sqrt'}. Best is trial 1 with value: 9.941327409027982.\n",
      "[I 2024-11-10 22:47:41,096] Trial 4 finished with value: 9.335518684604663 and parameters: {'criterio': 'absolute_error', 'splitter': 'best', 'profundidade_max': 4, 'min_exemplos_split': 15, 'min_exemplos_folha': 9, 'num_max_atributos': None}. Best is trial 4 with value: 9.335518684604663.\n",
      "[I 2024-11-10 22:47:41,439] Trial 5 finished with value: 8.581813034653885 and parameters: {'criterio': 'absolute_error', 'splitter': 'random', 'profundidade_max': 9, 'min_exemplos_split': 9, 'min_exemplos_folha': 9, 'num_max_atributos': None}. Best is trial 5 with value: 8.581813034653885.\n",
      "[I 2024-11-10 22:47:41,745] Trial 6 finished with value: 9.739946584656707 and parameters: {'criterio': 'absolute_error', 'splitter': 'best', 'profundidade_max': 9, 'min_exemplos_split': 14, 'min_exemplos_folha': 12, 'num_max_atributos': 'sqrt'}. Best is trial 5 with value: 8.581813034653885.\n",
      "[I 2024-11-10 22:47:42,097] Trial 7 finished with value: 9.095783839082037 and parameters: {'criterio': 'absolute_error', 'splitter': 'best', 'profundidade_max': 20, 'min_exemplos_split': 4, 'min_exemplos_folha': 6, 'num_max_atributos': 'log2'}. Best is trial 5 with value: 8.581813034653885.\n",
      "[I 2024-11-10 22:47:42,313] Trial 8 finished with value: 12.06390480276571 and parameters: {'criterio': 'friedman_mse', 'splitter': 'random', 'profundidade_max': 18, 'min_exemplos_split': 20, 'min_exemplos_folha': 13, 'num_max_atributos': 'log2'}. Best is trial 5 with value: 8.581813034653885.\n",
      "[I 2024-11-10 22:47:42,563] Trial 9 finished with value: 14.967360920752295 and parameters: {'criterio': 'friedman_mse', 'splitter': 'random', 'profundidade_max': 3, 'min_exemplos_split': 7, 'min_exemplos_folha': 1, 'num_max_atributos': 'sqrt'}. Best is trial 5 with value: 8.581813034653885.\n",
      "[I 2024-11-10 22:47:42,813] Trial 10 finished with value: 8.097123758291684 and parameters: {'criterio': 'squared_error', 'splitter': 'random', 'profundidade_max': 10, 'min_exemplos_split': 18, 'min_exemplos_folha': 5, 'num_max_atributos': None}. Best is trial 10 with value: 8.097123758291684.\n",
      "[I 2024-11-10 22:47:43,064] Trial 11 finished with value: 8.141303923265566 and parameters: {'criterio': 'squared_error', 'splitter': 'random', 'profundidade_max': 11, 'min_exemplos_split': 20, 'min_exemplos_folha': 5, 'num_max_atributos': None}. Best is trial 10 with value: 8.097123758291684.\n",
      "[I 2024-11-10 22:47:43,335] Trial 12 finished with value: 7.739104351627885 and parameters: {'criterio': 'squared_error', 'splitter': 'random', 'profundidade_max': 13, 'min_exemplos_split': 20, 'min_exemplos_folha': 3, 'num_max_atributos': None}. Best is trial 12 with value: 7.739104351627885.\n",
      "[I 2024-11-10 22:47:43,579] Trial 13 finished with value: 7.802803554941479 and parameters: {'criterio': 'squared_error', 'splitter': 'random', 'profundidade_max': 15, 'min_exemplos_split': 17, 'min_exemplos_folha': 1, 'num_max_atributos': None}. Best is trial 12 with value: 7.739104351627885.\n",
      "[I 2024-11-10 22:47:43,829] Trial 14 finished with value: 7.818514179338496 and parameters: {'criterio': 'squared_error', 'splitter': 'random', 'profundidade_max': 22, 'min_exemplos_split': 17, 'min_exemplos_folha': 1, 'num_max_atributos': None}. Best is trial 12 with value: 7.739104351627885.\n",
      "[I 2024-11-10 22:47:44,080] Trial 15 finished with value: 7.8857728459896155 and parameters: {'criterio': 'squared_error', 'splitter': 'random', 'profundidade_max': 15, 'min_exemplos_split': 17, 'min_exemplos_folha': 3, 'num_max_atributos': None}. Best is trial 12 with value: 7.739104351627885.\n",
      "[I 2024-11-10 22:47:44,329] Trial 16 finished with value: 7.779580223503695 and parameters: {'criterio': 'squared_error', 'splitter': 'random', 'profundidade_max': 23, 'min_exemplos_split': 20, 'min_exemplos_folha': 3, 'num_max_atributos': None}. Best is trial 12 with value: 7.739104351627885.\n",
      "[I 2024-11-10 22:47:44,581] Trial 17 finished with value: 8.51153469638963 and parameters: {'criterio': 'squared_error', 'splitter': 'random', 'profundidade_max': 32, 'min_exemplos_split': 20, 'min_exemplos_folha': 7, 'num_max_atributos': None}. Best is trial 12 with value: 7.739104351627885.\n",
      "[I 2024-11-10 22:47:44,850] Trial 18 finished with value: 7.6351022404678215 and parameters: {'criterio': 'squared_error', 'splitter': 'random', 'profundidade_max': 24, 'min_exemplos_split': 15, 'min_exemplos_folha': 4, 'num_max_atributos': None}. Best is trial 18 with value: 7.6351022404678215.\n",
      "[I 2024-11-10 22:47:45,095] Trial 19 finished with value: 10.287076704597814 and parameters: {'criterio': 'squared_error', 'splitter': 'random', 'profundidade_max': 27, 'min_exemplos_split': 12, 'min_exemplos_folha': 3, 'num_max_atributos': 'log2'}. Best is trial 18 with value: 7.6351022404678215.\n",
      "[I 2024-11-10 22:47:45,342] Trial 20 finished with value: 8.37022790354987 and parameters: {'criterio': 'poisson', 'splitter': 'random', 'profundidade_max': 31, 'min_exemplos_split': 15, 'min_exemplos_folha': 7, 'num_max_atributos': None}. Best is trial 18 with value: 7.6351022404678215.\n",
      "[I 2024-11-10 22:47:45,613] Trial 21 finished with value: 7.489052154559947 and parameters: {'criterio': 'squared_error', 'splitter': 'random', 'profundidade_max': 23, 'min_exemplos_split': 18, 'min_exemplos_folha': 3, 'num_max_atributos': None}. Best is trial 21 with value: 7.489052154559947.\n",
      "[I 2024-11-10 22:47:45,879] Trial 22 finished with value: 8.210304036797652 and parameters: {'criterio': 'squared_error', 'splitter': 'random', 'profundidade_max': 24, 'min_exemplos_split': 18, 'min_exemplos_folha': 4, 'num_max_atributos': None}. Best is trial 21 with value: 7.489052154559947.\n",
      "[I 2024-11-10 22:47:46,131] Trial 23 finished with value: 8.421654678324746 and parameters: {'criterio': 'squared_error', 'splitter': 'random', 'profundidade_max': 19, 'min_exemplos_split': 15, 'min_exemplos_folha': 9, 'num_max_atributos': None}. Best is trial 21 with value: 7.489052154559947.\n",
      "[I 2024-11-10 22:47:46,379] Trial 24 finished with value: 6.909011526937905 and parameters: {'criterio': 'squared_error', 'splitter': 'random', 'profundidade_max': 25, 'min_exemplos_split': 2, 'min_exemplos_folha': 2, 'num_max_atributos': None}. Best is trial 24 with value: 6.909011526937905.\n",
      "[I 2024-11-10 22:47:46,630] Trial 25 finished with value: 7.746730014048069 and parameters: {'criterio': 'squared_error', 'splitter': 'random', 'profundidade_max': 26, 'min_exemplos_split': 3, 'min_exemplos_folha': 7, 'num_max_atributos': None}. Best is trial 24 with value: 6.909011526937905.\n",
      "[I 2024-11-10 22:47:46,901] Trial 26 finished with value: 6.626178537355881 and parameters: {'criterio': 'squared_error', 'splitter': 'best', 'profundidade_max': 30, 'min_exemplos_split': 10, 'min_exemplos_folha': 2, 'num_max_atributos': None}. Best is trial 26 with value: 6.626178537355881.\n",
      "[I 2024-11-10 22:47:47,199] Trial 27 finished with value: 6.217651040378903 and parameters: {'criterio': 'squared_error', 'splitter': 'best', 'profundidade_max': 30, 'min_exemplos_split': 2, 'min_exemplos_folha': 1, 'num_max_atributos': None}. Best is trial 27 with value: 6.217651040378903.\n",
      "[I 2024-11-10 22:47:47,464] Trial 28 finished with value: 7.606538365409757 and parameters: {'criterio': 'poisson', 'splitter': 'best', 'profundidade_max': 30, 'min_exemplos_split': 6, 'min_exemplos_folha': 1, 'num_max_atributos': 'sqrt'}. Best is trial 27 with value: 6.217651040378903.\n",
      "[I 2024-11-10 22:47:47,714] Trial 29 finished with value: 9.701793463908228 and parameters: {'criterio': 'poisson', 'splitter': 'best', 'profundidade_max': 29, 'min_exemplos_split': 2, 'min_exemplos_folha': 16, 'num_max_atributos': 'log2'}. Best is trial 27 with value: 6.217651040378903.\n",
      "[I 2024-11-10 22:47:47,978] Trial 30 finished with value: 7.788008056297523 and parameters: {'criterio': 'squared_error', 'splitter': 'best', 'profundidade_max': 29, 'min_exemplos_split': 9, 'min_exemplos_folha': 2, 'num_max_atributos': 'sqrt'}. Best is trial 27 with value: 6.217651040378903.\n",
      "[I 2024-11-10 22:47:48,263] Trial 31 finished with value: 6.421234742927696 and parameters: {'criterio': 'squared_error', 'splitter': 'best', 'profundidade_max': 21, 'min_exemplos_split': 2, 'min_exemplos_folha': 2, 'num_max_atributos': None}. Best is trial 27 with value: 6.217651040378903.\n",
      "[I 2024-11-10 22:47:48,545] Trial 32 finished with value: 7.074083273908684 and parameters: {'criterio': 'squared_error', 'splitter': 'best', 'profundidade_max': 21, 'min_exemplos_split': 2, 'min_exemplos_folha': 5, 'num_max_atributos': None}. Best is trial 27 with value: 6.217651040378903.\n",
      "[I 2024-11-10 22:47:48,814] Trial 33 finished with value: 6.421234742927696 and parameters: {'criterio': 'squared_error', 'splitter': 'best', 'profundidade_max': 26, 'min_exemplos_split': 4, 'min_exemplos_folha': 2, 'num_max_atributos': None}. Best is trial 27 with value: 6.217651040378903.\n",
      "[I 2024-11-10 22:47:49,078] Trial 34 finished with value: 6.744960998239075 and parameters: {'criterio': 'friedman_mse', 'splitter': 'best', 'profundidade_max': 28, 'min_exemplos_split': 4, 'min_exemplos_folha': 4, 'num_max_atributos': None}. Best is trial 27 with value: 6.217651040378903.\n",
      "[I 2024-11-10 22:47:49,363] Trial 35 finished with value: 6.428515830290479 and parameters: {'criterio': 'squared_error', 'splitter': 'best', 'profundidade_max': 32, 'min_exemplos_split': 5, 'min_exemplos_folha': 2, 'num_max_atributos': None}. Best is trial 27 with value: 6.217651040378903.\n",
      "[I 2024-11-10 22:47:49,629] Trial 36 finished with value: 7.253014064826654 and parameters: {'criterio': 'poisson', 'splitter': 'best', 'profundidade_max': 26, 'min_exemplos_split': 5, 'min_exemplos_folha': 6, 'num_max_atributos': None}. Best is trial 27 with value: 6.217651040378903.\n",
      "[I 2024-11-10 22:47:50,131] Trial 37 finished with value: 7.97896421885916 and parameters: {'criterio': 'absolute_error', 'splitter': 'best', 'profundidade_max': 32, 'min_exemplos_split': 4, 'min_exemplos_folha': 20, 'num_max_atributos': None}. Best is trial 27 with value: 6.217651040378903.\n",
      "[I 2024-11-10 22:47:50,380] Trial 38 finished with value: 7.439007404376899 and parameters: {'criterio': 'squared_error', 'splitter': 'best', 'profundidade_max': 28, 'min_exemplos_split': 7, 'min_exemplos_folha': 1, 'num_max_atributos': 'log2'}. Best is trial 27 with value: 6.217651040378903.\n",
      "[I 2024-11-10 22:47:50,766] Trial 39 finished with value: 9.553514604432802 and parameters: {'criterio': 'friedman_mse', 'splitter': 'best', 'profundidade_max': 32, 'min_exemplos_split': 3, 'min_exemplos_folha': 12, 'num_max_atributos': 'sqrt'}. Best is trial 27 with value: 6.217651040378903.\n",
      "[I 2024-11-10 22:47:51,044] Trial 40 finished with value: 8.117899673455934 and parameters: {'criterio': 'squared_error', 'splitter': 'best', 'profundidade_max': 6, 'min_exemplos_split': 5, 'min_exemplos_folha': 10, 'num_max_atributos': None}. Best is trial 27 with value: 6.217651040378903.\n",
      "[I 2024-11-10 22:47:51,313] Trial 41 finished with value: 6.626178537355881 and parameters: {'criterio': 'squared_error', 'splitter': 'best', 'profundidade_max': 30, 'min_exemplos_split': 10, 'min_exemplos_folha': 2, 'num_max_atributos': None}. Best is trial 27 with value: 6.217651040378903.\n",
      "[I 2024-11-10 22:47:51,863] Trial 42 finished with value: 6.495661672605214 and parameters: {'criterio': 'absolute_error', 'splitter': 'best', 'profundidade_max': 30, 'min_exemplos_split': 3, 'min_exemplos_folha': 2, 'num_max_atributos': None}. Best is trial 27 with value: 6.217651040378903.\n",
      "[I 2024-11-10 22:47:52,429] Trial 43 finished with value: 7.221307758104787 and parameters: {'criterio': 'absolute_error', 'splitter': 'best', 'profundidade_max': 27, 'min_exemplos_split': 3, 'min_exemplos_folha': 4, 'num_max_atributos': None}. Best is trial 27 with value: 6.217651040378903.\n",
      "[I 2024-11-10 22:47:53,012] Trial 44 finished with value: 6.569546802729893 and parameters: {'criterio': 'absolute_error', 'splitter': 'best', 'profundidade_max': 28, 'min_exemplos_split': 6, 'min_exemplos_folha': 2, 'num_max_atributos': None}. Best is trial 27 with value: 6.217651040378903.\n",
      "[I 2024-11-10 22:47:53,528] Trial 45 finished with value: 7.551749789876472 and parameters: {'criterio': 'absolute_error', 'splitter': 'best', 'profundidade_max': 25, 'min_exemplos_split': 4, 'min_exemplos_folha': 15, 'num_max_atributos': None}. Best is trial 27 with value: 6.217651040378903.\n",
      "[I 2024-11-10 22:47:53,881] Trial 46 finished with value: 9.095783839082037 and parameters: {'criterio': 'absolute_error', 'splitter': 'best', 'profundidade_max': 31, 'min_exemplos_split': 3, 'min_exemplos_folha': 6, 'num_max_atributos': 'log2'}. Best is trial 27 with value: 6.217651040378903.\n",
      "[I 2024-11-10 22:47:54,212] Trial 47 finished with value: 8.577475232466952 and parameters: {'criterio': 'absolute_error', 'splitter': 'best', 'profundidade_max': 20, 'min_exemplos_split': 6, 'min_exemplos_folha': 1, 'num_max_atributos': 'sqrt'}. Best is trial 27 with value: 6.217651040378903.\n",
      "[I 2024-11-10 22:47:54,480] Trial 48 finished with value: 7.077341085684795 and parameters: {'criterio': 'friedman_mse', 'splitter': 'best', 'profundidade_max': 17, 'min_exemplos_split': 2, 'min_exemplos_folha': 5, 'num_max_atributos': None}. Best is trial 27 with value: 6.217651040378903.\n",
      "[I 2024-11-10 22:47:55,047] Trial 49 finished with value: 6.4843038816743315 and parameters: {'criterio': 'absolute_error', 'splitter': 'best', 'profundidade_max': 29, 'min_exemplos_split': 7, 'min_exemplos_folha': 2, 'num_max_atributos': None}. Best is trial 27 with value: 6.217651040378903.\n",
      "[I 2024-11-10 22:47:55,363] Trial 50 finished with value: 7.567548724532848 and parameters: {'criterio': 'squared_error', 'splitter': 'best', 'profundidade_max': 22, 'min_exemplos_split': 8, 'min_exemplos_folha': 8, 'num_max_atributos': None}. Best is trial 27 with value: 6.217651040378903.\n",
      "[I 2024-11-10 22:47:56,013] Trial 51 finished with value: 6.495661672605214 and parameters: {'criterio': 'absolute_error', 'splitter': 'best', 'profundidade_max': 29, 'min_exemplos_split': 4, 'min_exemplos_folha': 2, 'num_max_atributos': None}. Best is trial 27 with value: 6.217651040378903.\n",
      "[I 2024-11-10 22:47:56,583] Trial 52 finished with value: 6.857084719145197 and parameters: {'criterio': 'absolute_error', 'splitter': 'best', 'profundidade_max': 31, 'min_exemplos_split': 5, 'min_exemplos_folha': 3, 'num_max_atributos': None}. Best is trial 27 with value: 6.217651040378903.\n",
      "[I 2024-11-10 22:47:57,198] Trial 53 finished with value: 6.585721964104737 and parameters: {'criterio': 'absolute_error', 'splitter': 'best', 'profundidade_max': 26, 'min_exemplos_split': 7, 'min_exemplos_folha': 1, 'num_max_atributos': None}. Best is trial 27 with value: 6.217651040378903.\n",
      "[I 2024-11-10 22:47:57,777] Trial 54 finished with value: 7.221307758104787 and parameters: {'criterio': 'absolute_error', 'splitter': 'best', 'profundidade_max': 30, 'min_exemplos_split': 3, 'min_exemplos_folha': 4, 'num_max_atributos': None}. Best is trial 27 with value: 6.217651040378903.\n",
      "[I 2024-11-10 22:47:58,091] Trial 55 finished with value: 6.600494379963526 and parameters: {'criterio': 'squared_error', 'splitter': 'best', 'profundidade_max': 32, 'min_exemplos_split': 5, 'min_exemplos_folha': 3, 'num_max_atributos': None}. Best is trial 27 with value: 6.217651040378903.\n",
      "[I 2024-11-10 22:47:58,641] Trial 56 finished with value: 6.495661672605214 and parameters: {'criterio': 'absolute_error', 'splitter': 'best', 'profundidade_max': 28, 'min_exemplos_split': 2, 'min_exemplos_folha': 2, 'num_max_atributos': None}. Best is trial 27 with value: 6.217651040378903.\n",
      "[I 2024-11-10 22:47:58,948] Trial 57 finished with value: 6.391647278988266 and parameters: {'criterio': 'squared_error', 'splitter': 'best', 'profundidade_max': 25, 'min_exemplos_split': 8, 'min_exemplos_folha': 1, 'num_max_atributos': None}. Best is trial 27 with value: 6.217651040378903.\n",
      "[I 2024-11-10 22:47:59,197] Trial 58 finished with value: 8.755386892213513 and parameters: {'criterio': 'squared_error', 'splitter': 'best', 'profundidade_max': 23, 'min_exemplos_split': 8, 'min_exemplos_folha': 5, 'num_max_atributos': 'log2'}. Best is trial 27 with value: 6.217651040378903.\n",
      "[I 2024-11-10 22:47:59,480] Trial 59 finished with value: 6.397042524844702 and parameters: {'criterio': 'squared_error', 'splitter': 'best', 'profundidade_max': 25, 'min_exemplos_split': 6, 'min_exemplos_folha': 1, 'num_max_atributos': None}. Best is trial 27 with value: 6.217651040378903.\n",
      "[I 2024-11-10 22:47:59,761] Trial 60 finished with value: 6.397042524844702 and parameters: {'criterio': 'squared_error', 'splitter': 'best', 'profundidade_max': 24, 'min_exemplos_split': 6, 'min_exemplos_folha': 1, 'num_max_atributos': None}. Best is trial 27 with value: 6.217651040378903.\n",
      "[I 2024-11-10 22:48:00,047] Trial 61 finished with value: 6.397042524844702 and parameters: {'criterio': 'squared_error', 'splitter': 'best', 'profundidade_max': 24, 'min_exemplos_split': 6, 'min_exemplos_folha': 1, 'num_max_atributos': None}. Best is trial 27 with value: 6.217651040378903.\n",
      "[I 2024-11-10 22:48:00,324] Trial 62 finished with value: 6.391647278988266 and parameters: {'criterio': 'squared_error', 'splitter': 'best', 'profundidade_max': 24, 'min_exemplos_split': 8, 'min_exemplos_folha': 1, 'num_max_atributos': None}. Best is trial 27 with value: 6.217651040378903.\n",
      "[I 2024-11-10 22:48:00,663] Trial 63 finished with value: 6.391647278988266 and parameters: {'criterio': 'squared_error', 'splitter': 'best', 'profundidade_max': 21, 'min_exemplos_split': 8, 'min_exemplos_folha': 1, 'num_max_atributos': None}. Best is trial 27 with value: 6.217651040378903.\n",
      "[I 2024-11-10 22:48:00,946] Trial 64 finished with value: 6.391647278988266 and parameters: {'criterio': 'squared_error', 'splitter': 'best', 'profundidade_max': 24, 'min_exemplos_split': 8, 'min_exemplos_folha': 1, 'num_max_atributos': None}. Best is trial 27 with value: 6.217651040378903.\n",
      "[I 2024-11-10 22:48:01,221] Trial 65 finished with value: 6.410772899212631 and parameters: {'criterio': 'squared_error', 'splitter': 'best', 'profundidade_max': 19, 'min_exemplos_split': 9, 'min_exemplos_folha': 1, 'num_max_atributos': None}. Best is trial 27 with value: 6.217651040378903.\n",
      "[I 2024-11-10 22:48:01,480] Trial 66 finished with value: 8.21323283897618 and parameters: {'criterio': 'squared_error', 'splitter': 'best', 'profundidade_max': 22, 'min_exemplos_split': 11, 'min_exemplos_folha': 3, 'num_max_atributos': 'sqrt'}. Best is trial 27 with value: 6.217651040378903.\n",
      "[I 2024-11-10 22:48:01,766] Trial 67 finished with value: 6.70906051052434 and parameters: {'criterio': 'squared_error', 'splitter': 'best', 'profundidade_max': 25, 'min_exemplos_split': 12, 'min_exemplos_folha': 1, 'num_max_atributos': None}. Best is trial 27 with value: 6.217651040378903.\n",
      "[I 2024-11-10 22:48:02,051] Trial 68 finished with value: 6.566530906148442 and parameters: {'criterio': 'squared_error', 'splitter': 'best', 'profundidade_max': 21, 'min_exemplos_split': 10, 'min_exemplos_folha': 1, 'num_max_atributos': None}. Best is trial 27 with value: 6.217651040378903.\n",
      "[I 2024-11-10 22:48:02,330] Trial 69 finished with value: 6.567916746359484 and parameters: {'criterio': 'squared_error', 'splitter': 'best', 'profundidade_max': 24, 'min_exemplos_split': 8, 'min_exemplos_folha': 3, 'num_max_atributos': None}. Best is trial 27 with value: 6.217651040378903.\n",
      "[I 2024-11-10 22:48:02,630] Trial 70 finished with value: 6.391647278988266 and parameters: {'criterio': 'squared_error', 'splitter': 'best', 'profundidade_max': 23, 'min_exemplos_split': 8, 'min_exemplos_folha': 1, 'num_max_atributos': None}. Best is trial 27 with value: 6.217651040378903.\n",
      "[I 2024-11-10 22:48:02,930] Trial 71 finished with value: 6.391647278988266 and parameters: {'criterio': 'squared_error', 'splitter': 'best', 'profundidade_max': 23, 'min_exemplos_split': 8, 'min_exemplos_folha': 1, 'num_max_atributos': None}. Best is trial 27 with value: 6.217651040378903.\n",
      "[I 2024-11-10 22:48:03,213] Trial 72 finished with value: 6.391647278988266 and parameters: {'criterio': 'squared_error', 'splitter': 'best', 'profundidade_max': 22, 'min_exemplos_split': 8, 'min_exemplos_folha': 1, 'num_max_atributos': None}. Best is trial 27 with value: 6.217651040378903.\n",
      "[I 2024-11-10 22:48:03,500] Trial 73 finished with value: 6.567916746359484 and parameters: {'criterio': 'squared_error', 'splitter': 'best', 'profundidade_max': 22, 'min_exemplos_split': 8, 'min_exemplos_folha': 3, 'num_max_atributos': None}. Best is trial 27 with value: 6.217651040378903.\n",
      "[I 2024-11-10 22:48:03,759] Trial 74 finished with value: 7.85050917888992 and parameters: {'criterio': 'squared_error', 'splitter': 'best', 'profundidade_max': 20, 'min_exemplos_split': 9, 'min_exemplos_folha': 18, 'num_max_atributos': None}. Best is trial 27 with value: 6.217651040378903.\n",
      "[I 2024-11-10 22:48:04,040] Trial 75 finished with value: 6.393573887488776 and parameters: {'criterio': 'poisson', 'splitter': 'best', 'profundidade_max': 18, 'min_exemplos_split': 9, 'min_exemplos_folha': 1, 'num_max_atributos': None}. Best is trial 27 with value: 6.217651040378903.\n",
      "[I 2024-11-10 22:48:04,309] Trial 76 finished with value: 8.07445894250457 and parameters: {'criterio': 'squared_error', 'splitter': 'best', 'profundidade_max': 23, 'min_exemplos_split': 10, 'min_exemplos_folha': 4, 'num_max_atributos': 'log2'}. Best is trial 27 with value: 6.217651040378903.\n",
      "[I 2024-11-10 22:48:04,604] Trial 77 finished with value: 6.808818516696455 and parameters: {'criterio': 'squared_error', 'splitter': 'best', 'profundidade_max': 21, 'min_exemplos_split': 12, 'min_exemplos_folha': 2, 'num_max_atributos': None}. Best is trial 27 with value: 6.217651040378903.\n",
      "[I 2024-11-10 22:48:04,891] Trial 78 finished with value: 6.554147666851281 and parameters: {'criterio': 'squared_error', 'splitter': 'best', 'profundidade_max': 16, 'min_exemplos_split': 7, 'min_exemplos_folha': 3, 'num_max_atributos': None}. Best is trial 27 with value: 6.217651040378903.\n",
      "[I 2024-11-10 22:48:05,145] Trial 79 finished with value: 8.377879283281128 and parameters: {'criterio': 'squared_error', 'splitter': 'best', 'profundidade_max': 20, 'min_exemplos_split': 14, 'min_exemplos_folha': 1, 'num_max_atributos': 'sqrt'}. Best is trial 27 with value: 6.217651040378903.\n",
      "[I 2024-11-10 22:48:05,413] Trial 80 finished with value: 6.437488494604848 and parameters: {'criterio': 'friedman_mse', 'splitter': 'best', 'profundidade_max': 23, 'min_exemplos_split': 8, 'min_exemplos_folha': 2, 'num_max_atributos': None}. Best is trial 27 with value: 6.217651040378903.\n",
      "[I 2024-11-10 22:48:05,748] Trial 81 finished with value: 6.393573887488776 and parameters: {'criterio': 'poisson', 'splitter': 'best', 'profundidade_max': 18, 'min_exemplos_split': 9, 'min_exemplos_folha': 1, 'num_max_atributos': None}. Best is trial 27 with value: 6.217651040378903.\n",
      "[I 2024-11-10 22:48:06,033] Trial 82 finished with value: 6.455722722757568 and parameters: {'criterio': 'poisson', 'splitter': 'best', 'profundidade_max': 13, 'min_exemplos_split': 9, 'min_exemplos_folha': 1, 'num_max_atributos': None}. Best is trial 27 with value: 6.217651040378903.\n",
      "[I 2024-11-10 22:48:06,347] Trial 83 finished with value: 6.559902420359071 and parameters: {'criterio': 'poisson', 'splitter': 'best', 'profundidade_max': 19, 'min_exemplos_split': 7, 'min_exemplos_folha': 2, 'num_max_atributos': None}. Best is trial 27 with value: 6.217651040378903.\n",
      "[I 2024-11-10 22:48:06,632] Trial 84 finished with value: 6.393413907010829 and parameters: {'criterio': 'poisson', 'splitter': 'best', 'profundidade_max': 22, 'min_exemplos_split': 9, 'min_exemplos_folha': 1, 'num_max_atributos': None}. Best is trial 27 with value: 6.217651040378903.\n",
      "[I 2024-11-10 22:48:06,897] Trial 85 finished with value: 6.626178537355881 and parameters: {'criterio': 'squared_error', 'splitter': 'best', 'profundidade_max': 21, 'min_exemplos_split': 10, 'min_exemplos_folha': 2, 'num_max_atributos': None}. Best is trial 27 with value: 6.217651040378903.\n",
      "[I 2024-11-10 22:48:07,200] Trial 86 finished with value: 6.543974225570032 and parameters: {'criterio': 'poisson', 'splitter': 'best', 'profundidade_max': 22, 'min_exemplos_split': 8, 'min_exemplos_folha': 3, 'num_max_atributos': None}. Best is trial 27 with value: 6.217651040378903.\n",
      "[I 2024-11-10 22:48:07,463] Trial 87 finished with value: 6.418826746734792 and parameters: {'criterio': 'squared_error', 'splitter': 'best', 'profundidade_max': 27, 'min_exemplos_split': 7, 'min_exemplos_folha': 1, 'num_max_atributos': None}. Best is trial 27 with value: 6.217651040378903.\n",
      "[I 2024-11-10 22:48:07,742] Trial 88 finished with value: 6.726552280197677 and parameters: {'criterio': 'squared_error', 'splitter': 'best', 'profundidade_max': 25, 'min_exemplos_split': 9, 'min_exemplos_folha': 4, 'num_max_atributos': None}. Best is trial 27 with value: 6.217651040378903.\n",
      "[I 2024-11-10 22:48:08,015] Trial 89 finished with value: 6.69332438564918 and parameters: {'criterio': 'squared_error', 'splitter': 'best', 'profundidade_max': 23, 'min_exemplos_split': 11, 'min_exemplos_folha': 2, 'num_max_atributos': None}. Best is trial 27 with value: 6.217651040378903.\n",
      "[I 2024-11-10 22:48:08,296] Trial 90 finished with value: 12.236197661680327 and parameters: {'criterio': 'squared_error', 'splitter': 'random', 'profundidade_max': 24, 'min_exemplos_split': 7, 'min_exemplos_folha': 14, 'num_max_atributos': 'log2'}. Best is trial 27 with value: 6.217651040378903.\n",
      "[I 2024-11-10 22:48:08,574] Trial 91 finished with value: 6.287487332794446 and parameters: {'criterio': 'poisson', 'splitter': 'best', 'profundidade_max': 18, 'min_exemplos_split': 8, 'min_exemplos_folha': 1, 'num_max_atributos': None}. Best is trial 27 with value: 6.217651040378903.\n",
      "[I 2024-11-10 22:48:08,862] Trial 92 finished with value: 6.287317845339267 and parameters: {'criterio': 'poisson', 'splitter': 'best', 'profundidade_max': 19, 'min_exemplos_split': 8, 'min_exemplos_folha': 1, 'num_max_atributos': None}. Best is trial 27 with value: 6.217651040378903.\n",
      "[I 2024-11-10 22:48:09,147] Trial 93 finished with value: 6.584952780083853 and parameters: {'criterio': 'poisson', 'splitter': 'best', 'profundidade_max': 18, 'min_exemplos_split': 8, 'min_exemplos_folha': 2, 'num_max_atributos': None}. Best is trial 27 with value: 6.217651040378903.\n",
      "[I 2024-11-10 22:48:09,432] Trial 94 finished with value: 6.375322571017607 and parameters: {'criterio': 'poisson', 'splitter': 'best', 'profundidade_max': 17, 'min_exemplos_split': 8, 'min_exemplos_folha': 1, 'num_max_atributos': None}. Best is trial 27 with value: 6.217651040378903.\n",
      "[I 2024-11-10 22:48:09,727] Trial 95 finished with value: 6.745262674862185 and parameters: {'criterio': 'poisson', 'splitter': 'best', 'profundidade_max': 13, 'min_exemplos_split': 10, 'min_exemplos_folha': 2, 'num_max_atributos': None}. Best is trial 27 with value: 6.217651040378903.\n",
      "[I 2024-11-10 22:48:10,009] Trial 96 finished with value: 7.513128234072839 and parameters: {'criterio': 'poisson', 'splitter': 'best', 'profundidade_max': 16, 'min_exemplos_split': 7, 'min_exemplos_folha': 11, 'num_max_atributos': None}. Best is trial 27 with value: 6.217651040378903.\n",
      "[I 2024-11-10 22:48:10,284] Trial 97 finished with value: 6.563972110213854 and parameters: {'criterio': 'poisson', 'splitter': 'best', 'profundidade_max': 17, 'min_exemplos_split': 7, 'min_exemplos_folha': 3, 'num_max_atributos': None}. Best is trial 27 with value: 6.217651040378903.\n",
      "[I 2024-11-10 22:48:10,549] Trial 98 finished with value: 7.996694053954516 and parameters: {'criterio': 'poisson', 'splitter': 'best', 'profundidade_max': 19, 'min_exemplos_split': 8, 'min_exemplos_folha': 1, 'num_max_atributos': 'sqrt'}. Best is trial 27 with value: 6.217651040378903.\n",
      "[I 2024-11-10 22:48:10,934] Trial 99 finished with value: 6.572671339626223 and parameters: {'criterio': 'poisson', 'splitter': 'best', 'profundidade_max': 14, 'min_exemplos_split': 6, 'min_exemplos_folha': 2, 'num_max_atributos': None}. Best is trial 27 with value: 6.217651040378903.\n"
     ]
    }
   ],
   "source": [
    "NUM_TENTATIVAS_ARVORE_DE_DECISAO = 100\n",
    "\n",
    "objeto_de_estudo_arvore_de_decisao.optimize(funcao_objetivo_parcial_arvore_de_decisao, n_trials=NUM_TENTATIVAS_ARVORE_DE_DECISAO)"
   ]
  },
  {
   "cell_type": "markdown",
   "metadata": {},
   "source": [
    "Visualização por meio de um DataFrame"
   ]
  },
  {
   "cell_type": "code",
   "execution_count": 63,
   "metadata": {},
   "outputs": [
    {
     "data": {
      "text/html": [
       "<div>\n",
       "<style scoped>\n",
       "    .dataframe tbody tr th:only-of-type {\n",
       "        vertical-align: middle;\n",
       "    }\n",
       "\n",
       "    .dataframe tbody tr th {\n",
       "        vertical-align: top;\n",
       "    }\n",
       "\n",
       "    .dataframe thead th {\n",
       "        text-align: right;\n",
       "    }\n",
       "</style>\n",
       "<table border=\"1\" class=\"dataframe\">\n",
       "  <thead>\n",
       "    <tr style=\"text-align: right;\">\n",
       "      <th></th>\n",
       "      <th>number</th>\n",
       "      <th>value</th>\n",
       "      <th>datetime_start</th>\n",
       "      <th>datetime_complete</th>\n",
       "      <th>duration</th>\n",
       "      <th>params_criterio</th>\n",
       "      <th>params_min_exemplos_folha</th>\n",
       "      <th>params_min_exemplos_split</th>\n",
       "      <th>params_num_max_atributos</th>\n",
       "      <th>params_profundidade_max</th>\n",
       "      <th>params_splitter</th>\n",
       "      <th>state</th>\n",
       "    </tr>\n",
       "  </thead>\n",
       "  <tbody>\n",
       "    <tr>\n",
       "      <th>0</th>\n",
       "      <td>0</td>\n",
       "      <td>13.902884</td>\n",
       "      <td>2024-11-10 22:47:39.630137</td>\n",
       "      <td>2024-11-10 22:47:39.842381</td>\n",
       "      <td>0 days 00:00:00.212244</td>\n",
       "      <td>poisson</td>\n",
       "      <td>19</td>\n",
       "      <td>8</td>\n",
       "      <td>sqrt</td>\n",
       "      <td>11</td>\n",
       "      <td>random</td>\n",
       "      <td>COMPLETE</td>\n",
       "    </tr>\n",
       "    <tr>\n",
       "      <th>1</th>\n",
       "      <td>1</td>\n",
       "      <td>9.941327</td>\n",
       "      <td>2024-11-10 22:47:39.894789</td>\n",
       "      <td>2024-11-10 22:47:40.086780</td>\n",
       "      <td>0 days 00:00:00.191991</td>\n",
       "      <td>friedman_mse</td>\n",
       "      <td>13</td>\n",
       "      <td>13</td>\n",
       "      <td>None</td>\n",
       "      <td>27</td>\n",
       "      <td>random</td>\n",
       "      <td>COMPLETE</td>\n",
       "    </tr>\n",
       "    <tr>\n",
       "      <th>2</th>\n",
       "      <td>2</td>\n",
       "      <td>9.948811</td>\n",
       "      <td>2024-11-10 22:47:40.145326</td>\n",
       "      <td>2024-11-10 22:47:40.324057</td>\n",
       "      <td>0 days 00:00:00.178731</td>\n",
       "      <td>poisson</td>\n",
       "      <td>17</td>\n",
       "      <td>5</td>\n",
       "      <td>log2</td>\n",
       "      <td>27</td>\n",
       "      <td>best</td>\n",
       "      <td>COMPLETE</td>\n",
       "    </tr>\n",
       "    <tr>\n",
       "      <th>3</th>\n",
       "      <td>3</td>\n",
       "      <td>10.084439</td>\n",
       "      <td>2024-11-10 22:47:40.383014</td>\n",
       "      <td>2024-11-10 22:47:40.563289</td>\n",
       "      <td>0 days 00:00:00.180275</td>\n",
       "      <td>friedman_mse</td>\n",
       "      <td>19</td>\n",
       "      <td>11</td>\n",
       "      <td>sqrt</td>\n",
       "      <td>16</td>\n",
       "      <td>best</td>\n",
       "      <td>COMPLETE</td>\n",
       "    </tr>\n",
       "    <tr>\n",
       "      <th>4</th>\n",
       "      <td>4</td>\n",
       "      <td>9.335519</td>\n",
       "      <td>2024-11-10 22:47:40.635762</td>\n",
       "      <td>2024-11-10 22:47:41.029398</td>\n",
       "      <td>0 days 00:00:00.393636</td>\n",
       "      <td>absolute_error</td>\n",
       "      <td>9</td>\n",
       "      <td>15</td>\n",
       "      <td>None</td>\n",
       "      <td>4</td>\n",
       "      <td>best</td>\n",
       "      <td>COMPLETE</td>\n",
       "    </tr>\n",
       "    <tr>\n",
       "      <th>...</th>\n",
       "      <td>...</td>\n",
       "      <td>...</td>\n",
       "      <td>...</td>\n",
       "      <td>...</td>\n",
       "      <td>...</td>\n",
       "      <td>...</td>\n",
       "      <td>...</td>\n",
       "      <td>...</td>\n",
       "      <td>...</td>\n",
       "      <td>...</td>\n",
       "      <td>...</td>\n",
       "      <td>...</td>\n",
       "    </tr>\n",
       "    <tr>\n",
       "      <th>95</th>\n",
       "      <td>95</td>\n",
       "      <td>6.745263</td>\n",
       "      <td>2024-11-10 22:48:09.445068</td>\n",
       "      <td>2024-11-10 22:48:09.679976</td>\n",
       "      <td>0 days 00:00:00.234908</td>\n",
       "      <td>poisson</td>\n",
       "      <td>2</td>\n",
       "      <td>10</td>\n",
       "      <td>None</td>\n",
       "      <td>13</td>\n",
       "      <td>best</td>\n",
       "      <td>COMPLETE</td>\n",
       "    </tr>\n",
       "    <tr>\n",
       "      <th>96</th>\n",
       "      <td>96</td>\n",
       "      <td>7.513128</td>\n",
       "      <td>2024-11-10 22:48:09.733346</td>\n",
       "      <td>2024-11-10 22:48:09.962642</td>\n",
       "      <td>0 days 00:00:00.229296</td>\n",
       "      <td>poisson</td>\n",
       "      <td>11</td>\n",
       "      <td>7</td>\n",
       "      <td>None</td>\n",
       "      <td>16</td>\n",
       "      <td>best</td>\n",
       "      <td>COMPLETE</td>\n",
       "    </tr>\n",
       "    <tr>\n",
       "      <th>97</th>\n",
       "      <td>97</td>\n",
       "      <td>6.563972</td>\n",
       "      <td>2024-11-10 22:48:10.013731</td>\n",
       "      <td>2024-11-10 22:48:10.245380</td>\n",
       "      <td>0 days 00:00:00.231649</td>\n",
       "      <td>poisson</td>\n",
       "      <td>3</td>\n",
       "      <td>7</td>\n",
       "      <td>None</td>\n",
       "      <td>17</td>\n",
       "      <td>best</td>\n",
       "      <td>COMPLETE</td>\n",
       "    </tr>\n",
       "    <tr>\n",
       "      <th>98</th>\n",
       "      <td>98</td>\n",
       "      <td>7.996694</td>\n",
       "      <td>2024-11-10 22:48:10.295896</td>\n",
       "      <td>2024-11-10 22:48:10.500662</td>\n",
       "      <td>0 days 00:00:00.204766</td>\n",
       "      <td>poisson</td>\n",
       "      <td>1</td>\n",
       "      <td>8</td>\n",
       "      <td>sqrt</td>\n",
       "      <td>19</td>\n",
       "      <td>best</td>\n",
       "      <td>COMPLETE</td>\n",
       "    </tr>\n",
       "    <tr>\n",
       "      <th>99</th>\n",
       "      <td>99</td>\n",
       "      <td>6.572671</td>\n",
       "      <td>2024-11-10 22:48:10.578582</td>\n",
       "      <td>2024-11-10 22:48:10.880028</td>\n",
       "      <td>0 days 00:00:00.301446</td>\n",
       "      <td>poisson</td>\n",
       "      <td>2</td>\n",
       "      <td>6</td>\n",
       "      <td>None</td>\n",
       "      <td>14</td>\n",
       "      <td>best</td>\n",
       "      <td>COMPLETE</td>\n",
       "    </tr>\n",
       "  </tbody>\n",
       "</table>\n",
       "<p>100 rows × 12 columns</p>\n",
       "</div>"
      ],
      "text/plain": [
       "    number      value             datetime_start          datetime_complete  \\\n",
       "0        0  13.902884 2024-11-10 22:47:39.630137 2024-11-10 22:47:39.842381   \n",
       "1        1   9.941327 2024-11-10 22:47:39.894789 2024-11-10 22:47:40.086780   \n",
       "2        2   9.948811 2024-11-10 22:47:40.145326 2024-11-10 22:47:40.324057   \n",
       "3        3  10.084439 2024-11-10 22:47:40.383014 2024-11-10 22:47:40.563289   \n",
       "4        4   9.335519 2024-11-10 22:47:40.635762 2024-11-10 22:47:41.029398   \n",
       "..     ...        ...                        ...                        ...   \n",
       "95      95   6.745263 2024-11-10 22:48:09.445068 2024-11-10 22:48:09.679976   \n",
       "96      96   7.513128 2024-11-10 22:48:09.733346 2024-11-10 22:48:09.962642   \n",
       "97      97   6.563972 2024-11-10 22:48:10.013731 2024-11-10 22:48:10.245380   \n",
       "98      98   7.996694 2024-11-10 22:48:10.295896 2024-11-10 22:48:10.500662   \n",
       "99      99   6.572671 2024-11-10 22:48:10.578582 2024-11-10 22:48:10.880028   \n",
       "\n",
       "                 duration params_criterio  params_min_exemplos_folha  \\\n",
       "0  0 days 00:00:00.212244         poisson                         19   \n",
       "1  0 days 00:00:00.191991    friedman_mse                         13   \n",
       "2  0 days 00:00:00.178731         poisson                         17   \n",
       "3  0 days 00:00:00.180275    friedman_mse                         19   \n",
       "4  0 days 00:00:00.393636  absolute_error                          9   \n",
       "..                    ...             ...                        ...   \n",
       "95 0 days 00:00:00.234908         poisson                          2   \n",
       "96 0 days 00:00:00.229296         poisson                         11   \n",
       "97 0 days 00:00:00.231649         poisson                          3   \n",
       "98 0 days 00:00:00.204766         poisson                          1   \n",
       "99 0 days 00:00:00.301446         poisson                          2   \n",
       "\n",
       "    params_min_exemplos_split params_num_max_atributos  \\\n",
       "0                           8                     sqrt   \n",
       "1                          13                     None   \n",
       "2                           5                     log2   \n",
       "3                          11                     sqrt   \n",
       "4                          15                     None   \n",
       "..                        ...                      ...   \n",
       "95                         10                     None   \n",
       "96                          7                     None   \n",
       "97                          7                     None   \n",
       "98                          8                     sqrt   \n",
       "99                          6                     None   \n",
       "\n",
       "    params_profundidade_max params_splitter     state  \n",
       "0                        11          random  COMPLETE  \n",
       "1                        27          random  COMPLETE  \n",
       "2                        27            best  COMPLETE  \n",
       "3                        16            best  COMPLETE  \n",
       "4                         4            best  COMPLETE  \n",
       "..                      ...             ...       ...  \n",
       "95                       13            best  COMPLETE  \n",
       "96                       16            best  COMPLETE  \n",
       "97                       17            best  COMPLETE  \n",
       "98                       19            best  COMPLETE  \n",
       "99                       14            best  COMPLETE  \n",
       "\n",
       "[100 rows x 12 columns]"
      ]
     },
     "execution_count": 63,
     "metadata": {},
     "output_type": "execute_result"
    }
   ],
   "source": [
    "df_arvore_de_decisao = objeto_de_estudo_arvore_de_decisao.trials_dataframe()\n",
    "\n",
    "df_arvore_de_decisao"
   ]
  },
  {
   "cell_type": "code",
   "execution_count": 64,
   "metadata": {},
   "outputs": [
    {
     "name": "stdout",
     "output_type": "stream",
     "text": [
      "Número do melhor trial: 27\n",
      "Parâmetros do melhor trial: {'criterio': 'squared_error', 'splitter': 'best', 'profundidade_max': 30, 'min_exemplos_split': 2, 'min_exemplos_folha': 1, 'num_max_atributos': None}\n"
     ]
    }
   ],
   "source": [
    "melhor_trial_arvore_de_decisao = objeto_de_estudo_arvore_de_decisao.best_trial\n",
    "\n",
    "print(f\"Número do melhor trial: {melhor_trial_arvore_de_decisao.number}\")\n",
    "print(f\"Parâmetros do melhor trial: {melhor_trial_arvore_de_decisao.params}\")"
   ]
  },
  {
   "cell_type": "markdown",
   "metadata": {},
   "source": [
    "Cálculo de RMSE:"
   ]
  },
  {
   "cell_type": "code",
   "execution_count": 65,
   "metadata": {},
   "outputs": [
    {
     "name": "stdout",
     "output_type": "stream",
     "text": [
      "O RMSE do modelo foi 6.4282022618139605\n"
     ]
    }
   ],
   "source": [
    "from sklearn.metrics import mean_squared_error\n",
    "\n",
    "modelo = cria_instancia_modelo_arvore_de_decisao(melhor_trial_arvore_de_decisao)\n",
    "modelo.fit(X_treino, Y_treino)\n",
    "\n",
    "y_verdadeiro = Y_teste\n",
    "y_previsao = modelo.predict(X_teste)\n",
    "\n",
    "RMSE = mean_squared_error(y_verdadeiro, y_previsao) ** (1/2)\n",
    "\n",
    "from sklearn.metrics import mean_squared_error\n",
    "\n",
    "print(f'O RMSE do modelo foi {RMSE}')"
   ]
  },
  {
   "cell_type": "markdown",
   "metadata": {},
   "source": [
    "\n",
    "\n",
    "**Definição:**\n",
    "\n",
    "A Floresta Aleatória (Random Forest) é um algoritmo de aprendizado de máquina muito usado para resolver problemas de previsão e classificação. Ele funciona criando várias árvores de decisão que, juntas, formam uma \"floresta\". Cada árvore de decisão é um modelo simples que toma decisões dividindo os dados em diferentes grupos, com base nas características dos dados. A Floresta Aleatória, ao invés de confiar em uma única árvore, cria várias delas e combina os resultados de todas para fazer a previsão final. No caso de regressão (como o seu modelo de previsão da resistência do concreto), o resultado final é a média das previsões feitas por todas as árvores.\n",
    "\n",
    "Uma das principais vantagens da Floresta Aleatória é que ela ajuda a evitar o problema do overfitting (ajuste excessivo aos dados de treinamento). Como cada árvore é treinada com uma amostra diferente dos dados e com um subconjunto aleatório das características, o modelo fica menos propenso a se ajustar demais aos dados específicos e mais capaz de generalizar bem para novos dados. Além disso, a Floresta Aleatória pode lidar com dados complexos e de alta dimensionalidade, o que a torna muito eficaz em várias situações, como no seu caso, em que se tenta prever a resistência do concreto com várias variáveis de entrada.\n",
    "\n",
    "**Utilização nesse projeto:**\n",
    "\n",
    "Neste projeto, a Floresta Aleatória foi aplicada para prever a resistência à compressão do concreto com base em uma série de variáveis de entrada, como os componentes do concreto (cimento, escória de alto-forno, cinzas volantes, água, superplastificante, agregado graúdo e agregado miúdo) e a idade do concreto. O objetivo é construir um modelo preditivo que seja capaz de estimar a resistência do concreto (em megapascais, MPa) a partir dessas variáveis.\n",
    "\n",
    "Para isso, foi utilizado o RandomForestRegressor, que é a versão da Floresta Aleatória voltada para problemas de regressão. Este modelo foi configurado e treinado usando os dados disponíveis. Os principais hiperparâmetros do modelo, como o número de árvores (n_estimators), a profundidade das árvores, o número mínimo de amostras para dividir um nó e o número mínimo de amostras por folha, foram otimizados utilizando Optuna, uma ferramenta de otimização de hiperparâmetros.\n",
    "\n",
    "A escolha do algoritmo foi motivada pela sua capacidade de lidar com grandes volumes de dados e sua robustez, o que é crucial quando trabalhamos com dados de componentes do concreto, onde as relações podem ser não-lineares e complexas. Ao usar a Floresta Aleatória, buscamos não apenas melhorar a precisão da previsão da resistência do concreto, mas também garantir que o modelo fosse capaz de generalizar bem para novos dados, evitando o overfitting e garantindo previsões consistentes.\n",
    "\n"
   ]
  },
  {
   "cell_type": "markdown",
   "metadata": {},
   "source": [
    "**Uso do Optuna para otimizar hiperparâmetros:**\n",
    "\n",
    "Nesse código definimos duas funções principais para otimizar um modelo de RandomForestRegressor utilizando a biblioteca Optuna. A primeira função, chamada cria_instancia_modelo, tem o objetivo de criar uma instância do modelo RandomForestRegressor com hiperparâmetros ajustados dinamicamente. Ela recebe um objeto trial do Optuna e, com ele, sugere valores para diversos parâmetros do modelo, como o número de árvores `(n_estimators)`, o critério de divisão das árvores `(criterion)`, o número mínimo de amostras para dividir um nó `(min_samples_split)`, o número mínimo de amostras para um nó folha `(min_samples_leaf)`, a proporção máxima de atributos a serem usados em cada divisão `(max_features)`, entre outros. Esses valores são sugeridos automat]icamente pelo Optuna dentro de intervalos definidos, permitindo a busca pelo conjunto ideal de parâmetros. Ao final, a função retorna uma instância do modelo configurado com os parâmetros definidos.\n",
    "\n",
    "A segunda função, chamada funcao_objetivo, é utilizada no processo de otimização do Optuna. Esta função tem como principal tarefa avaliar a performance do modelo criado com os hiperparâmetros sugeridos pelo Optuna. Ela utiliza o método de validação cruzada `(cross-validation)` para calcular a métrica de desempenho do modelo em diferentes subconjuntos dos dados. A métrica utilizada é o Root Mean Squared Error `(RMSE)`, que é retornada de forma negativa, já que o sklearn busca maximizar o valor da métrica e, neste caso, desejamos minimizá-la. O Optuna vai iterativamente testar diferentes combinações de parâmetros e tentar encontrar a configuração que minimize esse erro médio, permitindo assim otimizar o modelo para melhor performance."
   ]
  },
  {
   "cell_type": "markdown",
   "metadata": {},
   "source": [
    "----------------------\n",
    "\n",
    "## <center> Floresta Aleatória </center>"
   ]
  },
  {
   "cell_type": "code",
   "execution_count": 67,
   "metadata": {},
   "outputs": [],
   "source": [
    "from sklearn.ensemble import RandomForestRegressor\n",
    "\n",
    "def cria_instancia_modelo(trial):\n",
    "    \"\"\"Cria uma instância do modelo.\n",
    "\n",
    "    Args:\n",
    "      trial: objeto tipo Trial do optuna.\n",
    "\n",
    "    Returns:\n",
    "      Uma instância do modelo desejado.\n",
    "\n",
    "    \"\"\"\n",
    "    parametros = {\n",
    "        \"n_estimators\": trial.suggest_int(\"num_arvores\", 10, 100),\n",
    "        \"criterion\": trial.suggest_categorical(\n",
    "            \"critério\", [\"squared_error\", \"friedman_mse\", \"poisson\"]\n",
    "        ),\n",
    "        \"min_samples_split\": trial.suggest_int(\n",
    "            \"min_exemplos_split\", 2, 20, log=True\n",
    "        ),\n",
    "        \"min_samples_leaf\": trial.suggest_int(\n",
    "            \"min_exemplos_folha\", 1, 20, log=True\n",
    "        ),\n",
    "        \"max_features\": trial.suggest_float(\"num_max_atributos\", 0, 1),\n",
    "        \"n_jobs\": -1,\n",
    "        \"bootstrap\": True,\n",
    "        \"random_state\": SEMENTE_ALEATORIA,\n",
    "    }\n",
    "\n",
    "    model = RandomForestRegressor(**parametros)\n",
    "\n",
    "    return model\n",
    "\n",
    "\n",
    "from sklearn.model_selection import cross_val_score\n",
    "\n",
    "def funcao_objetivo(trial, X, y, num_folds):\n",
    "    \"\"\"Função objetivo do optuna\n",
    "\n",
    "    Referencia:\n",
    "      https://medium.com/@walter_sperat/ using-optuna-with-sklearn-the-right-way-part-1-6b4ad0ab2451\n",
    "\n",
    "    \"\"\"\n",
    "    modelo = cria_instancia_modelo(trial)\n",
    "\n",
    "    metricas = cross_val_score(\n",
    "        modelo,\n",
    "        X,\n",
    "        y,\n",
    "        scoring=\"neg_root_mean_squared_error\",\n",
    "        cv=num_folds,\n",
    "    )\n",
    "\n",
    "    return -metricas.mean()"
   ]
  },
  {
   "cell_type": "markdown",
   "metadata": {},
   "source": [
    "**Criação do arquivo de estudo**\n",
    "\n",
    "Usando a biblioteca Optuna, criamos um arquivo de estudo que armazenará todas as tentativas de otimização realizadas durante o processo de busca pelos melhores hiperparâmetros. Esse arquivo permitirá que o Optuna registre e acesse as tentativas anteriores, otimizando a busca."
   ]
  },
  {
   "cell_type": "code",
   "execution_count": 68,
   "metadata": {},
   "outputs": [
    {
     "name": "stderr",
     "output_type": "stream",
     "text": [
      "[I 2024-11-10 22:51:05,481] A new study created in RDB with name: arvore_aleatoria_concreto\n"
     ]
    }
   ],
   "source": [
    "from optuna import create_study\n",
    "\n",
    "NOME_DO_ESTUDO = \"arvore_aleatoria_concreto\"\n",
    "\n",
    "objeto_de_estudo = create_study(\n",
    "    direction=\"minimize\",\n",
    "    study_name=NOME_DO_ESTUDO,\n",
    "    storage=f\"sqlite:///{NOME_DO_ESTUDO}.db\",\n",
    "    load_if_exists=True,\n",
    ")"
   ]
  },
  {
   "cell_type": "markdown",
   "metadata": {},
   "source": [
    "Com isso, criamos uma instância de estudo com o nome especificado e configuramos o Optuna para armazenar as tentativas de otimização em um banco de dados. O parâmetro `direction=\"minimize\"` indica que queremos minimizar a função objetivo, ou seja, reduzir o erro do modelo."
   ]
  },
  {
   "cell_type": "markdown",
   "metadata": {},
   "source": [
    "**Função do optuna**\n",
    "\n",
    "O Optuna requer uma função objetivo que recebe um único parâmetro `(trial)` para sugerir os valores dos hiperparâmetros. Com a função objetivo previamente definida, podemos configurar o número de tentativas que o Optuna deve realizar na busca pelos melhores hiperparâmetros."
   ]
  },
  {
   "cell_type": "code",
   "execution_count": 70,
   "metadata": {},
   "outputs": [],
   "source": [
    "NUM_FOLDS = 10\n",
    "\n",
    "def funcao_objetivo_parcial(trial):\n",
    "    return funcao_objetivo(trial, X_treino, Y_treino, NUM_FOLDS)"
   ]
  },
  {
   "cell_type": "markdown",
   "metadata": {},
   "source": [
    "Aqui, a função optimize é chamada para iniciar o processo de otimização. O parâmetro `n_trials` define quantas tentativas o Optuna deve fazer. Cada \"tentativa\" envolve a escolha de um conjunto de hiperparâmetros, a avaliação do desempenho do modelo com esses parâmetros e o registro dos resultados."
   ]
  },
  {
   "cell_type": "code",
   "execution_count": 71,
   "metadata": {},
   "outputs": [
    {
     "name": "stderr",
     "output_type": "stream",
     "text": [
      "[I 2024-11-10 22:53:35,594] Trial 0 finished with value: 10.55386138644559 and parameters: {'num_arvores': 14, 'critério': 'friedman_mse', 'min_exemplos_split': 17, 'min_exemplos_folha': 20, 'num_max_atributos': 0.19092273655344671}. Best is trial 0 with value: 10.55386138644559.\n",
      "[I 2024-11-10 22:53:36,209] Trial 1 finished with value: 5.414766900760512 and parameters: {'num_arvores': 27, 'critério': 'squared_error', 'min_exemplos_split': 5, 'min_exemplos_folha': 3, 'num_max_atributos': 0.6160580181329831}. Best is trial 1 with value: 5.414766900760512.\n",
      "[I 2024-11-10 22:53:36,995] Trial 2 finished with value: 5.749999070232887 and parameters: {'num_arvores': 38, 'critério': 'poisson', 'min_exemplos_split': 2, 'min_exemplos_folha': 5, 'num_max_atributos': 0.7314175401306393}. Best is trial 1 with value: 5.414766900760512.\n",
      "[I 2024-11-10 22:53:37,925] Trial 3 finished with value: 7.873103842094643 and parameters: {'num_arvores': 63, 'critério': 'friedman_mse', 'min_exemplos_split': 2, 'min_exemplos_folha': 13, 'num_max_atributos': 0.3078814295624819}. Best is trial 1 with value: 5.414766900760512.\n",
      "[I 2024-11-10 22:53:38,579] Trial 4 finished with value: 5.227348164438075 and parameters: {'num_arvores': 30, 'critério': 'friedman_mse', 'min_exemplos_split': 6, 'min_exemplos_folha': 2, 'num_max_atributos': 0.5806184100059588}. Best is trial 4 with value: 5.227348164438075.\n",
      "[I 2024-11-10 22:53:39,027] Trial 5 finished with value: 8.186521474914578 and parameters: {'num_arvores': 18, 'critério': 'friedman_mse', 'min_exemplos_split': 17, 'min_exemplos_folha': 2, 'num_max_atributos': 0.059631590773015164}. Best is trial 4 with value: 5.227348164438075.\n",
      "[I 2024-11-10 22:53:40,236] Trial 6 finished with value: 7.235390987259038 and parameters: {'num_arvores': 91, 'critério': 'squared_error', 'min_exemplos_split': 3, 'min_exemplos_folha': 14, 'num_max_atributos': 0.39889329710351684}. Best is trial 4 with value: 5.227348164438075.\n",
      "[I 2024-11-10 22:53:40,968] Trial 7 finished with value: 4.859498491262171 and parameters: {'num_arvores': 32, 'critério': 'squared_error', 'min_exemplos_split': 2, 'min_exemplos_folha': 1, 'num_max_atributos': 0.9245486472842764}. Best is trial 7 with value: 4.859498491262171.\n",
      "[I 2024-11-10 22:53:42,211] Trial 8 finished with value: 5.959721825766297 and parameters: {'num_arvores': 87, 'critério': 'friedman_mse', 'min_exemplos_split': 2, 'min_exemplos_folha': 7, 'num_max_atributos': 0.770980644228299}. Best is trial 7 with value: 4.859498491262171.\n",
      "[I 2024-11-10 22:53:42,927] Trial 9 finished with value: 4.881658762694935 and parameters: {'num_arvores': 31, 'critério': 'friedman_mse', 'min_exemplos_split': 2, 'min_exemplos_folha': 1, 'num_max_atributos': 0.3844599489943149}. Best is trial 7 with value: 4.859498491262171.\n",
      "[I 2024-11-10 22:53:43,881] Trial 10 finished with value: 5.125696298408025 and parameters: {'num_arvores': 53, 'critério': 'squared_error', 'min_exemplos_split': 8, 'min_exemplos_folha': 1, 'num_max_atributos': 0.9940165593268652}. Best is trial 7 with value: 4.859498491262171.\n",
      "[I 2024-11-10 22:53:44,797] Trial 11 finished with value: 4.922711451703003 and parameters: {'num_arvores': 48, 'critério': 'poisson', 'min_exemplos_split': 3, 'min_exemplos_folha': 1, 'num_max_atributos': 0.9675017994710036}. Best is trial 7 with value: 4.859498491262171.\n",
      "[I 2024-11-10 22:53:45,932] Trial 12 finished with value: 4.971838483494251 and parameters: {'num_arvores': 66, 'critério': 'squared_error', 'min_exemplos_split': 3, 'min_exemplos_folha': 1, 'num_max_atributos': 0.42132429897915624}. Best is trial 7 with value: 4.859498491262171.\n",
      "[I 2024-11-10 22:53:46,777] Trial 13 finished with value: 5.036219319381039 and parameters: {'num_arvores': 41, 'critério': 'squared_error', 'min_exemplos_split': 4, 'min_exemplos_folha': 2, 'num_max_atributos': 0.8377512282850474}. Best is trial 7 with value: 4.859498491262171.\n",
      "[I 2024-11-10 22:53:47,158] Trial 14 finished with value: 7.542672138488736 and parameters: {'num_arvores': 10, 'critério': 'poisson', 'min_exemplos_split': 11, 'min_exemplos_folha': 1, 'num_max_atributos': 0.24592508243109779}. Best is trial 7 with value: 4.859498491262171.\n",
      "[I 2024-11-10 22:53:47,883] Trial 15 finished with value: 5.1430482251322065 and parameters: {'num_arvores': 32, 'critério': 'friedman_mse', 'min_exemplos_split': 2, 'min_exemplos_folha': 2, 'num_max_atributos': 0.5178750854983687}. Best is trial 7 with value: 4.859498491262171.\n",
      "[I 2024-11-10 22:53:48,915] Trial 16 finished with value: 7.789224707516517 and parameters: {'num_arvores': 75, 'critério': 'squared_error', 'min_exemplos_split': 4, 'min_exemplos_folha': 4, 'num_max_atributos': 0.057739105589045825}. Best is trial 7 with value: 4.859498491262171.\n",
      "[I 2024-11-10 22:53:49,505] Trial 17 finished with value: 5.396015533988683 and parameters: {'num_arvores': 22, 'critério': 'squared_error', 'min_exemplos_split': 3, 'min_exemplos_folha': 3, 'num_max_atributos': 0.671956832446232}. Best is trial 7 with value: 4.859498491262171.\n",
      "[I 2024-11-10 22:53:50,362] Trial 18 finished with value: 5.138032257852023 and parameters: {'num_arvores': 43, 'critério': 'friedman_mse', 'min_exemplos_split': 8, 'min_exemplos_folha': 1, 'num_max_atributos': 0.8588072863430743}. Best is trial 7 with value: 4.859498491262171.\n",
      "[I 2024-11-10 22:53:51,079] Trial 19 finished with value: 6.251764851254359 and parameters: {'num_arvores': 35, 'critério': 'poisson', 'min_exemplos_split': 4, 'min_exemplos_folha': 6, 'num_max_atributos': 0.41962593018883976}. Best is trial 7 with value: 4.859498491262171.\n",
      "[I 2024-11-10 22:53:52,104] Trial 20 finished with value: 5.093223653948087 and parameters: {'num_arvores': 62, 'critério': 'squared_error', 'min_exemplos_split': 2, 'min_exemplos_folha': 2, 'num_max_atributos': 0.514151043138138}. Best is trial 7 with value: 4.859498491262171.\n",
      "[I 2024-11-10 22:53:53,012] Trial 21 finished with value: 4.922711451703003 and parameters: {'num_arvores': 48, 'critério': 'poisson', 'min_exemplos_split': 3, 'min_exemplos_folha': 1, 'num_max_atributos': 0.9610505728047054}. Best is trial 7 with value: 4.859498491262171.\n",
      "[I 2024-11-10 22:53:53,910] Trial 22 finished with value: 4.91513846207643 and parameters: {'num_arvores': 49, 'critério': 'poisson', 'min_exemplos_split': 3, 'min_exemplos_folha': 1, 'num_max_atributos': 0.9142016007142165}. Best is trial 7 with value: 4.859498491262171.\n",
      "[I 2024-11-10 22:53:54,495] Trial 23 finished with value: 5.385168090794283 and parameters: {'num_arvores': 23, 'critério': 'poisson', 'min_exemplos_split': 2, 'min_exemplos_folha': 3, 'num_max_atributos': 0.865037261088109}. Best is trial 7 with value: 4.859498491262171.\n",
      "[I 2024-11-10 22:53:55,497] Trial 24 finished with value: 4.977718889766992 and parameters: {'num_arvores': 54, 'critério': 'poisson', 'min_exemplos_split': 5, 'min_exemplos_folha': 1, 'num_max_atributos': 0.7633911793914151}. Best is trial 7 with value: 4.859498491262171.\n",
      "[I 2024-11-10 22:53:56,691] Trial 25 finished with value: 5.054659105823783 and parameters: {'num_arvores': 74, 'critério': 'poisson', 'min_exemplos_split': 4, 'min_exemplos_folha': 2, 'num_max_atributos': 0.8874356875325085}. Best is trial 7 with value: 4.859498491262171.\n",
      "[I 2024-11-10 22:53:58,031] Trial 26 finished with value: 6.2342415541578 and parameters: {'num_arvores': 100, 'critério': 'friedman_mse', 'min_exemplos_split': 3, 'min_exemplos_folha': 4, 'num_max_atributos': 0.3470588279768702}. Best is trial 7 with value: 4.859498491262171.\n",
      "[I 2024-11-10 22:53:58,868] Trial 27 finished with value: 6.876902201020583 and parameters: {'num_arvores': 44, 'critério': 'squared_error', 'min_exemplos_split': 6, 'min_exemplos_folha': 1, 'num_max_atributos': 0.20088945589932894}. Best is trial 7 with value: 4.859498491262171.\n",
      "[I 2024-11-10 22:53:59,637] Trial 28 finished with value: 5.1379935686123925 and parameters: {'num_arvores': 35, 'critério': 'friedman_mse', 'min_exemplos_split': 2, 'min_exemplos_folha': 2, 'num_max_atributos': 0.6085197098808259}. Best is trial 7 with value: 4.859498491262171.\n",
      "[I 2024-11-10 22:54:00,149] Trial 29 finished with value: 6.719327966967043 and parameters: {'num_arvores': 17, 'critério': 'poisson', 'min_exemplos_split': 17, 'min_exemplos_folha': 12, 'num_max_atributos': 0.6727304569727128}. Best is trial 7 with value: 4.859498491262171.\n",
      "[I 2024-11-10 22:54:00,779] Trial 30 finished with value: 8.80271191695458 and parameters: {'num_arvores': 24, 'critério': 'friedman_mse', 'min_exemplos_split': 12, 'min_exemplos_folha': 8, 'num_max_atributos': 0.13291641197158266}. Best is trial 7 with value: 4.859498491262171.\n",
      "[I 2024-11-10 22:54:01,633] Trial 31 finished with value: 7.499221324433115 and parameters: {'num_arvores': 49, 'critério': 'poisson', 'min_exemplos_split': 3, 'min_exemplos_folha': 20, 'num_max_atributos': 0.9266001581078338}. Best is trial 7 with value: 4.859498491262171.\n",
      "[I 2024-11-10 22:54:02,613] Trial 32 finished with value: 4.92424256161883 and parameters: {'num_arvores': 46, 'critério': 'poisson', 'min_exemplos_split': 3, 'min_exemplos_folha': 1, 'num_max_atributos': 0.9375295246228633}. Best is trial 7 with value: 4.859498491262171.\n",
      "[I 2024-11-10 22:54:03,734] Trial 33 finished with value: 4.956219461490667 and parameters: {'num_arvores': 59, 'critério': 'poisson', 'min_exemplos_split': 5, 'min_exemplos_folha': 1, 'num_max_atributos': 0.8077878432166645}. Best is trial 7 with value: 4.859498491262171.\n",
      "[I 2024-11-10 22:54:04,610] Trial 34 finished with value: 5.345369325364941 and parameters: {'num_arvores': 40, 'critério': 'poisson', 'min_exemplos_split': 4, 'min_exemplos_folha': 3, 'num_max_atributos': 0.9965856563358754}. Best is trial 7 with value: 4.859498491262171.\n",
      "[I 2024-11-10 22:54:05,261] Trial 35 finished with value: 5.198097294892438 and parameters: {'num_arvores': 28, 'critério': 'poisson', 'min_exemplos_split': 7, 'min_exemplos_folha': 1, 'num_max_atributos': 0.7096520953576448}. Best is trial 7 with value: 4.859498491262171.\n",
      "[I 2024-11-10 22:54:06,030] Trial 36 finished with value: 5.501949926544047 and parameters: {'num_arvores': 36, 'critério': 'friedman_mse', 'min_exemplos_split': 2, 'min_exemplos_folha': 4, 'num_max_atributos': 0.790202845531813}. Best is trial 7 with value: 4.859498491262171.\n",
      "[I 2024-11-10 22:54:07,209] Trial 37 finished with value: 5.055668702058918 and parameters: {'num_arvores': 68, 'critério': 'squared_error', 'min_exemplos_split': 5, 'min_exemplos_folha': 2, 'num_max_atributos': 0.9057651526855386}. Best is trial 7 with value: 4.859498491262171.\n",
      "[I 2024-11-10 22:54:08,110] Trial 38 finished with value: 5.9303094860044645 and parameters: {'num_arvores': 51, 'critério': 'poisson', 'min_exemplos_split': 3, 'min_exemplos_folha': 3, 'num_max_atributos': 0.25791752612498353}. Best is trial 7 with value: 4.859498491262171.\n",
      "[I 2024-11-10 22:54:09,125] Trial 39 finished with value: 5.796289672101485 and parameters: {'num_arvores': 58, 'critério': 'friedman_mse', 'min_exemplos_split': 2, 'min_exemplos_folha': 5, 'num_max_atributos': 0.5579544187923227}. Best is trial 7 with value: 4.859498491262171.\n",
      "[I 2024-11-10 22:54:09,796] Trial 40 finished with value: 9.290385278846355 and parameters: {'num_arvores': 30, 'critério': 'squared_error', 'min_exemplos_split': 10, 'min_exemplos_folha': 10, 'num_max_atributos': 0.0004028592196262393}. Best is trial 7 with value: 4.859498491262171.\n",
      "[I 2024-11-10 22:54:10,730] Trial 41 finished with value: 4.922711451703003 and parameters: {'num_arvores': 48, 'critério': 'poisson', 'min_exemplos_split': 3, 'min_exemplos_folha': 1, 'num_max_atributos': 0.9596520322114088}. Best is trial 7 with value: 4.859498491262171.\n",
      "[I 2024-11-10 22:54:11,610] Trial 42 finished with value: 4.984382206270865 and parameters: {'num_arvores': 39, 'critério': 'poisson', 'min_exemplos_split': 4, 'min_exemplos_folha': 1, 'num_max_atributos': 0.9513319780250521}. Best is trial 7 with value: 4.859498491262171.\n",
      "[I 2024-11-10 22:54:12,711] Trial 43 finished with value: 4.898228467326414 and parameters: {'num_arvores': 54, 'critério': 'poisson', 'min_exemplos_split': 3, 'min_exemplos_folha': 1, 'num_max_atributos': 0.9957702841805884}. Best is trial 7 with value: 4.859498491262171.\n",
      "[I 2024-11-10 22:54:13,805] Trial 44 finished with value: 4.80795629461723 and parameters: {'num_arvores': 56, 'critério': 'poisson', 'min_exemplos_split': 2, 'min_exemplos_folha': 1, 'num_max_atributos': 0.8287961555440373}. Best is trial 44 with value: 4.80795629461723.\n",
      "[I 2024-11-10 22:54:14,965] Trial 45 finished with value: 5.206190352723274 and parameters: {'num_arvores': 73, 'critério': 'poisson', 'min_exemplos_split': 2, 'min_exemplos_folha': 2, 'num_max_atributos': 0.45731238826967746}. Best is trial 44 with value: 4.80795629461723.\n",
      "[I 2024-11-10 22:54:16,039] Trial 46 finished with value: 4.727910412083668 and parameters: {'num_arvores': 57, 'critério': 'friedman_mse', 'min_exemplos_split': 2, 'min_exemplos_folha': 1, 'num_max_atributos': 0.82182607264385}. Best is trial 46 with value: 4.727910412083668.\n",
      "[I 2024-11-10 22:54:17,403] Trial 47 finished with value: 4.7268864069842955 and parameters: {'num_arvores': 66, 'critério': 'friedman_mse', 'min_exemplos_split': 2, 'min_exemplos_folha': 1, 'num_max_atributos': 0.830880347766313}. Best is trial 47 with value: 4.7268864069842955.\n",
      "[I 2024-11-10 22:54:20,321] Trial 48 finished with value: 5.004618827578538 and parameters: {'num_arvores': 81, 'critério': 'friedman_mse', 'min_exemplos_split': 2, 'min_exemplos_folha': 2, 'num_max_atributos': 0.8239043311003116}. Best is trial 47 with value: 4.7268864069842955.\n",
      "[I 2024-11-10 22:54:23,111] Trial 49 finished with value: 7.365110583173371 and parameters: {'num_arvores': 66, 'critério': 'friedman_mse', 'min_exemplos_split': 2, 'min_exemplos_folha': 19, 'num_max_atributos': 0.7479148860228735}. Best is trial 47 with value: 4.7268864069842955.\n",
      "[I 2024-11-10 22:54:25,450] Trial 50 finished with value: 6.677740823648345 and parameters: {'num_arvores': 58, 'critério': 'friedman_mse', 'min_exemplos_split': 20, 'min_exemplos_folha': 1, 'num_max_atributos': 0.33810089522323866}. Best is trial 47 with value: 4.7268864069842955.\n",
      "[I 2024-11-10 22:54:27,941] Trial 51 finished with value: 4.723711888484176 and parameters: {'num_arvores': 63, 'critério': 'friedman_mse', 'min_exemplos_split': 2, 'min_exemplos_folha': 1, 'num_max_atributos': 0.8544387921891488}. Best is trial 51 with value: 4.723711888484176.\n",
      "[I 2024-11-10 22:54:29,364] Trial 52 finished with value: 4.740148083151554 and parameters: {'num_arvores': 71, 'critério': 'friedman_mse', 'min_exemplos_split': 2, 'min_exemplos_folha': 1, 'num_max_atributos': 0.7148162327128008}. Best is trial 51 with value: 4.723711888484176.\n",
      "[I 2024-11-10 22:54:30,584] Trial 53 finished with value: 4.742044689537015 and parameters: {'num_arvores': 70, 'critério': 'friedman_mse', 'min_exemplos_split': 2, 'min_exemplos_folha': 1, 'num_max_atributos': 0.684100285735904}. Best is trial 51 with value: 4.723711888484176.\n",
      "[I 2024-11-10 22:54:31,795] Trial 54 finished with value: 5.665763700123859 and parameters: {'num_arvores': 71, 'critério': 'friedman_mse', 'min_exemplos_split': 2, 'min_exemplos_folha': 5, 'num_max_atributos': 0.7321621371782797}. Best is trial 51 with value: 4.723711888484176.\n",
      "[I 2024-11-10 22:54:33,041] Trial 55 finished with value: 6.260730524769445 and parameters: {'num_arvores': 79, 'critério': 'friedman_mse', 'min_exemplos_split': 2, 'min_exemplos_folha': 9, 'num_max_atributos': 0.6725785536972564}. Best is trial 51 with value: 4.723711888484176.\n",
      "[I 2024-11-10 22:54:34,308] Trial 56 finished with value: 5.134656538809041 and parameters: {'num_arvores': 61, 'critério': 'friedman_mse', 'min_exemplos_split': 9, 'min_exemplos_folha': 1, 'num_max_atributos': 0.8467065470100417}. Best is trial 51 with value: 4.723711888484176.\n",
      "[I 2024-11-10 22:54:35,888] Trial 57 finished with value: 5.986164537036439 and parameters: {'num_arvores': 64, 'critério': 'friedman_mse', 'min_exemplos_split': 2, 'min_exemplos_folha': 7, 'num_max_atributos': 0.7850319404392482}. Best is trial 51 with value: 4.723711888484176.\n",
      "[I 2024-11-10 22:54:37,228] Trial 58 finished with value: 5.5729333776227055 and parameters: {'num_arvores': 69, 'critério': 'friedman_mse', 'min_exemplos_split': 14, 'min_exemplos_folha': 2, 'num_max_atributos': 0.634056169621702}. Best is trial 51 with value: 4.723711888484176.\n",
      "[I 2024-11-10 22:54:38,698] Trial 59 finished with value: 4.74729160077906 and parameters: {'num_arvores': 77, 'critério': 'friedman_mse', 'min_exemplos_split': 2, 'min_exemplos_folha': 1, 'num_max_atributos': 0.708591921600344}. Best is trial 51 with value: 4.723711888484176.\n",
      "[I 2024-11-10 22:54:39,866] Trial 60 finished with value: 6.722862080382825 and parameters: {'num_arvores': 78, 'critério': 'friedman_mse', 'min_exemplos_split': 7, 'min_exemplos_folha': 13, 'num_max_atributos': 0.7072363693935111}. Best is trial 51 with value: 4.723711888484176.\n",
      "[I 2024-11-10 22:54:42,230] Trial 61 finished with value: 6.992008553182456 and parameters: {'num_arvores': 85, 'critério': 'friedman_mse', 'min_exemplos_split': 2, 'min_exemplos_folha': 16, 'num_max_atributos': 0.8757888641877278}. Best is trial 51 with value: 4.723711888484176.\n",
      "[I 2024-11-10 22:54:44,599] Trial 62 finished with value: 4.724191549625931 and parameters: {'num_arvores': 65, 'critério': 'friedman_mse', 'min_exemplos_split': 2, 'min_exemplos_folha': 1, 'num_max_atributos': 0.8096917757079498}. Best is trial 51 with value: 4.723711888484176.\n",
      "[I 2024-11-10 22:54:47,265] Trial 63 finished with value: 4.735852859197599 and parameters: {'num_arvores': 65, 'critério': 'friedman_mse', 'min_exemplos_split': 2, 'min_exemplos_folha': 1, 'num_max_atributos': 0.6287321160092636}. Best is trial 51 with value: 4.723711888484176.\n",
      "[I 2024-11-10 22:54:48,663] Trial 64 finished with value: 4.741542983134928 and parameters: {'num_arvores': 66, 'critério': 'friedman_mse', 'min_exemplos_split': 2, 'min_exemplos_folha': 1, 'num_max_atributos': 0.6177152126816373}. Best is trial 51 with value: 4.723711888484176.\n",
      "[I 2024-11-10 22:54:49,810] Trial 65 finished with value: 4.7358528591976 and parameters: {'num_arvores': 65, 'critério': 'friedman_mse', 'min_exemplos_split': 2, 'min_exemplos_folha': 1, 'num_max_atributos': 0.6334390051900938}. Best is trial 51 with value: 4.723711888484176.\n",
      "[I 2024-11-10 22:54:50,925] Trial 66 finished with value: 4.737509747613837 and parameters: {'num_arvores': 64, 'critério': 'friedman_mse', 'min_exemplos_split': 2, 'min_exemplos_folha': 1, 'num_max_atributos': 0.5896057651198412}. Best is trial 51 with value: 4.723711888484176.\n",
      "[I 2024-11-10 22:54:51,909] Trial 67 finished with value: 5.928803803747671 and parameters: {'num_arvores': 63, 'critério': 'friedman_mse', 'min_exemplos_split': 2, 'min_exemplos_folha': 6, 'num_max_atributos': 0.5410804537484443}. Best is trial 51 with value: 4.723711888484176.\n",
      "[I 2024-11-10 22:54:52,926] Trial 68 finished with value: 5.042151344946768 and parameters: {'num_arvores': 62, 'critério': 'friedman_mse', 'min_exemplos_split': 6, 'min_exemplos_folha': 1, 'num_max_atributos': 0.5953154765310446}. Best is trial 51 with value: 4.723711888484176.\n",
      "[I 2024-11-10 22:54:53,979] Trial 69 finished with value: 5.62101757467221 and parameters: {'num_arvores': 56, 'critério': 'friedman_mse', 'min_exemplos_split': 15, 'min_exemplos_folha': 1, 'num_max_atributos': 0.6520802898909909}. Best is trial 51 with value: 4.723711888484176.\n",
      "[I 2024-11-10 22:54:54,989] Trial 70 finished with value: 5.0967921559689415 and parameters: {'num_arvores': 60, 'critério': 'friedman_mse', 'min_exemplos_split': 3, 'min_exemplos_folha': 2, 'num_max_atributos': 0.5729728149019312}. Best is trial 51 with value: 4.723711888484176.\n",
      "[I 2024-11-10 22:54:56,167] Trial 71 finished with value: 4.821726497969498 and parameters: {'num_arvores': 72, 'critério': 'friedman_mse', 'min_exemplos_split': 2, 'min_exemplos_folha': 1, 'num_max_atributos': 0.4597663174238397}. Best is trial 51 with value: 4.723711888484176.\n",
      "[I 2024-11-10 22:54:57,475] Trial 72 finished with value: 4.725798404965618 and parameters: {'num_arvores': 68, 'critério': 'friedman_mse', 'min_exemplos_split': 2, 'min_exemplos_folha': 1, 'num_max_atributos': 0.7613505322124492}. Best is trial 51 with value: 4.723711888484176.\n",
      "[I 2024-11-10 22:54:58,713] Trial 73 finished with value: 4.999104325133873 and parameters: {'num_arvores': 65, 'critério': 'friedman_mse', 'min_exemplos_split': 7, 'min_exemplos_folha': 1, 'num_max_atributos': 0.7656131389350884}. Best is trial 51 with value: 4.723711888484176.\n",
      "[I 2024-11-10 22:54:59,988] Trial 74 finished with value: 5.437046819773092 and parameters: {'num_arvores': 75, 'critério': 'friedman_mse', 'min_exemplos_split': 13, 'min_exemplos_folha': 1, 'num_max_atributos': 0.8936783385312261}. Best is trial 51 with value: 4.723711888484176.\n",
      "[I 2024-11-10 22:55:01,244] Trial 75 finished with value: 4.725798404965618 and parameters: {'num_arvores': 68, 'critério': 'friedman_mse', 'min_exemplos_split': 2, 'min_exemplos_folha': 1, 'num_max_atributos': 0.8035254590523397}. Best is trial 51 with value: 4.723711888484176.\n",
      "[I 2024-11-10 22:55:02,283] Trial 76 finished with value: 4.734368277856178 and parameters: {'num_arvores': 52, 'critério': 'friedman_mse', 'min_exemplos_split': 2, 'min_exemplos_folha': 1, 'num_max_atributos': 0.8014069528494304}. Best is trial 51 with value: 4.723711888484176.\n",
      "[I 2024-11-10 22:55:03,222] Trial 77 finished with value: 5.364091887072636 and parameters: {'num_arvores': 52, 'critério': 'friedman_mse', 'min_exemplos_split': 11, 'min_exemplos_folha': 1, 'num_max_atributos': 0.8088480146585464}. Best is trial 51 with value: 4.723711888484176.\n",
      "[I 2024-11-10 22:55:05,374] Trial 78 finished with value: 6.927019306485964 and parameters: {'num_arvores': 69, 'critério': 'friedman_mse', 'min_exemplos_split': 9, 'min_exemplos_folha': 15, 'num_max_atributos': 0.8559596084664421}. Best is trial 51 with value: 4.723711888484176.\n",
      "[I 2024-11-10 22:55:07,999] Trial 79 finished with value: 4.800876438334106 and parameters: {'num_arvores': 67, 'critério': 'friedman_mse', 'min_exemplos_split': 3, 'min_exemplos_folha': 1, 'num_max_atributos': 0.7973913994339676}. Best is trial 51 with value: 4.723711888484176.\n",
      "[I 2024-11-10 22:55:09,840] Trial 80 finished with value: 5.279765182155822 and parameters: {'num_arvores': 60, 'critério': 'friedman_mse', 'min_exemplos_split': 2, 'min_exemplos_folha': 3, 'num_max_atributos': 0.7425681661707881}. Best is trial 51 with value: 4.723711888484176.\n",
      "[I 2024-11-10 22:55:10,926] Trial 81 finished with value: 6.456747478923053 and parameters: {'num_arvores': 57, 'critério': 'friedman_mse', 'min_exemplos_split': 2, 'min_exemplos_folha': 11, 'num_max_atributos': 0.7713109172772656}. Best is trial 51 with value: 4.723711888484176.\n",
      "[I 2024-11-10 22:55:12,005] Trial 82 finished with value: 5.432055918116348 and parameters: {'num_arvores': 62, 'critério': 'friedman_mse', 'min_exemplos_split': 2, 'min_exemplos_folha': 4, 'num_max_atributos': 0.8330706048111751}. Best is trial 51 with value: 4.723711888484176.\n",
      "[I 2024-11-10 22:55:13,325] Trial 83 finished with value: 4.787721439932073 and parameters: {'num_arvores': 67, 'critério': 'friedman_mse', 'min_exemplos_split': 2, 'min_exemplos_folha': 1, 'num_max_atributos': 0.8817698043672444}. Best is trial 51 with value: 4.723711888484176.\n",
      "[I 2024-11-10 22:55:14,265] Trial 84 finished with value: 6.0883761804323875 and parameters: {'num_arvores': 51, 'critério': 'friedman_mse', 'min_exemplos_split': 19, 'min_exemplos_folha': 5, 'num_max_atributos': 0.8057921141807833}. Best is trial 51 with value: 4.723711888484176.\n",
      "[I 2024-11-10 22:55:15,734] Trial 85 finished with value: 4.958248117699883 and parameters: {'num_arvores': 59, 'critério': 'friedman_mse', 'min_exemplos_split': 6, 'min_exemplos_folha': 1, 'num_max_atributos': 0.7579694525019132}. Best is trial 51 with value: 4.723711888484176.\n",
      "[I 2024-11-10 22:55:18,107] Trial 86 finished with value: 4.797672525871716 and parameters: {'num_arvores': 74, 'critério': 'friedman_mse', 'min_exemplos_split': 2, 'min_exemplos_folha': 1, 'num_max_atributos': 0.914676101748942}. Best is trial 51 with value: 4.723711888484176.\n",
      "[I 2024-11-10 22:55:20,190] Trial 87 finished with value: 4.737177729658997 and parameters: {'num_arvores': 54, 'critério': 'friedman_mse', 'min_exemplos_split': 2, 'min_exemplos_folha': 1, 'num_max_atributos': 0.8569856625788368}. Best is trial 51 with value: 4.723711888484176.\n",
      "[I 2024-11-10 22:55:22,265] Trial 88 finished with value: 5.092496141840593 and parameters: {'num_arvores': 82, 'critério': 'friedman_mse', 'min_exemplos_split': 8, 'min_exemplos_folha': 1, 'num_max_atributos': 0.8227006419364935}. Best is trial 51 with value: 4.723711888484176.\n",
      "[I 2024-11-10 22:55:23,465] Trial 89 finished with value: 4.87992632004491 and parameters: {'num_arvores': 64, 'critério': 'friedman_mse', 'min_exemplos_split': 5, 'min_exemplos_folha': 1, 'num_max_atributos': 0.7786691619047631}. Best is trial 51 with value: 4.723711888484176.\n",
      "[I 2024-11-10 22:55:24,606] Trial 90 finished with value: 6.003883576196157 and parameters: {'num_arvores': 70, 'critério': 'squared_error', 'min_exemplos_split': 2, 'min_exemplos_folha': 7, 'num_max_atributos': 0.6904630878157191}. Best is trial 51 with value: 4.723711888484176.\n",
      "[I 2024-11-10 22:55:25,586] Trial 91 finished with value: 4.737177729658996 and parameters: {'num_arvores': 54, 'critério': 'friedman_mse', 'min_exemplos_split': 2, 'min_exemplos_folha': 1, 'num_max_atributos': 0.8653297785136735}. Best is trial 51 with value: 4.723711888484176.\n",
      "[I 2024-11-10 22:55:26,492] Trial 92 finished with value: 4.747031923944203 and parameters: {'num_arvores': 45, 'critério': 'friedman_mse', 'min_exemplos_split': 2, 'min_exemplos_folha': 1, 'num_max_atributos': 0.8686613029736868}. Best is trial 51 with value: 4.723711888484176.\n",
      "[I 2024-11-10 22:55:27,510] Trial 93 finished with value: 4.728625471873075 and parameters: {'num_arvores': 56, 'critério': 'friedman_mse', 'min_exemplos_split': 2, 'min_exemplos_folha': 1, 'num_max_atributos': 0.829178994570554}. Best is trial 51 with value: 4.723711888484176.\n",
      "[I 2024-11-10 22:55:28,662] Trial 94 finished with value: 4.737396880209754 and parameters: {'num_arvores': 68, 'critério': 'friedman_mse', 'min_exemplos_split': 2, 'min_exemplos_folha': 1, 'num_max_atributos': 0.7402170851299308}. Best is trial 51 with value: 4.723711888484176.\n",
      "[I 2024-11-10 22:55:29,741] Trial 95 finished with value: 4.727910412083668 and parameters: {'num_arvores': 57, 'critério': 'friedman_mse', 'min_exemplos_split': 2, 'min_exemplos_folha': 1, 'num_max_atributos': 0.8177681618182543}. Best is trial 51 with value: 4.723711888484176.\n",
      "[I 2024-11-10 22:55:30,625] Trial 96 finished with value: 5.861346568320317 and parameters: {'num_arvores': 51, 'critério': 'friedman_mse', 'min_exemplos_split': 3, 'min_exemplos_folha': 6, 'num_max_atributos': 0.9366444208773108}. Best is trial 51 with value: 4.723711888484176.\n",
      "[I 2024-11-10 22:55:31,658] Trial 97 finished with value: 4.728625471873075 and parameters: {'num_arvores': 56, 'critério': 'friedman_mse', 'min_exemplos_split': 2, 'min_exemplos_folha': 1, 'num_max_atributos': 0.8285805505309052}. Best is trial 51 with value: 4.723711888484176.\n",
      "[I 2024-11-10 22:55:32,593] Trial 98 finished with value: 5.772476148034228 and parameters: {'num_arvores': 47, 'critério': 'friedman_mse', 'min_exemplos_split': 18, 'min_exemplos_folha': 1, 'num_max_atributos': 0.8416350062207101}. Best is trial 51 with value: 4.723711888484176.\n",
      "[I 2024-11-10 22:55:33,557] Trial 99 finished with value: 6.151820725115483 and parameters: {'num_arvores': 56, 'critério': 'friedman_mse', 'min_exemplos_split': 2, 'min_exemplos_folha': 8, 'num_max_atributos': 0.8989946574128758}. Best is trial 51 with value: 4.723711888484176.\n",
      "[I 2024-11-10 22:55:34,425] Trial 100 finished with value: 4.754152643009958 and parameters: {'num_arvores': 42, 'critério': 'friedman_mse', 'min_exemplos_split': 2, 'min_exemplos_folha': 1, 'num_max_atributos': 0.8133996107318442}. Best is trial 51 with value: 4.723711888484176.\n",
      "[I 2024-11-10 22:55:35,500] Trial 101 finished with value: 4.713595602775285 and parameters: {'num_arvores': 61, 'critério': 'friedman_mse', 'min_exemplos_split': 2, 'min_exemplos_folha': 1, 'num_max_atributos': 0.7902199678783113}. Best is trial 101 with value: 4.713595602775285.\n",
      "[I 2024-11-10 22:55:36,961] Trial 102 finished with value: 4.719010076350646 and parameters: {'num_arvores': 58, 'critério': 'friedman_mse', 'min_exemplos_split': 2, 'min_exemplos_folha': 1, 'num_max_atributos': 0.7910736921172864}. Best is trial 101 with value: 4.713595602775285.\n",
      "[I 2024-11-10 22:55:38,558] Trial 103 finished with value: 4.713595602775285 and parameters: {'num_arvores': 61, 'critério': 'friedman_mse', 'min_exemplos_split': 2, 'min_exemplos_folha': 1, 'num_max_atributos': 0.8406423161661728}. Best is trial 101 with value: 4.713595602775285.\n",
      "[I 2024-11-10 22:55:40,109] Trial 104 finished with value: 4.713595602775285 and parameters: {'num_arvores': 61, 'critério': 'friedman_mse', 'min_exemplos_split': 2, 'min_exemplos_folha': 1, 'num_max_atributos': 0.7808068055683652}. Best is trial 101 with value: 4.713595602775285.\n",
      "[I 2024-11-10 22:55:41,675] Trial 105 finished with value: 4.713595602775285 and parameters: {'num_arvores': 61, 'critério': 'friedman_mse', 'min_exemplos_split': 2, 'min_exemplos_folha': 1, 'num_max_atributos': 0.7901235251223032}. Best is trial 101 with value: 4.713595602775285.\n",
      "[I 2024-11-10 22:55:43,312] Trial 106 finished with value: 4.837509647488732 and parameters: {'num_arvores': 61, 'critério': 'squared_error', 'min_exemplos_split': 2, 'min_exemplos_folha': 1, 'num_max_atributos': 0.7849792435501269}. Best is trial 101 with value: 4.713595602775285.\n",
      "[I 2024-11-10 22:55:44,795] Trial 107 finished with value: 7.2246383875722895 and parameters: {'num_arvores': 62, 'critério': 'friedman_mse', 'min_exemplos_split': 2, 'min_exemplos_folha': 18, 'num_max_atributos': 0.7550059743689868}. Best is trial 101 with value: 4.713595602775285.\n",
      "[I 2024-11-10 22:55:46,225] Trial 108 finished with value: 5.771632920870637 and parameters: {'num_arvores': 59, 'critério': 'friedman_mse', 'min_exemplos_split': 14, 'min_exemplos_folha': 4, 'num_max_atributos': 0.8510345487211983}. Best is trial 101 with value: 4.713595602775285.\n",
      "[I 2024-11-10 22:55:47,715] Trial 109 finished with value: 6.4283229800643555 and parameters: {'num_arvores': 63, 'critério': 'friedman_mse', 'min_exemplos_split': 2, 'min_exemplos_folha': 10, 'num_max_atributos': 0.7234758393586321}. Best is trial 101 with value: 4.713595602775285.\n",
      "[I 2024-11-10 22:55:49,325] Trial 110 finished with value: 5.328687173750291 and parameters: {'num_arvores': 67, 'critério': 'friedman_mse', 'min_exemplos_split': 11, 'min_exemplos_folha': 1, 'num_max_atributos': 0.7751031564743008}. Best is trial 101 with value: 4.713595602775285.\n",
      "[I 2024-11-10 22:55:50,808] Trial 111 finished with value: 5.222762891427594 and parameters: {'num_arvores': 60, 'critério': 'friedman_mse', 'min_exemplos_split': 10, 'min_exemplos_folha': 1, 'num_max_atributos': 0.8781893112052976}. Best is trial 101 with value: 4.713595602775285.\n",
      "[I 2024-11-10 22:55:52,208] Trial 112 finished with value: 5.657642065010174 and parameters: {'num_arvores': 58, 'critério': 'friedman_mse', 'min_exemplos_split': 16, 'min_exemplos_folha': 1, 'num_max_atributos': 0.7904550445001703}. Best is trial 101 with value: 4.713595602775285.\n",
      "[I 2024-11-10 22:55:53,837] Trial 113 finished with value: 4.736919758299379 and parameters: {'num_arvores': 61, 'critério': 'friedman_mse', 'min_exemplos_split': 2, 'min_exemplos_folha': 1, 'num_max_atributos': 0.7287479572559704}. Best is trial 101 with value: 4.713595602775285.\n",
      "[I 2024-11-10 22:55:55,488] Trial 114 finished with value: 4.743718078408707 and parameters: {'num_arvores': 72, 'critério': 'friedman_mse', 'min_exemplos_split': 2, 'min_exemplos_folha': 1, 'num_max_atributos': 0.8061897764624338}. Best is trial 101 with value: 4.713595602775285.\n",
      "[I 2024-11-10 22:55:57,056] Trial 115 finished with value: 4.719010076350645 and parameters: {'num_arvores': 58, 'critério': 'friedman_mse', 'min_exemplos_split': 2, 'min_exemplos_folha': 1, 'num_max_atributos': 0.8459341542176749}. Best is trial 101 with value: 4.713595602775285.\n",
      "[I 2024-11-10 22:55:58,698] Trial 116 finished with value: 4.78263030281941 and parameters: {'num_arvores': 64, 'critério': 'friedman_mse', 'min_exemplos_split': 2, 'min_exemplos_folha': 1, 'num_max_atributos': 0.9018355475658304}. Best is trial 101 with value: 4.713595602775285.\n",
      "[I 2024-11-10 22:56:00,508] Trial 117 finished with value: 4.7268864069842955 and parameters: {'num_arvores': 66, 'critério': 'friedman_mse', 'min_exemplos_split': 2, 'min_exemplos_folha': 1, 'num_max_atributos': 0.8401644277040112}. Best is trial 101 with value: 4.713595602775285.\n",
      "[I 2024-11-10 22:56:02,308] Trial 118 finished with value: 4.735790035999824 and parameters: {'num_arvores': 69, 'critério': 'friedman_mse', 'min_exemplos_split': 2, 'min_exemplos_folha': 1, 'num_max_atributos': 0.8451917982424687}. Best is trial 101 with value: 4.713595602775285.\n",
      "[I 2024-11-10 22:56:04,013] Trial 119 finished with value: 4.787752110741135 and parameters: {'num_arvores': 66, 'critério': 'friedman_mse', 'min_exemplos_split': 2, 'min_exemplos_folha': 1, 'num_max_atributos': 0.9772230621272257}. Best is trial 101 with value: 4.713595602775285.\n",
      "[I 2024-11-10 22:56:05,631] Trial 120 finished with value: 4.830312446202777 and parameters: {'num_arvores': 63, 'critério': 'squared_error', 'min_exemplos_split': 2, 'min_exemplos_folha': 1, 'num_max_atributos': 0.7500287827158482}. Best is trial 101 with value: 4.713595602775285.\n",
      "[I 2024-11-10 22:56:07,341] Trial 121 finished with value: 4.7925506570790635 and parameters: {'num_arvores': 59, 'critério': 'friedman_mse', 'min_exemplos_split': 2, 'min_exemplos_folha': 1, 'num_max_atributos': 0.9227022098402873}. Best is trial 101 with value: 4.713595602775285.\n",
      "[I 2024-11-10 22:56:09,058] Trial 122 finished with value: 4.725798404965618 and parameters: {'num_arvores': 68, 'critério': 'friedman_mse', 'min_exemplos_split': 2, 'min_exemplos_folha': 1, 'num_max_atributos': 0.7921299771496173}. Best is trial 101 with value: 4.713595602775285.\n",
      "[I 2024-11-10 22:56:10,793] Trial 123 finished with value: 4.725798404965618 and parameters: {'num_arvores': 68, 'critério': 'friedman_mse', 'min_exemplos_split': 2, 'min_exemplos_folha': 1, 'num_max_atributos': 0.7897787289523711}. Best is trial 101 with value: 4.713595602775285.\n",
      "[I 2024-11-10 22:56:12,659] Trial 124 finished with value: 4.740925385451655 and parameters: {'num_arvores': 71, 'critério': 'friedman_mse', 'min_exemplos_split': 2, 'min_exemplos_folha': 1, 'num_max_atributos': 0.7717648747093742}. Best is trial 101 with value: 4.713595602775285.\n",
      "[I 2024-11-10 22:56:14,390] Trial 125 finished with value: 4.7305248082304265 and parameters: {'num_arvores': 76, 'critério': 'friedman_mse', 'min_exemplos_split': 2, 'min_exemplos_folha': 1, 'num_max_atributos': 0.7923453627972745}. Best is trial 101 with value: 4.713595602775285.\n",
      "[I 2024-11-10 22:56:16,088] Trial 126 finished with value: 4.7373968802097535 and parameters: {'num_arvores': 68, 'critério': 'friedman_mse', 'min_exemplos_split': 2, 'min_exemplos_folha': 1, 'num_max_atributos': 0.6971679073484278}. Best is trial 101 with value: 4.713595602775285.\n",
      "[I 2024-11-10 22:56:17,820] Trial 127 finished with value: 4.807941915245921 and parameters: {'num_arvores': 74, 'critério': 'friedman_mse', 'min_exemplos_split': 4, 'min_exemplos_folha': 1, 'num_max_atributos': 0.8846516841517735}. Best is trial 101 with value: 4.713595602775285.\n",
      "[I 2024-11-10 22:56:19,444] Trial 128 finished with value: 4.999104325133873 and parameters: {'num_arvores': 65, 'critério': 'friedman_mse', 'min_exemplos_split': 7, 'min_exemplos_folha': 1, 'num_max_atributos': 0.7934583160585281}. Best is trial 101 with value: 4.713595602775285.\n",
      "[I 2024-11-10 22:56:21,024] Trial 129 finished with value: 4.7242890696041595 and parameters: {'num_arvores': 62, 'critério': 'friedman_mse', 'min_exemplos_split': 2, 'min_exemplos_folha': 1, 'num_max_atributos': 0.762351447978594}. Best is trial 101 with value: 4.713595602775285.\n",
      "[I 2024-11-10 22:56:22,624] Trial 130 finished with value: 4.736040983996479 and parameters: {'num_arvores': 62, 'critério': 'friedman_mse', 'min_exemplos_split': 2, 'min_exemplos_folha': 1, 'num_max_atributos': 0.7349182907010041}. Best is trial 101 with value: 4.713595602775285.\n",
      "[I 2024-11-10 22:56:24,392] Trial 131 finished with value: 4.735790035999824 and parameters: {'num_arvores': 69, 'critério': 'friedman_mse', 'min_exemplos_split': 2, 'min_exemplos_folha': 1, 'num_max_atributos': 0.7591706022013963}. Best is trial 101 with value: 4.713595602775285.\n",
      "[I 2024-11-10 22:56:26,040] Trial 132 finished with value: 4.713595602775285 and parameters: {'num_arvores': 61, 'critério': 'friedman_mse', 'min_exemplos_split': 2, 'min_exemplos_folha': 1, 'num_max_atributos': 0.8146915428873007}. Best is trial 101 with value: 4.713595602775285.\n",
      "[I 2024-11-10 22:56:27,524] Trial 133 finished with value: 4.714350575825482 and parameters: {'num_arvores': 60, 'critério': 'friedman_mse', 'min_exemplos_split': 2, 'min_exemplos_folha': 1, 'num_max_atributos': 0.7744457197607392}. Best is trial 101 with value: 4.713595602775285.\n",
      "[I 2024-11-10 22:56:29,041] Trial 134 finished with value: 5.131433448579736 and parameters: {'num_arvores': 60, 'critério': 'friedman_mse', 'min_exemplos_split': 9, 'min_exemplos_folha': 1, 'num_max_atributos': 0.7637839518414071}. Best is trial 101 with value: 4.713595602775285.\n",
      "[I 2024-11-10 22:56:30,691] Trial 135 finished with value: 4.723711888484177 and parameters: {'num_arvores': 63, 'critério': 'friedman_mse', 'min_exemplos_split': 2, 'min_exemplos_folha': 1, 'num_max_atributos': 0.8106621708244498}. Best is trial 101 with value: 4.713595602775285.\n",
      "[I 2024-11-10 22:56:32,278] Trial 136 finished with value: 4.723711888484176 and parameters: {'num_arvores': 63, 'critério': 'friedman_mse', 'min_exemplos_split': 2, 'min_exemplos_folha': 1, 'num_max_atributos': 0.8564148142395374}. Best is trial 101 with value: 4.713595602775285.\n",
      "[I 2024-11-10 22:56:33,850] Trial 137 finished with value: 4.719010076350645 and parameters: {'num_arvores': 58, 'critério': 'friedman_mse', 'min_exemplos_split': 2, 'min_exemplos_folha': 1, 'num_max_atributos': 0.8614951303707276}. Best is trial 101 with value: 4.713595602775285.\n",
      "[I 2024-11-10 22:56:35,341] Trial 138 finished with value: 4.719010076350645 and parameters: {'num_arvores': 58, 'critério': 'friedman_mse', 'min_exemplos_split': 2, 'min_exemplos_folha': 1, 'num_max_atributos': 0.8568224616393663}. Best is trial 101 with value: 4.713595602775285.\n",
      "[I 2024-11-10 22:56:36,641] Trial 139 finished with value: 5.725745186567032 and parameters: {'num_arvores': 54, 'critério': 'friedman_mse', 'min_exemplos_split': 6, 'min_exemplos_folha': 5, 'num_max_atributos': 0.858079761993229}. Best is trial 101 with value: 4.713595602775285.\n",
      "[I 2024-11-10 22:56:38,168] Trial 140 finished with value: 4.713040996200097 and parameters: {'num_arvores': 59, 'critério': 'friedman_mse', 'min_exemplos_split': 2, 'min_exemplos_folha': 1, 'num_max_atributos': 0.863651816829996}. Best is trial 140 with value: 4.713040996200097.\n",
      "[I 2024-11-10 22:56:39,722] Trial 141 finished with value: 4.719010076350645 and parameters: {'num_arvores': 58, 'critério': 'friedman_mse', 'min_exemplos_split': 2, 'min_exemplos_folha': 1, 'num_max_atributos': 0.8737965987268365}. Best is trial 140 with value: 4.713040996200097.\n",
      "[I 2024-11-10 22:56:41,207] Trial 142 finished with value: 4.803789192434436 and parameters: {'num_arvores': 57, 'critério': 'friedman_mse', 'min_exemplos_split': 2, 'min_exemplos_folha': 1, 'num_max_atributos': 0.8846880835605795}. Best is trial 140 with value: 4.713040996200097.\n",
      "[I 2024-11-10 22:56:42,749] Trial 143 finished with value: 4.7925506570790635 and parameters: {'num_arvores': 59, 'critério': 'friedman_mse', 'min_exemplos_split': 2, 'min_exemplos_folha': 1, 'num_max_atributos': 0.9397727317414896}. Best is trial 140 with value: 4.713040996200097.\n",
      "[I 2024-11-10 22:56:44,141] Trial 144 finished with value: 4.820067038129693 and parameters: {'num_arvores': 53, 'critério': 'friedman_mse', 'min_exemplos_split': 2, 'min_exemplos_folha': 1, 'num_max_atributos': 0.91031442229298}. Best is trial 140 with value: 4.713040996200097.\n",
      "[I 2024-11-10 22:56:45,639] Trial 145 finished with value: 4.728175535783595 and parameters: {'num_arvores': 55, 'critério': 'friedman_mse', 'min_exemplos_split': 2, 'min_exemplos_folha': 1, 'num_max_atributos': 0.8675965760026567}. Best is trial 140 with value: 4.713040996200097.\n",
      "[I 2024-11-10 22:56:47,173] Trial 146 finished with value: 4.719010076350646 and parameters: {'num_arvores': 58, 'critério': 'friedman_mse', 'min_exemplos_split': 2, 'min_exemplos_folha': 1, 'num_max_atributos': 0.8467450528064207}. Best is trial 140 with value: 4.713040996200097.\n",
      "[I 2024-11-10 22:56:48,657] Trial 147 finished with value: 4.719010076350646 and parameters: {'num_arvores': 58, 'critério': 'friedman_mse', 'min_exemplos_split': 2, 'min_exemplos_folha': 1, 'num_max_atributos': 0.8451758026809634}. Best is trial 140 with value: 4.713040996200097.\n",
      "[I 2024-11-10 22:56:50,057] Trial 148 finished with value: 4.73253603087451 and parameters: {'num_arvores': 50, 'critério': 'friedman_mse', 'min_exemplos_split': 2, 'min_exemplos_folha': 1, 'num_max_atributos': 0.8353366693014546}. Best is trial 140 with value: 4.713040996200097.\n",
      "[I 2024-11-10 22:56:51,428] Trial 149 finished with value: 6.6687648195832185 and parameters: {'num_arvores': 57, 'critério': 'squared_error', 'min_exemplos_split': 5, 'min_exemplos_folha': 13, 'num_max_atributos': 0.8898869743379406}. Best is trial 140 with value: 4.713040996200097.\n",
      "[I 2024-11-10 22:56:52,924] Trial 150 finished with value: 4.719010076350645 and parameters: {'num_arvores': 58, 'critério': 'friedman_mse', 'min_exemplos_split': 2, 'min_exemplos_folha': 1, 'num_max_atributos': 0.8737310882063982}. Best is trial 140 with value: 4.713040996200097.\n",
      "[I 2024-11-10 22:56:54,440] Trial 151 finished with value: 4.719010076350646 and parameters: {'num_arvores': 58, 'critério': 'friedman_mse', 'min_exemplos_split': 2, 'min_exemplos_folha': 1, 'num_max_atributos': 0.870816522971503}. Best is trial 140 with value: 4.713040996200097.\n",
      "[I 2024-11-10 22:56:56,024] Trial 152 finished with value: 4.719010076350646 and parameters: {'num_arvores': 58, 'critério': 'friedman_mse', 'min_exemplos_split': 2, 'min_exemplos_folha': 1, 'num_max_atributos': 0.8703039394600028}. Best is trial 140 with value: 4.713040996200097.\n",
      "[I 2024-11-10 22:56:57,503] Trial 153 finished with value: 4.809273423755643 and parameters: {'num_arvores': 55, 'critério': 'friedman_mse', 'min_exemplos_split': 2, 'min_exemplos_folha': 1, 'num_max_atributos': 0.910270414268279}. Best is trial 140 with value: 4.713040996200097.\n",
      "[I 2024-11-10 22:56:59,023] Trial 154 finished with value: 4.714350575825482 and parameters: {'num_arvores': 60, 'critério': 'friedman_mse', 'min_exemplos_split': 2, 'min_exemplos_folha': 1, 'num_max_atributos': 0.8476290784712458}. Best is trial 140 with value: 4.713040996200097.\n",
      "[I 2024-11-10 22:57:00,829] Trial 155 finished with value: 4.713595602775285 and parameters: {'num_arvores': 61, 'critério': 'friedman_mse', 'min_exemplos_split': 2, 'min_exemplos_folha': 1, 'num_max_atributos': 0.8394877214173462}. Best is trial 140 with value: 4.713040996200097.\n",
      "[I 2024-11-10 22:57:02,340] Trial 156 finished with value: 4.714350575825482 and parameters: {'num_arvores': 60, 'critério': 'friedman_mse', 'min_exemplos_split': 2, 'min_exemplos_folha': 1, 'num_max_atributos': 0.828606270613951}. Best is trial 140 with value: 4.713040996200097.\n",
      "[I 2024-11-10 22:57:03,978] Trial 157 finished with value: 4.714350575825482 and parameters: {'num_arvores': 60, 'critério': 'friedman_mse', 'min_exemplos_split': 2, 'min_exemplos_folha': 1, 'num_max_atributos': 0.8245192151541734}. Best is trial 140 with value: 4.713040996200097.\n",
      "[I 2024-11-10 22:57:05,524] Trial 158 finished with value: 4.713595602775285 and parameters: {'num_arvores': 61, 'critério': 'friedman_mse', 'min_exemplos_split': 2, 'min_exemplos_folha': 1, 'num_max_atributos': 0.8216744999126828}. Best is trial 140 with value: 4.713040996200097.\n",
      "[I 2024-11-10 22:57:07,208] Trial 159 finished with value: 5.275451470061435 and parameters: {'num_arvores': 61, 'critério': 'friedman_mse', 'min_exemplos_split': 2, 'min_exemplos_folha': 3, 'num_max_atributos': 0.8202605034617275}. Best is trial 140 with value: 4.713040996200097.\n",
      "[I 2024-11-10 22:57:08,807] Trial 160 finished with value: 5.329644249782596 and parameters: {'num_arvores': 60, 'critério': 'friedman_mse', 'min_exemplos_split': 12, 'min_exemplos_folha': 1, 'num_max_atributos': 0.8265233316340381}. Best is trial 140 with value: 4.713040996200097.\n",
      "[I 2024-11-10 22:57:10,290] Trial 161 finished with value: 6.124770128086427 and parameters: {'num_arvores': 61, 'critério': 'friedman_mse', 'min_exemplos_split': 2, 'min_exemplos_folha': 8, 'num_max_atributos': 0.889975984726787}. Best is trial 140 with value: 4.713040996200097.\n",
      "[I 2024-11-10 22:57:11,806] Trial 162 finished with value: 4.728175535783594 and parameters: {'num_arvores': 55, 'critério': 'friedman_mse', 'min_exemplos_split': 2, 'min_exemplos_folha': 1, 'num_max_atributos': 0.8323433190968623}. Best is trial 140 with value: 4.713040996200097.\n",
      "[I 2024-11-10 22:57:13,355] Trial 163 finished with value: 4.714350575825482 and parameters: {'num_arvores': 60, 'critério': 'friedman_mse', 'min_exemplos_split': 2, 'min_exemplos_folha': 1, 'num_max_atributos': 0.8604967201899785}. Best is trial 140 with value: 4.713040996200097.\n",
      "[I 2024-11-10 22:57:14,910] Trial 164 finished with value: 4.714350575825482 and parameters: {'num_arvores': 60, 'critério': 'friedman_mse', 'min_exemplos_split': 2, 'min_exemplos_folha': 1, 'num_max_atributos': 0.8156672936312076}. Best is trial 140 with value: 4.713040996200097.\n",
      "[I 2024-11-10 22:57:16,507] Trial 165 finished with value: 4.713595602775285 and parameters: {'num_arvores': 61, 'critério': 'friedman_mse', 'min_exemplos_split': 2, 'min_exemplos_folha': 1, 'num_max_atributos': 0.8125912088121489}. Best is trial 140 with value: 4.713040996200097.\n",
      "[I 2024-11-10 22:57:18,209] Trial 166 finished with value: 4.726393134465509 and parameters: {'num_arvores': 64, 'critério': 'friedman_mse', 'min_exemplos_split': 2, 'min_exemplos_folha': 1, 'num_max_atributos': 0.8186660968710038}. Best is trial 140 with value: 4.713040996200097.\n",
      "[I 2024-11-10 22:57:19,841] Trial 167 finished with value: 4.713595602775285 and parameters: {'num_arvores': 61, 'critério': 'friedman_mse', 'min_exemplos_split': 2, 'min_exemplos_folha': 1, 'num_max_atributos': 0.8093798649611283}. Best is trial 140 with value: 4.713040996200097.\n",
      "[I 2024-11-10 22:57:21,405] Trial 168 finished with value: 4.713595602775286 and parameters: {'num_arvores': 61, 'critério': 'friedman_mse', 'min_exemplos_split': 2, 'min_exemplos_folha': 1, 'num_max_atributos': 0.7806331543927054}. Best is trial 140 with value: 4.713040996200097.\n",
      "[I 2024-11-10 22:57:23,655] Trial 169 finished with value: 4.744727092781695 and parameters: {'num_arvores': 96, 'critério': 'friedman_mse', 'min_exemplos_split': 2, 'min_exemplos_folha': 1, 'num_max_atributos': 0.8110075919212851}. Best is trial 140 with value: 4.713040996200097.\n",
      "[I 2024-11-10 22:57:25,318] Trial 170 finished with value: 4.8004974030389596 and parameters: {'num_arvores': 63, 'critério': 'poisson', 'min_exemplos_split': 2, 'min_exemplos_folha': 1, 'num_max_atributos': 0.7700817750160353}. Best is trial 140 with value: 4.713040996200097.\n",
      "[I 2024-11-10 22:57:26,905] Trial 171 finished with value: 4.713595602775287 and parameters: {'num_arvores': 61, 'critério': 'friedman_mse', 'min_exemplos_split': 2, 'min_exemplos_folha': 1, 'num_max_atributos': 0.7831385769249526}. Best is trial 140 with value: 4.713040996200097.\n",
      "[I 2024-11-10 22:57:28,523] Trial 172 finished with value: 4.713595602775285 and parameters: {'num_arvores': 61, 'critério': 'friedman_mse', 'min_exemplos_split': 2, 'min_exemplos_folha': 1, 'num_max_atributos': 0.7837766638288557}. Best is trial 140 with value: 4.713040996200097.\n",
      "[I 2024-11-10 22:57:30,056] Trial 173 finished with value: 4.713595602775285 and parameters: {'num_arvores': 61, 'critério': 'friedman_mse', 'min_exemplos_split': 2, 'min_exemplos_folha': 1, 'num_max_atributos': 0.7911043280648118}. Best is trial 140 with value: 4.713040996200097.\n",
      "[I 2024-11-10 22:57:31,760] Trial 174 finished with value: 4.713595602775286 and parameters: {'num_arvores': 61, 'critério': 'friedman_mse', 'min_exemplos_split': 2, 'min_exemplos_folha': 1, 'num_max_atributos': 0.7791055818060306}. Best is trial 140 with value: 4.713040996200097.\n",
      "[I 2024-11-10 22:57:33,574] Trial 175 finished with value: 5.141306079912565 and parameters: {'num_arvores': 61, 'critério': 'friedman_mse', 'min_exemplos_split': 8, 'min_exemplos_folha': 1, 'num_max_atributos': 0.7457662143435635}. Best is trial 140 with value: 4.713040996200097.\n",
      "[I 2024-11-10 22:57:35,314] Trial 176 finished with value: 4.7242890696041595 and parameters: {'num_arvores': 62, 'critério': 'friedman_mse', 'min_exemplos_split': 2, 'min_exemplos_folha': 1, 'num_max_atributos': 0.7794430505236629}. Best is trial 140 with value: 4.713040996200097.\n",
      "[I 2024-11-10 22:57:37,138] Trial 177 finished with value: 4.734237608799615 and parameters: {'num_arvores': 64, 'critério': 'friedman_mse', 'min_exemplos_split': 2, 'min_exemplos_folha': 1, 'num_max_atributos': 0.7174482247145404}. Best is trial 140 with value: 4.713040996200097.\n",
      "[I 2024-11-10 22:57:39,038] Trial 178 finished with value: 4.7242890696041595 and parameters: {'num_arvores': 62, 'critério': 'friedman_mse', 'min_exemplos_split': 2, 'min_exemplos_folha': 1, 'num_max_atributos': 0.785523545580384}. Best is trial 140 with value: 4.713040996200097.\n",
      "[I 2024-11-10 22:57:40,821] Trial 179 finished with value: 4.724191549625931 and parameters: {'num_arvores': 65, 'critério': 'friedman_mse', 'min_exemplos_split': 2, 'min_exemplos_folha': 1, 'num_max_atributos': 0.8011757534482323}. Best is trial 140 with value: 4.713040996200097.\n",
      "[I 2024-11-10 22:57:42,620] Trial 180 finished with value: 4.837509647488733 and parameters: {'num_arvores': 61, 'critério': 'squared_error', 'min_exemplos_split': 2, 'min_exemplos_folha': 1, 'num_max_atributos': 0.7674322512914973}. Best is trial 140 with value: 4.713040996200097.\n",
      "[I 2024-11-10 22:57:44,405] Trial 181 finished with value: 4.714350575825482 and parameters: {'num_arvores': 60, 'critério': 'friedman_mse', 'min_exemplos_split': 2, 'min_exemplos_folha': 1, 'num_max_atributos': 0.7981680325171241}. Best is trial 140 with value: 4.713040996200097.\n",
      "[I 2024-11-10 22:57:46,219] Trial 182 finished with value: 4.734237608799615 and parameters: {'num_arvores': 64, 'critério': 'friedman_mse', 'min_exemplos_split': 2, 'min_exemplos_folha': 1, 'num_max_atributos': 0.7414954402912579}. Best is trial 140 with value: 4.713040996200097.\n",
      "[I 2024-11-10 22:57:47,828] Trial 183 finished with value: 4.714350575825482 and parameters: {'num_arvores': 60, 'critério': 'friedman_mse', 'min_exemplos_split': 2, 'min_exemplos_folha': 1, 'num_max_atributos': 0.8277014547240882}. Best is trial 140 with value: 4.713040996200097.\n",
      "[I 2024-11-10 22:57:49,753] Trial 184 finished with value: 4.7242890696041595 and parameters: {'num_arvores': 62, 'critério': 'friedman_mse', 'min_exemplos_split': 2, 'min_exemplos_folha': 1, 'num_max_atributos': 0.7879536656752747}. Best is trial 140 with value: 4.713040996200097.\n",
      "[I 2024-11-10 22:57:51,326] Trial 185 finished with value: 5.813865598490748 and parameters: {'num_arvores': 65, 'critério': 'friedman_mse', 'min_exemplos_split': 2, 'min_exemplos_folha': 6, 'num_max_atributos': 0.8115750671611054}. Best is trial 140 with value: 4.713040996200097.\n",
      "[I 2024-11-10 22:57:52,995] Trial 186 finished with value: 4.714350575825482 and parameters: {'num_arvores': 60, 'critério': 'friedman_mse', 'min_exemplos_split': 2, 'min_exemplos_folha': 1, 'num_max_atributos': 0.7772089845441448}. Best is trial 140 with value: 4.713040996200097.\n",
      "[I 2024-11-10 22:57:54,510] Trial 187 finished with value: 4.728625471873075 and parameters: {'num_arvores': 56, 'critério': 'friedman_mse', 'min_exemplos_split': 2, 'min_exemplos_folha': 1, 'num_max_atributos': 0.8361112825387373}. Best is trial 140 with value: 4.713040996200097.\n",
      "[I 2024-11-10 22:57:57,029] Trial 188 finished with value: 4.723711888484177 and parameters: {'num_arvores': 63, 'critério': 'friedman_mse', 'min_exemplos_split': 2, 'min_exemplos_folha': 1, 'num_max_atributos': 0.8048623772290544}. Best is trial 140 with value: 4.713040996200097.\n",
      "[I 2024-11-10 22:58:00,691] Trial 189 finished with value: 4.713595602775285 and parameters: {'num_arvores': 61, 'critério': 'friedman_mse', 'min_exemplos_split': 2, 'min_exemplos_folha': 1, 'num_max_atributos': 0.7562601395160454}. Best is trial 140 with value: 4.713040996200097.\n",
      "[I 2024-11-10 22:58:02,404] Trial 190 finished with value: 6.616111799098722 and parameters: {'num_arvores': 62, 'critério': 'friedman_mse', 'min_exemplos_split': 2, 'min_exemplos_folha': 12, 'num_max_atributos': 0.7229871428257094}. Best is trial 140 with value: 4.713040996200097.\n",
      "[I 2024-11-10 22:58:04,036] Trial 191 finished with value: 4.714350575825482 and parameters: {'num_arvores': 60, 'critério': 'friedman_mse', 'min_exemplos_split': 2, 'min_exemplos_folha': 1, 'num_max_atributos': 0.7520251345278393}. Best is trial 140 with value: 4.713040996200097.\n",
      "[I 2024-11-10 22:58:05,636] Trial 192 finished with value: 4.728625471873075 and parameters: {'num_arvores': 56, 'critério': 'friedman_mse', 'min_exemplos_split': 2, 'min_exemplos_folha': 1, 'num_max_atributos': 0.7781252424571407}. Best is trial 140 with value: 4.713040996200097.\n",
      "[I 2024-11-10 22:58:07,445] Trial 193 finished with value: 4.7242890696041595 and parameters: {'num_arvores': 62, 'critério': 'friedman_mse', 'min_exemplos_split': 2, 'min_exemplos_folha': 1, 'num_max_atributos': 0.8228498722223456}. Best is trial 140 with value: 4.713040996200097.\n",
      "[I 2024-11-10 22:58:09,399] Trial 194 finished with value: 4.7268864069842955 and parameters: {'num_arvores': 66, 'critério': 'friedman_mse', 'min_exemplos_split': 2, 'min_exemplos_folha': 1, 'num_max_atributos': 0.7999773973538459}. Best is trial 140 with value: 4.713040996200097.\n",
      "[I 2024-11-10 22:58:11,060] Trial 195 finished with value: 4.714350575825482 and parameters: {'num_arvores': 60, 'critério': 'friedman_mse', 'min_exemplos_split': 2, 'min_exemplos_folha': 1, 'num_max_atributos': 0.7571991099938282}. Best is trial 140 with value: 4.713040996200097.\n",
      "[I 2024-11-10 22:58:12,913] Trial 196 finished with value: 4.72639313446551 and parameters: {'num_arvores': 64, 'critério': 'friedman_mse', 'min_exemplos_split': 2, 'min_exemplos_folha': 1, 'num_max_atributos': 0.7794309509584333}. Best is trial 140 with value: 4.713040996200097.\n",
      "[I 2024-11-10 22:58:14,957] Trial 197 finished with value: 4.713040996200097 and parameters: {'num_arvores': 59, 'critério': 'friedman_mse', 'min_exemplos_split': 2, 'min_exemplos_folha': 1, 'num_max_atributos': 0.8292773422558053}. Best is trial 140 with value: 4.713040996200097.\n",
      "[I 2024-11-10 22:58:16,556] Trial 198 finished with value: 4.713040996200097 and parameters: {'num_arvores': 59, 'critério': 'friedman_mse', 'min_exemplos_split': 2, 'min_exemplos_folha': 1, 'num_max_atributos': 0.8359451310613965}. Best is trial 140 with value: 4.713040996200097.\n",
      "[I 2024-11-10 22:58:18,158] Trial 199 finished with value: 4.728625471873075 and parameters: {'num_arvores': 56, 'critério': 'friedman_mse', 'min_exemplos_split': 2, 'min_exemplos_folha': 1, 'num_max_atributos': 0.7981646330292328}. Best is trial 140 with value: 4.713040996200097.\n",
      "[I 2024-11-10 22:58:19,749] Trial 200 finished with value: 7.190850152951178 and parameters: {'num_arvores': 62, 'critério': 'friedman_mse', 'min_exemplos_split': 2, 'min_exemplos_folha': 17, 'num_max_atributos': 0.7362082738552698}. Best is trial 140 with value: 4.713040996200097.\n",
      "[I 2024-11-10 22:58:21,395] Trial 201 finished with value: 4.71435057582548 and parameters: {'num_arvores': 60, 'critério': 'friedman_mse', 'min_exemplos_split': 2, 'min_exemplos_folha': 1, 'num_max_atributos': 0.8403173899804052}. Best is trial 140 with value: 4.713040996200097.\n",
      "[I 2024-11-10 22:58:22,939] Trial 202 finished with value: 4.727910412083668 and parameters: {'num_arvores': 57, 'critério': 'friedman_mse', 'min_exemplos_split': 2, 'min_exemplos_folha': 1, 'num_max_atributos': 0.8425143977514687}. Best is trial 140 with value: 4.713040996200097.\n",
      "[I 2024-11-10 22:58:24,657] Trial 203 finished with value: 6.003229362040583 and parameters: {'num_arvores': 59, 'critério': 'friedman_mse', 'min_exemplos_split': 2, 'min_exemplos_folha': 1, 'num_max_atributos': 0.16496650256999212}. Best is trial 140 with value: 4.713040996200097.\n",
      "[I 2024-11-10 22:58:26,608] Trial 204 finished with value: 4.723711888484177 and parameters: {'num_arvores': 63, 'critério': 'friedman_mse', 'min_exemplos_split': 2, 'min_exemplos_folha': 1, 'num_max_atributos': 0.8097453409095264}. Best is trial 140 with value: 4.713040996200097.\n",
      "[I 2024-11-10 22:58:28,382] Trial 205 finished with value: 5.085998600775541 and parameters: {'num_arvores': 59, 'critério': 'friedman_mse', 'min_exemplos_split': 2, 'min_exemplos_folha': 1, 'num_max_atributos': 0.28481553533202103}. Best is trial 140 with value: 4.713040996200097.\n",
      "[I 2024-11-10 22:58:29,289] Trial 206 finished with value: 5.013860946190015 and parameters: {'num_arvores': 12, 'critério': 'friedman_mse', 'min_exemplos_split': 2, 'min_exemplos_folha': 1, 'num_max_atributos': 0.8411771228048948}. Best is trial 140 with value: 4.713040996200097.\n",
      "[I 2024-11-10 22:58:31,110] Trial 207 finished with value: 4.8009173981965025 and parameters: {'num_arvores': 62, 'critério': 'poisson', 'min_exemplos_split': 2, 'min_exemplos_folha': 1, 'num_max_atributos': 0.777529282446555}. Best is trial 140 with value: 4.713040996200097.\n",
      "[I 2024-11-10 22:58:32,603] Trial 208 finished with value: 4.808827653687299 and parameters: {'num_arvores': 54, 'critério': 'friedman_mse', 'min_exemplos_split': 4, 'min_exemplos_folha': 1, 'num_max_atributos': 0.7952200108726932}. Best is trial 140 with value: 4.713040996200097.\n",
      "[I 2024-11-10 22:58:34,413] Trial 209 finished with value: 4.724191549625931 and parameters: {'num_arvores': 65, 'critério': 'friedman_mse', 'min_exemplos_split': 2, 'min_exemplos_folha': 1, 'num_max_atributos': 0.7592536497575646}. Best is trial 140 with value: 4.713040996200097.\n",
      "[I 2024-11-10 22:58:36,233] Trial 210 finished with value: 4.827620415822554 and parameters: {'num_arvores': 61, 'critério': 'friedman_mse', 'min_exemplos_split': 2, 'min_exemplos_folha': 1, 'num_max_atributos': 0.382744839107906}. Best is trial 140 with value: 4.713040996200097.\n",
      "[I 2024-11-10 22:58:38,073] Trial 211 finished with value: 4.713040996200097 and parameters: {'num_arvores': 59, 'critério': 'friedman_mse', 'min_exemplos_split': 2, 'min_exemplos_folha': 1, 'num_max_atributos': 0.8291942023195823}. Best is trial 140 with value: 4.713040996200097.\n",
      "[I 2024-11-10 22:58:39,805] Trial 212 finished with value: 4.719010076350645 and parameters: {'num_arvores': 58, 'critério': 'friedman_mse', 'min_exemplos_split': 2, 'min_exemplos_folha': 1, 'num_max_atributos': 0.842078395887325}. Best is trial 140 with value: 4.713040996200097.\n",
      "[I 2024-11-10 22:58:41,443] Trial 213 finished with value: 5.183084499793518 and parameters: {'num_arvores': 59, 'critério': 'friedman_mse', 'min_exemplos_split': 10, 'min_exemplos_folha': 1, 'num_max_atributos': 0.8162900927913744}. Best is trial 140 with value: 4.713040996200097.\n",
      "[I 2024-11-10 22:58:43,088] Trial 214 finished with value: 4.713595602775285 and parameters: {'num_arvores': 61, 'critério': 'friedman_mse', 'min_exemplos_split': 2, 'min_exemplos_folha': 1, 'num_max_atributos': 0.8186347261735819}. Best is trial 140 with value: 4.713040996200097.\n",
      "[I 2024-11-10 22:58:44,733] Trial 215 finished with value: 4.723711888484177 and parameters: {'num_arvores': 63, 'critério': 'friedman_mse', 'min_exemplos_split': 2, 'min_exemplos_folha': 1, 'num_max_atributos': 0.809924467299599}. Best is trial 140 with value: 4.713040996200097.\n",
      "[I 2024-11-10 22:58:46,595] Trial 216 finished with value: 4.713595602775286 and parameters: {'num_arvores': 61, 'critério': 'friedman_mse', 'min_exemplos_split': 2, 'min_exemplos_folha': 1, 'num_max_atributos': 0.7854009776559976}. Best is trial 140 with value: 4.713040996200097.\n",
      "[I 2024-11-10 22:58:48,303] Trial 217 finished with value: 4.727910412083668 and parameters: {'num_arvores': 57, 'critério': 'friedman_mse', 'min_exemplos_split': 2, 'min_exemplos_folha': 1, 'num_max_atributos': 0.8289938718139168}. Best is trial 140 with value: 4.713040996200097.\n",
      "[I 2024-11-10 22:58:50,136] Trial 218 finished with value: 4.726393134465509 and parameters: {'num_arvores': 64, 'critério': 'friedman_mse', 'min_exemplos_split': 2, 'min_exemplos_folha': 1, 'num_max_atributos': 0.7909283138525216}. Best is trial 140 with value: 4.713040996200097.\n",
      "[I 2024-11-10 22:58:52,155] Trial 219 finished with value: 4.837509647488733 and parameters: {'num_arvores': 61, 'critério': 'squared_error', 'min_exemplos_split': 2, 'min_exemplos_folha': 1, 'num_max_atributos': 0.8091330062916714}. Best is trial 140 with value: 4.713040996200097.\n",
      "[I 2024-11-10 22:58:53,952] Trial 220 finished with value: 4.832080491857456 and parameters: {'num_arvores': 62, 'critério': 'friedman_mse', 'min_exemplos_split': 2, 'min_exemplos_folha': 1, 'num_max_atributos': 0.49010002763825133}. Best is trial 140 with value: 4.713040996200097.\n",
      "[I 2024-11-10 22:58:55,695] Trial 221 finished with value: 4.713040996200096 and parameters: {'num_arvores': 59, 'critério': 'friedman_mse', 'min_exemplos_split': 2, 'min_exemplos_folha': 1, 'num_max_atributos': 0.7707169626202555}. Best is trial 221 with value: 4.713040996200096.\n",
      "[I 2024-11-10 22:58:57,569] Trial 222 finished with value: 4.713040996200097 and parameters: {'num_arvores': 59, 'critério': 'friedman_mse', 'min_exemplos_split': 2, 'min_exemplos_folha': 1, 'num_max_atributos': 0.7726091988045403}. Best is trial 221 with value: 4.713040996200096.\n",
      "[I 2024-11-10 22:58:59,176] Trial 223 finished with value: 4.727910412083668 and parameters: {'num_arvores': 57, 'critério': 'friedman_mse', 'min_exemplos_split': 2, 'min_exemplos_folha': 1, 'num_max_atributos': 0.7664843226519147}. Best is trial 221 with value: 4.713040996200096.\n",
      "[I 2024-11-10 22:59:00,865] Trial 224 finished with value: 4.7381181750986965 and parameters: {'num_arvores': 59, 'critério': 'friedman_mse', 'min_exemplos_split': 2, 'min_exemplos_folha': 1, 'num_max_atributos': 0.7454093402737803}. Best is trial 221 with value: 4.713040996200096.\n",
      "[I 2024-11-10 22:59:02,675] Trial 225 finished with value: 4.7242890696041595 and parameters: {'num_arvores': 62, 'critério': 'friedman_mse', 'min_exemplos_split': 2, 'min_exemplos_folha': 1, 'num_max_atributos': 0.7868700393471797}. Best is trial 221 with value: 4.713040996200096.\n",
      "[I 2024-11-10 22:59:04,273] Trial 226 finished with value: 4.728625471873074 and parameters: {'num_arvores': 56, 'critério': 'friedman_mse', 'min_exemplos_split': 2, 'min_exemplos_folha': 1, 'num_max_atributos': 0.77116396523219}. Best is trial 221 with value: 4.713040996200096.\n",
      "[I 2024-11-10 22:59:05,994] Trial 227 finished with value: 4.72639313446551 and parameters: {'num_arvores': 64, 'critério': 'friedman_mse', 'min_exemplos_split': 2, 'min_exemplos_folha': 1, 'num_max_atributos': 0.8046116140632209}. Best is trial 221 with value: 4.713040996200096.\n",
      "[I 2024-11-10 22:59:07,893] Trial 228 finished with value: 4.713040996200097 and parameters: {'num_arvores': 59, 'critério': 'friedman_mse', 'min_exemplos_split': 2, 'min_exemplos_folha': 1, 'num_max_atributos': 0.7875107181444959}. Best is trial 221 with value: 4.713040996200096.\n",
      "[I 2024-11-10 22:59:09,846] Trial 229 finished with value: 4.713040996200096 and parameters: {'num_arvores': 59, 'critério': 'friedman_mse', 'min_exemplos_split': 2, 'min_exemplos_folha': 1, 'num_max_atributos': 0.7540258919085879}. Best is trial 221 with value: 4.713040996200096.\n",
      "[I 2024-11-10 22:59:11,504] Trial 230 finished with value: 4.719010076350645 and parameters: {'num_arvores': 58, 'critério': 'friedman_mse', 'min_exemplos_split': 2, 'min_exemplos_folha': 1, 'num_max_atributos': 0.7503680809023673}. Best is trial 221 with value: 4.713040996200096.\n",
      "[I 2024-11-10 22:59:13,239] Trial 231 finished with value: 4.713040996200096 and parameters: {'num_arvores': 59, 'critério': 'friedman_mse', 'min_exemplos_split': 2, 'min_exemplos_folha': 1, 'num_max_atributos': 0.791206910677238}. Best is trial 221 with value: 4.713040996200096.\n",
      "[I 2024-11-10 22:59:14,972] Trial 232 finished with value: 4.713040996200096 and parameters: {'num_arvores': 59, 'critério': 'friedman_mse', 'min_exemplos_split': 2, 'min_exemplos_folha': 1, 'num_max_atributos': 0.8215393596614949}. Best is trial 221 with value: 4.713040996200096.\n",
      "[I 2024-11-10 22:59:16,507] Trial 233 finished with value: 4.728175535783594 and parameters: {'num_arvores': 55, 'critério': 'friedman_mse', 'min_exemplos_split': 2, 'min_exemplos_folha': 1, 'num_max_atributos': 0.8216974734346753}. Best is trial 221 with value: 4.713040996200096.\n",
      "[I 2024-11-10 22:59:18,236] Trial 234 finished with value: 4.713040996200096 and parameters: {'num_arvores': 59, 'critério': 'friedman_mse', 'min_exemplos_split': 2, 'min_exemplos_folha': 1, 'num_max_atributos': 0.8039325282834381}. Best is trial 221 with value: 4.713040996200096.\n",
      "[I 2024-11-10 22:59:19,935] Trial 235 finished with value: 4.719010076350645 and parameters: {'num_arvores': 58, 'critério': 'friedman_mse', 'min_exemplos_split': 2, 'min_exemplos_folha': 1, 'num_max_atributos': 0.823494384926824}. Best is trial 221 with value: 4.713040996200096.\n",
      "[I 2024-11-10 22:59:21,582] Trial 236 finished with value: 4.713040996200096 and parameters: {'num_arvores': 59, 'critério': 'friedman_mse', 'min_exemplos_split': 2, 'min_exemplos_folha': 1, 'num_max_atributos': 0.8036787666034005}. Best is trial 221 with value: 4.713040996200096.\n",
      "[I 2024-11-10 22:59:23,183] Trial 237 finished with value: 4.728625471873075 and parameters: {'num_arvores': 56, 'critério': 'friedman_mse', 'min_exemplos_split': 2, 'min_exemplos_folha': 1, 'num_max_atributos': 0.8574917541216402}. Best is trial 221 with value: 4.713040996200096.\n",
      "[I 2024-11-10 22:59:24,878] Trial 238 finished with value: 4.735361882253708 and parameters: {'num_arvores': 53, 'critério': 'friedman_mse', 'min_exemplos_split': 2, 'min_exemplos_folha': 1, 'num_max_atributos': 0.8035408292522538}. Best is trial 221 with value: 4.713040996200096.\n",
      "[I 2024-11-10 22:59:26,752] Trial 239 finished with value: 4.713040996200097 and parameters: {'num_arvores': 59, 'critério': 'friedman_mse', 'min_exemplos_split': 2, 'min_exemplos_folha': 1, 'num_max_atributos': 0.8043922868956908}. Best is trial 221 with value: 4.713040996200096.\n",
      "[I 2024-11-10 22:59:28,340] Trial 240 finished with value: 5.852528619126841 and parameters: {'num_arvores': 58, 'critério': 'friedman_mse', 'min_exemplos_split': 20, 'min_exemplos_folha': 1, 'num_max_atributos': 0.8352360602759946}. Best is trial 221 with value: 4.713040996200096.\n",
      "[I 2024-11-10 22:59:29,981] Trial 241 finished with value: 4.713040996200096 and parameters: {'num_arvores': 59, 'critério': 'friedman_mse', 'min_exemplos_split': 2, 'min_exemplos_folha': 1, 'num_max_atributos': 0.8036329428315943}. Best is trial 221 with value: 4.713040996200096.\n",
      "[I 2024-11-10 22:59:31,795] Trial 242 finished with value: 4.713040996200097 and parameters: {'num_arvores': 59, 'critério': 'friedman_mse', 'min_exemplos_split': 2, 'min_exemplos_folha': 1, 'num_max_atributos': 0.7952570100769565}. Best is trial 221 with value: 4.713040996200096.\n",
      "[I 2024-11-10 22:59:33,441] Trial 243 finished with value: 4.713040996200096 and parameters: {'num_arvores': 59, 'critério': 'friedman_mse', 'min_exemplos_split': 2, 'min_exemplos_folha': 1, 'num_max_atributos': 0.8028980764840594}. Best is trial 221 with value: 4.713040996200096.\n",
      "[I 2024-11-10 22:59:35,109] Trial 244 finished with value: 4.727910412083668 and parameters: {'num_arvores': 57, 'critério': 'friedman_mse', 'min_exemplos_split': 2, 'min_exemplos_folha': 1, 'num_max_atributos': 0.807286192227519}. Best is trial 221 with value: 4.713040996200096.\n",
      "[I 2024-11-10 22:59:36,875] Trial 245 finished with value: 4.713040996200097 and parameters: {'num_arvores': 59, 'critério': 'friedman_mse', 'min_exemplos_split': 2, 'min_exemplos_folha': 1, 'num_max_atributos': 0.8166478765466434}. Best is trial 221 with value: 4.713040996200096.\n",
      "[I 2024-11-10 22:59:38,719] Trial 246 finished with value: 4.713040996200096 and parameters: {'num_arvores': 59, 'critério': 'friedman_mse', 'min_exemplos_split': 2, 'min_exemplos_folha': 1, 'num_max_atributos': 0.8513375044422785}. Best is trial 221 with value: 4.713040996200096.\n",
      "[I 2024-11-10 22:59:40,260] Trial 247 finished with value: 4.728175535783594 and parameters: {'num_arvores': 55, 'critério': 'friedman_mse', 'min_exemplos_split': 2, 'min_exemplos_folha': 1, 'num_max_atributos': 0.8570368525800631}. Best is trial 221 with value: 4.713040996200096.\n",
      "[I 2024-11-10 22:59:43,443] Trial 248 finished with value: 4.713040996200096 and parameters: {'num_arvores': 59, 'critério': 'friedman_mse', 'min_exemplos_split': 2, 'min_exemplos_folha': 1, 'num_max_atributos': 0.8363806687710981}. Best is trial 221 with value: 4.713040996200096.\n",
      "[I 2024-11-10 22:59:47,077] Trial 249 finished with value: 4.719010076350645 and parameters: {'num_arvores': 58, 'critério': 'friedman_mse', 'min_exemplos_split': 2, 'min_exemplos_folha': 1, 'num_max_atributos': 0.8347782896633437}. Best is trial 221 with value: 4.713040996200096.\n",
      "[I 2024-11-10 22:59:50,444] Trial 250 finished with value: 4.793496720661888 and parameters: {'num_arvores': 59, 'critério': 'poisson', 'min_exemplos_split': 2, 'min_exemplos_folha': 1, 'num_max_atributos': 0.8507369924832355}. Best is trial 221 with value: 4.713040996200096.\n",
      "[I 2024-11-10 22:59:53,806] Trial 251 finished with value: 4.728625471873075 and parameters: {'num_arvores': 56, 'critério': 'friedman_mse', 'min_exemplos_split': 2, 'min_exemplos_folha': 1, 'num_max_atributos': 0.8665224417976788}. Best is trial 221 with value: 4.713040996200096.\n",
      "[I 2024-11-10 22:59:57,174] Trial 252 finished with value: 4.735361882253708 and parameters: {'num_arvores': 53, 'critério': 'friedman_mse', 'min_exemplos_split': 2, 'min_exemplos_folha': 1, 'num_max_atributos': 0.8437494080813395}. Best is trial 221 with value: 4.713040996200096.\n",
      "[I 2024-11-10 23:00:00,865] Trial 253 finished with value: 4.713040996200097 and parameters: {'num_arvores': 59, 'critério': 'friedman_mse', 'min_exemplos_split': 2, 'min_exemplos_folha': 1, 'num_max_atributos': 0.7983908763925569}. Best is trial 221 with value: 4.713040996200096.\n",
      "[I 2024-11-10 23:00:04,253] Trial 254 finished with value: 4.727910412083669 and parameters: {'num_arvores': 57, 'critério': 'friedman_mse', 'min_exemplos_split': 2, 'min_exemplos_folha': 1, 'num_max_atributos': 0.7994068647752046}. Best is trial 221 with value: 4.713040996200096.\n",
      "[I 2024-11-10 23:00:07,467] Trial 255 finished with value: 4.719010076350645 and parameters: {'num_arvores': 58, 'critério': 'friedman_mse', 'min_exemplos_split': 2, 'min_exemplos_folha': 1, 'num_max_atributos': 0.7953703877919027}. Best is trial 221 with value: 4.713040996200096.\n",
      "[I 2024-11-10 23:00:10,644] Trial 256 finished with value: 4.713040996200097 and parameters: {'num_arvores': 59, 'critério': 'friedman_mse', 'min_exemplos_split': 2, 'min_exemplos_folha': 1, 'num_max_atributos': 0.8275246412686854}. Best is trial 221 with value: 4.713040996200096.\n",
      "[I 2024-11-10 23:00:13,871] Trial 257 finished with value: 4.834341988612541 and parameters: {'num_arvores': 59, 'critério': 'squared_error', 'min_exemplos_split': 2, 'min_exemplos_folha': 1, 'num_max_atributos': 0.8247097788338665}. Best is trial 221 with value: 4.713040996200096.\n",
      "[I 2024-11-10 23:00:17,279] Trial 258 finished with value: 4.728175535783594 and parameters: {'num_arvores': 55, 'critério': 'friedman_mse', 'min_exemplos_split': 2, 'min_exemplos_folha': 1, 'num_max_atributos': 0.7678304533836159}. Best is trial 221 with value: 4.713040996200096.\n",
      "[I 2024-11-10 23:00:19,843] Trial 259 finished with value: 4.713040996200096 and parameters: {'num_arvores': 59, 'critério': 'friedman_mse', 'min_exemplos_split': 2, 'min_exemplos_folha': 1, 'num_max_atributos': 0.7965563053476614}. Best is trial 221 with value: 4.713040996200096.\n",
      "[I 2024-11-10 23:00:21,583] Trial 260 finished with value: 4.7925506570790635 and parameters: {'num_arvores': 59, 'critério': 'friedman_mse', 'min_exemplos_split': 2, 'min_exemplos_folha': 1, 'num_max_atributos': 0.8873358303305484}. Best is trial 221 with value: 4.713040996200096.\n",
      "[I 2024-11-10 23:00:23,193] Trial 261 finished with value: 4.728625471873075 and parameters: {'num_arvores': 56, 'critério': 'friedman_mse', 'min_exemplos_split': 2, 'min_exemplos_folha': 1, 'num_max_atributos': 0.8301843604721589}. Best is trial 221 with value: 4.713040996200096.\n",
      "[I 2024-11-10 23:00:24,954] Trial 262 finished with value: 4.737177729658996 and parameters: {'num_arvores': 54, 'critério': 'friedman_mse', 'min_exemplos_split': 2, 'min_exemplos_folha': 1, 'num_max_atributos': 0.8013204029758949}. Best is trial 221 with value: 4.713040996200096.\n",
      "[I 2024-11-10 23:00:26,647] Trial 263 finished with value: 4.727910412083668 and parameters: {'num_arvores': 57, 'critério': 'friedman_mse', 'min_exemplos_split': 2, 'min_exemplos_folha': 1, 'num_max_atributos': 0.8572756996251792}. Best is trial 221 with value: 4.713040996200096.\n",
      "[I 2024-11-10 23:00:29,002] Trial 264 finished with value: 4.713040996200097 and parameters: {'num_arvores': 59, 'critério': 'friedman_mse', 'min_exemplos_split': 2, 'min_exemplos_folha': 1, 'num_max_atributos': 0.7661554666846382}. Best is trial 221 with value: 4.713040996200096.\n",
      "[I 2024-11-10 23:00:32,475] Trial 265 finished with value: 4.713040996200096 and parameters: {'num_arvores': 59, 'critério': 'friedman_mse', 'min_exemplos_split': 2, 'min_exemplos_folha': 1, 'num_max_atributos': 0.8226129423703592}. Best is trial 221 with value: 4.713040996200096.\n",
      "[I 2024-11-10 23:00:35,662] Trial 266 finished with value: 6.232060681469663 and parameters: {'num_arvores': 59, 'critério': 'friedman_mse', 'min_exemplos_split': 2, 'min_exemplos_folha': 9, 'num_max_atributos': 0.7619328003289498}. Best is trial 221 with value: 4.713040996200096.\n",
      "[I 2024-11-10 23:00:38,806] Trial 267 finished with value: 5.979186437991863 and parameters: {'num_arvores': 57, 'critério': 'friedman_mse', 'min_exemplos_split': 2, 'min_exemplos_folha': 1, 'num_max_atributos': 0.0854757960731275}. Best is trial 221 with value: 4.713040996200096.\n",
      "[I 2024-11-10 23:00:42,282] Trial 268 finished with value: 4.713040996200096 and parameters: {'num_arvores': 59, 'critério': 'friedman_mse', 'min_exemplos_split': 2, 'min_exemplos_folha': 1, 'num_max_atributos': 0.8174139272454013}. Best is trial 221 with value: 4.713040996200096.\n",
      "[I 2024-11-10 23:00:45,644] Trial 269 finished with value: 4.728175535783594 and parameters: {'num_arvores': 55, 'critério': 'friedman_mse', 'min_exemplos_split': 2, 'min_exemplos_folha': 1, 'num_max_atributos': 0.8206555120006525}. Best is trial 221 with value: 4.713040996200096.\n",
      "[I 2024-11-10 23:00:49,162] Trial 270 finished with value: 4.713040996200096 and parameters: {'num_arvores': 59, 'critério': 'friedman_mse', 'min_exemplos_split': 2, 'min_exemplos_folha': 1, 'num_max_atributos': 0.8733935626383497}. Best is trial 221 with value: 4.713040996200096.\n",
      "[I 2024-11-10 23:00:52,620] Trial 271 finished with value: 4.8037891924344365 and parameters: {'num_arvores': 57, 'critério': 'friedman_mse', 'min_exemplos_split': 2, 'min_exemplos_folha': 1, 'num_max_atributos': 0.8892554026416816}. Best is trial 221 with value: 4.713040996200096.\n",
      "[I 2024-11-10 23:00:55,841] Trial 272 finished with value: 4.713040996200097 and parameters: {'num_arvores': 59, 'critério': 'friedman_mse', 'min_exemplos_split': 2, 'min_exemplos_folha': 1, 'num_max_atributos': 0.8728520502849282}. Best is trial 221 with value: 4.713040996200096.\n",
      "[I 2024-11-10 23:00:58,626] Trial 273 finished with value: 5.496524501782184 and parameters: {'num_arvores': 53, 'critério': 'poisson', 'min_exemplos_split': 2, 'min_exemplos_folha': 4, 'num_max_atributos': 0.8524147072396869}. Best is trial 221 with value: 4.713040996200096.\n",
      "[I 2024-11-10 23:01:01,973] Trial 274 finished with value: 4.728625471873075 and parameters: {'num_arvores': 56, 'critério': 'friedman_mse', 'min_exemplos_split': 2, 'min_exemplos_folha': 1, 'num_max_atributos': 0.8240103239604596}. Best is trial 221 with value: 4.713040996200096.\n",
      "[I 2024-11-10 23:01:05,137] Trial 275 finished with value: 5.581572298497098 and parameters: {'num_arvores': 59, 'critério': 'friedman_mse', 'min_exemplos_split': 15, 'min_exemplos_folha': 1, 'num_max_atributos': 0.8395615295345557}. Best is trial 221 with value: 4.713040996200096.\n",
      "[I 2024-11-10 23:01:08,673] Trial 276 finished with value: 4.727910412083668 and parameters: {'num_arvores': 57, 'critério': 'friedman_mse', 'min_exemplos_split': 2, 'min_exemplos_folha': 1, 'num_max_atributos': 0.8054080422234988}. Best is trial 221 with value: 4.713040996200096.\n",
      "[I 2024-11-10 23:01:12,112] Trial 277 finished with value: 4.713040996200097 and parameters: {'num_arvores': 59, 'critério': 'friedman_mse', 'min_exemplos_split': 2, 'min_exemplos_folha': 1, 'num_max_atributos': 0.8699475828479978}. Best is trial 221 with value: 4.713040996200096.\n",
      "[I 2024-11-10 23:01:15,427] Trial 278 finished with value: 4.809273423755643 and parameters: {'num_arvores': 55, 'critério': 'friedman_mse', 'min_exemplos_split': 2, 'min_exemplos_folha': 1, 'num_max_atributos': 0.9026347332105232}. Best is trial 221 with value: 4.713040996200096.\n",
      "[I 2024-11-10 23:01:17,783] Trial 279 finished with value: 7.372585081864344 and parameters: {'num_arvores': 58, 'critério': 'friedman_mse', 'min_exemplos_split': 12, 'min_exemplos_folha': 20, 'num_max_atributos': 0.8299003141143481}. Best is trial 221 with value: 4.713040996200096.\n",
      "[I 2024-11-10 23:01:18,617] Trial 280 finished with value: 4.887615496996974 and parameters: {'num_arvores': 20, 'critério': 'friedman_mse', 'min_exemplos_split': 2, 'min_exemplos_folha': 1, 'num_max_atributos': 0.8024493449993532}. Best is trial 221 with value: 4.713040996200096.\n",
      "[I 2024-11-10 23:01:20,224] Trial 281 finished with value: 4.713040996200097 and parameters: {'num_arvores': 59, 'critério': 'friedman_mse', 'min_exemplos_split': 2, 'min_exemplos_folha': 1, 'num_max_atributos': 0.8532966436989612}. Best is trial 221 with value: 4.713040996200096.\n",
      "[I 2024-11-10 23:01:21,843] Trial 282 finished with value: 4.847477101238452 and parameters: {'num_arvores': 57, 'critério': 'squared_error', 'min_exemplos_split': 2, 'min_exemplos_folha': 1, 'num_max_atributos': 0.8162203558178016}. Best is trial 221 with value: 4.713040996200096.\n",
      "[I 2024-11-10 23:01:23,364] Trial 283 finished with value: 4.734368277856177 and parameters: {'num_arvores': 52, 'critério': 'friedman_mse', 'min_exemplos_split': 2, 'min_exemplos_folha': 1, 'num_max_atributos': 0.7899962284539271}. Best is trial 221 with value: 4.713040996200096.\n",
      "[I 2024-11-10 23:01:25,136] Trial 284 finished with value: 4.728175535783594 and parameters: {'num_arvores': 55, 'critério': 'friedman_mse', 'min_exemplos_split': 2, 'min_exemplos_folha': 1, 'num_max_atributos': 0.8387161589453209}. Best is trial 221 with value: 4.713040996200096.\n",
      "[I 2024-11-10 23:01:27,067] Trial 285 finished with value: 4.713040996200097 and parameters: {'num_arvores': 59, 'critério': 'friedman_mse', 'min_exemplos_split': 2, 'min_exemplos_folha': 1, 'num_max_atributos': 0.8731252785531796}. Best is trial 221 with value: 4.713040996200096.\n",
      "[I 2024-11-10 23:01:28,647] Trial 286 finished with value: 4.727910412083668 and parameters: {'num_arvores': 57, 'critério': 'friedman_mse', 'min_exemplos_split': 2, 'min_exemplos_folha': 1, 'num_max_atributos': 0.8159420400944526}. Best is trial 221 with value: 4.713040996200096.\n",
      "[I 2024-11-10 23:01:30,296] Trial 287 finished with value: 4.713040996200096 and parameters: {'num_arvores': 59, 'critério': 'friedman_mse', 'min_exemplos_split': 2, 'min_exemplos_folha': 1, 'num_max_atributos': 0.7930261689512902}. Best is trial 221 with value: 4.713040996200096.\n",
      "[I 2024-11-10 23:01:31,779] Trial 288 finished with value: 5.767112980367679 and parameters: {'num_arvores': 54, 'critério': 'friedman_mse', 'min_exemplos_split': 18, 'min_exemplos_folha': 1, 'num_max_atributos': 0.7878402314173577}. Best is trial 221 with value: 4.713040996200096.\n",
      "[I 2024-11-10 23:01:33,472] Trial 289 finished with value: 4.748650929302714 and parameters: {'num_arvores': 57, 'critério': 'friedman_mse', 'min_exemplos_split': 2, 'min_exemplos_folha': 1, 'num_max_atributos': 0.727756935785563}. Best is trial 221 with value: 4.713040996200096.\n",
      "[I 2024-11-10 23:01:35,254] Trial 290 finished with value: 5.998045582342379 and parameters: {'num_arvores': 59, 'critério': 'friedman_mse', 'min_exemplos_split': 2, 'min_exemplos_folha': 7, 'num_max_atributos': 0.7741499009076537}. Best is trial 221 with value: 4.713040996200096.\n",
      "[I 2024-11-10 23:01:37,041] Trial 291 finished with value: 4.728625471873075 and parameters: {'num_arvores': 56, 'critério': 'friedman_mse', 'min_exemplos_split': 2, 'min_exemplos_folha': 1, 'num_max_atributos': 0.7990681700132842}. Best is trial 221 with value: 4.713040996200096.\n",
      "[I 2024-11-10 23:01:38,883] Trial 292 finished with value: 4.723711888484177 and parameters: {'num_arvores': 63, 'critério': 'friedman_mse', 'min_exemplos_split': 2, 'min_exemplos_folha': 1, 'num_max_atributos': 0.751523455794473}. Best is trial 221 with value: 4.713040996200096.\n",
      "[I 2024-11-10 23:01:40,550] Trial 293 finished with value: 4.714350575825482 and parameters: {'num_arvores': 60, 'critério': 'friedman_mse', 'min_exemplos_split': 2, 'min_exemplos_folha': 1, 'num_max_atributos': 0.7988116262401427}. Best is trial 221 with value: 4.713040996200096.\n",
      "[I 2024-11-10 23:01:42,250] Trial 294 finished with value: 4.719010076350645 and parameters: {'num_arvores': 58, 'critério': 'friedman_mse', 'min_exemplos_split': 2, 'min_exemplos_folha': 1, 'num_max_atributos': 0.7762566050760531}. Best is trial 221 with value: 4.713040996200096.\n",
      "[I 2024-11-10 23:01:44,004] Trial 295 finished with value: 4.7381181750986965 and parameters: {'num_arvores': 59, 'critério': 'friedman_mse', 'min_exemplos_split': 2, 'min_exemplos_folha': 1, 'num_max_atributos': 0.6576204835566698}. Best is trial 221 with value: 4.713040996200096.\n",
      "[I 2024-11-10 23:01:45,785] Trial 296 finished with value: 4.728625471873075 and parameters: {'num_arvores': 56, 'critério': 'friedman_mse', 'min_exemplos_split': 2, 'min_exemplos_folha': 1, 'num_max_atributos': 0.8147446207829904}. Best is trial 221 with value: 4.713040996200096.\n",
      "[I 2024-11-10 23:01:46,995] Trial 297 finished with value: 4.911871758118257 and parameters: {'num_arvores': 27, 'critério': 'poisson', 'min_exemplos_split': 2, 'min_exemplos_folha': 1, 'num_max_atributos': 0.8431114463968382}. Best is trial 221 with value: 4.713040996200096.\n",
      "[I 2024-11-10 23:01:48,750] Trial 298 finished with value: 5.285979329625482 and parameters: {'num_arvores': 63, 'critério': 'friedman_mse', 'min_exemplos_split': 2, 'min_exemplos_folha': 3, 'num_max_atributos': 0.8576988411906198}. Best is trial 221 with value: 4.713040996200096.\n",
      "[I 2024-11-10 23:01:50,578] Trial 299 finished with value: 4.714350575825482 and parameters: {'num_arvores': 60, 'critério': 'friedman_mse', 'min_exemplos_split': 2, 'min_exemplos_folha': 1, 'num_max_atributos': 0.7901261648653772}. Best is trial 221 with value: 4.713040996200096.\n"
     ]
    }
   ],
   "source": [
    "NUM_TENTATIVAS = 300\n",
    "\n",
    "objeto_de_estudo.optimize(funcao_objetivo_parcial, n_trials=NUM_TENTATIVAS)"
   ]
  },
  {
   "cell_type": "markdown",
   "metadata": {},
   "source": [
    "Podemos obter o número da melhor tentativa e seus parâmetros por meio do método `best_trial`:"
   ]
  },
  {
   "cell_type": "code",
   "execution_count": 72,
   "metadata": {},
   "outputs": [
    {
     "name": "stdout",
     "output_type": "stream",
     "text": [
      "Número do melhor trial: 221\n",
      "Parâmetros do melhor trial: {'num_arvores': 59, 'critério': 'friedman_mse', 'min_exemplos_split': 2, 'min_exemplos_folha': 1, 'num_max_atributos': 0.7707169626202555}\n"
     ]
    }
   ],
   "source": [
    "melhor_trial = objeto_de_estudo.best_trial\n",
    "\n",
    "print(f\"Número do melhor trial: {melhor_trial.number}\")\n",
    "print(f\"Parâmetros do melhor trial: {melhor_trial.params}\")"
   ]
  },
  {
   "cell_type": "markdown",
   "metadata": {},
   "source": [
    "**Utilizando o modelo**\n",
    "\n",
    "Com os melhores parâmetros encontrados, podemos instanciar o modelo e treinar com os dados de treinamento. Após o treinamento, fazemos a previsão para os dados de teste e calculamos o Root Mean Squared Error (RMSE) para avaliar o desempenho do modelo."
   ]
  },
  {
   "cell_type": "code",
   "execution_count": 73,
   "metadata": {},
   "outputs": [
    {
     "ename": "NameError",
     "evalue": "name 'y_treino' is not defined",
     "output_type": "error",
     "traceback": [
      "\u001b[1;31m---------------------------------------------------------------------------\u001b[0m",
      "\u001b[1;31mNameError\u001b[0m                                 Traceback (most recent call last)",
      "\u001b[1;32mc:\\Users\\jose24028\\OneDrive - ILUM ESCOLA DE CIÊNCIA\\Área de Trabalho\\2 - Semestre\\Machine Learn\\Projeto\\Projeto_aprendizado_de_maquina\\Trabalho_projeto_final.ipynb Cell 85\u001b[0m line \u001b[0;36m4\n\u001b[0;32m      <a href='vscode-notebook-cell:/c%3A/Users/jose24028/OneDrive%20-%20ILUM%20ESCOLA%20DE%20CI%C3%8ANCIA/%C3%81rea%20de%20Trabalho/2%20-%20Semestre/Machine%20Learn/Projeto/Projeto_aprendizado_de_maquina/Trabalho_projeto_final.ipynb#Y220sZmlsZQ%3D%3D?line=0'>1</a>\u001b[0m \u001b[39mfrom\u001b[39;00m \u001b[39msklearn\u001b[39;00m\u001b[39m.\u001b[39;00m\u001b[39mmetrics\u001b[39;00m \u001b[39mimport\u001b[39;00m mean_squared_error\n\u001b[0;32m      <a href='vscode-notebook-cell:/c%3A/Users/jose24028/OneDrive%20-%20ILUM%20ESCOLA%20DE%20CI%C3%8ANCIA/%C3%81rea%20de%20Trabalho/2%20-%20Semestre/Machine%20Learn/Projeto/Projeto_aprendizado_de_maquina/Trabalho_projeto_final.ipynb#Y220sZmlsZQ%3D%3D?line=2'>3</a>\u001b[0m modelo \u001b[39m=\u001b[39m cria_instancia_modelo(melhor_trial)\n\u001b[1;32m----> <a href='vscode-notebook-cell:/c%3A/Users/jose24028/OneDrive%20-%20ILUM%20ESCOLA%20DE%20CI%C3%8ANCIA/%C3%81rea%20de%20Trabalho/2%20-%20Semestre/Machine%20Learn/Projeto/Projeto_aprendizado_de_maquina/Trabalho_projeto_final.ipynb#Y220sZmlsZQ%3D%3D?line=3'>4</a>\u001b[0m modelo\u001b[39m.\u001b[39mfit(X_treino, y_treino)\n\u001b[0;32m      <a href='vscode-notebook-cell:/c%3A/Users/jose24028/OneDrive%20-%20ILUM%20ESCOLA%20DE%20CI%C3%8ANCIA/%C3%81rea%20de%20Trabalho/2%20-%20Semestre/Machine%20Learn/Projeto/Projeto_aprendizado_de_maquina/Trabalho_projeto_final.ipynb#Y220sZmlsZQ%3D%3D?line=5'>6</a>\u001b[0m y_verdadeiro \u001b[39m=\u001b[39m y_teste\n\u001b[0;32m      <a href='vscode-notebook-cell:/c%3A/Users/jose24028/OneDrive%20-%20ILUM%20ESCOLA%20DE%20CI%C3%8ANCIA/%C3%81rea%20de%20Trabalho/2%20-%20Semestre/Machine%20Learn/Projeto/Projeto_aprendizado_de_maquina/Trabalho_projeto_final.ipynb#Y220sZmlsZQ%3D%3D?line=6'>7</a>\u001b[0m y_previsao \u001b[39m=\u001b[39m modelo\u001b[39m.\u001b[39mpredict(X_teste)\n",
      "\u001b[1;31mNameError\u001b[0m: name 'y_treino' is not defined"
     ]
    }
   ],
   "source": [
    "from sklearn.metrics import mean_squared_error\n",
    "\n",
    "modelo = cria_instancia_modelo(melhor_trial)\n",
    "modelo.fit(X_treino, y_treino)\n",
    "\n",
    "y_verdadeiro = y_teste\n",
    "y_previsao = modelo.predict(X_teste)\n",
    "\n",
    "RMSE = mean_squared_error(y_verdadeiro, y_previsao) ** (1/2)\n",
    "\n",
    "print(RMSE)"
   ]
  },
  {
   "cell_type": "markdown",
   "metadata": {},
   "source": [
    "----------------------\n",
    "\n",
    "## <center> Seleção de Atributos </center>\n",
    "\n",
    "Nessa etapa vamos verificar se o modelo está ou não identificando padrões espúrios, resultando em sobreajustes do modelo aos targets. Dessa forma, vamos implementar alguns métodos para selecionar atributos e verificar se ao utilizar desse método, melhora ou não as métricas. \n",
    "\n",
    "## <center>Seleção de atributos pelo limiar da Variância</center>"
   ]
  },
  {
   "cell_type": "code",
   "execution_count": 66,
   "metadata": {},
   "outputs": [
    {
     "name": "stdout",
     "output_type": "stream",
     "text": [
      "[10926.71766983  7439.7770265   4027.55266729   442.43165179\n",
      "    34.82503014  6008.9636168   6346.15255733  4036.77617769]\n"
     ]
    }
   ],
   "source": [
    "print(np.var(X_treino, axis=0))"
   ]
  },
  {
   "cell_type": "code",
   "execution_count": 118,
   "metadata": {},
   "outputs": [
    {
     "name": "stdout",
     "output_type": "stream",
     "text": [
      "[10770.74958349  7408.6911961   4518.19441951   570.45844238\n",
      "    41.39457577  5752.27639506  6964.8053737   3533.49929305]\n"
     ]
    }
   ],
   "source": [
    "print(np.var(X_teste, axis=0))"
   ]
  },
  {
   "cell_type": "markdown",
   "metadata": {},
   "source": [
    "Todas as oitos colunas dos atributos possuem variância diferente de zero. Então aplicar VarianceThreshold espera-se que isso não interefirá em nada."
   ]
  },
  {
   "cell_type": "code",
   "execution_count": 119,
   "metadata": {},
   "outputs": [
    {
     "name": "stdout",
     "output_type": "stream",
     "text": [
      "[[ 233.81    0.     94.58 ...  947.04  852.16  100.  ]\n",
      " [ 310.      0.      0.   ... 1012.    830.      3.  ]\n",
      " [ 122.6   183.9     0.   ...  958.2   800.1     7.  ]\n",
      " ...\n",
      " [ 184.     86.    190.   ...  923.    623.     28.  ]\n",
      " [ 525.      0.      0.   ... 1125.    613.      3.  ]\n",
      " [ 425.    106.3     0.   ...  852.1   887.1     7.  ]]\n",
      "-=--=--=--=--=--=--=--=--=--=--=--=--=--=--=--=--=--=--=--=-\n",
      "[[ 233.81    0.     94.58 ...  947.04  852.16  100.  ]\n",
      " [ 310.      0.      0.   ... 1012.    830.      3.  ]\n",
      " [ 122.6   183.9     0.   ...  958.2   800.1     7.  ]\n",
      " ...\n",
      " [ 184.     86.    190.   ...  923.    623.     28.  ]\n",
      " [ 525.      0.      0.   ... 1125.    613.      3.  ]\n",
      " [ 425.    106.3     0.   ...  852.1   887.1     7.  ]]\n"
     ]
    }
   ],
   "source": [
    "from sklearn.feature_selection import VarianceThreshold\n",
    "\n",
    "seletor_limiar_variancia = VarianceThreshold()\n",
    "\n",
    "seletor_limiar_variancia.fit(X_treino)\n",
    "\n",
    "X_treino_limiar_variancia = seletor_limiar_variancia.transform(X_treino)\n",
    "\n",
    "print(X_treino_limiar_variancia)\n",
    "print('-=-'*20)\n",
    "print(X_treino)"
   ]
  },
  {
   "cell_type": "markdown",
   "metadata": {},
   "source": [
    "Dessa forma, a seleção de atributo pelo limiar da variância pouco nos ajudou, pois os dados que possuimos possuem alta variância, e não é possível selecionar os dados com esse método."
   ]
  },
  {
   "cell_type": "markdown",
   "metadata": {},
   "source": [
    "## <center>Seleção de atributos por remoção recursiva de atributos (RFE)</center>\n"
   ]
  },
  {
   "cell_type": "markdown",
   "metadata": {},
   "source": [
    "####  1. Modelo Linear Múltiplo usando RFE:"
   ]
  },
  {
   "cell_type": "markdown",
   "metadata": {},
   "source": [
    "Usando o método RFE de seleção de atributos para o modelo de regressão linear múltipla foi visivelmente não muito útil para aprimorar o modelo, visto que o RMSE se manteve quase o mesmo, e nunca foi inferior ao RMSE do modelo linear múltiplo usando todas as colunas de target, isto é, as 8 colunas."
   ]
  },
  {
   "cell_type": "code",
   "execution_count": 120,
   "metadata": {},
   "outputs": [
    {
     "name": "stdout",
     "output_type": "stream",
     "text": [
      "Número de atributos selecionados: 1\n",
      "Colunas selecionadas: [False False False False  True False False False]\n",
      "Ordenação (rank) dos atributos: [4 5 6 2 1 7 8 3]\n",
      "O RMSE do modelo com 1 atributos foi de 16.581191582119107 unidades de y.\n",
      "-=--=--=--=--=--=--=--=--=--=--=--=--=--=--=--=--=--=--=--=-\n",
      "Número de atributos selecionados: 2\n",
      "Colunas selecionadas: [False False False  True  True False False False]\n",
      "Ordenação (rank) dos atributos: [3 4 5 1 1 6 7 2]\n",
      "O RMSE do modelo com 2 atributos foi de 16.452734046312564 unidades de y.\n",
      "-=--=--=--=--=--=--=--=--=--=--=--=--=--=--=--=--=--=--=--=-\n",
      "Número de atributos selecionados: 3\n",
      "Colunas selecionadas: [False False False  True  True False False  True]\n",
      "Ordenação (rank) dos atributos: [2 3 4 1 1 5 6 1]\n",
      "O RMSE do modelo com 3 atributos foi de 14.916202004427037 unidades de y.\n",
      "-=--=--=--=--=--=--=--=--=--=--=--=--=--=--=--=--=--=--=--=-\n",
      "Número de atributos selecionados: 4\n",
      "Colunas selecionadas: [ True False False  True  True False False  True]\n",
      "Ordenação (rank) dos atributos: [1 2 3 1 1 4 5 1]\n",
      "O RMSE do modelo com 4 atributos foi de 13.760339234330369 unidades de y.\n",
      "-=--=--=--=--=--=--=--=--=--=--=--=--=--=--=--=--=--=--=--=-\n",
      "Número de atributos selecionados: 5\n",
      "Colunas selecionadas: [ True  True False  True  True False False  True]\n",
      "Ordenação (rank) dos atributos: [1 1 2 1 1 3 4 1]\n",
      "O RMSE do modelo com 5 atributos foi de 11.96514370553767 unidades de y.\n",
      "-=--=--=--=--=--=--=--=--=--=--=--=--=--=--=--=--=--=--=--=-\n",
      "Número de atributos selecionados: 6\n",
      "Colunas selecionadas: [ True  True  True  True  True False False  True]\n",
      "Ordenação (rank) dos atributos: [1 1 1 1 1 2 3 1]\n",
      "O RMSE do modelo com 6 atributos foi de 11.280027303266808 unidades de y.\n",
      "-=--=--=--=--=--=--=--=--=--=--=--=--=--=--=--=--=--=--=--=-\n",
      "Número de atributos selecionados: 7\n",
      "Colunas selecionadas: [ True  True  True  True  True  True False  True]\n",
      "Ordenação (rank) dos atributos: [1 1 1 1 1 1 2 1]\n",
      "O RMSE do modelo com 7 atributos foi de 11.31265227637275 unidades de y.\n",
      "-=--=--=--=--=--=--=--=--=--=--=--=--=--=--=--=--=--=--=--=-\n",
      "Número de atributos selecionados: 8\n",
      "Colunas selecionadas: [ True  True  True  True  True  True  True  True]\n",
      "Ordenação (rank) dos atributos: [1 1 1 1 1 1 1 1]\n",
      "O RMSE do modelo com 8 atributos foi de 11.224097009242593 unidades de y.\n",
      "-=--=--=--=--=--=--=--=--=--=--=--=--=--=--=--=--=--=--=--=-\n"
     ]
    }
   ],
   "source": [
    "from sklearn.feature_selection import RFE\n",
    "modelo_linear = LinearRegression()\n",
    "\n",
    "for NUM_ATRIBUTOS_DESEJADOS in range(1, 9):\n",
    "    seletor_remocao_recursiva_de_atributos = RFE(modelo_linear, n_features_to_select=NUM_ATRIBUTOS_DESEJADOS)\n",
    "    seletor_remocao_recursiva_de_atributos.fit(X_treino, Y_treino)\n",
    "\n",
    "    X_treino_remocao_recusiva_de_atributos = seletor_remocao_recursiva_de_atributos.transform(X_treino)\n",
    "    X_teste_remocao_recusiva_de_atributos = seletor_remocao_recursiva_de_atributos.transform(X_teste)\n",
    "\n",
    "    \n",
    "    modelo_linear_regression_pipeline_StandardScaler_RFE = make_pipeline(\n",
    "        StandardScaler(),\n",
    "        LinearRegression()\n",
    "    )\n",
    "    modelo_linear_regression_pipeline_StandardScaler_RFE.fit(X_treino_remocao_recusiva_de_atributos, Y_treino)\n",
    "\n",
    "    \n",
    "    y_previsto_linear_regression_pipeline_StandardScaler_RFE = modelo_linear_regression_pipeline_StandardScaler_RFE.predict(X_teste_remocao_recusiva_de_atributos)\n",
    "\n",
    "    \n",
    "    RMSE_pipeline_linear_regression_StandardScaler_RFE = mean_squared_error(Y_teste, y_previsto_linear_regression_pipeline_StandardScaler_RFE) ** 0.5\n",
    "\n",
    "    # Imprimindo os resultados para o número atual de atributos selecionados\n",
    "    print(f\"Número de atributos selecionados: {NUM_ATRIBUTOS_DESEJADOS}\")\n",
    "    print(f\"Colunas selecionadas: {seletor_remocao_recursiva_de_atributos.support_}\")\n",
    "    print(f\"Ordenação (rank) dos atributos: {seletor_remocao_recursiva_de_atributos.ranking_}\")\n",
    "    print(f\"O RMSE do modelo com {NUM_ATRIBUTOS_DESEJADOS} atributos foi de {RMSE_pipeline_linear_regression_StandardScaler_RFE} unidades de y.\")\n",
    "    print(\"-=-\"*20)"
   ]
  },
  {
   "cell_type": "markdown",
   "metadata": {},
   "source": [
    "####  2. Árvores de Decisão usando RFE:"
   ]
  },
  {
   "cell_type": "markdown",
   "metadata": {},
   "source": [
    "A seleção RFE também pode ser aplicado à árvore de decisão, de forma que as variáveis mais relevantes para realizar previsões são selecionadas, enquanto as menos relevantes não são incluídas no processo. Isso reduz a complexidade e pode aumentar a performance."
   ]
  },
  {
   "cell_type": "code",
   "execution_count": 121,
   "metadata": {},
   "outputs": [
    {
     "name": "stdout",
     "output_type": "stream",
     "text": [
      "Número de atributos selecionados: 5\n",
      "Colunas selecionadas: [ True  True False  True False  True False  True]\n",
      "Ordenação (rank) dos atributos [1 1 4 1 2 1 3 1]\n"
     ]
    }
   ],
   "source": [
    "from sklearn.feature_selection import RFE\n",
    "from sklearn.tree import DecisionTreeRegressor\n",
    "\n",
    "NUM_ATRIBUTOS_DESEJADOS = 5\n",
    "\n",
    "modelo = DecisionTreeRegressor()\n",
    "\n",
    "seletor = RFE(modelo, n_features_to_select=NUM_ATRIBUTOS_DESEJADOS)\n",
    "seletor.fit(X_treino, Y_treino)\n",
    "\n",
    "X_treino_modificado = seletor.transform(X_treino)\n",
    "X_teste_modificado = seletor.transform(X_teste)\n",
    "\n",
    "print(f\"Número de atributos selecionados: {seletor.n_features_}\")\n",
    "print(f\"Colunas selecionadas: {seletor.support_}\")\n",
    "print(f\"Ordenação (rank) dos atributos {seletor.ranking_}\")"
   ]
  },
  {
   "cell_type": "markdown",
   "metadata": {},
   "source": [
    "---------\n",
    "\n",
    "### <center> PCA </center>"
   ]
  },
  {
   "cell_type": "markdown",
   "metadata": {},
   "source": [
    "### Árvore de decisão"
   ]
  },
  {
   "cell_type": "code",
   "execution_count": null,
   "metadata": {},
   "outputs": [],
   "source": [
    "from sklearn.decomposition import PCA\n",
    "pca = PCA()\n",
    "pca.fit(X_treino)\n",
    "\n",
    "variancia_explicada = pca.explained_variance_ratio_\n",
    "\n",
    "print(\"Variância explicada:\")\n",
    "for i, var_expl in enumerate(variancia_explicada):\n",
    "    print(f\"   PC{i+1}:\", var_expl)"
   ]
  },
  {
   "cell_type": "code",
   "execution_count": null,
   "metadata": {},
   "outputs": [],
   "source": []
  }
 ],
 "metadata": {
  "kernelspec": {
   "display_name": "base",
   "language": "python",
   "name": "python3"
  },
  "language_info": {
   "codemirror_mode": {
    "name": "ipython",
    "version": 3
   },
   "file_extension": ".py",
   "mimetype": "text/x-python",
   "name": "python",
   "nbconvert_exporter": "python",
   "pygments_lexer": "ipython3",
   "version": "3.11.5"
  }
 },
 "nbformat": 4,
 "nbformat_minor": 2
}
